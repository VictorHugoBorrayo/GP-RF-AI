{
 "cells": [
  {
   "cell_type": "markdown",
   "metadata": {},
   "source": [
    "# Segundo enfoque ML"
   ]
  },
  {
   "cell_type": "markdown",
   "metadata": {},
   "source": [
    "El enfoque con la validación cruzada causó, según se logran interpretar los resultados, sobreajuste, de modo que tiene un desempeño excelente en el conjunto de datos de prueba 1, pero falla rotundamente en el conjunto de prueba 2. Por tal motivo se intentará seleccionar el modelo con mejor desempeño en un conjunto de datos de validación, en vez de recurrir a la validación cruzada."
   ]
  },
  {
   "cell_type": "code",
   "execution_count": 1,
   "metadata": {},
   "outputs": [],
   "source": [
    "#Importando librearias\n",
    "import sys\n",
    "import os\n",
    "import json\n",
    "import tempfile\n",
    "import pandas as pd\n",
    "import seaborn as sns\n",
    "import matplotlib.pyplot as plt\n",
    "sys.path.append('../')\n",
    "sys.path.append('../../')\n",
    "from Resources.mlTracker import *\n",
    "from Python.Style.styles import  *\n",
    "from scipy.stats import uniform, randint\n",
    "from mlflow.tracking import MlflowClient\n",
    "from sklearn.model_selection import RandomizedSearchCV, GroupKFold\n",
    "from sklearn.ensemble import GradientBoostingClassifier\n",
    "from sklearn.metrics import make_scorer, accuracy_score, f1_score"
   ]
  },
  {
   "cell_type": "code",
   "execution_count": 2,
   "metadata": {},
   "outputs": [],
   "source": [
    "#Desactivando wrnings\n",
    "import warnings\n",
    "warnings.filterwarnings('ignore')"
   ]
  },
  {
   "cell_type": "code",
   "execution_count": 3,
   "metadata": {},
   "outputs": [],
   "source": [
    "#Leyendo datos\n",
    "training = pd.read_parquet(\"../../Data/DataMart/Views/TrainingViews/training_shuffled.parquet\")\n",
    "training_us = pd.read_parquet(\"../../Data/DataMart/Views/TrainingViews/undersampled_shuffled.parquet\")\n",
    "training_os = pd.read_parquet(\"../../Data/DataMart/Views/TrainingViews/oversampled_shuffled.parquet\")\n",
    "testing1 = pd.read_parquet(\"../../Data/DataMart/Views/TrainingViews/testing1.parquet\")\n",
    "testing2 = pd.read_parquet(\"../../Data/DataMart/Views/TrainingViews/testing2.parquet\")"
   ]
  },
  {
   "cell_type": "code",
   "execution_count": 4,
   "metadata": {},
   "outputs": [],
   "source": [
    "#To delete columns\n",
    "total_columns = training.columns\n",
    "tdc = ['serialNumber','serialNumber_neighbor','fixed_path','FE-Comments','Conjunto','PSNumber']\n",
    "training_cols = list(filter(lambda x: x not in tdc, total_columns))\n",
    "#Grouping\n",
    "group_train = training['serialNumber']\n",
    "group_train_us = training_us['serialNumber']\n",
    "group_train_os = training_os['serialNumber']\n",
    "#Seleccionando columnas\n",
    "training = training[training_cols]\n",
    "training_us = training_us[training_cols]\n",
    "training_os = training_os[training_cols]\n",
    "testing1 = testing1[training_cols]\n",
    "testing2 = testing2[training_cols]"
   ]
  },
  {
   "cell_type": "code",
   "execution_count": 5,
   "metadata": {},
   "outputs": [],
   "source": [
    "#Separando etiquetas\n",
    "#Training\n",
    "y = training['Communicating']\n",
    "X = training.drop('Communicating', axis=1)\n",
    "#Training undersampled\n",
    "y_us = training_us['Communicating']\n",
    "X_us = training_us.drop('Communicating', axis=1)\n",
    "#Training oversampled\n",
    "y_os = training_os['Communicating']\n",
    "X_os = training_os.drop('Communicating', axis=1)\n",
    "#Test1\n",
    "y_testing_1 = testing1['Communicating']\n",
    "X_testing_1 = testing1.drop('Communicating', axis=1)\n",
    "#Test2\n",
    "y_testing_2 = testing2['Communicating']\n",
    "X_testing_2 = testing2.drop('Communicating', axis=1)"
   ]
  },
  {
   "cell_type": "markdown",
   "metadata": {},
   "source": [
    "# GBoost training_us"
   ]
  },
  {
   "cell_type": "code",
   "execution_count": null,
   "metadata": {},
   "outputs": [],
   "source": [
    "#Seteando experimento\n",
    "experiment_name = \"ML-3\"\n",
    "mlflow.set_experiment(experiment_name)"
   ]
  },
  {
   "cell_type": "code",
   "execution_count": 7,
   "metadata": {},
   "outputs": [],
   "source": [
    "#GroupKFold\n",
    "group_kfold = GroupKFold(n_splits=3)\n",
    "#Creando group_kfolds\n",
    "group_kfolds = group_kfold.split(training, training['Communicating'], group_train)\n",
    "group_kfolds_us = group_kfold.split(training_us, training_us['Communicating'], group_train_us)\n",
    "group_kfolds_os = group_kfold.split(training_os, training_os['Communicating'], group_train_os)"
   ]
  },
  {
   "cell_type": "code",
   "execution_count": 13,
   "metadata": {},
   "outputs": [],
   "source": [
    "#GBoost training_us\n",
    "#Definiendo parametros\n",
    "param_dist = {\n",
    "    'n_estimators': randint(50, 500),\n",
    "    'max_depth': randint(3, 10),\n",
    "    'min_samples_split': randint(2, 10),\n",
    "    'min_samples_leaf': randint(1, 10),\n",
    "    'learning_rate': uniform(0.01, 0.5),\n",
    "    'subsample': uniform(0.25, 0.75)\n",
    "}\n",
    "#Métricas de interés\n",
    "scoring = {'Accuracy': make_scorer(accuracy_score), 'F1': make_scorer(f1_score, average='weighted')}"
   ]
  },
  {
   "cell_type": "code",
   "execution_count": 14,
   "metadata": {},
   "outputs": [],
   "source": [
    "# Configuración del modelo y GridSearchCV\n",
    "gb_model = GradientBoostingClassifier()\n",
    "gb_randomized_search = RandomizedSearchCV(\n",
    "                            estimator= gb_model,\n",
    "                            param_distributions= param_dist,\n",
    "                            n_iter= 10,\n",
    "                            cv= group_kfold,\n",
    "                            scoring= scoring,\n",
    "                            refit= 'F1',\n",
    "                            return_train_score= False,\n",
    "                            n_jobs= 4,\n",
    "                            verbose= 3)"
   ]
  },
  {
   "cell_type": "code",
   "execution_count": 15,
   "metadata": {},
   "outputs": [
    {
     "name": "stdout",
     "output_type": "stream",
     "text": [
      "Fitting 3 folds for each of 10 candidates, totalling 30 fits\n",
      "[CV 2/3] END learning_rate=0.18348387826008716, max_depth=5, min_samples_leaf=1, min_samples_split=8, n_estimators=82, subsample=0.25576022227282424; Accuracy: (test=0.668) F1: (test=0.637) total time=  15.3s\n",
      "[CV 1/3] END learning_rate=0.18348387826008716, max_depth=5, min_samples_leaf=1, min_samples_split=8, n_estimators=82, subsample=0.25576022227282424; Accuracy: (test=0.659) F1: (test=0.626) total time=  15.4s\n",
      "[CV 3/3] END learning_rate=0.18348387826008716, max_depth=5, min_samples_leaf=1, min_samples_split=8, n_estimators=82, subsample=0.25576022227282424; Accuracy: (test=0.690) F1: (test=0.667) total time=  15.6s\n",
      "[CV 1/3] END learning_rate=0.47759261099077743, max_depth=4, min_samples_leaf=7, min_samples_split=6, n_estimators=295, subsample=0.9952344656844025; Accuracy: (test=0.586) F1: (test=0.509) total time= 2.5min\n",
      "[CV 2/3] END learning_rate=0.47759261099077743, max_depth=4, min_samples_leaf=7, min_samples_split=6, n_estimators=295, subsample=0.9952344656844025; Accuracy: (test=0.607) F1: (test=0.542) total time= 2.5min\n",
      "[CV 3/3] END learning_rate=0.47759261099077743, max_depth=4, min_samples_leaf=7, min_samples_split=6, n_estimators=295, subsample=0.9952344656844025; Accuracy: (test=0.611) F1: (test=0.549) total time= 2.5min\n",
      "[CV 1/3] END learning_rate=0.288489526408117, max_depth=5, min_samples_leaf=7, min_samples_split=7, n_estimators=241, subsample=0.4829028929991571; Accuracy: (test=0.604) F1: (test=0.539) total time= 1.3min\n",
      "[CV 2/3] END learning_rate=0.288489526408117, max_depth=5, min_samples_leaf=7, min_samples_split=7, n_estimators=241, subsample=0.4829028929991571; Accuracy: (test=0.618) F1: (test=0.558) total time= 1.3min\n",
      "[CV 1/3] END learning_rate=0.1594170344375393, max_depth=6, min_samples_leaf=3, min_samples_split=7, n_estimators=489, subsample=0.9604290206474045; Accuracy: (test=0.575) F1: (test=0.487) total time= 5.8min\n",
      "[CV 3/3] END learning_rate=0.288489526408117, max_depth=5, min_samples_leaf=7, min_samples_split=7, n_estimators=241, subsample=0.4829028929991571; Accuracy: (test=0.635) F1: (test=0.585) total time= 1.3min\n",
      "[CV 1/3] END learning_rate=0.21912956909587916, max_depth=4, min_samples_leaf=1, min_samples_split=8, n_estimators=471, subsample=0.45042478538792774; Accuracy: (test=0.603) F1: (test=0.539) total time= 1.9min\n",
      "[CV 2/3] END learning_rate=0.1594170344375393, max_depth=6, min_samples_leaf=3, min_samples_split=7, n_estimators=489, subsample=0.9604290206474045; Accuracy: (test=0.587) F1: (test=0.506) total time= 5.8min\n",
      "[CV 3/3] END learning_rate=0.1594170344375393, max_depth=6, min_samples_leaf=3, min_samples_split=7, n_estimators=489, subsample=0.9604290206474045; Accuracy: (test=0.603) F1: (test=0.533) total time= 5.8min\n",
      "[CV 2/3] END learning_rate=0.21912956909587916, max_depth=4, min_samples_leaf=1, min_samples_split=8, n_estimators=471, subsample=0.45042478538792774; Accuracy: (test=0.623) F1: (test=0.569) total time= 1.9min\n",
      "[CV 3/3] END learning_rate=0.21912956909587916, max_depth=4, min_samples_leaf=1, min_samples_split=8, n_estimators=471, subsample=0.45042478538792774; Accuracy: (test=0.623) F1: (test=0.571) total time= 1.9min\n",
      "[CV 1/3] END learning_rate=0.035348211181393856, max_depth=7, min_samples_leaf=3, min_samples_split=3, n_estimators=280, subsample=0.3733508514113533; Accuracy: (test=0.622) F1: (test=0.568) total time= 1.6min\n",
      "[CV 2/3] END learning_rate=0.035348211181393856, max_depth=7, min_samples_leaf=3, min_samples_split=3, n_estimators=280, subsample=0.3733508514113533; Accuracy: (test=0.656) F1: (test=0.616) total time= 1.6min\n",
      "[CV 3/3] END learning_rate=0.035348211181393856, max_depth=7, min_samples_leaf=3, min_samples_split=3, n_estimators=280, subsample=0.3733508514113533; Accuracy: (test=0.681) F1: (test=0.651) total time= 1.6min\n",
      "[CV 1/3] END learning_rate=0.11372927830098577, max_depth=7, min_samples_leaf=3, min_samples_split=9, n_estimators=459, subsample=0.26051343248306846; Accuracy: (test=0.596) F1: (test=0.524) total time= 2.0min\n",
      "[CV 2/3] END learning_rate=0.11372927830098577, max_depth=7, min_samples_leaf=3, min_samples_split=9, n_estimators=459, subsample=0.26051343248306846; Accuracy: (test=0.623) F1: (test=0.564) total time= 1.9min\n",
      "[CV 3/3] END learning_rate=0.11372927830098577, max_depth=7, min_samples_leaf=3, min_samples_split=9, n_estimators=459, subsample=0.26051343248306846; Accuracy: (test=0.616) F1: (test=0.555) total time= 1.9min\n",
      "[CV 1/3] END learning_rate=0.22071891090864404, max_depth=8, min_samples_leaf=7, min_samples_split=2, n_estimators=499, subsample=0.9684876461479643; Accuracy: (test=0.552) F1: (test=0.445) total time= 7.9min\n",
      "[CV 2/3] END learning_rate=0.22071891090864404, max_depth=8, min_samples_leaf=7, min_samples_split=2, n_estimators=499, subsample=0.9684876461479643; Accuracy: (test=0.566) F1: (test=0.468) total time= 7.9min\n",
      "[CV 3/3] END learning_rate=0.22071891090864404, max_depth=8, min_samples_leaf=7, min_samples_split=2, n_estimators=499, subsample=0.9684876461479643; Accuracy: (test=0.594) F1: (test=0.517) total time= 7.8min\n",
      "[CV 1/3] END learning_rate=0.22506889290676868, max_depth=3, min_samples_leaf=1, min_samples_split=9, n_estimators=355, subsample=0.966974466844332; Accuracy: (test=0.618) F1: (test=0.563) total time= 2.2min\n",
      "[CV 1/3] END learning_rate=0.12118853653222537, max_depth=4, min_samples_leaf=7, min_samples_split=3, n_estimators=155, subsample=0.37324575196988397; Accuracy: (test=0.677) F1: (test=0.649) total time=  32.0s\n",
      "[CV 2/3] END learning_rate=0.12118853653222537, max_depth=4, min_samples_leaf=7, min_samples_split=3, n_estimators=155, subsample=0.37324575196988397; Accuracy: (test=0.674) F1: (test=0.646) total time=  32.0s\n",
      "[CV 3/3] END learning_rate=0.12118853653222537, max_depth=4, min_samples_leaf=7, min_samples_split=3, n_estimators=155, subsample=0.37324575196988397; Accuracy: (test=0.698) F1: (test=0.677) total time=  31.7s\n",
      "[CV 2/3] END learning_rate=0.22506889290676868, max_depth=3, min_samples_leaf=1, min_samples_split=9, n_estimators=355, subsample=0.966974466844332; Accuracy: (test=0.642) F1: (test=0.597) total time= 2.2min\n",
      "[CV 3/3] END learning_rate=0.22506889290676868, max_depth=3, min_samples_leaf=1, min_samples_split=9, n_estimators=355, subsample=0.966974466844332; Accuracy: (test=0.639) F1: (test=0.595) total time= 2.1min\n"
     ]
    }
   ],
   "source": [
    "#Ajustando para training\n",
    "with mlflow.start_run(run_name=\"gbc_training_us\"):\n",
    "    mlflow.log_param(\"model\",\"GradientBoostingClassifier\")\n",
    "    mlflow.log_param(\"data\",\"training_undersampled\")\n",
    "    #Almacenando información de param_dist\n",
    "    mlflow.log_param(\"dist_n_estimators\",\"randint(50, 500)\")\n",
    "    mlflow.log_param(\"dist_max_depth\",\"randint(3, 10)\")\n",
    "    mlflow.log_param(\"dist_min_samples_split\",\"randint(2, 10)\")\n",
    "    mlflow.log_param(\"dist_min_samples_leaf\",\"randint(1, 10)\")\n",
    "    mlflow.log_param(\"dist_learning_rate\",\"uniform(0.01, 0.5)\")\n",
    "    mlflow.log_param(\"dist_subsample\",\"uniform(0.25, 0.75)\")\n",
    "    mlflow.log_param(\"n_iter\",10)\n",
    "    #Entrenando modelo\n",
    "    gbc1 = gb_randomized_search.fit(X_us, y_us, groups=group_train_us)\n",
    "    #Mejor modelo\n",
    "    best_model = gbc1.best_estimator_\n",
    "    #Guardando resultados\n",
    "    mlflow.log_params(gbc1.best_params_)\n",
    "    mlflow.log_metrics({\"best_score\":gbc1.best_score_})\n",
    "    mlflow.sklearn.log_model(best_model,\"best_model\")\n",
    "    mlflow.sklearn.log_model(gbc1, \"RandomizedSearchCV\")\n",
    "    #Guardando diccionario de resultados\n",
    "    results = gbc1.cv_results_\n",
    "    results = pd.DataFrame(results)\n",
    "    with tempfile.NamedTemporaryFile(mode = \"w+\", suffix = \".parquet\", delete= False) as temp:\n",
    "        results.to_parquet(temp.name)\n",
    "        mlflow.log_artifact(temp.name,\"results/results.parquet\")\n",
    "        temp_path = temp.name\n",
    "    #Almacenando métricas con conjunto de datos\n",
    "    f1_test1 = f1_score(y_testing_1, gbc1.predict(X_testing_1), average='weighted')\n",
    "    f1_test2 = f1_score(y_testing_2, gbc1.predict(X_testing_2), average='weighted')\n",
    "    accuracy_test1 = accuracy_score(y_testing_1, gbc1.predict(X_testing_1))\n",
    "    accuracy_test2 = accuracy_score(y_testing_2, gbc1.predict(X_testing_2))\n",
    "    mlflow.log_metrics({\"f1_test1\":f1_test1, \"f1_test2\":f1_test2, \"accuracy_test1\":accuracy_test1, \"accuracy_test2\":accuracy_test2})\n",
    "    os.remove(temp_path)"
   ]
  },
  {
   "cell_type": "markdown",
   "metadata": {},
   "source": [
    "# GBoost training_os"
   ]
  },
  {
   "cell_type": "code",
   "execution_count": 20,
   "metadata": {},
   "outputs": [],
   "source": [
    "# GBoost training_os\n",
    "# Configuración del modelo y GridSearchCV\n",
    "gb_model = GradientBoostingClassifier()\n",
    "gb_randomized_search_2 = RandomizedSearchCV(\n",
    "                            estimator= gb_model,\n",
    "                            param_distributions= param_dist,\n",
    "                            n_iter= 5,\n",
    "                            cv= group_kfold,\n",
    "                            scoring= scoring,\n",
    "                            refit= 'F1',\n",
    "                            return_train_score= False,\n",
    "                            n_jobs= 4,\n",
    "                            verbose= 3)\n"
   ]
  },
  {
   "cell_type": "code",
   "execution_count": 21,
   "metadata": {},
   "outputs": [
    {
     "name": "stdout",
     "output_type": "stream",
     "text": [
      "Fitting 3 folds for each of 5 candidates, totalling 15 fits\n",
      "[CV 1/3] END learning_rate=0.4357499274154106, max_depth=7, min_samples_leaf=4, min_samples_split=2, n_estimators=51, subsample=0.7981318661916197; Accuracy: (test=0.588) F1: (test=0.509) total time=12.6min\n",
      "[CV 2/3] END learning_rate=0.4357499274154106, max_depth=7, min_samples_leaf=4, min_samples_split=2, n_estimators=51, subsample=0.7981318661916197; Accuracy: (test=0.574) F1: (test=0.486) total time=12.4min\n",
      "[CV 3/3] END learning_rate=0.4357499274154106, max_depth=7, min_samples_leaf=4, min_samples_split=2, n_estimators=51, subsample=0.7981318661916197; Accuracy: (test=0.592) F1: (test=0.516) total time=12.4min\n",
      "[CV 1/3] END learning_rate=0.29858073769170873, max_depth=3, min_samples_leaf=7, min_samples_split=3, n_estimators=173, subsample=0.5726952124460192; Accuracy: (test=0.632) F1: (test=0.583) total time=14.0min\n",
      "[CV 2/3] END learning_rate=0.29858073769170873, max_depth=3, min_samples_leaf=7, min_samples_split=3, n_estimators=173, subsample=0.5726952124460192; Accuracy: (test=0.652) F1: (test=0.613) total time=29.0min\n",
      "[CV 3/3] END learning_rate=0.29858073769170873, max_depth=3, min_samples_leaf=7, min_samples_split=3, n_estimators=173, subsample=0.5726952124460192; Accuracy: (test=0.655) F1: (test=0.618) total time=29.0min\n",
      "[CV 2/3] END learning_rate=0.22416723372765174, max_depth=9, min_samples_leaf=4, min_samples_split=9, n_estimators=404, subsample=0.9385005257559874; Accuracy: (test=0.535) F1: (test=0.407) total time=175.7min\n",
      "[CV 3/3] END learning_rate=0.22416723372765174, max_depth=9, min_samples_leaf=4, min_samples_split=9, n_estimators=404, subsample=0.9385005257559874; Accuracy: (test=0.546) F1: (test=0.431) total time=176.6min\n",
      "[CV 1/3] END learning_rate=0.22416723372765174, max_depth=9, min_samples_leaf=4, min_samples_split=9, n_estimators=404, subsample=0.9385005257559874; Accuracy: (test=0.553) F1: (test=0.442) total time=176.8min\n",
      "[CV 1/3] END learning_rate=0.23182524964397472, max_depth=6, min_samples_leaf=5, min_samples_split=8, n_estimators=449, subsample=0.8548745906489617; Accuracy: (test=0.570) F1: (test=0.474) total time=102.1min\n",
      "[CV 1/3] END learning_rate=0.26564501285522574, max_depth=4, min_samples_leaf=3, min_samples_split=9, n_estimators=365, subsample=0.7478522367068444; Accuracy: (test=0.596) F1: (test=0.522) total time=47.8min\n",
      "[CV 2/3] END learning_rate=0.26564501285522574, max_depth=4, min_samples_leaf=3, min_samples_split=9, n_estimators=365, subsample=0.7478522367068444; Accuracy: (test=0.578) F1: (test=0.491) total time=69.0min\n",
      "[CV 3/3] END learning_rate=0.26564501285522574, max_depth=4, min_samples_leaf=3, min_samples_split=9, n_estimators=365, subsample=0.7478522367068444; Accuracy: (test=0.594) F1: (test=0.519) total time=68.7min\n",
      "[CV 2/3] END learning_rate=0.23182524964397472, max_depth=6, min_samples_leaf=5, min_samples_split=8, n_estimators=449, subsample=0.8548745906489617; Accuracy: (test=0.547) F1: (test=0.431) total time=117.7min\n",
      "[CV 3/3] END learning_rate=0.23182524964397472, max_depth=6, min_samples_leaf=5, min_samples_split=8, n_estimators=449, subsample=0.8548745906489617; Accuracy: (test=0.553) F1: (test=0.444) total time=118.2min\n"
     ]
    }
   ],
   "source": [
    "#Ajustando para training\n",
    "with mlflow.start_run(run_name=\"gbc_training_os\"):\n",
    "    mlflow.log_param(\"model\",\"GradientBoostingClassifier\")\n",
    "    mlflow.log_param(\"data\",\"training_oversampled\")\n",
    "    #Almacenando información de param_dist\n",
    "    mlflow.log_param(\"dist_n_estimators\",\"randint(50, 500)\")\n",
    "    mlflow.log_param(\"dist_max_depth\",\"randint(3, 10)\")\n",
    "    mlflow.log_param(\"dist_min_samples_split\",\"randint(2, 10)\")\n",
    "    mlflow.log_param(\"dist_min_samples_leaf\",\"randint(1, 10)\")\n",
    "    mlflow.log_param(\"dist_learning_rate\",\"uniform(0.01, 0.5)\")\n",
    "    mlflow.log_param(\"dist_subsample\",\"uniform(0.25, 0.75)\")\n",
    "    mlflow.log_param(\"n_iter\",5)\n",
    "    #Entrenando modelo\n",
    "    gbc2 = gb_randomized_search_2.fit(X_os, y_os, groups=group_train_os)\n",
    "    #Mejor modelo\n",
    "    best_model = gbc2.best_estimator_\n",
    "    #Guardando resultados\n",
    "    mlflow.log_params(gbc2.best_params_)\n",
    "    mlflow.log_metrics({\"best_score\":gbc2.best_score_})\n",
    "    mlflow.sklearn.log_model(best_model,\"best_model\")\n",
    "    mlflow.sklearn.log_model(gbc2, \"RandomizedSearchCV\")\n",
    "    #Guardando diccionario de resultados\n",
    "    results = gbc2.cv_results_\n",
    "    results = pd.DataFrame(results)\n",
    "    with tempfile.NamedTemporaryFile(mode = \"w+\", suffix = \".parquet\", delete= False) as temp:\n",
    "        results.to_parquet(temp.name)\n",
    "        mlflow.log_artifact(temp.name,\"results/results.parquet\")\n",
    "        temp_path = temp.name\n",
    "    #Almacenando métricas con conjunto de datos\n",
    "    f1_test1 = f1_score(y_testing_1, gbc2.predict(X_testing_1), average='weighted')\n",
    "    f1_test2 = f1_score(y_testing_2, gbc2.predict(X_testing_2), average='weighted')\n",
    "    accuracy_test1 = accuracy_score(y_testing_1, gbc2.predict(X_testing_1))\n",
    "    accuracy_test2 = accuracy_score(y_testing_2, gbc2.predict(X_testing_2))\n",
    "    mlflow.log_metrics({\"f1_test1\":f1_test1, \"f1_test2\":f1_test2, \"accuracy_test1\":accuracy_test1, \"accuracy_test2\":accuracy_test2})\n",
    "    os.remove(temp_path)"
   ]
  },
  {
   "cell_type": "code",
   "execution_count": null,
   "metadata": {},
   "outputs": [],
   "source": []
  }
 ],
 "metadata": {
  "kernelspec": {
   "display_name": "Tesis",
   "language": "python",
   "name": "python3"
  },
  "language_info": {
   "codemirror_mode": {
    "name": "ipython",
    "version": 3
   },
   "file_extension": ".py",
   "mimetype": "text/x-python",
   "name": "python",
   "nbconvert_exporter": "python",
   "pygments_lexer": "ipython3",
   "version": "3.9.18"
  }
 },
 "nbformat": 4,
 "nbformat_minor": 2
}
