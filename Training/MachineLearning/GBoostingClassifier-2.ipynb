{
 "cells": [
  {
   "cell_type": "markdown",
   "metadata": {},
   "source": [
    "# Segundo enfoque ML"
   ]
  },
  {
   "cell_type": "markdown",
   "metadata": {},
   "source": [
    "El enfoque con la validación cruzada causó, según se logran interpretar los resultados, sobreajuste, de modo que tiene un desempeño excelente en el conjunto de datos de prueba 1, pero falla rotundamente en el conjunto de prueba 2. Por tal motivo se intentará seleccionar el modelo con mejor desempeño en un conjunto de datos de validación, en vez de recurrir a la validación cruzada."
   ]
  },
  {
   "cell_type": "code",
   "execution_count": 2,
   "metadata": {},
   "outputs": [],
   "source": [
    "#Importando librearias\n",
    "import sys\n",
    "import os\n",
    "import json\n",
    "import tempfile\n",
    "import pandas as pd\n",
    "import seaborn as sns\n",
    "import matplotlib.pyplot as plt\n",
    "sys.path.append('../')\n",
    "sys.path.append('../../')\n",
    "from Resources.mlTracker import *\n",
    "from Python.Style.styles import  *\n",
    "from scipy.stats import uniform, randint\n",
    "from mlflow.tracking import MlflowClient\n",
    "from sklearn.model_selection import RandomizedSearchCV, GroupKFold\n",
    "from sklearn.ensemble import GradientBoostingClassifier\n",
    "from sklearn.metrics import make_scorer, accuracy_score, f1_score"
   ]
  },
  {
   "cell_type": "code",
   "execution_count": 3,
   "metadata": {},
   "outputs": [],
   "source": [
    "#Desactivando wrnings\n",
    "import warnings\n",
    "warnings.filterwarnings('ignore')"
   ]
  },
  {
   "cell_type": "code",
   "execution_count": 13,
   "metadata": {},
   "outputs": [],
   "source": [
    "#Leyendo datos\n",
    "training = pd.read_parquet(\"../../Data/DataMart/Views/TrainingViews/training_shuffled.parquet\")\n",
    "training_us = pd.read_parquet(\"../../Data/DataMart/Views/TrainingViews/undersampled_shuffled.parquet\")\n",
    "training_os = pd.read_parquet(\"../../Data/DataMart/Views/TrainingViews/oversampled_shuffled.parquet\")\n",
    "testing1 = pd.read_parquet(\"../../Data/DataMart/Views/TrainingViews/testing1.parquet\")\n",
    "testing2 = pd.read_parquet(\"../../Data/DataMart/Views/TrainingViews/testing2.parquet\")"
   ]
  },
  {
   "cell_type": "code",
   "execution_count": 14,
   "metadata": {},
   "outputs": [],
   "source": [
    "training.sample(5).to_csv(\"training_sample.csv\", index=False)"
   ]
  },
  {
   "cell_type": "code",
   "execution_count": 16,
   "metadata": {},
   "outputs": [
    {
     "data": {
      "text/plain": [
       "array(['0.0', '2.0', '1.0'], dtype=object)"
      ]
     },
     "execution_count": 16,
     "metadata": {},
     "output_type": "execute_result"
    }
   ],
   "source": [
    "training['Antena'].unique()"
   ]
  },
  {
   "cell_type": "code",
   "execution_count": 17,
   "metadata": {},
   "outputs": [],
   "source": [
    "#To delete columns\n",
    "total_columns = training.columns\n",
    "tdc = ['serialNumber','serialNumber_neighbor','fixed_path','FE-Comments','Conjunto','PSNumber','Antena']\n",
    "training_cols = list(filter(lambda x: x not in tdc, total_columns))\n",
    "#Grouping\n",
    "group_train = training['serialNumber']\n",
    "group_train_us = training_us['serialNumber']\n",
    "group_train_os = training_os['serialNumber']\n",
    "#Seleccionando columnas\n",
    "training = training[training_cols]\n",
    "training_us = training_us[training_cols]\n",
    "training_os = training_os[training_cols]\n",
    "testing1 = testing1[training_cols]\n",
    "testing2 = testing2[training_cols]"
   ]
  },
  {
   "cell_type": "code",
   "execution_count": 18,
   "metadata": {},
   "outputs": [],
   "source": [
    "#Separando etiquetas\n",
    "#Training\n",
    "y = training['Communicating']\n",
    "X = training.drop('Communicating', axis=1)\n",
    "#Training undersampled\n",
    "y_us = training_us['Communicating']\n",
    "X_us = training_us.drop('Communicating', axis=1)\n",
    "#Training oversampled\n",
    "y_os = training_os['Communicating']\n",
    "X_os = training_os.drop('Communicating', axis=1)\n",
    "#Test1\n",
    "y_testing_1 = testing1['Communicating']\n",
    "X_testing_1 = testing1.drop('Communicating', axis=1)\n",
    "#Test2\n",
    "y_testing_2 = testing2['Communicating']\n",
    "X_testing_2 = testing2.drop('Communicating', axis=1)"
   ]
  },
  {
   "cell_type": "markdown",
   "metadata": {},
   "source": [
    "# GBoost training_us"
   ]
  },
  {
   "cell_type": "code",
   "execution_count": null,
   "metadata": {},
   "outputs": [],
   "source": [
    "#Seteando experimento\n",
    "experiment_name = \"ML-2\"\n",
    "mlflow.set_experiment(experiment_name)"
   ]
  },
  {
   "cell_type": "code",
   "execution_count": 7,
   "metadata": {},
   "outputs": [],
   "source": [
    "#GroupKFold\n",
    "group_kfold = GroupKFold(n_splits=3)\n",
    "#Creando group_kfolds\n",
    "group_kfolds = group_kfold.split(training, training['Communicating'], group_train)\n",
    "group_kfolds_us = group_kfold.split(training_us, training_us['Communicating'], group_train_us)\n",
    "group_kfolds_os = group_kfold.split(training_os, training_os['Communicating'], group_train_os)"
   ]
  },
  {
   "cell_type": "code",
   "execution_count": 8,
   "metadata": {},
   "outputs": [],
   "source": [
    "#GBoost training_us\n",
    "#Definiendo parametros\n",
    "param_dist = {\n",
    "    'n_estimators': randint(50, 500),\n",
    "    'max_depth': randint(3, 10),\n",
    "    'min_samples_split': randint(2, 10),\n",
    "    'min_samples_leaf': randint(1, 10),\n",
    "    'learning_rate': uniform(0.01, 0.5),\n",
    "    'subsample': uniform(0.5, 0.5)\n",
    "}\n",
    "#Métricas de interés\n",
    "scoring = {'Accuracy': make_scorer(accuracy_score), 'F1': make_scorer(f1_score, average='macro')}"
   ]
  },
  {
   "cell_type": "code",
   "execution_count": 9,
   "metadata": {},
   "outputs": [],
   "source": [
    "# Configuración del modelo y GridSearchCV\n",
    "gb_model = GradientBoostingClassifier()\n",
    "gb_randomized_search = RandomizedSearchCV(\n",
    "                            estimator= gb_model,\n",
    "                            param_distributions= param_dist,\n",
    "                            n_iter= 10,\n",
    "                            cv= group_kfold,\n",
    "                            scoring= scoring,\n",
    "                            refit= 'F1',\n",
    "                            return_train_score= False,\n",
    "                            n_jobs= 4,\n",
    "                            verbose= 3)"
   ]
  },
  {
   "cell_type": "code",
   "execution_count": 10,
   "metadata": {},
   "outputs": [
    {
     "name": "stdout",
     "output_type": "stream",
     "text": [
      "Fitting 3 folds for each of 10 candidates, totalling 30 fits\n",
      "[CV 1/3] END learning_rate=0.15274512893576042, max_depth=9, min_samples_leaf=5, min_samples_split=2, n_estimators=255, subsample=0.7630178812459444; Accuracy: (test=0.574) F1: (test=0.485) total time= 3.7min\n",
      "[CV 1/3] END learning_rate=0.1122456587680226, max_depth=9, min_samples_leaf=4, min_samples_split=8, n_estimators=325, subsample=0.938883983735987; Accuracy: (test=0.576) F1: (test=0.489) total time= 5.6min\n",
      "[CV 2/3] END learning_rate=0.1122456587680226, max_depth=9, min_samples_leaf=4, min_samples_split=8, n_estimators=325, subsample=0.938883983735987; Accuracy: (test=0.576) F1: (test=0.487) total time= 5.6min\n",
      "[CV 3/3] END learning_rate=0.1122456587680226, max_depth=9, min_samples_leaf=4, min_samples_split=8, n_estimators=325, subsample=0.938883983735987; Accuracy: (test=0.609) F1: (test=0.541) total time= 5.6min\n",
      "[CV 2/3] END learning_rate=0.15274512893576042, max_depth=9, min_samples_leaf=5, min_samples_split=2, n_estimators=255, subsample=0.7630178812459444; Accuracy: (test=0.591) F1: (test=0.512) total time= 3.6min\n",
      "[CV 3/3] END learning_rate=0.15274512893576042, max_depth=9, min_samples_leaf=5, min_samples_split=2, n_estimators=255, subsample=0.7630178812459444; Accuracy: (test=0.606) F1: (test=0.536) total time= 3.6min\n",
      "[CV 2/3] END learning_rate=0.472414071698041, max_depth=9, min_samples_leaf=6, min_samples_split=4, n_estimators=376, subsample=0.7515315365382615; Accuracy: (test=0.583) F1: (test=0.498) total time= 5.3min\n",
      "[CV 1/3] END learning_rate=0.472414071698041, max_depth=9, min_samples_leaf=6, min_samples_split=4, n_estimators=376, subsample=0.7515315365382615; Accuracy: (test=0.553) F1: (test=0.448) total time= 5.3min\n",
      "[CV 1/3] END learning_rate=0.4534396135688585, max_depth=9, min_samples_leaf=1, min_samples_split=7, n_estimators=196, subsample=0.5268125578737222; Accuracy: (test=0.580) F1: (test=0.498) total time= 2.0min\n",
      "[CV 3/3] END learning_rate=0.472414071698041, max_depth=9, min_samples_leaf=6, min_samples_split=4, n_estimators=376, subsample=0.7515315365382615; Accuracy: (test=0.590) F1: (test=0.510) total time=20.3min\n",
      "[CV 1/3] END learning_rate=0.30402579551747355, max_depth=8, min_samples_leaf=4, min_samples_split=6, n_estimators=84, subsample=0.9927126258709029; Accuracy: (test=0.584) F1: (test=0.504) total time=16.4min\n",
      "[CV 3/3] END learning_rate=0.4534396135688585, max_depth=9, min_samples_leaf=1, min_samples_split=7, n_estimators=196, subsample=0.5268125578737222; Accuracy: (test=0.619) F1: (test=0.560) total time=17.0min\n",
      "[CV 2/3] END learning_rate=0.4534396135688585, max_depth=9, min_samples_leaf=1, min_samples_split=7, n_estimators=196, subsample=0.5268125578737222; Accuracy: (test=0.609) F1: (test=0.552) total time=17.1min\n",
      "[CV 2/3] END learning_rate=0.30402579551747355, max_depth=8, min_samples_leaf=4, min_samples_split=6, n_estimators=84, subsample=0.9927126258709029; Accuracy: (test=0.593) F1: (test=0.516) total time= 1.4min\n",
      "[CV 3/3] END learning_rate=0.30402579551747355, max_depth=8, min_samples_leaf=4, min_samples_split=6, n_estimators=84, subsample=0.9927126258709029; Accuracy: (test=0.626) F1: (test=0.569) total time= 1.4min\n",
      "[CV 1/3] END learning_rate=0.17011496343555838, max_depth=5, min_samples_leaf=2, min_samples_split=5, n_estimators=231, subsample=0.6460635847498584; Accuracy: (test=0.604) F1: (test=0.540) total time=16.9min\n",
      "[CV 1/3] END learning_rate=0.2145186800856671, max_depth=8, min_samples_leaf=3, min_samples_split=9, n_estimators=281, subsample=0.9147884381078655; Accuracy: (test=0.559) F1: (test=0.458) total time=19.4min\n",
      "[CV 2/3] END learning_rate=0.17011496343555838, max_depth=5, min_samples_leaf=2, min_samples_split=5, n_estimators=231, subsample=0.6460635847498584; Accuracy: (test=0.621) F1: (test=0.564) total time= 1.6min\n",
      "[CV 2/3] END learning_rate=0.2145186800856671, max_depth=8, min_samples_leaf=3, min_samples_split=9, n_estimators=281, subsample=0.9147884381078655; Accuracy: (test=0.585) F1: (test=0.503) total time=19.5min\n",
      "[CV 3/3] END learning_rate=0.2145186800856671, max_depth=8, min_samples_leaf=3, min_samples_split=9, n_estimators=281, subsample=0.9147884381078655; Accuracy: (test=0.612) F1: (test=0.546) total time=34.5min\n",
      "[CV 3/3] END learning_rate=0.17011496343555838, max_depth=5, min_samples_leaf=2, min_samples_split=5, n_estimators=231, subsample=0.6460635847498584; Accuracy: (test=0.640) F1: (test=0.593) total time=16.7min\n",
      "[CV 1/3] END learning_rate=0.34206049924371296, max_depth=3, min_samples_leaf=9, min_samples_split=2, n_estimators=140, subsample=0.7942870001950442; Accuracy: (test=0.668) F1: (test=0.638) total time=  43.2s\n",
      "[CV 2/3] END learning_rate=0.34206049924371296, max_depth=3, min_samples_leaf=9, min_samples_split=2, n_estimators=140, subsample=0.7942870001950442; Accuracy: (test=0.661) F1: (test=0.627) total time=  43.8s\n",
      "[CV 3/3] END learning_rate=0.34206049924371296, max_depth=3, min_samples_leaf=9, min_samples_split=2, n_estimators=140, subsample=0.7942870001950442; Accuracy: (test=0.649) F1: (test=0.613) total time=  46.5s\n",
      "[CV 1/3] END learning_rate=0.21378230393313336, max_depth=7, min_samples_leaf=5, min_samples_split=4, n_estimators=86, subsample=0.6597833709002305; Accuracy: (test=0.587) F1: (test=0.511) total time=  57.5s\n",
      "[CV 2/3] END learning_rate=0.21378230393313336, max_depth=7, min_samples_leaf=5, min_samples_split=4, n_estimators=86, subsample=0.6597833709002305; Accuracy: (test=0.609) F1: (test=0.545) total time=15.9min\n",
      "[CV 1/3] END learning_rate=0.3340697342529553, max_depth=7, min_samples_leaf=5, min_samples_split=7, n_estimators=404, subsample=0.9614482364590211; Accuracy: (test=0.565) F1: (test=0.469) total time=35.9min\n",
      "[CV 2/3] END learning_rate=0.3340697342529553, max_depth=7, min_samples_leaf=5, min_samples_split=7, n_estimators=404, subsample=0.9614482364590211; Accuracy: (test=0.584) F1: (test=0.500) total time=35.9min\n",
      "[CV 3/3] END learning_rate=0.21378230393313336, max_depth=7, min_samples_leaf=5, min_samples_split=4, n_estimators=86, subsample=0.6597833709002305; Accuracy: (test=0.654) F1: (test=0.613) total time=  48.9s\n",
      "[CV 3/3] END learning_rate=0.3340697342529553, max_depth=7, min_samples_leaf=5, min_samples_split=7, n_estimators=404, subsample=0.9614482364590211; Accuracy: (test=0.584) F1: (test=0.500) total time=20.8min\n"
     ]
    }
   ],
   "source": [
    "#Ajustando para training\n",
    "with mlflow.start_run(run_name=\"gkf_training_us\"):\n",
    "    mlflow.log_param(\"model\",\"GradientBoostingClassifier\")\n",
    "    mlflow.log_param(\"data\",\"training_undersampled\")\n",
    "    #Almacenando información de param_dist\n",
    "    mlflow.log_param(\"dist_n_estimators\",\"randint(50, 500)\")\n",
    "    mlflow.log_param(\"dist_max_depth\",\"randint(3, 10)\")\n",
    "    mlflow.log_param(\"dist_min_samples_split\",\"randint(2, 10)\")\n",
    "    mlflow.log_param(\"dist_min_samples_leaf\",\"randint(1, 10)\")\n",
    "    mlflow.log_param(\"dist_learning_rate\",\"uniform(0.01, 0.5)\")\n",
    "    mlflow.log_param(\"dist_subsample\",\"uniform(0.5, 0.5)\")\n",
    "    mlflow.log_param(\"n_iter\",10)\n",
    "    #Entrenando modelo\n",
    "    gbc1 = gb_randomized_search.fit(X_us, y_us, groups=group_train_us)\n",
    "    #Mejor modelo\n",
    "    best_model = gbc1.best_estimator_\n",
    "    #Guardando resultados\n",
    "    mlflow.log_params(gbc1.best_params_)\n",
    "    mlflow.log_metrics({\"best_score\":gbc1.best_score_})\n",
    "    mlflow.sklearn.log_model(best_model,\"best_model\")\n",
    "    mlflow.sklearn.log_model(gbc1, \"RandomizedSearchCV\")\n",
    "    #Guardando diccionario de resultados\n",
    "    results = gbc1.cv_results_\n",
    "    results = pd.DataFrame(results)\n",
    "    with tempfile.NamedTemporaryFile(mode = \"w+\", suffix = \".parquet\", delete= False) as temp:\n",
    "        results.to_parquet(temp.name)\n",
    "        mlflow.log_artifact(temp.name,\"results/results.parquet\")\n",
    "        temp_path = temp.name\n",
    "    #Almacenando métricas con conjunto de datos\n",
    "    f1_test1 = f1_score(y_testing_1, gbc1.predict(X_testing_1), average='macro')\n",
    "    f1_test2 = f1_score(y_testing_2, gbc1.predict(X_testing_2), average='macro')\n",
    "    accuracy_test1 = accuracy_score(y_testing_1, gbc1.predict(X_testing_1))\n",
    "    accuracy_test2 = accuracy_score(y_testing_2, gbc1.predict(X_testing_2))\n",
    "    mlflow.log_metrics({\"f1_test1\":f1_test1, \"f1_test2\":f1_test2, \"accuracy_test1\":accuracy_test1, \"accuracy_test2\":accuracy_test2})\n",
    "    os.remove(temp_path)"
   ]
  },
  {
   "cell_type": "markdown",
   "metadata": {},
   "source": [
    "# GBoost training_os"
   ]
  },
  {
   "cell_type": "code",
   "execution_count": 12,
   "metadata": {},
   "outputs": [],
   "source": [
    "# GBoost training_os\n",
    "# Configuración del modelo y GridSearchCV\n",
    "gb_model = GradientBoostingClassifier()\n",
    "gb_randomized_search_2 = RandomizedSearchCV(\n",
    "                            estimator= gb_model,\n",
    "                            param_distributions= param_dist,\n",
    "                            n_iter= 5,\n",
    "                            cv= group_kfold,\n",
    "                            scoring= scoring,\n",
    "                            refit= 'F1',\n",
    "                            return_train_score= False,\n",
    "                            n_jobs= 4,\n",
    "                            verbose= 3)\n"
   ]
  },
  {
   "cell_type": "code",
   "execution_count": 14,
   "metadata": {},
   "outputs": [
    {
     "name": "stdout",
     "output_type": "stream",
     "text": [
      "Fitting 3 folds for each of 5 candidates, totalling 15 fits\n",
      "[CV 2/3] END learning_rate=0.22143479728043058, max_depth=5, min_samples_leaf=2, min_samples_split=7, n_estimators=339, subsample=0.553720302291829; Accuracy: (test=0.576) F1: (test=0.487) total time=58.0min\n",
      "[CV 1/3] END learning_rate=0.22143479728043058, max_depth=5, min_samples_leaf=2, min_samples_split=7, n_estimators=339, subsample=0.553720302291829; Accuracy: (test=0.586) F1: (test=0.503) total time=58.2min\n",
      "[CV 3/3] END learning_rate=0.22143479728043058, max_depth=5, min_samples_leaf=2, min_samples_split=7, n_estimators=339, subsample=0.553720302291829; Accuracy: (test=0.577) F1: (test=0.490) total time=58.3min\n",
      "[CV 1/3] END learning_rate=0.3606667582493658, max_depth=8, min_samples_leaf=8, min_samples_split=9, n_estimators=55, subsample=0.5784539073172077; Accuracy: (test=0.596) F1: (test=0.520) total time=19.9min\n",
      "[CV 2/3] END learning_rate=0.3606667582493658, max_depth=8, min_samples_leaf=8, min_samples_split=9, n_estimators=55, subsample=0.5784539073172077; Accuracy: (test=0.562) F1: (test=0.464) total time=11.7min\n",
      "[CV 3/3] END learning_rate=0.3606667582493658, max_depth=8, min_samples_leaf=8, min_samples_split=9, n_estimators=55, subsample=0.5784539073172077; Accuracy: (test=0.567) F1: (test=0.471) total time=11.5min\n",
      "[CV 1/3] END learning_rate=0.20961981512798383, max_depth=8, min_samples_leaf=8, min_samples_split=3, n_estimators=480, subsample=0.7206768085188741; Accuracy: (test=0.558) F1: (test=0.451) total time=160.6min\n",
      "[CV 1/3] END learning_rate=0.020936962494382365, max_depth=3, min_samples_leaf=7, min_samples_split=5, n_estimators=441, subsample=0.7844101184580738; Accuracy: (test=0.725) F1: (test=0.715) total time=62.3min\n",
      "[CV 2/3] END learning_rate=0.20961981512798383, max_depth=8, min_samples_leaf=8, min_samples_split=3, n_estimators=480, subsample=0.7206768085188741; Accuracy: (test=0.538) F1: (test=0.413) total time=152.2min\n",
      "[CV 3/3] END learning_rate=0.20961981512798383, max_depth=8, min_samples_leaf=8, min_samples_split=3, n_estimators=480, subsample=0.7206768085188741; Accuracy: (test=0.544) F1: (test=0.427) total time=153.0min\n",
      "[CV 2/3] END learning_rate=0.020936962494382365, max_depth=3, min_samples_leaf=7, min_samples_split=5, n_estimators=441, subsample=0.7844101184580738; Accuracy: (test=0.736) F1: (test=0.730) total time=52.9min\n",
      "[CV 3/3] END learning_rate=0.020936962494382365, max_depth=3, min_samples_leaf=7, min_samples_split=5, n_estimators=441, subsample=0.7844101184580738; Accuracy: (test=0.753) F1: (test=0.748) total time=53.2min\n",
      "[CV 1/3] END learning_rate=0.1420589470000534, max_depth=3, min_samples_leaf=1, min_samples_split=5, n_estimators=112, subsample=0.5806648402186121; Accuracy: (test=0.686) F1: (test=0.665) total time= 9.1min\n",
      "[CV 2/3] END learning_rate=0.1420589470000534, max_depth=3, min_samples_leaf=1, min_samples_split=5, n_estimators=112, subsample=0.5806648402186121; Accuracy: (test=0.718) F1: (test=0.707) total time= 9.0min\n",
      "[CV 3/3] END learning_rate=0.1420589470000534, max_depth=3, min_samples_leaf=1, min_samples_split=5, n_estimators=112, subsample=0.5806648402186121; Accuracy: (test=0.717) F1: (test=0.705) total time= 8.7min\n"
     ]
    }
   ],
   "source": [
    "#Ajustando para training\n",
    "with mlflow.start_run(run_name=\"gkf_training_os\"):\n",
    "    mlflow.log_param(\"model\",\"GradientBoostingClassifier\")\n",
    "    mlflow.log_param(\"data\",\"training_oversampled\")\n",
    "    #Almacenando información de param_dist\n",
    "    mlflow.log_param(\"dist_n_estimators\",\"randint(50, 500)\")\n",
    "    mlflow.log_param(\"dist_max_depth\",\"randint(3, 10)\")\n",
    "    mlflow.log_param(\"dist_min_samples_split\",\"randint(2, 10)\")\n",
    "    mlflow.log_param(\"dist_min_samples_leaf\",\"randint(1, 10)\")\n",
    "    mlflow.log_param(\"dist_learning_rate\",\"uniform(0.01, 0.5)\")\n",
    "    mlflow.log_param(\"dist_subsample\",\"uniform(0.5, 0.5)\")\n",
    "    mlflow.log_param(\"n_iter\",5)\n",
    "    #Entrenando modelo\n",
    "    gbc2 = gb_randomized_search_2.fit(X_os, y_os, groups=group_train_os)\n",
    "    #Mejor modelo\n",
    "    best_model = gbc2.best_estimator_\n",
    "    #Guardando resultados\n",
    "    mlflow.log_params(gbc2.best_params_)\n",
    "    mlflow.log_metrics({\"best_score\":gbc2.best_score_})\n",
    "    mlflow.sklearn.log_model(best_model,\"best_model\")\n",
    "    mlflow.sklearn.log_model(gbc2, \"RandomizedSearchCV\")\n",
    "    #Guardando diccionario de resultados\n",
    "    results = gbc2.cv_results_\n",
    "    results = pd.DataFrame(results)\n",
    "    with tempfile.NamedTemporaryFile(mode = \"w+\", suffix = \".parquet\", delete= False) as temp:\n",
    "        results.to_parquet(temp.name)\n",
    "        mlflow.log_artifact(temp.name,\"results/results.parquet\")\n",
    "        temp_path = temp.name\n",
    "    #Almacenando métricas con conjunto de datos\n",
    "    f1_test1 = f1_score(y_testing_1, gbc2.predict(X_testing_1), average='macro')\n",
    "    f1_test2 = f1_score(y_testing_2, gbc2.predict(X_testing_2), average='macro')\n",
    "    accuracy_test1 = accuracy_score(y_testing_1, gbc2.predict(X_testing_1))\n",
    "    accuracy_test2 = accuracy_score(y_testing_2, gbc2.predict(X_testing_2))\n",
    "    mlflow.log_metrics({\"f1_test1\":f1_test1, \"f1_test2\":f1_test2, \"accuracy_test1\":accuracy_test1, \"accuracy_test2\":accuracy_test2})\n",
    "    os.remove(temp_path)"
   ]
  },
  {
   "cell_type": "code",
   "execution_count": null,
   "metadata": {},
   "outputs": [],
   "source": []
  }
 ],
 "metadata": {
  "kernelspec": {
   "display_name": "Tesis",
   "language": "python",
   "name": "python3"
  },
  "language_info": {
   "codemirror_mode": {
    "name": "ipython",
    "version": 3
   },
   "file_extension": ".py",
   "mimetype": "text/x-python",
   "name": "python",
   "nbconvert_exporter": "python",
   "pygments_lexer": "ipython3",
   "version": "3.9.18"
  }
 },
 "nbformat": 4,
 "nbformat_minor": 2
}
