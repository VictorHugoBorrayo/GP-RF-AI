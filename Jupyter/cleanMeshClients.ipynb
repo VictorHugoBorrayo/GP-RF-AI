{
 "cells": [
  {
   "cell_type": "markdown",
   "metadata": {},
   "source": [
    "# Limpieza de PointsData-Mesh Clients"
   ]
  },
  {
   "cell_type": "markdown",
   "metadata": {},
   "source": [
    "Eventualmente el objetivo del proyecto en general es encontrar una forma de determinar si los Mesh Clients pueden comunicar o no, en determinadas regiones geográficas y bajo ciertas condiciones de RF. Los MR también tienen tal posibilidad de análisis, pero el principal interés es sobre los MC. Determinar que la referencia geográfica sea correcta parece importante dado que tal información será condicionante al momento del entrenamiento de los algoritmos. La cantidad de datos crece considerablemente con respecto a los MG y MR, por tal motivo se utilizará un enfoque basado en el aprendizaje de máquina para encontrar los valores atípicos."
   ]
  },
  {
   "cell_type": "code",
   "execution_count": 60,
   "metadata": {},
   "outputs": [],
   "source": [
    "#Importando librerías\n",
    "import os\n",
    "import re\n",
    "import sys\n",
    "import utm\n",
    "sys.path.append('../')\n",
    "from Python.Preprocessing.funcs import *\n",
    "from Python.FeatureEngeeniering.Fresnel.fresnelFeature import cord2disV2\n",
    "import plotly.express as px\n",
    "import warnings\n",
    "import json\n",
    "import matplotlib.pyplot as plt\n",
    "import plotly\n",
    "import pandas as pd\n",
    "import pickle\n",
    "from datetime import datetime\n",
    "from Python.Style.styles import  *\n",
    "from Python.Preprocessing.funcs import  *\n",
    "from sklearn.ensemble import IsolationForest\n",
    "import seaborn as sns\n",
    "import plotly.graph_objs as go\n",
    "from ipywidgets import interact, widgets, Output\n",
    "from Python.Preprocessing.mapFuncs import Rdiscrete_map, Rdiscrete_map2, Rdiscrete_map3\n"
   ]
  },
  {
   "cell_type": "code",
   "execution_count": 61,
   "metadata": {},
   "outputs": [],
   "source": [
    "warnings.filterwarnings(\"ignore\")"
   ]
  },
  {
   "cell_type": "code",
   "execution_count": 62,
   "metadata": {},
   "outputs": [],
   "source": [
    "pd.set_option('display.float_format',  '{:,.8f}'.format)"
   ]
  },
  {
   "cell_type": "code",
   "execution_count": 63,
   "metadata": {},
   "outputs": [],
   "source": [
    "#Utilizando diseño base 1\n",
    "plt.style.use('../Python/Style/style1.mplstyle')"
   ]
  },
  {
   "cell_type": "code",
   "execution_count": 64,
   "metadata": {},
   "outputs": [],
   "source": [
    "#Colores base\n",
    "#Diseño base\n",
    "mClr = designC['cs']\n",
    "mClr_d2 = plt.get_cmap('cs-d')(2)\n",
    "sClr1 = designC['nr']\n",
    "sClr1_d2 = plt.get_cmap('nr-d')(2)\n",
    "sClr3 = designC['az']\n",
    "sClr2 = designC['gr']\n",
    "sClr2_d = plt.get_cmap('gr-d')(0)\n",
    "sClr2_d2 = plt.get_cmap('gr-d')(2)\n",
    "sClr4 = designC['vr']\n",
    "plt.rcParams['figure.dpi'] = 120\n",
    "plt.rcParams['savefig.dpi'] = 120"
   ]
  },
  {
   "cell_type": "code",
   "execution_count": 65,
   "metadata": {},
   "outputs": [],
   "source": [
    "#Datos base desde Data Mart\n",
    "cContainer = pd.read_parquet(\"../Data/DataMart/Base/cContainer.parquet\")\n",
    "rContainer = pd.read_parquet(\"../Data/DataMart/Base/tRContainer.parquet\")"
   ]
  },
  {
   "cell_type": "code",
   "execution_count": 66,
   "metadata": {},
   "outputs": [],
   "source": [
    "#Información de rondas\n",
    "roundsDf = pd.read_parquet(\"../Data/DataLake/roundsControl/roundsDf.parquet\")"
   ]
  },
  {
   "cell_type": "code",
   "execution_count": null,
   "metadata": {},
   "outputs": [],
   "source": [
    "#Datos de mesh clients\n",
    "#Leyendo datos de procesamiento automático\n",
    "prqFiles2 = getNames(r\"../Data/DataLake/pointsData\",\".json\")\n",
    "\n",
    "jdf = pd.DataFrame({'path':prqFiles2, 'name' : ['']*len(prqFiles2)})\n",
    "\n",
    "jdf[\"dType\"] = jdf[\"path\"].str.extract(\"([a-z]+)-\")\n",
    "\n",
    "jdf[\"fDate\"] = jdf[\"path\"].str.extract(\"([0-9]+.[0-9]+.[0-9]+)\")\n",
    "\n",
    "#Creando mcContainer\n",
    "mList = jdf[jdf[\"dType\"]==\"meters\"][\"path\"]\n",
    "mContainer = createContainer(mList,\".json\")\n",
    "mContainer.head(3)"
   ]
  },
  {
   "cell_type": "code",
   "execution_count": 68,
   "metadata": {},
   "outputs": [
    {
     "name": "stdout",
     "output_type": "stream",
     "text": [
      "Cantidad de filas de mContainer : 1734513\n",
      "Cantidad de mesh clients : 21186\n"
     ]
    }
   ],
   "source": [
    "#Información de mContainer\n",
    "print(\"Cantidad de filas de mContainer :\", len(mContainer))\n",
    "print(\"Cantidad de mesh clients :\", len(mContainer[\"radio\"].unique()))"
   ]
  },
  {
   "cell_type": "code",
   "execution_count": 69,
   "metadata": {},
   "outputs": [],
   "source": [
    "#Preparando columnas y agregando ronda\n",
    "pattern = r\"([0-9]{4}-[0-9]{2}-[0-9]{2})\"\n",
    "mContainer[\"fDate\"] = mContainer[\"fName\"].str.extract(pattern)\n",
    "mContainer[\"fDate\"] = pd.to_datetime(mContainer[\"fDate\"], format = \"%Y-%m-%d\")\n",
    "mContainer[\"fDate\"] = mContainer[\"fDate\"].dt.date\n",
    "mContainer[\"fDate\"] = pd.to_datetime(mContainer[\"fDate\"])\n",
    "mContainer.fDate\n",
    "#Agregando columna de ronda\n",
    "for i, row in roundsDf.iterrows():\n",
    "    mask = (mContainer[\"fDate\"] >= row[\"fDate\"]) & (mContainer[\"fDate\"] < row[\"lDate\"])\n",
    "    mContainer.loc[mask,\"round\"] = row[\"round\"]\n",
    "#Redondeando coordenadas\n",
    "mContainer[\"latitude\"] = mContainer[\"latitude\"].round(8)\n",
    "mContainer[\"longitude\"] = mContainer[\"longitude\"].round(8)"
   ]
  },
  {
   "cell_type": "code",
   "execution_count": 70,
   "metadata": {},
   "outputs": [
    {
     "name": "stdout",
     "output_type": "stream",
     "text": [
      "Cantidad de filas de mContainer : 1734513\n",
      "Cantidad de mesh clients : 21186\n",
      "Cantidad de filas de mContainer luego del filtro: 1733505\n",
      "Cantidad de mesh clients luego del filtro: 21174\n"
     ]
    }
   ],
   "source": [
    "#Eliminando MC que no cumplan con regex\n",
    "print(\"Cantidad de filas de mContainer :\", len(mContainer))\n",
    "print(\"Cantidad de mesh clients :\", len(mContainer[\"meterNo\"].unique()))\n",
    "mcPattern = r\"^[A-Z]-[0-9]{5}$\"\n",
    "mContainer = mContainer[mContainer[\"meterNo\"].str.match(mcPattern)]\n",
    "print(\"Cantidad de filas de mContainer luego del filtro:\", len(mContainer))\n",
    "print(\"Cantidad de mesh clients luego del filtro:\", len(mContainer[\"meterNo\"].unique()))"
   ]
  },
  {
   "cell_type": "code",
   "execution_count": 71,
   "metadata": {},
   "outputs": [
    {
     "name": "stdout",
     "output_type": "stream",
     "text": [
      "Filas sin coordenadas:  188644\n",
      "MC sin coordenadas:  3310\n"
     ]
    }
   ],
   "source": [
    "#Mesh Clients sin coordenadas\n",
    "mContainer.rename({\"name\":\"status\"}, axis=1, inplace=True)\n",
    "mCnCords = mContainer[(mContainer[\"latitude\"].isna() | mContainer[\"longitude\"].isna())]\n",
    "print(\"Filas sin coordenadas: \",len(mCnCords))\n",
    "print(\"MC sin coordenadas: \",len(mCnCords[\"radio\"].unique()))"
   ]
  },
  {
   "cell_type": "markdown",
   "metadata": {},
   "source": [
    "Existen distintas razones por las que los mesh clients podrían no tener coordenadas, sea por omisión, que el equipo no esté instalado en el terreno o algún fallo en los procesos de carga automática de coordenadas que existen en la asignación de estos valores a la base de datos del sistema gestor de la red mesh.\n",
    "\n",
    "Será necesario utilizar información adicional para intentar verificar lo que se mencionó antes. Así como visualizaciones que permitan entender las causas y acciones correspondientes según los casos generales identificados. En este punto se complica la verificación individual de cada caso dado la cantidadad de los datos."
   ]
  },
  {
   "cell_type": "code",
   "execution_count": 72,
   "metadata": {},
   "outputs": [
    {
     "data": {
      "image/png": "[encoded data removed]",
      "text/plain": [
       "<Figure size 720x480 with 1 Axes>"
      ]
     },
     "metadata": {},
     "output_type": "display_data"
    }
   ],
   "source": [
    "#Gráfica de vacíos segun estatus en el sistema\n",
    "#sns.set_style(\"whitegrid\")\n",
    "plt.title(\"Falta de coordenadas por estatus\")\n",
    "plt.xticks(fontsize=7, color = sClr3)\n",
    "sns.barplot(mCnCords[[\"status\",\"radio\"]].groupby(\"status\").count().reset_index(),\\\n",
    "            x = \"status\", y = \"radio\", color = mClr)\n",
    "plt.show()"
   ]
  },
  {
   "cell_type": "markdown",
   "metadata": {},
   "source": [
    "La cantidad significativamente mayor de MC en estado \"inventory\" puede deberse a equipos que no han sido desplegados en el terreno. Para dilucidar esto se requiere de una fuente externa de datos que contenga una etiqueta que indique si un MC está siendo utilizado por algún cliente o no."
   ]
  },
  {
   "cell_type": "code",
   "execution_count": 73,
   "metadata": {},
   "outputs": [],
   "source": [
    "#Solo necesaria UNA ejecución inicial ...\n",
    "# #Leyendo referencia de montaje\n",
    "# #Datos de mesh clients\n",
    "# #Leyendo datos de procesamiento automático\n",
    "# prqFiles3 = getNames(r\"../Data/DataLake/cFiles/montaje/\",\".XLSX\")\n",
    "# jdf = pd.DataFrame({'path':prqFiles3, 'name' : ['']*len(prqFiles3)})\n",
    "# jdf[\"path\"] = jdf[\"path\"].astype(str)\n",
    "# #Creando mcContainer\n",
    "# montRef = createContainer(prqFiles3,\".xlsx\")\n",
    "# #Agregando fecha\n",
    "# montRef[\"fDate\"] = montRef[\"fName\"].str.extract(\"([0-9]+-[0-9]+-[0-9]+)\")\n",
    "# montRef.to_parquet(\"../Data/DataLake/cFiles/montaje/montRef-s1.parquet\")\n",
    "# montRef.head()"
   ]
  },
  {
   "cell_type": "code",
   "execution_count": 74,
   "metadata": {},
   "outputs": [],
   "source": [
    "# #Filtrando por columna Material\n",
    "# print(\"Filas en montRef: \",len(montRef))\n",
    "# tPattern  = r\"41-03\"\n",
    "# montRef[\"Material\"] = montRef[\"Material\"].astype(str)\n",
    "# montRef = montRef[montRef[\"Material\"].str.contains(tPattern)]\n",
    "# print(\"Filas en montRef después del filtro: \",len(montRef))"
   ]
  },
  {
   "cell_type": "code",
   "execution_count": 75,
   "metadata": {},
   "outputs": [],
   "source": [
    "# #Seleccionando columnas de interés\n",
    "# montRef = montRef[[\"Número de serie\",\"Status del sistema\",\"Lote\",\"Fecha de montaje\"\\\n",
    "#                    ,\"Fecha de desmontaje\",\"Válido de\",\"Empl.equipo modif.el\",\"fName\",\"fDate\"]]\n",
    "# montRef.head(3)"
   ]
  },
  {
   "cell_type": "code",
   "execution_count": 76,
   "metadata": {},
   "outputs": [],
   "source": [
    "# #Renombrando columnas\n",
    "# montRef.rename({\"Número de serie\":\"meterNo\",\"Status del sistema\":\"SStatus\",\\\n",
    "#                 \"Fecha de montaje\":\"mntDate\",\"Fecha de desmontaje\":\"dmntDate\",\\\n",
    "#                 \"Válido de\":\"valido\",\"Empl.equipo modif.el\":\"mod\", \"fDate\":\"fDate_mr\"}, axis=1, inplace=True)\n",
    "# montRef.head(3)"
   ]
  },
  {
   "cell_type": "code",
   "execution_count": 77,
   "metadata": {},
   "outputs": [],
   "source": [
    "# #Guardando de manera temporal\n",
    "# montRef[\"fDate_mr\"] = pd.to_datetime(montRef[\"fDate_mr\"], format = \"%d-%m-%y\")\n",
    "# montRef = montRef.sort_values(by = [\"meterNo\",\"fDate_mr\"], ascending = [False, True])\n",
    "# #montRef.to_parquet(\"../Data/DataLake/cFiles/montaje/montRef.parquet\")\n",
    "# #montRef.to_csv(\"../Data/DataLake/cFiles/montaje/montRef.csv\")"
   ]
  },
  {
   "cell_type": "code",
   "execution_count": 78,
   "metadata": {},
   "outputs": [],
   "source": [
    "#Leyendo montRef\n",
    "montRef = pd.read_parquet(\"../Data/DataLake/cFiles/montaje/montRef.parquet\")"
   ]
  },
  {
   "cell_type": "code",
   "execution_count": 79,
   "metadata": {},
   "outputs": [],
   "source": [
    "#Agregando información de montaje a mCnCords\n",
    "montRef = montRef.sort_values(by = \"fDate_mr\", ascending = True)\n",
    "mCnCords = pd.merge_asof(mCnCords,montRef.drop(\"fName\", axis = 1), left_on = \"fDate\",\\\n",
    "                          right_on = \"fDate_mr\", by = \"meterNo\", suffixes = (\"\",\"_mr\"), direction = \"forward\")#, by = \"meterNo\", direction = \"nearest\"\n",
    "mCnCords.to_csv(\"../Data/DataLake/temp/tempCheck.csv\", index = False)"
   ]
  },
  {
   "cell_type": "code",
   "execution_count": 80,
   "metadata": {},
   "outputs": [],
   "source": [
    "#Check point\n",
    "#mContainer.to_parquet(\"../Data/DataLake/temp/mContainer.parquet\")\n",
    "#mCnCords.to_parquet(\"../Data/DataLake/temp/mCnCords.parquet\")\n",
    "\n",
    "#mContainer = pd.read_parquet(\"../Data/DataLake/temp/mContainer.parquet\")\n",
    "#mCnCords = pd.read_parquet(\"../Data/DataLake/temp/mCnCords.parquet\")"
   ]
  },
  {
   "cell_type": "markdown",
   "metadata": {},
   "source": [
    "La información contenida en las referencias de montRef indica de manera aproximada la fecha en que se puso un mesh client en funcionamiento en el terreno. Será necesario identificar las posibles combinaciones de estados de MC y estados en el sistema para determinar cuales de los MC se pueden descartar completamente porque nunca estuvieron desplegados durante el tiempo de la adquisición de datos, y cuales requieren algún tratamiento adicional porque fueron instalados o retirados en el mismo período."
   ]
  },
  {
   "cell_type": "code",
   "execution_count": 81,
   "metadata": {},
   "outputs": [
    {
     "name": "stdout",
     "output_type": "stream",
     "text": [
      "Cantidad de filas de mCnCords : 188644\n",
      "Cantidad de MC en mCnCords : 3310\n",
      "Cantidad de filas de mCnCords luego del filtro : 161006\n",
      "Cantidad de MC en mCnCords luego del filtro : 2092\n"
     ]
    }
   ],
   "source": [
    "#Posiblemente mantener\n",
    "#Validando con conjunto principal de datos\n",
    "print(\"Cantidad de filas de mCnCords :\", len(mCnCords))\n",
    "print(\"Cantidad de MC en mCnCords :\", len(mCnCords[\"meterNo\"].unique()))\n",
    "mCwCords = list(mContainer[(~mContainer[\"latitude\"].isna() | ~mContainer[\"longitude\"].isna())]\\\n",
    "                .meterNo.unique())\n",
    "#Retirando mCwCords de mCnCords\n",
    "intNC = set(mCwCords).intersection(set(mCnCords.meterNo.unique()))\n",
    "mCnCords = mCnCords[~mCnCords[\"meterNo\"].isin(intNC)]\n",
    "print(\"Cantidad de filas de mCnCords luego del filtro :\", len(mCnCords))\n",
    "print(\"Cantidad de MC en mCnCords luego del filtro :\", len(mCnCords[\"meterNo\"].unique()))\n",
    "mCnCords.to_csv(\"../Data/DataLake/temp/mCnCords_toFill.csv\", index = False)"
   ]
  },
  {
   "cell_type": "code",
   "execution_count": null,
   "metadata": {},
   "outputs": [],
   "source": [
    "# Identificando combinaciones existentes\n",
    "tprove = mCnCords.copy()\n",
    "tprove[\"InvSt\"] = \"Inventory\"\n",
    "tprove.loc[tprove[\"status\"] != \"Inventory\", \"InvSt\"] = \"NoInventory\"\n",
    "#Agrupando\n",
    "tprove[\"iStatus\"] = tprove[\"InvSt\"].astype(str) + \"-\" + tprove[\"SStatus\"].astype(str)\n",
    "resumen = tprove.groupby([\"meterNo\",\"iStatus\"]).size().unstack(fill_value=0).reset_index()\n",
    "#Sumando total\n",
    "resumen[\"total\"] = resumen.drop(\"meterNo\", axis = 1).sum(axis = 1)\n",
    "#Guardando resumen\n",
    "resumen.to_csv(\"../Data/DataLake/temp/resSec.csv\", index = False)\n",
    "resumen.head()\n"
   ]
  },
  {
   "cell_type": "markdown",
   "metadata": {},
   "source": [
    "Con el código anterior se han identificado las secuencias que un MC tiene en cuanto a estatus en el sistema de la red y la referencias de montaje. Las distintas secuencias identificadas pueden ayudar a dilucidar si los equipos estuvieron en funcionamiento en determinado intervalo de tiempo o no."
   ]
  },
  {
   "cell_type": "code",
   "execution_count": 83,
   "metadata": {},
   "outputs": [],
   "source": [
    "# #Anadido eliminar\n",
    "# #Validando con conjunto principal de datos\n",
    "# print(\"Cantidad de filas de mCnCords :\", len(mCnCords))\n",
    "# print(\"Cantidad de MC en mCnCords :\", len(mCnCords[\"meterNo\"].unique()))\n",
    "# mCwCords = list(mContainer[(~mContainer[\"latitude\"].isna() | ~mContainer[\"longitude\"].isna())]\\\n",
    "#                 .meterNo.unique())\n",
    "# #Retirando mCwCords de mCnCords\n",
    "# intNC = set(mCwCords).intersection(set(mCnCords.meterNo.unique()))\n",
    "# mCnCords = mCnCords[~mCnCords[\"meterNo\"].isin(intNC)]\n",
    "# print(\"Cantidad de filas de mCnCords luego del filtro :\", len(mCnCords))\n",
    "# print(\"Cantidad de MC en mCnCords luego del filtro :\", len(mCnCords[\"meterNo\"].unique()))\n",
    "# mCnCords.to_csv(\"../Data/DataLake/temp/mCnCords_toFill.csv\", index = False)"
   ]
  },
  {
   "cell_type": "code",
   "execution_count": 84,
   "metadata": {},
   "outputs": [
    {
     "name": "stdout",
     "output_type": "stream",
     "text": [
      "Cantidad de filas de mCnCords : 161006\n",
      "Cantidad de medidores sin despliegue : 6755\n",
      "Cantidad de filas de mCnCords luego del filtro : 62219\n"
     ]
    }
   ],
   "source": [
    "#Validando length\n",
    "print(\"Cantidad de filas de mCnCords :\", len(mCnCords))\n",
    "#Medidores no servicio\n",
    "mnService = []\n",
    "mnService = mnService + list(resumen[resumen[\"Inventory-ALMA\"] == 84].meterNo.unique())\n",
    "mnService = mnService + list(resumen[resumen[\"Inventory-DISP\"] == 84].meterNo.unique())\n",
    "mnService = mnService + list(resumen[resumen[\"Inventory-DISP NOAC PTBO\"] == 84].meterNo.unique())\n",
    "#Combinaciones sumadas\n",
    "#mnService = mnService + list(resumen[resumen[\"Inventory-ALMA\"] + resumen[\"Inventory-DISP\"] == 84]\\\n",
    "#                            .meterNo.unique())\n",
    "mnService = mnService + list(resumen[resumen[\"Inventory-ALMA\"] + resumen[\"Inventory-DISP NOAC PTBO\"] == 84]\\\n",
    "                            .meterNo.unique())\n",
    "mnService = mnService + list(resumen[resumen[\"Inventory-DISP\"] + resumen[\"Inventory-DISP NOAC PTBO\"] == 84]\\\n",
    "                            .meterNo.unique())\n",
    "mnService = mnService + list(resumen[resumen[\"Inventory-ALMA\"] + resumen[\"Inventory-DISP\"] + resumen\\\n",
    "                                    [\"Inventory-DISP NOAC PTBO\"] == 84].meterNo.unique())\n",
    "#Totales distintos de 84\n",
    "mnService = mnService + list(resumen[resumen[\"Inventory-ALMA\"] == resumen[\"total\"]].meterNo.unique())\n",
    "#mnService = mnService + list(resumen[resumen[\"Inventory-DISP\"] == resumen[\"total\"]].meterNo.unique())\n",
    "mnService = mnService + list(resumen[resumen[\"Inventory-DISP NOAC PTBO\"] == resumen[\"total\"]].meterNo.unique())\n",
    "mnService = mnService + list(resumen[resumen[\"Inventory-ALMA\"] + resumen[\"Inventory-DISP\"] ==\\\n",
    "                                    resumen[\"total\"]].meterNo.unique())\n",
    "mnService = mnService + list(resumen[resumen[\"Inventory-ALMA\"] + resumen[\"Inventory-DISP NOAC PTBO\"] ==\\\n",
    "                                    resumen[\"total\"]].meterNo.unique())\n",
    "mnService = mnService + list(resumen[resumen[\"Inventory-DISP\"] + resumen[\"Inventory-DISP NOAC PTBO\"] ==\\\n",
    "                                    resumen[\"total\"]].meterNo.unique())\n",
    "#mnService = mnService + list(resumen[resumen[\"Inventory-ALMA\"] + resumen[\"Inventory-DISP\"] + resumen\\\n",
    "#                                    [\"Inventory-DISP NOAC PTBO\"] == resumen[\"total\"]].meterNo.unique())\n",
    "#Imprimiendo información\n",
    "print(\"Cantidad de medidores sin despliegue :\", len(mnService))\n",
    "#Aplicando filtro\n",
    "mCnCords = mCnCords[~mCnCords[\"meterNo\"].isin(mnService)]\n",
    "print(\"Cantidad de filas de mCnCords luego del filtro :\", len(mCnCords))"
   ]
  },
  {
   "cell_type": "markdown",
   "metadata": {},
   "source": [
    "Los MC existentes en mCnCords luego de los filtros anteriores requerirán la búsqueda de coordenadas en fuentes externas antes de ser integrados al conjunto de datos principal. Será necesario validar si algunos de estos mCnCords tienen coordenadas en el conjunto principal, ya que la ausencia de coordenadas puede ser debido a algún movimiento en el sistema más que por inexistencia de las mismas en la fuente de datos principal.\n",
    "\n",
    "Luego del tratamiento anterior se está en posibilidad de imputar valores de coordenadas a los MC restantes. Para esto se recurrirá a fuentes de información externas que pudieran contener la información necesaria."
   ]
  },
  {
   "cell_type": "code",
   "execution_count": 85,
   "metadata": {},
   "outputs": [],
   "source": [
    "#Validando referencia de polo\n",
    "pPatern = r\"[0-9]{6}\"\n",
    "#mCnCords = mCnCords.copy()\n",
    "mask = ~mCnCords[\"poleNo\"].astype(str).str.match(pPatern)\n",
    "mCnCords.loc[mask, \"poleNo\"] = np.nan\n",
    "mCnCords.to_csv(\"../Data/DataLake/temp/mCnCords_toFill2.csv\", index = False)"
   ]
  },
  {
   "cell_type": "code",
   "execution_count": 86,
   "metadata": {},
   "outputs": [],
   "source": [
    "#Leyendo polesCords\n",
    "polesCords = pd.read_parquet(\"../Data/DataLake/cFiles/polesCords_conv.parquet\")"
   ]
  },
  {
   "cell_type": "code",
   "execution_count": 87,
   "metadata": {},
   "outputs": [],
   "source": [
    "#Agregando coordenadas de polos a mCnCords\n",
    "polesCords.rename({\"ID_UBICACION\":\"poleNo\"}, axis=1, inplace=True)\n",
    "#Convirtiendo formatos\n",
    "mCnCords[\"poleNo\"] = mCnCords[\"poleNo\"].astype(str)\n",
    "polesCords[\"poleNo\"] = polesCords[\"poleNo\"].astype(str)\n",
    "#Actualizando df\n",
    "mCnCords = updateDf(mCnCords, polesCords, [\"poleNo\"], [\"latitude\",\"longitude\"])\n",
    "mCnCords.to_csv(\"../Data/DataLake/temp/mCnCords_Filled.csv\", index = False)"
   ]
  },
  {
   "cell_type": "code",
   "execution_count": 88,
   "metadata": {},
   "outputs": [
    {
     "name": "stdout",
     "output_type": "stream",
     "text": [
      "MC con coordenadas en mCnCords : 623\n",
      "MC sin coordenadas en mCnCords : 371\n",
      "MC con y sin coordenadas en mCnCords : 82\n"
     ]
    }
   ],
   "source": [
    "#Validando internamente\n",
    "mcWC = list(mCnCords[(~mCnCords[\"latitude\"].isna() |\\\n",
    "                        ~mCnCords[\"longitude\"].isna())].meterNo.unique())\n",
    "mcWC = set(mcWC)\n",
    "print(\"MC con coordenadas en mCnCords :\",len(mcWC))\n",
    "\n",
    "#Validando con conjunto principal de datos\n",
    "mcWOC = mCnCords[(mCnCords[\"latitude\"].isna() |\\\n",
    "                        mCnCords[\"longitude\"].isna())].meterNo.unique()\n",
    "mcWOC = set(mcWOC)\n",
    "print(\"MC sin coordenadas en mCnCords :\",len(mcWOC))\n",
    "\n",
    "#Intersección\n",
    "mcIntersection = mcWC.intersection(mcWOC)\n",
    "print(\"MC con y sin coordenadas en mCnCords :\",len(mcIntersection))\n"
   ]
  },
  {
   "cell_type": "code",
   "execution_count": 89,
   "metadata": {},
   "outputs": [
    {
     "name": "stdout",
     "output_type": "stream",
     "text": [
      "MC restantes : 289\n"
     ]
    }
   ],
   "source": [
    "mCnCords[\"Comentario\"] = \"\"\n",
    "mCnCords.loc[mCnCords[\"meterNo\"].isin(mcWC), \"Comentario\"] = \"Coordenadas polo\"\n",
    "mCnCords.loc[mCnCords[\"meterNo\"].isin(mcIntersection), \"Comentario\"] = \"Coordenadas parciales\"\n",
    "print(\"MC restantes :\",len(mCnCords[mCnCords[\"Comentario\"]==\"\"].meterNo.unique()))"
   ]
  },
  {
   "cell_type": "code",
   "execution_count": 90,
   "metadata": {},
   "outputs": [],
   "source": [
    "mCnCords.to_csv(\"../Data/DataLake/temp/mCnCords_wComments.csv\", index = False)"
   ]
  },
  {
   "cell_type": "markdown",
   "metadata": {},
   "source": [
    "## Completando información"
   ]
  },
  {
   "cell_type": "code",
   "execution_count": 91,
   "metadata": {},
   "outputs": [],
   "source": [
    "#Contando ocurrencias de MC en df restante\n",
    "remainNC = mCnCords[mCnCords[\"Comentario\"]==\"\"].copy()\n",
    "remainNC[\"ocurrencias\"] = remainNC.groupby(\"meterNo\")[\"meterNo\"].transform(\"count\")\n",
    "remainNC.to_csv(\"../Data/DataLake/temp/remainNC.csv\", index = False)"
   ]
  },
  {
   "cell_type": "code",
   "execution_count": 92,
   "metadata": {},
   "outputs": [
    {
     "data": {
      "image/png": "[encoded data removed]",
      "text/plain": [
       "<Figure size 720x480 with 1 Axes>"
      ]
     },
     "metadata": {},
     "output_type": "display_data"
    }
   ],
   "source": [
    "#Graficando por estatus\n",
    "#sns.set_style(\"whitegrid\")\n",
    "plt.title(\"Falta de coordenadas por estatus-Restantes\")\n",
    "plt.xticks(fontsize=7, color = sClr3)\n",
    "sns.barplot(remainNC[[\"status\",\"meterNo\"]].groupby(\"status\").count().reset_index(),\\\n",
    "            x = \"status\", y = \"meterNo\", color = mClr)\n",
    "plt.show()"
   ]
  },
  {
   "cell_type": "markdown",
   "metadata": {},
   "source": [
    "Es notoria una disminución de los MC con estado \"Inventory\", lo que reduce la cantidad de MC sin coordenadas por el hecho de no estar desplegados en el terreno. \n",
    "\n",
    "Es posible que debido a la diferencia de tiempo entre el despliegue de un MC y el cambio de su estado en el sistema la información de fechas posteriores a la fecha de corte en el conjunto de datos provea de información adicional para completar pares de coordenadas vacías."
   ]
  },
  {
   "cell_type": "code",
   "execution_count": 93,
   "metadata": {},
   "outputs": [],
   "source": [
    "#Agregando información de fechas futuras\n",
    "fDdf = pd.read_json(\"../Data/DataLake/cFiles/newestMC/meters-2023-06-30.json\")\n",
    "fMont = pd.read_excel(\"../Data/DataLake/cFiles/newestMC/09-06-2023-montaje.xlsx\")"
   ]
  },
  {
   "cell_type": "code",
   "execution_count": null,
   "metadata": {},
   "outputs": [],
   "source": [
    "#Agregando información de montaje a fDdf\n",
    "fMont[\"fDate\"] = pd.Timestamp(\"2023-06-09\")\n",
    "\n",
    "fMont.rename({\"Número de serie\":\"meterNo\",\"Status del sistema\":\"SStatus\",\\\n",
    "                \"Fecha de montaje\":\"mntDate\",\"Fecha de desmontaje\":\"dmntDate\",\\\n",
    "                \"Válido de\":\"valido\",\"Empl.equipo modif.el\":\"mod\", \"fDate\":\"fDate_mr\"},\\\n",
    "                axis=1, inplace=True)\n",
    "fDdf = fDdf.merge(fMont[[\"meterNo\",\"SStatus\",\"Lote\",\"mntDate\",\"dmntDate\",\\\n",
    "                        \"valido\",\"mod\",\"fDate_mr\"]], on = \"meterNo\", how = \"left\")\n",
    "fDdf.head(3)"
   ]
  },
  {
   "cell_type": "code",
   "execution_count": null,
   "metadata": {},
   "outputs": [],
   "source": [
    "#Filtrando en rango de fechas de interés\n",
    "print(\"Cantidad de filas de fDdf :\", len(fDdf))\n",
    "minDate = mCnCords[\"fDate\"].min()\n",
    "maxDate = mCnCords[\"fDate\"].max()\n",
    "mask = (fDdf[\"mntDate\"] <= maxDate)|(fDdf[\"mntDate\"] >= minDate)\n",
    "fDdf = fDdf[mask]\n",
    "#Eliminando Nans en latitud y longitud\n",
    "fDdf = fDdf[~(fDdf[\"latitude\"].isna() | fDdf[\"longitude\"].isna())]\n",
    "#Reteniendo MC sin coordenadas\n",
    "fDdf = fDdf[fDdf[\"meterNo\"].isin(mcWOC- mcIntersection)]\n",
    "print(\"Cantidad de filas de fDdf luego del filtro :\", len(fDdf))\n",
    "fDdf.head(3)"
   ]
  },
  {
   "cell_type": "code",
   "execution_count": null,
   "metadata": {},
   "outputs": [],
   "source": [
    "#Actualizando información de mCnCords\n",
    "naMask = (mCnCords[\"latitude\"].isna() | mCnCords[\"longitude\"].isna())\n",
    "print(\"MC sin coordenadas :\", len(mCnCords[naMask].meterNo.unique()))\n",
    "mCnCords = updateDf(mCnCords, fDdf, [\"meterNo\"], [\"latitude\",\"longitude\",\"SStatus\",\"Lote\",\\\n",
    "                                    \"mntDate\",\"dmntDate\",\"valido\",\"mod\",\"fDate_mr\"])\n",
    "fDataList = list(fDdf.meterNo.unique())\n",
    "mCnCords.loc[mCnCords[\"meterNo\"].isin(fDataList), \"Comentario\"] = \"Fechas futuras\"\n",
    "mCnCords.to_csv(\"../Data/DataLake/temp/futureDates.csv\", index = False)\n",
    "naMask = (mCnCords[\"latitude\"].isna() | mCnCords[\"longitude\"].isna())\n",
    "print(\"MC sin coordenadas después de actualización :\", len(mCnCords[naMask].meterNo.unique()))\n",
    "mCnCords.head(3)"
   ]
  },
  {
   "cell_type": "code",
   "execution_count": 97,
   "metadata": {},
   "outputs": [
    {
     "data": {
      "text/plain": [
       "<AxesSubplot: title={'center': 'Falta de coordenadas por estatus-Filtro'}, xlabel='status', ylabel='meterNo'>"
      ]
     },
     "execution_count": 97,
     "metadata": {},
     "output_type": "execute_result"
    },
    {
     "data": {
      "image/png": "[encoded data removed]",
      "text/plain": [
       "<Figure size 720x480 with 1 Axes>"
      ]
     },
     "metadata": {},
     "output_type": "display_data"
    }
   ],
   "source": [
    "#Graficando por estatus\n",
    "#sns.set_style(\"whitegrid\")\n",
    "plt.title(\"Falta de coordenadas por estatus-Filtro\")\n",
    "plt.xticks(fontsize=7, color = sClr3)\n",
    "sns.barplot(mCnCords[[\"status\",\"meterNo\"]].groupby(\"status\").count().reset_index(),\\\n",
    "            x = \"status\", y = \"meterNo\", color = mClr)"
   ]
  },
  {
   "cell_type": "markdown",
   "metadata": {},
   "source": [
    "Existen dos fuentes externas más que pueden ser de utilidad, estas están referidas a los MC que son utilizados como repetidores y aquellos que se tiene referencia están instalados en un polo."
   ]
  },
  {
   "cell_type": "code",
   "execution_count": 98,
   "metadata": {},
   "outputs": [],
   "source": [
    "#Fuentes adicionales de coordenadas\n",
    "rep = pd.read_csv(\"../Data/DataLake/cFiles/repetidoresMC.csv\", usecols= [0,1,2,5,6], encoding='utf-8')\n",
    "polMC1 = pd.read_csv(\"../Data/DataLake/cFiles/polesMC-1.csv\", usecols = [0,3,4,5], encoding='utf-8')"
   ]
  },
  {
   "cell_type": "code",
   "execution_count": 99,
   "metadata": {},
   "outputs": [],
   "source": [
    "#Renombrando\n",
    "rep.rename({\"Fecha instalación\":\"mntDate\",\"Poste instalado\":\"poleNo\",\"# Repetidor\": \"meterNo\",\\\n",
    "            \"Latitud\":\"latitude\",\"Longitud\":\"longitude\"}, axis=1, inplace=True)\n",
    "polMC1.rename({\"Poste\":\"poleNo\",\"Latitud\":\"latitude\",\"Longitud\":\"longitude\",\"Medidor \":\"meterNo\"},\\\n",
    "            axis=1, inplace=True)"
   ]
  },
  {
   "cell_type": "code",
   "execution_count": 100,
   "metadata": {},
   "outputs": [
    {
     "name": "stdout",
     "output_type": "stream",
     "text": [
      "MC sin coordenadas antes de actualización : 212\n"
     ]
    },
    {
     "name": "stdout",
     "output_type": "stream",
     "text": [
      "MC sin coordenadas después de actualización : 115\n"
     ]
    }
   ],
   "source": [
    "#Actualizando información de mCnCords\n",
    "naMask = (mCnCords[\"latitude\"].isna() | mCnCords[\"longitude\"].isna())\n",
    "#Convirtiendo llaves a string\n",
    "#rep[\"meterNo\"] = rep[\"meterNo\"].astype(str)\n",
    "#polMC1[\"meterNo\"] = polMC1[\"meterNo\"].astype(str)\n",
    "naMC = mCnCords[naMask].meterNo.unique()\n",
    "#Actualizando información de mCnCords\n",
    "print(\"MC sin coordenadas antes de actualización :\", len(mCnCords[naMask].meterNo.unique()))\n",
    "mCnCords = updateDf(mCnCords, rep[rep[\"meterNo\"].isin(naMC)], [\"meterNo\"], [\"latitude\",\"longitude\",\"mntDate\",\"poleNo\"])\n",
    "mCnCords.loc[mCnCords[\"meterNo\"].isin(list(rep.meterNo.unique())), \"Comentario\"] = \"Repetidor\"\n",
    "mCnCords = updateDf(mCnCords, polMC1[polMC1[\"meterNo\"].isin(naMC)], [\"meterNo\"], [\"latitude\",\"longitude\",\"poleNo\"])\n",
    "mCnCords.loc[mCnCords[\"meterNo\"].isin(list(polMC1.meterNo.unique())), \"Comentario\"] = \"PoloMC-1\"\n",
    "naMask = (mCnCords[\"latitude\"].isna() | mCnCords[\"longitude\"].isna()) & (mCnCords[\"Comentario\"] == \"\")\n",
    "tempF = mCnCords[naMask].copy()\n",
    "print(\"MC sin coordenadas después de actualización :\", len(tempF.meterNo.unique()))"
   ]
  },
  {
   "cell_type": "code",
   "execution_count": 101,
   "metadata": {},
   "outputs": [
    {
     "data": {
      "text/plain": [
       "<AxesSubplot: title={'center': 'Falta de coordenadas por estatus-Final'}, xlabel='status', ylabel='meterNo'>"
      ]
     },
     "execution_count": 101,
     "metadata": {},
     "output_type": "execute_result"
    },
    {
     "data": {
      "image/png": "[encoded data removed]",
      "text/plain": [
       "<Figure size 720x480 with 1 Axes>"
      ]
     },
     "metadata": {},
     "output_type": "display_data"
    }
   ],
   "source": [
    "#Graficando por estatus\n",
    "#sns.set_style(\"whitegrid\")\n",
    "plt.title(\"Falta de coordenadas por estatus-Final\")\n",
    "plt.xticks(fontsize=7, color = sClr3)\n",
    "sns.barplot(tempF[[\"status\",\"meterNo\"]].groupby(\"status\").count().reset_index(),\\\n",
    "            x = \"status\", y = \"meterNo\", color = mClr)\n"
   ]
  },
  {
   "cell_type": "code",
   "execution_count": 102,
   "metadata": {},
   "outputs": [],
   "source": [
    "#Guardando mCnCords final\n",
    "mCnCords.to_csv(\"../Data/DataLake/temp/mCnCords_Final.csv\", index = False)"
   ]
  },
  {
   "cell_type": "markdown",
   "metadata": {},
   "source": [
    "## Integración con df principal"
   ]
  },
  {
   "cell_type": "code",
   "execution_count": null,
   "metadata": {},
   "outputs": [],
   "source": [
    "#Actualizando mContainer\n",
    "naMask = (mContainer[\"latitude\"].isna() | mContainer[\"longitude\"].isna())\n",
    "print(\"Cantidad de MC sin coordenadas :\", len(mContainer[naMask].meterNo.unique()))\n",
    "mContainer[\"Comentario\"] = \"\"\n",
    "mContainer = updateDf(mContainer, mCnCords, [\"meterNo\",\"fDate\"], [\"latitude\",\"longitude\",\"poleNo\",\"Comentario\"])\n",
    "naMask = (mContainer[\"latitude\"].isna() | mContainer[\"longitude\"].isna())\n",
    "#Agregando etiqueta de no desplegado en campo\n",
    "mContainer.loc[mContainer[\"meterNo\"].isin(mnService), \"Comentario\"] = \"No desplegado\"\n",
    "mContainer.loc[mContainer[\"meterNo\"].isin(intNC),\"Comentario\"] = \"MC con coords\"\n",
    "#Coordenadas\n",
    "partialC = mCnCords[mCnCords[\"Comentario\"]==\"Coordenadas parciales\"].meterNo.unique()\n",
    "mContainer.loc[mContainer[\"meterNo\"].isin(partialC), \"Comentario\"] = \"Coordenadas parciales\"\n",
    "tMask = (mContainer[\"latitude\"].isna() | mContainer[\"longitude\"].isna()) & \\\n",
    "            (mContainer[\"Comentario\"] == \"\")\n",
    "print(\"Cantidad de MC sin coordenadas después de actualización :\", len(mContainer[tMask].meterNo.unique()))\n",
    "mContainer.head(3)"
   ]
  },
  {
   "cell_type": "code",
   "execution_count": 104,
   "metadata": {},
   "outputs": [
    {
     "data": {
      "text/plain": [
       "array(['No desplegado', '', 'Coordenadas polo', 'Repetidor',\n",
       "       'MC con coords', 'Coordenadas parciales', 'Fechas futuras',\n",
       "       'PoloMC-1'], dtype=object)"
      ]
     },
     "execution_count": 104,
     "metadata": {},
     "output_type": "execute_result"
    }
   ],
   "source": [
    "mContainer.Comentario.unique()"
   ]
  },
  {
   "cell_type": "code",
   "execution_count": 105,
   "metadata": {},
   "outputs": [],
   "source": [
    "#Cambiando formato\n",
    "mContainer[\"latitude\"] = pd.to_numeric(mContainer[\"latitude\"], errors = \"coerce\")\n",
    "mContainer[\"longitude\"] = pd.to_numeric(mContainer[\"longitude\"], errors = \"coerce\")\n",
    "mContainer[\"poleNo\"] = mContainer[\"poleNo\"].astype(str)\n",
    "mContainer.to_parquet(\"../Data/DataLake/cleaningStage/mContainer-c1.parquet\")"
   ]
  },
  {
   "cell_type": "code",
   "execution_count": 106,
   "metadata": {},
   "outputs": [],
   "source": [
    "#Agregando información de montaje a mContainer\n",
    "montRef = montRef.sort_values(by = \"fDate_mr\", ascending = True)\n",
    "mContainer = pd.merge_asof(mContainer,montRef.drop(\"fName\", axis = 1), left_on = \"fDate\",\\\n",
    "                          right_on = \"fDate_mr\", by = \"meterNo\", suffixes = (\"\",\"_mr\"), direction = \"forward\")#, by = \"meterNo\", direction = \"nearest\""
   ]
  },
  {
   "cell_type": "code",
   "execution_count": 107,
   "metadata": {},
   "outputs": [
    {
     "data": {
      "text/plain": [
       "array(['Inventory'], dtype=object)"
      ]
     },
     "execution_count": 107,
     "metadata": {},
     "output_type": "execute_result"
    }
   ],
   "source": [
    "#Asignacion de columan de montaje\n",
    "tmContainer = mContainer.copy()\n",
    "tmContainer[\"Desplegado\"] = \"\"\n",
    "#Analizando casos particulares y cargando a nuevo df\n",
    "trmContainer = pd.DataFrame(columns = tmContainer.columns)\n",
    "#MC sin despliegue\n",
    "tmContainer.loc[tmContainer[\"Comentario\"] == \"No desplegado\", \"Desplegado\"] = \"No\"\n",
    "trmContainer = trmContainer.append(tmContainer[tmContainer[\"Comentario\"].isin([\"No desplegado\"])])\n",
    "tmContainer = tmContainer[~tmContainer[\"Comentario\"].isin([\"No desplegado\"])]\n",
    "trmContainer.status.unique()"
   ]
  },
  {
   "cell_type": "code",
   "execution_count": 108,
   "metadata": {},
   "outputs": [],
   "source": [
    "#Determinando montaje de acuerdo a fecha\n",
    "tmContainer[\"mntDate\"].fillna(\"NaD\", inplace = True)\n",
    "tmContainer[\"dmntDate\"].fillna(\"NaD\", inplace = True)\n",
    "groupMont = tmContainer[[\"meterNo\",\"mntDate\",\"dmntDate\",\"mod\",\"fDate\"]].\\\n",
    "    groupby([\"meterNo\",\"mntDate\",\"dmntDate\",\"mod\"]).count()\n",
    "groupMont = groupMont.reset_index()\n",
    "groupMont[\"Changes\"] = groupMont.groupby(\"meterNo\")[\"fDate\"].transform(\"count\").\\\n",
    "    rename({\"fDate\":\"rCount\"})\n",
    "groupMont.head(3)\n",
    "groupMont.to_csv(\"../Data/DataLake/temp/groupMont.csv\", index = False)"
   ]
  },
  {
   "cell_type": "code",
   "execution_count": 109,
   "metadata": {},
   "outputs": [],
   "source": [
    "#Determinando asignación de montaje\n",
    "groupMont['mntDate'] = pd.to_datetime(groupMont['mntDate'], errors='coerce')\n",
    "groupMont['dmntDate'] = pd.to_datetime(groupMont['dmntDate'], errors='coerce')\n",
    "\n",
    "#Diccionario de estados\n",
    "state_dict = {}\n",
    "for index, row in groupMont.iterrows():\n",
    "    meter = row['meterNo']\n",
    "    if meter not in state_dict:\n",
    "        state_dict[meter] = {'montado': [], 'desmontado': []}\n",
    "    \n",
    "    state_dict[meter]['montado'].append(row['mntDate'])\n",
    "    if row['dmntDate'] is not pd.NaT:\n",
    "        state_dict[meter]['desmontado'].append(row['dmntDate'])\n",
    "\n",
    "#Ordenando fechas\n",
    "for meter, dates in state_dict.items():\n",
    "    dates['montado'].sort()\n",
    "    dates['desmontado'].sort()"
   ]
  },
  {
   "cell_type": "code",
   "execution_count": 110,
   "metadata": {},
   "outputs": [],
   "source": [
    "#Aplicando función para determinar el estado\n",
    "tmContainer['fDate'] = pd.to_datetime(tmContainer['fDate'], errors='coerce')\n",
    "\n",
    "def assign_state(meter, f_date):\n",
    "    montado_dates = state_dict.get(meter, {}).get('montado', [])\n",
    "    desmontado_dates = state_dict.get(meter, {}).get('desmontado', [])\n",
    "    #Ultimo estado\n",
    "    last_mnt_date = max([date for date in montado_dates if date <= f_date], default=None)\n",
    "    last_dmnt_date = max([date for date in desmontado_dates if date <= f_date], default=None)\n",
    "    #Condicional\n",
    "    if last_mnt_date is None:\n",
    "        return 'No'\n",
    "    if last_dmnt_date is None or last_mnt_date > last_dmnt_date:\n",
    "        return 'Sí'\n",
    "    else:\n",
    "        return 'No'\n",
    "\n",
    "#Aplicando a tmContainer\n",
    "tmContainer['Desplegado'] = tmContainer.apply(lambda x: assign_state(x['meterNo'], x['fDate']), axis=1)"
   ]
  },
  {
   "cell_type": "code",
   "execution_count": 111,
   "metadata": {},
   "outputs": [],
   "source": [
    "tmContainer = tmContainer.append(trmContainer, ignore_index=True)"
   ]
  },
  {
   "cell_type": "code",
   "execution_count": 112,
   "metadata": {},
   "outputs": [
    {
     "data": {
      "text/plain": [
       "(1733505, 27)"
      ]
     },
     "execution_count": 112,
     "metadata": {},
     "output_type": "execute_result"
    }
   ],
   "source": [
    "#Confirmando shape\n",
    "tmContainer.shape"
   ]
  },
  {
   "cell_type": "code",
   "execution_count": 113,
   "metadata": {},
   "outputs": [
    {
     "data": {
      "text/plain": [
       "1733505"
      ]
     },
     "execution_count": 113,
     "metadata": {},
     "output_type": "execute_result"
    }
   ],
   "source": [
    "#Rellenando segun registros con información\n",
    "tMcs = tmContainer[tmContainer[\"Comentario\"].isin([\"MC con coords\",\"Coordenadas parciales\"])]\\\n",
    "    [\"meterNo\"].unique()\n",
    "mask = tmContainer[\"meterNo\"].isin(tMcs) & tmContainer[\"Desplegado\"].isin([\"Sí\"])\n",
    "tempCo = tmContainer[mask]\n",
    "tempCo.sort_values(by = [\"meterNo\",\"fDate\"], ascending = [True, True], inplace = True)\n",
    "tempCo.to_csv(\"../Data/DataLake/temp/tempCo.csv\", index = False)\n",
    "#Imputando valores\n",
    "#Forward\n",
    "tempCo[\"latitude\"] = tempCo.groupby(\"meterNo\")[\"latitude\"].fillna(method='ffill')\n",
    "tempCo[\"longitude\"] = tempCo.groupby(\"meterNo\")[\"longitude\"].fillna(method='ffill')\n",
    "tempCo[\"poleNo\"] = tempCo.groupby(\"meterNo\")[\"poleNo\"].fillna(method='ffill')\n",
    "#Backward\n",
    "tempCo[\"latitude\"] = tempCo.groupby(\"meterNo\")[\"latitude\"].fillna(method='bfill')\n",
    "tempCo[\"longitude\"] = tempCo.groupby(\"meterNo\")[\"longitude\"].fillna(method='bfill')\n",
    "tempCo[\"poleNo\"] = tempCo.groupby(\"meterNo\")[\"poleNo\"].fillna(method='bfill')\n",
    "tempCo.to_csv(\"../Data/DataLake/temp/tempCo2.csv\", index = False)\n",
    "\n",
    "#Actualizando tmContainer\n",
    "tmContainer = tmContainer[~mask]\n",
    "tmContainer = tmContainer.append(tempCo, ignore_index=True)\n",
    "len(tmContainer)"
   ]
  },
  {
   "cell_type": "code",
   "execution_count": 114,
   "metadata": {},
   "outputs": [
    {
     "data": {
      "text/plain": [
       "1733505"
      ]
     },
     "execution_count": 114,
     "metadata": {},
     "output_type": "execute_result"
    }
   ],
   "source": [
    "#Agregando información de rep y polMC1 a df principal\n",
    "naMask = (rep[\"latitude\"].isna() | rep[\"longitude\"].isna())\n",
    "rep = rep[~naMask]\n",
    "rep[\"Comentario\"] = \"Repetidor\"\n",
    "naMask = (polMC1[\"latitude\"].isna() | polMC1[\"longitude\"].isna())\n",
    "polMC1 = polMC1[~naMask]\n",
    "polMC1[\"Comentario\"] = \"PoloMC-1\"\n",
    "#Obteniendo MC en común\n",
    "tMcs = list(rep.meterNo.unique()) + list(polMC1.meterNo.unique())\n",
    "mask = tmContainer[\"meterNo\"].isin(tMcs) & tmContainer[\"Desplegado\"].isin([\"Sí\"])\n",
    "#Actualizando información de tmContainer\n",
    "tempCo2 = updateDf(tmContainer[mask], rep,[\"meterNo\"], [\"latitude\",\"longitude\",\"poleNo\",\"Comentario\"])\n",
    "tempCo2 = updateDf(tempCo2, polMC1, [\"meterNo\"], [\"latitude\",\"longitude\",\"poleNo\",\"Comentario\"])\n",
    "#Actualizando df principal\n",
    "tmContainer = tmContainer[~mask]\n",
    "tmContainer = tmContainer.append(tempCo2, ignore_index=True)\n",
    "len(tmContainer)"
   ]
  },
  {
   "cell_type": "code",
   "execution_count": 115,
   "metadata": {},
   "outputs": [],
   "source": [
    "#Cantidad final sin coordenadas\n",
    "naMask = (tmContainer[\"latitude\"].isna() | tmContainer[\"longitude\"].isna()) &\\\n",
    "    tmContainer[\"Desplegado\"].isin([\"Sí\"])\n",
    "len(tmContainer[naMask].meterNo.unique())\n",
    "#Agregando comentario\n",
    "tmContainer.loc[naMask, \"Comentario\"] = \"No desplegado\""
   ]
  },
  {
   "cell_type": "code",
   "execution_count": 116,
   "metadata": {},
   "outputs": [
    {
     "data": {
      "text/plain": [
       "<AxesSubplot: title={'center': 'Falta de coordenadas por estatus-Df final'}, xlabel='status', ylabel='meterNo'>"
      ]
     },
     "execution_count": 116,
     "metadata": {},
     "output_type": "execute_result"
    },
    {
     "data": {
      "image/png": "[encoded data removed]",
      "text/plain": [
       "<Figure size 720x480 with 1 Axes>"
      ]
     },
     "metadata": {},
     "output_type": "display_data"
    }
   ],
   "source": [
    "#Graficando por estatus\n",
    "#sns.set_style(\"whitegrid\")\n",
    "plt.title(\"Falta de coordenadas por estatus-Df final\")\n",
    "plt.xticks(fontsize=7, color = sClr3)\n",
    "sns.barplot(tmContainer[naMask][[\"status\",\"meterNo\"]].groupby(\"status\").count().reset_index(),\\\n",
    "            x = \"status\", y = \"meterNo\", color = mClr)\n"
   ]
  },
  {
   "cell_type": "code",
   "execution_count": 117,
   "metadata": {},
   "outputs": [],
   "source": [
    "#Final mnoCords\n",
    "mnoCords = tmContainer[naMask].copy()\n",
    "mnoCords.to_csv(\"../Data/DataLake/temp/mnoCords.csv\", index = False)"
   ]
  },
  {
   "cell_type": "markdown",
   "metadata": {},
   "source": [
    "## Determinando outliers con ML"
   ]
  },
  {
   "cell_type": "markdown",
   "metadata": {},
   "source": [
    "Llegados a este punto solo queda la posibilidad de coordenadas erróneas, debido a la cantidad de datos se abordará el problema utilizando Isolation Forest, un algoritmo de aprendizaje de máquina que crea un busque de árboles de decisión que van segmentando los datos según ciertas condicionantes, a diferencia de otros algoritmos como Random Forest, el objetivo de este es aislar a los registros menos comunes del conjutno de datos."
   ]
  },
  {
   "cell_type": "code",
   "execution_count": 118,
   "metadata": {},
   "outputs": [],
   "source": [
    "#tmContainerBK = tmContainer.copy()\n",
    "#tmContainer = tmContainerBK.copy()"
   ]
  },
  {
   "cell_type": "code",
   "execution_count": 119,
   "metadata": {},
   "outputs": [],
   "source": [
    "tmContainer.astype({\"CollectorNm\":str})\n",
    "cContainer.astype({\"CollectorNm\":str})\n",
    "cContainer[\"fDate\"] = pd.to_datetime(cContainer[\"fDate\"])"
   ]
  },
  {
   "cell_type": "code",
   "execution_count": 120,
   "metadata": {},
   "outputs": [],
   "source": [
    "#Merge de cContainer\n",
    "tmContainer = tmContainer.merge(cContainer[[\"CollectorNm\", \"fDate\", \"latitude\", \"longitude\"]],\\\n",
    "                on = [\"CollectorNm\",\"fDate\"], suffixes = ('','_gw'), how = \"left\")"
   ]
  },
  {
   "cell_type": "code",
   "execution_count": 121,
   "metadata": {},
   "outputs": [],
   "source": [
    "#Codificando CollectorNm por frecuencia según ronda\n",
    "tmContainer[\"CollectorNm\"] = tmContainer[\"CollectorNm\"].astype(str)\n",
    "frequencies = tmContainer[\"CollectorNm\"].value_counts(normalize=True)\n",
    "tmContainer[\"CollectorFreq\"] = tmContainer[\"CollectorNm\"].map(frequencies)"
   ]
  },
  {
   "cell_type": "code",
   "execution_count": null,
   "metadata": {},
   "outputs": [],
   "source": [
    "#Mascara para montados con coordenadas\n",
    "mask = tmContainer[\"Desplegado\"].isin([\"Sí\"]) & (~tmContainer[\"latitude\"].isna() &\\\n",
    "                ~tmContainer[\"longitude\"].isna())\n",
    "tdf = tmContainer.loc[mask,[\"meterNo\",\"CollectorNm\",\"round\",\"CollectorFreq\",\"latitude\",\\\n",
    "                \"longitude\", \"layer\",\"fDate\", \"latitude_gw\",\"longitude_gw\"]]\n",
    "\n",
    "#Calculando distancia entre coordenadas\n",
    "tdf[\"Gw_dist\"] = tmContainer.apply(lambda x: cord2disV2(x[\"latitude\"],x[\"longitude\"],\\\n",
    "                x[\"latitude_gw\"],x[\"longitude_gw\"]), axis = 1)\n",
    "\n",
    "tdf.dropna(inplace = True)\n",
    "tdf.head(3)"
   ]
  },
  {
   "cell_type": "code",
   "execution_count": null,
   "metadata": {},
   "outputs": [],
   "source": [
    "#Aplicando Isolation Forest\n",
    "clf = IsolationForest(n_estimators=100, max_samples='auto',contamination=float(0.02),\\\n",
    "                    random_state=1010)\n",
    "X = tdf[[\"CollectorFreq\",\"latitude\",\"longitude\", \"Gw_dist\"]].copy()\n",
    "#Entrenando modelo\n",
    "clf.fit(X)\n",
    "#Prediciendo\n",
    "\n",
    "tdf[\"scores\"] = clf.decision_function(X)\n",
    "tdf[\"anomaly\"] = clf.predict(X)\n",
    "mapper = {1: \"Normal\", -1: \"Anomaly\"}\n",
    "tdf[\"anomaly\"] = tdf[\"anomaly\"].map(mapper)\n",
    "tdf.head(3)\n"
   ]
  },
  {
   "cell_type": "code",
   "execution_count": 124,
   "metadata": {},
   "outputs": [
    {
     "data": {
      "text/plain": [
       "['../Models/IForest_4_last.joblib']"
      ]
     },
     "execution_count": 124,
     "metadata": {},
     "output_type": "execute_result"
    }
   ],
   "source": [
    "#Guardando modelo\n",
    "from joblib import dump, load\n",
    "dump(clf, '../Models/IForest_4_last.joblib')\n"
   ]
  },
  {
   "cell_type": "code",
   "execution_count": null,
   "metadata": {},
   "outputs": [],
   "source": [
    "tdf[tdf[\"anomaly\"] == \"Anomaly\"].to_csv(\"../Data/DataLake/temp/anomalies4.csv\", index = False)\n",
    "tdf[tdf[\"anomaly\"] == \"Anomaly\"].head(3)"
   ]
  },
  {
   "cell_type": "code",
   "execution_count": 126,
   "metadata": {},
   "outputs": [],
   "source": [
    "#Visualización de todos los equipos\n",
    "#Widgets\n",
    "fDate5 = widgets.SelectionSlider(options = list(tdf[\"fDate\"].unique()), description = \"Fecha\")\n",
    "mgatewayS = widgets.Dropdown(options = sorted(list(cContainer[\"CollectorNm\"].unique())),description = \"Collector\")\n",
    "clrDic4 = {\"Anomaly\": sClr1, \"Normal\": sClr3}\n",
    "#clrDic3 = {True: sClr1, False: sClr3}\n",
    "wgDic6 = {\"fDate\":fDate5, \"CollectorNm\" : mgatewayS}#\"fDate\":fDate4, \n",
    "dicTemp5 = {\n",
    "    \"vecino\" : [tdf, clrDic4, \"anomaly\",[\"meterNo\"],[\"latitude\",\"longitude\"]],\n",
    "    \"CollectorNm\" : [tdf, sClr4, None,[\"CollectorNm\"],[\"latitude_gw\",\"longitude_gw\"]]\n",
    "}"
   ]
  },
  {
   "cell_type": "code",
   "execution_count": 127,
   "metadata": {},
   "outputs": [
    {
     "data": {
      "application/vnd.jupyter.widget-view+json": {
       "model_id": "4ce5cf30bd4b42f781d4be44e43aad5f",
       "version_major": 2,
       "version_minor": 0
      },
      "text/plain": [
       "Output()"
      ]
     },
     "metadata": {},
     "output_type": "display_data"
    },
    {
     "data": {
      "application/vnd.plotly.v1+json": {
       "config": {
        "plotlyServerURL": "https://plot.ly"
       },
       "data": [
        {
         "lat": [
          13.918323909858893,
          13.96176733,
          13.93444233,
          13.96178333,
          13.9377675,
          13.91683966,
          13.93060833,
          13.93098455,
          13.94073598,
          13.9322762,
          13.932422,
          13.93138065,
          13.9992896,
          14.088,
          13.9277767,
          14.37551208,
          14.375337,
          13.93380092,
          13.93584833,
          13.93224717,
          13.991002,
          13.93517666,
          13.93516312,
          13.93305501,
          13.946265,
          13.932737,
          13.930205,
          13.938155,
          13.93029,
          13.93133128,
          13.93135073,
          14,
          14.11202666,
          14.10197316,
          14.10773666,
          14.1239464,
          14.08248005,
          14.073024,
          14.10931666,
          14.073346,
          14.09063166,
          14.10314133,
          13.92578661,
          13.94484214,
          13.93138215,
          13.933915,
          13.93025216,
          13.93267786,
          13.9308,
          13.93411333,
          14.00070971,
          14.00066862,
          13.935109,
          13.91758918,
          13.916835,
          14.07613431,
          13.92955067,
          13.92929178,
          14.09897,
          13.9351328,
          13.93520722,
          14.6818469,
          14.00112,
          14.17877,
          14.18181,
          14.11396,
          13.92916,
          13.94635292
         ],
         "lon": [
          -91.01172064138764,
          -90.93164833,
          -90.74959283,
          -90.93165333,
          -90.74386558,
          -91.06685167,
          -90.76353,
          -90.76361924,
          -90.73349289,
          -90.76228666,
          -90.7622891,
          -90.76611673,
          -91.15834219,
          -91.05148167,
          -91.1904633,
          -91.14151466,
          -91.141643,
          -90.76306944,
          -90.73793667,
          -90.76234593,
          -90.758725,
          -90.75007166,
          -90.74658405,
          -90.76184686,
          -90.77935333,
          -90.762803,
          -90.745674,
          -90.74210999,
          -90.74393,
          -90.74374744,
          -90.76366734,
          -90,
          -91.06117,
          -91.07110516,
          -91.06308499,
          -91.06614546,
          -91.08471312,
          -91.067317,
          -91.05873833,
          -91.06656,
          -91.059605,
          -91.05798941,
          -91.07250165,
          -91.21191708,
          -91.21244523,
          -90.748603,
          -90.76342594,
          -90.76465903,
          -90.76693166,
          -90.75792167,
          -91.16980148,
          -91.1698566,
          -91.210642,
          -91.05578571,
          -91.02976,
          -91.01071976,
          -90.76330112,
          -90.74699465,
          -90.79266,
          -90.750638,
          -91.21474018,
          -90.6142034,
          -91.17379,
          -91.13002,
          -91.13499,
          -91.06116,
          -90.74705,
          -90.77928394
         ],
         "marker": {
          "color": "#F56522",
          "size": 9
         },
         "mode": "markers",
         "name": "Anomaly",
         "text": [
          [
           "F-91310"
          ],
          [
           "F-90458"
          ],
          [
           "F-90563"
          ],
          [
           "F-90611"
          ],
          [
           "F-91751"
          ],
          [
           "F-92941"
          ],
          [
           "F-93127"
          ],
          [
           "F-93145"
          ],
          [
           "F-91603"
          ],
          [
           "F-93505"
          ],
          [
           "F-93511"
          ],
          [
           "F-93504"
          ],
          [
           "F-88709"
          ],
          [
           "F-79863"
          ],
          [
           "F-90987"
          ],
          [
           "F-95203"
          ],
          [
           "F-95246"
          ],
          [
           "F-76575"
          ],
          [
           "F-77488"
          ],
          [
           "F-79415"
          ],
          [
           "F-79617"
          ],
          [
           "F-79847"
          ],
          [
           "F-80268"
          ],
          [
           "F-81119"
          ],
          [
           "F-81185"
          ],
          [
           "F-86339"
          ],
          [
           "F-86892"
          ],
          [
           "F-89071"
          ],
          [
           "F-86866"
          ],
          [
           "F-89552"
          ],
          [
           "F-95124"
          ],
          [
           "F-83433"
          ],
          [
           "F-77581"
          ],
          [
           "F-79639"
          ],
          [
           "F-79744"
          ],
          [
           "F-81005"
          ],
          [
           "F-93590"
          ],
          [
           "F-95225"
          ],
          [
           "F-85897"
          ],
          [
           "F-86621"
          ],
          [
           "F-86961"
          ],
          [
           "F-74448"
          ],
          [
           "F-77923"
          ],
          [
           "F-79348"
          ],
          [
           "F-79860"
          ],
          [
           "F-86094"
          ],
          [
           "F-96075"
          ],
          [
           "F-96112"
          ],
          [
           "F-96127"
          ],
          [
           "F-70383"
          ],
          [
           "F-96406"
          ],
          [
           "F-96408"
          ],
          [
           "F-91613"
          ],
          [
           "F-85857"
          ],
          [
           "P-96436"
          ],
          [
           "F-96182"
          ],
          [
           "F-81322"
          ],
          [
           "F-87243"
          ],
          [
           "F-76826"
          ],
          [
           "F-87341"
          ],
          [
           "F-87823"
          ],
          [
           "F-90958"
          ],
          [
           "F-91754"
          ],
          [
           "F-74370"
          ],
          [
           "F-77531"
          ],
          [
           "F-72621"
          ],
          [
           "F-79623"
          ],
          [
           "F-91298"
          ]
         ],
         "type": "scattermapbox"
        },
        {
         "lat": [
          14.33390895167056,
          14.334234908726778,
          14.336385,
          14.33100833,
          14.33628167,
          14.33878575,
          14.32750834,
          14.32789228,
          14.33707727,
          14.33561836,
          14.327957,
          14.32801166,
          14.35027666,
          14.33676333,
          14.35046166,
          14.33117833,
          14.4410695,
          14.30089189,
          14.32038766,
          14.4416035,
          14.29832166,
          14.29812167,
          14.44147,
          14.32946666,
          14.33272829,
          14.329361,
          14.329302,
          14.33249147,
          14.329019,
          14.33011255,
          14.33307546,
          14.33212209,
          14.3461538,
          14.333911,
          14.33564,
          14.33524785,
          14.33390076,
          14.33083333,
          14.32820753,
          14.32952669,
          14.33264075,
          14.33215606,
          14.32820169,
          14.3350619,
          14.334663,
          14.32882947,
          14.33416166,
          14.3334405,
          14.33072762,
          14.332125,
          14.333118,
          14.33311072,
          14.33061428,
          14.33165908,
          14.33214644,
          14.33034483,
          14.3323974,
          14.329019,
          14.35133689,
          14.330265,
          14.33380315,
          14.33078891,
          14.33570569,
          14.33048333,
          14.33414457,
          14.3336728,
          14.33206307,
          14.33054166,
          14.3295,
          14.33229193,
          14.30041,
          14.33061,
          14.337517,
          14.33767183
         ],
         "lon": [
          -91.01063776377269,
          -91.02525201351297,
          -91.02300999,
          -91.02414833,
          -91.02079167,
          -91.02822583,
          -91.02623668,
          -91.02595477,
          -91.02618903,
          -91.0279667,
          -91.026814,
          -91.02688,
          -90.99521833,
          -91.01197666,
          -90.99471333,
          -91.016425,
          -90.8076285,
          -91.04764899,
          -91.04162133,
          -90.8076872,
          -91.05182833,
          -91.05109667,
          -90.8070583,
          -91.01768455,
          -90.99925251,
          -90.991351,
          -91.020217,
          -91.02350364,
          -91.020917,
          -91.0236143,
          -91.02408643,
          -91.02442525,
          -91.00857331,
          -91.024238,
          -91.02370667,
          -91.02374073,
          -91.0244914,
          -91.02012,
          -91.02265963,
          -91.02888669,
          -91.02306737,
          -91.01910622,
          -91.025518,
          -91.0225029,
          -91.023643,
          -91.02066952,
          -91.02391666,
          -91.02436216,
          -91.02505764,
          -91.02489666,
          -91.024411,
          -91.02436547,
          -91.02519285,
          -91.02514688,
          -91.02473879,
          -91.01967425,
          -91.0245403,
          -91.020918,
          -91.00553236,
          -91.02522333,
          -91.01111623,
          -91.02876358,
          -91.02371256,
          -91.02505833,
          -91.01041537,
          -91.0242464,
          -91.02424333,
          -91.02506833,
          -91.01848,
          -91.02688048,
          -91.05143,
          -91.02516,
          -91.02957299,
          -91.02558675
         ],
         "marker": {
          "color": "#304059",
          "size": 9
         },
         "mode": "markers",
         "name": "Normal",
         "text": [
          [
           "F-91742"
          ],
          [
           "P-96180"
          ],
          [
           "F-92290"
          ],
          [
           "F-93273"
          ],
          [
           "F-77492"
          ],
          [
           "F-72571"
          ],
          [
           "F-78229"
          ],
          [
           "F-79872"
          ],
          [
           "F-80996"
          ],
          [
           "F-86726"
          ],
          [
           "F-87658"
          ],
          [
           "F-89249"
          ],
          [
           "F-77540"
          ],
          [
           "F-79926"
          ],
          [
           "F-81120"
          ],
          [
           "F-87626"
          ],
          [
           "F-95284"
          ],
          [
           "F-77495"
          ],
          [
           "F-77522"
          ],
          [
           "F-78367"
          ],
          [
           "F-80224"
          ],
          [
           "F-93580"
          ],
          [
           "F-93599"
          ],
          [
           "F-86940"
          ],
          [
           "F-89236"
          ],
          [
           "F-89709"
          ],
          [
           "F-87627"
          ],
          [
           "F-77493"
          ],
          [
           "F-81205"
          ],
          [
           "F-79805"
          ],
          [
           "F-79864"
          ],
          [
           "F-79873"
          ],
          [
           "F-79870"
          ],
          [
           "F-81149"
          ],
          [
           "F-81207"
          ],
          [
           "F-81313"
          ],
          [
           "F-81319"
          ],
          [
           "F-86085"
          ],
          [
           "F-86090"
          ],
          [
           "F-86144"
          ],
          [
           "F-87286"
          ],
          [
           "F-90972"
          ],
          [
           "F-94138"
          ],
          [
           "F-94143"
          ],
          [
           "F-89140"
          ],
          [
           "F-91390"
          ],
          [
           "F-91557"
          ],
          [
           "F-89237"
          ],
          [
           "F-81317"
          ],
          [
           "F-81478"
          ],
          [
           "F-81316"
          ],
          [
           "F-81320"
          ],
          [
           "F-81337"
          ],
          [
           "F-81336"
          ],
          [
           "F-81339"
          ],
          [
           "F-76474"
          ],
          [
           "F-84554"
          ],
          [
           "F-78276"
          ],
          [
           "F-96401"
          ],
          [
           "F-96403"
          ],
          [
           "F-70366"
          ],
          [
           "F-76425"
          ],
          [
           "F-95159"
          ],
          [
           "F-81323"
          ],
          [
           "F-70411"
          ],
          [
           "F-76427"
          ],
          [
           "F-79869"
          ],
          [
           "F-81338"
          ],
          [
           "F-90068"
          ],
          [
           "F-91636"
          ],
          [
           "F-77553"
          ],
          [
           "F-79210"
          ],
          [
           "F-92463"
          ],
          [
           "F-92502"
          ]
         ],
         "type": "scattermapbox"
        },
        {
         "lat": [
          14.32874667,
          14.32874667,
          14.32874667,
          14.32874667,
          14.32874667,
          14.32874667,
          14.32874667,
          14.32874667,
          14.32874667,
          14.32874667,
          14.32874667,
          14.32874667,
          14.32874667,
          14.32874667,
          14.32874667,
          14.32874667,
          14.32874667,
          14.32874667,
          14.32874667,
          14.32874667,
          14.32874667,
          14.32874667,
          14.32874667,
          14.32874667,
          14.32874667,
          14.32874667,
          14.32874667,
          14.32874667,
          14.32874667,
          14.32874667,
          14.32874667,
          14.32874667,
          14.32874667,
          14.32874667,
          14.32874667,
          14.32874667,
          14.32874667,
          14.32874667,
          14.32874667,
          14.32874667,
          14.32874667,
          14.32874667,
          14.32874667,
          14.32874667,
          14.32874667,
          14.32874667,
          14.32874667,
          14.32874667,
          14.32874667,
          14.32874667,
          14.32874667,
          14.32874667,
          14.32874667,
          14.32874667,
          14.32874667,
          14.32874667,
          14.32874667,
          14.32874667,
          14.32874667,
          14.32874667,
          14.32874667,
          14.32874667,
          14.32874667,
          14.32874667,
          14.32874667,
          14.32874667,
          14.32874667,
          14.32874667,
          14.32874667,
          14.32874667,
          14.32874667,
          14.32874667,
          14.32874667,
          14.32874667,
          14.32874667,
          14.32874667,
          14.32874667,
          14.32874667,
          14.32874667,
          14.32874667,
          14.32874667,
          14.32874667,
          14.32874667,
          14.32874667,
          14.32874667,
          14.32874667,
          14.32874667,
          14.32874667,
          14.32874667,
          14.32874667,
          14.32874667,
          14.32874667,
          14.32874667,
          14.32874667,
          14.32874667,
          14.32874667,
          14.32874667,
          14.32874667,
          14.32874667,
          14.32874667,
          14.32874667,
          14.32874667,
          14.32874667,
          14.32874667,
          14.32874667,
          14.32874667,
          14.32874667,
          14.32874667,
          14.32874667,
          14.32874667,
          14.32874667,
          14.32874667,
          14.32874667,
          14.32874667,
          14.32874667,
          14.32874667,
          14.32874667,
          14.32874667,
          14.32874667,
          14.32874667,
          14.32874667,
          14.32874667,
          14.32874667,
          14.32874667,
          14.32874667,
          14.32874667,
          14.32874667,
          14.32874667,
          14.32874667,
          14.32874667,
          14.32874667,
          14.32874667,
          14.32874667,
          14.32874667,
          14.32874667,
          14.32874667,
          14.32874667,
          14.32874667,
          14.32874667,
          14.32874667,
          14.32874667,
          14.32874667
         ],
         "lon": [
          -90.99091528,
          -90.99091528,
          -90.99091528,
          -90.99091528,
          -90.99091528,
          -90.99091528,
          -90.99091528,
          -90.99091528,
          -90.99091528,
          -90.99091528,
          -90.99091528,
          -90.99091528,
          -90.99091528,
          -90.99091528,
          -90.99091528,
          -90.99091528,
          -90.99091528,
          -90.99091528,
          -90.99091528,
          -90.99091528,
          -90.99091528,
          -90.99091528,
          -90.99091528,
          -90.99091528,
          -90.99091528,
          -90.99091528,
          -90.99091528,
          -90.99091528,
          -90.99091528,
          -90.99091528,
          -90.99091528,
          -90.99091528,
          -90.99091528,
          -90.99091528,
          -90.99091528,
          -90.99091528,
          -90.99091528,
          -90.99091528,
          -90.99091528,
          -90.99091528,
          -90.99091528,
          -90.99091528,
          -90.99091528,
          -90.99091528,
          -90.99091528,
          -90.99091528,
          -90.99091528,
          -90.99091528,
          -90.99091528,
          -90.99091528,
          -90.99091528,
          -90.99091528,
          -90.99091528,
          -90.99091528,
          -90.99091528,
          -90.99091528,
          -90.99091528,
          -90.99091528,
          -90.99091528,
          -90.99091528,
          -90.99091528,
          -90.99091528,
          -90.99091528,
          -90.99091528,
          -90.99091528,
          -90.99091528,
          -90.99091528,
          -90.99091528,
          -90.99091528,
          -90.99091528,
          -90.99091528,
          -90.99091528,
          -90.99091528,
          -90.99091528,
          -90.99091528,
          -90.99091528,
          -90.99091528,
          -90.99091528,
          -90.99091528,
          -90.99091528,
          -90.99091528,
          -90.99091528,
          -90.99091528,
          -90.99091528,
          -90.99091528,
          -90.99091528,
          -90.99091528,
          -90.99091528,
          -90.99091528,
          -90.99091528,
          -90.99091528,
          -90.99091528,
          -90.99091528,
          -90.99091528,
          -90.99091528,
          -90.99091528,
          -90.99091528,
          -90.99091528,
          -90.99091528,
          -90.99091528,
          -90.99091528,
          -90.99091528,
          -90.99091528,
          -90.99091528,
          -90.99091528,
          -90.99091528,
          -90.99091528,
          -90.99091528,
          -90.99091528,
          -90.99091528,
          -90.99091528,
          -90.99091528,
          -90.99091528,
          -90.99091528,
          -90.99091528,
          -90.99091528,
          -90.99091528,
          -90.99091528,
          -90.99091528,
          -90.99091528,
          -90.99091528,
          -90.99091528,
          -90.99091528,
          -90.99091528,
          -90.99091528,
          -90.99091528,
          -90.99091528,
          -90.99091528,
          -90.99091528,
          -90.99091528,
          -90.99091528,
          -90.99091528,
          -90.99091528,
          -90.99091528,
          -90.99091528,
          -90.99091528,
          -90.99091528,
          -90.99091528,
          -90.99091528,
          -90.99091528,
          -90.99091528,
          -90.99091528
         ],
         "marker": {
          "color": "#9DD3A4",
          "size": 9
         },
         "mode": "markers",
         "name": "CollectorNm",
         "text": [
          [
           "Santa_Lucia_5002"
          ],
          [
           "Santa_Lucia_5002"
          ],
          [
           "Santa_Lucia_5002"
          ],
          [
           "Santa_Lucia_5002"
          ],
          [
           "Santa_Lucia_5002"
          ],
          [
           "Santa_Lucia_5002"
          ],
          [
           "Santa_Lucia_5002"
          ],
          [
           "Santa_Lucia_5002"
          ],
          [
           "Santa_Lucia_5002"
          ],
          [
           "Santa_Lucia_5002"
          ],
          [
           "Santa_Lucia_5002"
          ],
          [
           "Santa_Lucia_5002"
          ],
          [
           "Santa_Lucia_5002"
          ],
          [
           "Santa_Lucia_5002"
          ],
          [
           "Santa_Lucia_5002"
          ],
          [
           "Santa_Lucia_5002"
          ],
          [
           "Santa_Lucia_5002"
          ],
          [
           "Santa_Lucia_5002"
          ],
          [
           "Santa_Lucia_5002"
          ],
          [
           "Santa_Lucia_5002"
          ],
          [
           "Santa_Lucia_5002"
          ],
          [
           "Santa_Lucia_5002"
          ],
          [
           "Santa_Lucia_5002"
          ],
          [
           "Santa_Lucia_5002"
          ],
          [
           "Santa_Lucia_5002"
          ],
          [
           "Santa_Lucia_5002"
          ],
          [
           "Santa_Lucia_5002"
          ],
          [
           "Santa_Lucia_5002"
          ],
          [
           "Santa_Lucia_5002"
          ],
          [
           "Santa_Lucia_5002"
          ],
          [
           "Santa_Lucia_5002"
          ],
          [
           "Santa_Lucia_5002"
          ],
          [
           "Santa_Lucia_5002"
          ],
          [
           "Santa_Lucia_5002"
          ],
          [
           "Santa_Lucia_5002"
          ],
          [
           "Santa_Lucia_5002"
          ],
          [
           "Santa_Lucia_5002"
          ],
          [
           "Santa_Lucia_5002"
          ],
          [
           "Santa_Lucia_5002"
          ],
          [
           "Santa_Lucia_5002"
          ],
          [
           "Santa_Lucia_5002"
          ],
          [
           "Santa_Lucia_5002"
          ],
          [
           "Santa_Lucia_5002"
          ],
          [
           "Santa_Lucia_5002"
          ],
          [
           "Santa_Lucia_5002"
          ],
          [
           "Santa_Lucia_5002"
          ],
          [
           "Santa_Lucia_5002"
          ],
          [
           "Santa_Lucia_5002"
          ],
          [
           "Santa_Lucia_5002"
          ],
          [
           "Santa_Lucia_5002"
          ],
          [
           "Santa_Lucia_5002"
          ],
          [
           "Santa_Lucia_5002"
          ],
          [
           "Santa_Lucia_5002"
          ],
          [
           "Santa_Lucia_5002"
          ],
          [
           "Santa_Lucia_5002"
          ],
          [
           "Santa_Lucia_5002"
          ],
          [
           "Santa_Lucia_5002"
          ],
          [
           "Santa_Lucia_5002"
          ],
          [
           "Santa_Lucia_5002"
          ],
          [
           "Santa_Lucia_5002"
          ],
          [
           "Santa_Lucia_5002"
          ],
          [
           "Santa_Lucia_5002"
          ],
          [
           "Santa_Lucia_5002"
          ],
          [
           "Santa_Lucia_5002"
          ],
          [
           "Santa_Lucia_5002"
          ],
          [
           "Santa_Lucia_5002"
          ],
          [
           "Santa_Lucia_5002"
          ],
          [
           "Santa_Lucia_5002"
          ],
          [
           "Santa_Lucia_5002"
          ],
          [
           "Santa_Lucia_5002"
          ],
          [
           "Santa_Lucia_5002"
          ],
          [
           "Santa_Lucia_5002"
          ],
          [
           "Santa_Lucia_5002"
          ],
          [
           "Santa_Lucia_5002"
          ],
          [
           "Santa_Lucia_5002"
          ],
          [
           "Santa_Lucia_5002"
          ],
          [
           "Santa_Lucia_5002"
          ],
          [
           "Santa_Lucia_5002"
          ],
          [
           "Santa_Lucia_5002"
          ],
          [
           "Santa_Lucia_5002"
          ],
          [
           "Santa_Lucia_5002"
          ],
          [
           "Santa_Lucia_5002"
          ],
          [
           "Santa_Lucia_5002"
          ],
          [
           "Santa_Lucia_5002"
          ],
          [
           "Santa_Lucia_5002"
          ],
          [
           "Santa_Lucia_5002"
          ],
          [
           "Santa_Lucia_5002"
          ],
          [
           "Santa_Lucia_5002"
          ],
          [
           "Santa_Lucia_5002"
          ],
          [
           "Santa_Lucia_5002"
          ],
          [
           "Santa_Lucia_5002"
          ],
          [
           "Santa_Lucia_5002"
          ],
          [
           "Santa_Lucia_5002"
          ],
          [
           "Santa_Lucia_5002"
          ],
          [
           "Santa_Lucia_5002"
          ],
          [
           "Santa_Lucia_5002"
          ],
          [
           "Santa_Lucia_5002"
          ],
          [
           "Santa_Lucia_5002"
          ],
          [
           "Santa_Lucia_5002"
          ],
          [
           "Santa_Lucia_5002"
          ],
          [
           "Santa_Lucia_5002"
          ],
          [
           "Santa_Lucia_5002"
          ],
          [
           "Santa_Lucia_5002"
          ],
          [
           "Santa_Lucia_5002"
          ],
          [
           "Santa_Lucia_5002"
          ],
          [
           "Santa_Lucia_5002"
          ],
          [
           "Santa_Lucia_5002"
          ],
          [
           "Santa_Lucia_5002"
          ],
          [
           "Santa_Lucia_5002"
          ],
          [
           "Santa_Lucia_5002"
          ],
          [
           "Santa_Lucia_5002"
          ],
          [
           "Santa_Lucia_5002"
          ],
          [
           "Santa_Lucia_5002"
          ],
          [
           "Santa_Lucia_5002"
          ],
          [
           "Santa_Lucia_5002"
          ],
          [
           "Santa_Lucia_5002"
          ],
          [
           "Santa_Lucia_5002"
          ],
          [
           "Santa_Lucia_5002"
          ],
          [
           "Santa_Lucia_5002"
          ],
          [
           "Santa_Lucia_5002"
          ],
          [
           "Santa_Lucia_5002"
          ],
          [
           "Santa_Lucia_5002"
          ],
          [
           "Santa_Lucia_5002"
          ],
          [
           "Santa_Lucia_5002"
          ],
          [
           "Santa_Lucia_5002"
          ],
          [
           "Santa_Lucia_5002"
          ],
          [
           "Santa_Lucia_5002"
          ],
          [
           "Santa_Lucia_5002"
          ],
          [
           "Santa_Lucia_5002"
          ],
          [
           "Santa_Lucia_5002"
          ],
          [
           "Santa_Lucia_5002"
          ],
          [
           "Santa_Lucia_5002"
          ],
          [
           "Santa_Lucia_5002"
          ],
          [
           "Santa_Lucia_5002"
          ],
          [
           "Santa_Lucia_5002"
          ],
          [
           "Santa_Lucia_5002"
          ],
          [
           "Santa_Lucia_5002"
          ],
          [
           "Santa_Lucia_5002"
          ],
          [
           "Santa_Lucia_5002"
          ],
          [
           "Santa_Lucia_5002"
          ],
          [
           "Santa_Lucia_5002"
          ],
          [
           "Santa_Lucia_5002"
          ]
         ],
         "type": "scattermapbox"
        }
       ],
       "layout": {
        "height": 400,
        "mapbox": {
         "accesstoken": "pk.eyJ1IjoidmJvcnJheW8iLCJhIjoiY2xob2dvdTZlMXZuODNmbHJyYjVvMzIzeSJ9.aNrb8uXomKz2Qrk_GsABgA",
         "center": {
          "lat": 14.328746670000005,
          "lon": -90.99091528
         },
         "style": "mapbox://styles/mapbox/streets-v11",
         "zoom": 7.5
        },
        "margin": {
         "b": 10,
         "l": 10,
         "r": 50,
         "t": 30
        },
        "template": {
         "data": {
          "bar": [
           {
            "error_x": {
             "color": "#2a3f5f"
            },
            "error_y": {
             "color": "#2a3f5f"
            },
            "marker": {
             "line": {
              "color": "#E5ECF6",
              "width": 0.5
             },
             "pattern": {
              "fillmode": "overlay",
              "size": 10,
              "solidity": 0.2
             }
            },
            "type": "bar"
           }
          ],
          "barpolar": [
           {
            "marker": {
             "line": {
              "color": "#E5ECF6",
              "width": 0.5
             },
             "pattern": {
              "fillmode": "overlay",
              "size": 10,
              "solidity": 0.2
             }
            },
            "type": "barpolar"
           }
          ],
          "carpet": [
           {
            "aaxis": {
             "endlinecolor": "#2a3f5f",
             "gridcolor": "white",
             "linecolor": "white",
             "minorgridcolor": "white",
             "startlinecolor": "#2a3f5f"
            },
            "baxis": {
             "endlinecolor": "#2a3f5f",
             "gridcolor": "white",
             "linecolor": "white",
             "minorgridcolor": "white",
             "startlinecolor": "#2a3f5f"
            },
            "type": "carpet"
           }
          ],
          "choropleth": [
           {
            "colorbar": {
             "outlinewidth": 0,
             "ticks": ""
            },
            "type": "choropleth"
           }
          ],
          "contour": [
           {
            "colorbar": {
             "outlinewidth": 0,
             "ticks": ""
            },
            "colorscale": [
             [
              0,
              "#0d0887"
             ],
             [
              0.1111111111111111,
              "#46039f"
             ],
             [
              0.2222222222222222,
              "#7201a8"
             ],
             [
              0.3333333333333333,
              "#9c179e"
             ],
             [
              0.4444444444444444,
              "#bd3786"
             ],
             [
              0.5555555555555556,
              "#d8576b"
             ],
             [
              0.6666666666666666,
              "#ed7953"
             ],
             [
              0.7777777777777778,
              "#fb9f3a"
             ],
             [
              0.8888888888888888,
              "#fdca26"
             ],
             [
              1,
              "#f0f921"
             ]
            ],
            "type": "contour"
           }
          ],
          "contourcarpet": [
           {
            "colorbar": {
             "outlinewidth": 0,
             "ticks": ""
            },
            "type": "contourcarpet"
           }
          ],
          "heatmap": [
           {
            "colorbar": {
             "outlinewidth": 0,
             "ticks": ""
            },
            "colorscale": [
             [
              0,
              "#0d0887"
             ],
             [
              0.1111111111111111,
              "#46039f"
             ],
             [
              0.2222222222222222,
              "#7201a8"
             ],
             [
              0.3333333333333333,
              "#9c179e"
             ],
             [
              0.4444444444444444,
              "#bd3786"
             ],
             [
              0.5555555555555556,
              "#d8576b"
             ],
             [
              0.6666666666666666,
              "#ed7953"
             ],
             [
              0.7777777777777778,
              "#fb9f3a"
             ],
             [
              0.8888888888888888,
              "#fdca26"
             ],
             [
              1,
              "#f0f921"
             ]
            ],
            "type": "heatmap"
           }
          ],
          "heatmapgl": [
           {
            "colorbar": {
             "outlinewidth": 0,
             "ticks": ""
            },
            "colorscale": [
             [
              0,
              "#0d0887"
             ],
             [
              0.1111111111111111,
              "#46039f"
             ],
             [
              0.2222222222222222,
              "#7201a8"
             ],
             [
              0.3333333333333333,
              "#9c179e"
             ],
             [
              0.4444444444444444,
              "#bd3786"
             ],
             [
              0.5555555555555556,
              "#d8576b"
             ],
             [
              0.6666666666666666,
              "#ed7953"
             ],
             [
              0.7777777777777778,
              "#fb9f3a"
             ],
             [
              0.8888888888888888,
              "#fdca26"
             ],
             [
              1,
              "#f0f921"
             ]
            ],
            "type": "heatmapgl"
           }
          ],
          "histogram": [
           {
            "marker": {
             "pattern": {
              "fillmode": "overlay",
              "size": 10,
              "solidity": 0.2
             }
            },
            "type": "histogram"
           }
          ],
          "histogram2d": [
           {
            "colorbar": {
             "outlinewidth": 0,
             "ticks": ""
            },
            "colorscale": [
             [
              0,
              "#0d0887"
             ],
             [
              0.1111111111111111,
              "#46039f"
             ],
             [
              0.2222222222222222,
              "#7201a8"
             ],
             [
              0.3333333333333333,
              "#9c179e"
             ],
             [
              0.4444444444444444,
              "#bd3786"
             ],
             [
              0.5555555555555556,
              "#d8576b"
             ],
             [
              0.6666666666666666,
              "#ed7953"
             ],
             [
              0.7777777777777778,
              "#fb9f3a"
             ],
             [
              0.8888888888888888,
              "#fdca26"
             ],
             [
              1,
              "#f0f921"
             ]
            ],
            "type": "histogram2d"
           }
          ],
          "histogram2dcontour": [
           {
            "colorbar": {
             "outlinewidth": 0,
             "ticks": ""
            },
            "colorscale": [
             [
              0,
              "#0d0887"
             ],
             [
              0.1111111111111111,
              "#46039f"
             ],
             [
              0.2222222222222222,
              "#7201a8"
             ],
             [
              0.3333333333333333,
              "#9c179e"
             ],
             [
              0.4444444444444444,
              "#bd3786"
             ],
             [
              0.5555555555555556,
              "#d8576b"
             ],
             [
              0.6666666666666666,
              "#ed7953"
             ],
             [
              0.7777777777777778,
              "#fb9f3a"
             ],
             [
              0.8888888888888888,
              "#fdca26"
             ],
             [
              1,
              "#f0f921"
             ]
            ],
            "type": "histogram2dcontour"
           }
          ],
          "mesh3d": [
           {
            "colorbar": {
             "outlinewidth": 0,
             "ticks": ""
            },
            "type": "mesh3d"
           }
          ],
          "parcoords": [
           {
            "line": {
             "colorbar": {
              "outlinewidth": 0,
              "ticks": ""
             }
            },
            "type": "parcoords"
           }
          ],
          "pie": [
           {
            "automargin": true,
            "type": "pie"
           }
          ],
          "scatter": [
           {
            "fillpattern": {
             "fillmode": "overlay",
             "size": 10,
             "solidity": 0.2
            },
            "type": "scatter"
           }
          ],
          "scatter3d": [
           {
            "line": {
             "colorbar": {
              "outlinewidth": 0,
              "ticks": ""
             }
            },
            "marker": {
             "colorbar": {
              "outlinewidth": 0,
              "ticks": ""
             }
            },
            "type": "scatter3d"
           }
          ],
          "scattercarpet": [
           {
            "marker": {
             "colorbar": {
              "outlinewidth": 0,
              "ticks": ""
             }
            },
            "type": "scattercarpet"
           }
          ],
          "scattergeo": [
           {
            "marker": {
             "colorbar": {
              "outlinewidth": 0,
              "ticks": ""
             }
            },
            "type": "scattergeo"
           }
          ],
          "scattergl": [
           {
            "marker": {
             "colorbar": {
              "outlinewidth": 0,
              "ticks": ""
             }
            },
            "type": "scattergl"
           }
          ],
          "scattermapbox": [
           {
            "marker": {
             "colorbar": {
              "outlinewidth": 0,
              "ticks": ""
             }
            },
            "type": "scattermapbox"
           }
          ],
          "scatterpolar": [
           {
            "marker": {
             "colorbar": {
              "outlinewidth": 0,
              "ticks": ""
             }
            },
            "type": "scatterpolar"
           }
          ],
          "scatterpolargl": [
           {
            "marker": {
             "colorbar": {
              "outlinewidth": 0,
              "ticks": ""
             }
            },
            "type": "scatterpolargl"
           }
          ],
          "scatterternary": [
           {
            "marker": {
             "colorbar": {
              "outlinewidth": 0,
              "ticks": ""
             }
            },
            "type": "scatterternary"
           }
          ],
          "surface": [
           {
            "colorbar": {
             "outlinewidth": 0,
             "ticks": ""
            },
            "colorscale": [
             [
              0,
              "#0d0887"
             ],
             [
              0.1111111111111111,
              "#46039f"
             ],
             [
              0.2222222222222222,
              "#7201a8"
             ],
             [
              0.3333333333333333,
              "#9c179e"
             ],
             [
              0.4444444444444444,
              "#bd3786"
             ],
             [
              0.5555555555555556,
              "#d8576b"
             ],
             [
              0.6666666666666666,
              "#ed7953"
             ],
             [
              0.7777777777777778,
              "#fb9f3a"
             ],
             [
              0.8888888888888888,
              "#fdca26"
             ],
             [
              1,
              "#f0f921"
             ]
            ],
            "type": "surface"
           }
          ],
          "table": [
           {
            "cells": {
             "fill": {
              "color": "#EBF0F8"
             },
             "line": {
              "color": "white"
             }
            },
            "header": {
             "fill": {
              "color": "#C8D4E3"
             },
             "line": {
              "color": "white"
             }
            },
            "type": "table"
           }
          ]
         },
         "layout": {
          "annotationdefaults": {
           "arrowcolor": "#2a3f5f",
           "arrowhead": 0,
           "arrowwidth": 1
          },
          "autotypenumbers": "strict",
          "coloraxis": {
           "colorbar": {
            "outlinewidth": 0,
            "ticks": ""
           }
          },
          "colorscale": {
           "diverging": [
            [
             0,
             "#8e0152"
            ],
            [
             0.1,
             "#c51b7d"
            ],
            [
             0.2,
             "#de77ae"
            ],
            [
             0.3,
             "#f1b6da"
            ],
            [
             0.4,
             "#fde0ef"
            ],
            [
             0.5,
             "#f7f7f7"
            ],
            [
             0.6,
             "#e6f5d0"
            ],
            [
             0.7,
             "#b8e186"
            ],
            [
             0.8,
             "#7fbc41"
            ],
            [
             0.9,
             "#4d9221"
            ],
            [
             1,
             "#276419"
            ]
           ],
           "sequential": [
            [
             0,
             "#0d0887"
            ],
            [
             0.1111111111111111,
             "#46039f"
            ],
            [
             0.2222222222222222,
             "#7201a8"
            ],
            [
             0.3333333333333333,
             "#9c179e"
            ],
            [
             0.4444444444444444,
             "#bd3786"
            ],
            [
             0.5555555555555556,
             "#d8576b"
            ],
            [
             0.6666666666666666,
             "#ed7953"
            ],
            [
             0.7777777777777778,
             "#fb9f3a"
            ],
            [
             0.8888888888888888,
             "#fdca26"
            ],
            [
             1,
             "#f0f921"
            ]
           ],
           "sequentialminus": [
            [
             0,
             "#0d0887"
            ],
            [
             0.1111111111111111,
             "#46039f"
            ],
            [
             0.2222222222222222,
             "#7201a8"
            ],
            [
             0.3333333333333333,
             "#9c179e"
            ],
            [
             0.4444444444444444,
             "#bd3786"
            ],
            [
             0.5555555555555556,
             "#d8576b"
            ],
            [
             0.6666666666666666,
             "#ed7953"
            ],
            [
             0.7777777777777778,
             "#fb9f3a"
            ],
            [
             0.8888888888888888,
             "#fdca26"
            ],
            [
             1,
             "#f0f921"
            ]
           ]
          },
          "colorway": [
           "#636efa",
           "#EF553B",
           "#00cc96",
           "#ab63fa",
           "#FFA15A",
           "#19d3f3",
           "#FF6692",
           "#B6E880",
           "#FF97FF",
           "#FECB52"
          ],
          "font": {
           "color": "#2a3f5f"
          },
          "geo": {
           "bgcolor": "white",
           "lakecolor": "white",
           "landcolor": "#E5ECF6",
           "showlakes": true,
           "showland": true,
           "subunitcolor": "white"
          },
          "hoverlabel": {
           "align": "left"
          },
          "hovermode": "closest",
          "mapbox": {
           "style": "light"
          },
          "paper_bgcolor": "white",
          "plot_bgcolor": "#E5ECF6",
          "polar": {
           "angularaxis": {
            "gridcolor": "white",
            "linecolor": "white",
            "ticks": ""
           },
           "bgcolor": "#E5ECF6",
           "radialaxis": {
            "gridcolor": "white",
            "linecolor": "white",
            "ticks": ""
           }
          },
          "scene": {
           "xaxis": {
            "backgroundcolor": "#E5ECF6",
            "gridcolor": "white",
            "gridwidth": 2,
            "linecolor": "white",
            "showbackground": true,
            "ticks": "",
            "zerolinecolor": "white"
           },
           "yaxis": {
            "backgroundcolor": "#E5ECF6",
            "gridcolor": "white",
            "gridwidth": 2,
            "linecolor": "white",
            "showbackground": true,
            "ticks": "",
            "zerolinecolor": "white"
           },
           "zaxis": {
            "backgroundcolor": "#E5ECF6",
            "gridcolor": "white",
            "gridwidth": 2,
            "linecolor": "white",
            "showbackground": true,
            "ticks": "",
            "zerolinecolor": "white"
           }
          },
          "shapedefaults": {
           "line": {
            "color": "#2a3f5f"
           }
          },
          "ternary": {
           "aaxis": {
            "gridcolor": "white",
            "linecolor": "white",
            "ticks": ""
           },
           "baxis": {
            "gridcolor": "white",
            "linecolor": "white",
            "ticks": ""
           },
           "bgcolor": "#E5ECF6",
           "caxis": {
            "gridcolor": "white",
            "linecolor": "white",
            "ticks": ""
           }
          },
          "title": {
           "x": 0.05
          },
          "xaxis": {
           "automargin": true,
           "gridcolor": "white",
           "linecolor": "white",
           "ticks": "",
           "title": {
            "standoff": 15
           },
           "zerolinecolor": "white",
           "zerolinewidth": 2
          },
          "yaxis": {
           "automargin": true,
           "gridcolor": "white",
           "linecolor": "white",
           "ticks": "",
           "title": {
            "standoff": 15
           },
           "zerolinecolor": "white",
           "zerolinewidth": 2
          }
         }
        },
        "title": {
         "text": "Mesh Clientes Anómalos_4 - Ronda pData_1",
         "x": 0.5
        },
        "width": 600
       }
      }
     },
     "metadata": {},
     "output_type": "display_data"
    },
    {
     "data": {
      "application/vnd.jupyter.widget-view+json": {
       "model_id": "a13864bb952f44b68f5653bbdf7e21ee",
       "version_major": 2,
       "version_minor": 0
      },
      "text/plain": [
       "interactive(children=(SelectionSlider(description='Fecha', options=(numpy.datetime64('2023-02-19T00:00:00.0000…"
      ]
     },
     "metadata": {},
     "output_type": "display_data"
    }
   ],
   "source": [
    "#Visualización de mapa interactivo\n",
    "Rdiscrete_map3(dicTemp5, wgDic6, \"Mesh Clientes Anómalos_4\")"
   ]
  },
  {
   "cell_type": "markdown",
   "metadata": {},
   "source": [
    "## Corrigiendo coordenadas"
   ]
  },
  {
   "cell_type": "code",
   "execution_count": null,
   "metadata": {},
   "outputs": [],
   "source": [
    "#Creando columna\n",
    "tmContainer[\"anomaly\"] = \"\"\n",
    "tmContainer[\"Gw_dist\"] = \"\"\n",
    "#Actualizando tmContainer\n",
    "print(\"Len de tmContainer antes de actualización :\", len(tmContainer))\n",
    "tdf[\"Gw_dist\"] = tdf[\"Gw_dist\"].astype(str)\n",
    "tmContainer = updateDf(tmContainer, tdf[[\"meterNo\",\"fDate\",\"anomaly\", \"Gw_dist\"]], [\"meterNo\", \"fDate\"],\\\n",
    "                    [\"anomaly\",\"Gw_dist\"])\n",
    "print(\"Len de tmContainer después de actualización :\", len(tmContainer))\n",
    "tmContainer.head(3)"
   ]
  },
  {
   "cell_type": "code",
   "execution_count": null,
   "metadata": {},
   "outputs": [],
   "source": [
    "#Seleccionando MC anómalos\n",
    "mask = tmContainer[\"anomaly\"] == \"Anomaly\"\n",
    "anomalies = tmContainer[mask]\n",
    "anomalies.head()"
   ]
  },
  {
   "cell_type": "code",
   "execution_count": null,
   "metadata": {},
   "outputs": [],
   "source": [
    "#Calculando distancia con referencia a polo\n",
    "#Aplicando regex de polo\n",
    "anomalies[\"poleNo\"].str.extract(r\"([0-9]{6})\")\n",
    "\n",
    "anomalies = anomalies.merge(polesCords[[\"poleNo\",\"latitude\",\"longitude\"]], on = \"poleNo\", \\\n",
    "                how = \"left\", suffixes = (\"\",\"_pl\"))\n",
    "\n",
    "anomalies[\"pole_gw\"] = anomalies.apply(lambda x: cord2disV2(x[\"latitude_gw\"],x[\"longitude_gw\"],\\\n",
    "                x[\"latitude_pl\"],x[\"longitude_pl\"]), axis = 1)\n",
    "\n",
    "#Comparando distancias\n",
    "anomalies[\"distComparation\"] = anomalies[\"Gw_dist\"].astype(float) - anomalies[\"pole_gw\"].astype(float)\n",
    "#Volviendo etiqueta\n",
    "anomalies[\"fixed\"] = anomalies[\"distComparation\"].apply(lambda x: \"Fixed\" if x > 0 else \"No Fixed\")\n",
    "anomalies.to_csv(\"../Data/DataLake/temp/anomalies.csv\", index = False)\n",
    "anomalies.head(3)"
   ]
  },
  {
   "cell_type": "code",
   "execution_count": 131,
   "metadata": {},
   "outputs": [],
   "source": [
    "#Visualizando anomalías\n",
    "#Widgets\n",
    "fDate6 = widgets.SelectionSlider(options = list(anomalies[\"fDate\"].unique()), description = \"Fecha\")\n",
    "mgatewayS = widgets.Dropdown(options = sorted(list(anomalies[\"CollectorNm\"].unique())),description = \"Collector\")\n",
    "clrDic5 = {\"Fixed\": sClr1, \"No Fixed\": sClr3}\n",
    "#clrDic3 = {True: sClr1, False: sClr3}\n",
    "wgDic7 = {\"fDate\":fDate5, \"CollectorNm\" : mgatewayS}#\"fDate\":fDate4, \n",
    "dicTemp2 = {\n",
    "    \"PrevCords\" : [anomalies, sClr2, None, [\"meterNo\"],[\"latitude\",\"longitude\"]],\n",
    "    \"MeshClients\" : [anomalies, clrDic5, \"fixed\",[\"meterNo\"],[\"latitude_pl\",\"longitude_pl\"]],\n",
    "    \"CollectorNm\" : [anomalies, sClr4, None,[\"CollectorNm\"],[\"latitude_gw\",\"longitude_gw\"]]\n",
    "}\n",
    "\n"
   ]
  },
  {
   "cell_type": "code",
   "execution_count": 132,
   "metadata": {},
   "outputs": [
    {
     "data": {
      "application/vnd.jupyter.widget-view+json": {
       "model_id": "840e421fa8cf4a67b20604fa1dc085ae",
       "version_major": 2,
       "version_minor": 0
      },
      "text/plain": [
       "Output()"
      ]
     },
     "metadata": {},
     "output_type": "display_data"
    },
    {
     "data": {
      "application/vnd.plotly.v1+json": {
       "config": {
        "plotlyServerURL": "https://plot.ly"
       },
       "data": [
        {
         "lat": [
          14.207898852120204,
          13.93346982244287,
          14.259641726131452,
          14.044377356313015,
          14.043735774354019,
          14.259984882590958,
          14.193719952690039,
          14.24092684767573,
          14.257628985553318,
          14.260304142788145,
          13.93418738
         ],
         "lon": [
          -91.22276897067374,
          -90.74844402455913,
          -91.06250970624782,
          -91.24382935815548,
          -91.2319915238436,
          -91.06612862464232,
          -91.13344027229923,
          -91.0789872420878,
          -91.08092957400159,
          -91.06948164676554,
          -90.7472374
         ],
         "marker": {
          "color": "#989FAF",
          "size": 9
         },
         "mode": "markers",
         "name": "PrevCords",
         "text": [
          [
           "F-89906"
          ],
          [
           "F-88137"
          ],
          [
           "F-74221"
          ],
          [
           "F-79325"
          ],
          [
           "F-87431"
          ],
          [
           "F-72601"
          ],
          [
           "F-81201"
          ],
          [
           "F-72593"
          ],
          [
           "F-96405"
          ],
          [
           "P-96641"
          ],
          [
           "F-94343"
          ]
         ],
         "type": "scattermapbox"
        },
        {
         "lat": [
          14.207898852120204,
          null,
          null
         ],
         "lon": [
          -91.22276897067374,
          null,
          null
         ],
         "marker": {
          "color": "#304059",
          "size": 9
         },
         "mode": "markers",
         "name": "No Fixed",
         "text": [
          [
           "F-89906"
          ],
          [
           "P-96641"
          ],
          [
           "F-94343"
          ]
         ],
         "type": "scattermapbox"
        },
        {
         "lat": [
          13.93346982244287,
          14.259641726131452,
          14.044377356313015,
          14.043735774354019,
          14.259984882590958,
          14.193719952690039,
          14.24092684767573,
          14.257628985553318
         ],
         "lon": [
          -90.74844402455913,
          -91.06250970624782,
          -91.24382935815548,
          -91.2319915238436,
          -91.06612862464232,
          -91.13344027229923,
          -91.0789872420878,
          -91.08092957400159
         ],
         "marker": {
          "color": "#F56522",
          "size": 9
         },
         "mode": "markers",
         "name": "Fixed",
         "text": [
          [
           "F-88137"
          ],
          [
           "F-74221"
          ],
          [
           "F-79325"
          ],
          [
           "F-87431"
          ],
          [
           "F-72601"
          ],
          [
           "F-81201"
          ],
          [
           "F-72593"
          ],
          [
           "F-96405"
          ]
         ],
         "type": "scattermapbox"
        },
        {
         "lat": [
          14.267034,
          14.267034,
          14.267034,
          14.267034,
          14.267034,
          14.267034,
          14.267034,
          14.267034,
          14.267034,
          14.267034,
          14.267034
         ],
         "lon": [
          -90.887489,
          -90.887489,
          -90.887489,
          -90.887489,
          -90.887489,
          -90.887489,
          -90.887489,
          -90.887489,
          -90.887489,
          -90.887489,
          -90.887489
         ],
         "marker": {
          "color": "#9DD3A4",
          "size": 9
         },
         "mode": "markers",
         "name": "CollectorNm",
         "text": [
          [
           "262004_5001(2)"
          ],
          [
           "262004_5001(2)"
          ],
          [
           "262004_5001(2)"
          ],
          [
           "262004_5001(2)"
          ],
          [
           "262004_5001(2)"
          ],
          [
           "262004_5001(2)"
          ],
          [
           "262004_5001(2)"
          ],
          [
           "262004_5001(2)"
          ],
          [
           "262004_5001(2)"
          ],
          [
           "262004_5001(2)"
          ],
          [
           "262004_5001(2)"
          ]
         ],
         "type": "scattermapbox"
        }
       ],
       "layout": {
        "height": 400,
        "mapbox": {
         "accesstoken": "pk.eyJ1IjoidmJvcnJheW8iLCJhIjoiY2xob2dvdTZlMXZuODNmbHJyYjVvMzIzeSJ9.aNrb8uXomKz2Qrk_GsABgA",
         "center": {
          "lat": 14.267034,
          "lon": -90.88748899999999
         },
         "style": "mapbox://styles/mapbox/streets-v11",
         "zoom": 7.5
        },
        "margin": {
         "b": 10,
         "l": 10,
         "r": 50,
         "t": 30
        },
        "template": {
         "data": {
          "bar": [
           {
            "error_x": {
             "color": "#2a3f5f"
            },
            "error_y": {
             "color": "#2a3f5f"
            },
            "marker": {
             "line": {
              "color": "#E5ECF6",
              "width": 0.5
             },
             "pattern": {
              "fillmode": "overlay",
              "size": 10,
              "solidity": 0.2
             }
            },
            "type": "bar"
           }
          ],
          "barpolar": [
           {
            "marker": {
             "line": {
              "color": "#E5ECF6",
              "width": 0.5
             },
             "pattern": {
              "fillmode": "overlay",
              "size": 10,
              "solidity": 0.2
             }
            },
            "type": "barpolar"
           }
          ],
          "carpet": [
           {
            "aaxis": {
             "endlinecolor": "#2a3f5f",
             "gridcolor": "white",
             "linecolor": "white",
             "minorgridcolor": "white",
             "startlinecolor": "#2a3f5f"
            },
            "baxis": {
             "endlinecolor": "#2a3f5f",
             "gridcolor": "white",
             "linecolor": "white",
             "minorgridcolor": "white",
             "startlinecolor": "#2a3f5f"
            },
            "type": "carpet"
           }
          ],
          "choropleth": [
           {
            "colorbar": {
             "outlinewidth": 0,
             "ticks": ""
            },
            "type": "choropleth"
           }
          ],
          "contour": [
           {
            "colorbar": {
             "outlinewidth": 0,
             "ticks": ""
            },
            "colorscale": [
             [
              0,
              "#0d0887"
             ],
             [
              0.1111111111111111,
              "#46039f"
             ],
             [
              0.2222222222222222,
              "#7201a8"
             ],
             [
              0.3333333333333333,
              "#9c179e"
             ],
             [
              0.4444444444444444,
              "#bd3786"
             ],
             [
              0.5555555555555556,
              "#d8576b"
             ],
             [
              0.6666666666666666,
              "#ed7953"
             ],
             [
              0.7777777777777778,
              "#fb9f3a"
             ],
             [
              0.8888888888888888,
              "#fdca26"
             ],
             [
              1,
              "#f0f921"
             ]
            ],
            "type": "contour"
           }
          ],
          "contourcarpet": [
           {
            "colorbar": {
             "outlinewidth": 0,
             "ticks": ""
            },
            "type": "contourcarpet"
           }
          ],
          "heatmap": [
           {
            "colorbar": {
             "outlinewidth": 0,
             "ticks": ""
            },
            "colorscale": [
             [
              0,
              "#0d0887"
             ],
             [
              0.1111111111111111,
              "#46039f"
             ],
             [
              0.2222222222222222,
              "#7201a8"
             ],
             [
              0.3333333333333333,
              "#9c179e"
             ],
             [
              0.4444444444444444,
              "#bd3786"
             ],
             [
              0.5555555555555556,
              "#d8576b"
             ],
             [
              0.6666666666666666,
              "#ed7953"
             ],
             [
              0.7777777777777778,
              "#fb9f3a"
             ],
             [
              0.8888888888888888,
              "#fdca26"
             ],
             [
              1,
              "#f0f921"
             ]
            ],
            "type": "heatmap"
           }
          ],
          "heatmapgl": [
           {
            "colorbar": {
             "outlinewidth": 0,
             "ticks": ""
            },
            "colorscale": [
             [
              0,
              "#0d0887"
             ],
             [
              0.1111111111111111,
              "#46039f"
             ],
             [
              0.2222222222222222,
              "#7201a8"
             ],
             [
              0.3333333333333333,
              "#9c179e"
             ],
             [
              0.4444444444444444,
              "#bd3786"
             ],
             [
              0.5555555555555556,
              "#d8576b"
             ],
             [
              0.6666666666666666,
              "#ed7953"
             ],
             [
              0.7777777777777778,
              "#fb9f3a"
             ],
             [
              0.8888888888888888,
              "#fdca26"
             ],
             [
              1,
              "#f0f921"
             ]
            ],
            "type": "heatmapgl"
           }
          ],
          "histogram": [
           {
            "marker": {
             "pattern": {
              "fillmode": "overlay",
              "size": 10,
              "solidity": 0.2
             }
            },
            "type": "histogram"
           }
          ],
          "histogram2d": [
           {
            "colorbar": {
             "outlinewidth": 0,
             "ticks": ""
            },
            "colorscale": [
             [
              0,
              "#0d0887"
             ],
             [
              0.1111111111111111,
              "#46039f"
             ],
             [
              0.2222222222222222,
              "#7201a8"
             ],
             [
              0.3333333333333333,
              "#9c179e"
             ],
             [
              0.4444444444444444,
              "#bd3786"
             ],
             [
              0.5555555555555556,
              "#d8576b"
             ],
             [
              0.6666666666666666,
              "#ed7953"
             ],
             [
              0.7777777777777778,
              "#fb9f3a"
             ],
             [
              0.8888888888888888,
              "#fdca26"
             ],
             [
              1,
              "#f0f921"
             ]
            ],
            "type": "histogram2d"
           }
          ],
          "histogram2dcontour": [
           {
            "colorbar": {
             "outlinewidth": 0,
             "ticks": ""
            },
            "colorscale": [
             [
              0,
              "#0d0887"
             ],
             [
              0.1111111111111111,
              "#46039f"
             ],
             [
              0.2222222222222222,
              "#7201a8"
             ],
             [
              0.3333333333333333,
              "#9c179e"
             ],
             [
              0.4444444444444444,
              "#bd3786"
             ],
             [
              0.5555555555555556,
              "#d8576b"
             ],
             [
              0.6666666666666666,
              "#ed7953"
             ],
             [
              0.7777777777777778,
              "#fb9f3a"
             ],
             [
              0.8888888888888888,
              "#fdca26"
             ],
             [
              1,
              "#f0f921"
             ]
            ],
            "type": "histogram2dcontour"
           }
          ],
          "mesh3d": [
           {
            "colorbar": {
             "outlinewidth": 0,
             "ticks": ""
            },
            "type": "mesh3d"
           }
          ],
          "parcoords": [
           {
            "line": {
             "colorbar": {
              "outlinewidth": 0,
              "ticks": ""
             }
            },
            "type": "parcoords"
           }
          ],
          "pie": [
           {
            "automargin": true,
            "type": "pie"
           }
          ],
          "scatter": [
           {
            "fillpattern": {
             "fillmode": "overlay",
             "size": 10,
             "solidity": 0.2
            },
            "type": "scatter"
           }
          ],
          "scatter3d": [
           {
            "line": {
             "colorbar": {
              "outlinewidth": 0,
              "ticks": ""
             }
            },
            "marker": {
             "colorbar": {
              "outlinewidth": 0,
              "ticks": ""
             }
            },
            "type": "scatter3d"
           }
          ],
          "scattercarpet": [
           {
            "marker": {
             "colorbar": {
              "outlinewidth": 0,
              "ticks": ""
             }
            },
            "type": "scattercarpet"
           }
          ],
          "scattergeo": [
           {
            "marker": {
             "colorbar": {
              "outlinewidth": 0,
              "ticks": ""
             }
            },
            "type": "scattergeo"
           }
          ],
          "scattergl": [
           {
            "marker": {
             "colorbar": {
              "outlinewidth": 0,
              "ticks": ""
             }
            },
            "type": "scattergl"
           }
          ],
          "scattermapbox": [
           {
            "marker": {
             "colorbar": {
              "outlinewidth": 0,
              "ticks": ""
             }
            },
            "type": "scattermapbox"
           }
          ],
          "scatterpolar": [
           {
            "marker": {
             "colorbar": {
              "outlinewidth": 0,
              "ticks": ""
             }
            },
            "type": "scatterpolar"
           }
          ],
          "scatterpolargl": [
           {
            "marker": {
             "colorbar": {
              "outlinewidth": 0,
              "ticks": ""
             }
            },
            "type": "scatterpolargl"
           }
          ],
          "scatterternary": [
           {
            "marker": {
             "colorbar": {
              "outlinewidth": 0,
              "ticks": ""
             }
            },
            "type": "scatterternary"
           }
          ],
          "surface": [
           {
            "colorbar": {
             "outlinewidth": 0,
             "ticks": ""
            },
            "colorscale": [
             [
              0,
              "#0d0887"
             ],
             [
              0.1111111111111111,
              "#46039f"
             ],
             [
              0.2222222222222222,
              "#7201a8"
             ],
             [
              0.3333333333333333,
              "#9c179e"
             ],
             [
              0.4444444444444444,
              "#bd3786"
             ],
             [
              0.5555555555555556,
              "#d8576b"
             ],
             [
              0.6666666666666666,
              "#ed7953"
             ],
             [
              0.7777777777777778,
              "#fb9f3a"
             ],
             [
              0.8888888888888888,
              "#fdca26"
             ],
             [
              1,
              "#f0f921"
             ]
            ],
            "type": "surface"
           }
          ],
          "table": [
           {
            "cells": {
             "fill": {
              "color": "#EBF0F8"
             },
             "line": {
              "color": "white"
             }
            },
            "header": {
             "fill": {
              "color": "#C8D4E3"
             },
             "line": {
              "color": "white"
             }
            },
            "type": "table"
           }
          ]
         },
         "layout": {
          "annotationdefaults": {
           "arrowcolor": "#2a3f5f",
           "arrowhead": 0,
           "arrowwidth": 1
          },
          "autotypenumbers": "strict",
          "coloraxis": {
           "colorbar": {
            "outlinewidth": 0,
            "ticks": ""
           }
          },
          "colorscale": {
           "diverging": [
            [
             0,
             "#8e0152"
            ],
            [
             0.1,
             "#c51b7d"
            ],
            [
             0.2,
             "#de77ae"
            ],
            [
             0.3,
             "#f1b6da"
            ],
            [
             0.4,
             "#fde0ef"
            ],
            [
             0.5,
             "#f7f7f7"
            ],
            [
             0.6,
             "#e6f5d0"
            ],
            [
             0.7,
             "#b8e186"
            ],
            [
             0.8,
             "#7fbc41"
            ],
            [
             0.9,
             "#4d9221"
            ],
            [
             1,
             "#276419"
            ]
           ],
           "sequential": [
            [
             0,
             "#0d0887"
            ],
            [
             0.1111111111111111,
             "#46039f"
            ],
            [
             0.2222222222222222,
             "#7201a8"
            ],
            [
             0.3333333333333333,
             "#9c179e"
            ],
            [
             0.4444444444444444,
             "#bd3786"
            ],
            [
             0.5555555555555556,
             "#d8576b"
            ],
            [
             0.6666666666666666,
             "#ed7953"
            ],
            [
             0.7777777777777778,
             "#fb9f3a"
            ],
            [
             0.8888888888888888,
             "#fdca26"
            ],
            [
             1,
             "#f0f921"
            ]
           ],
           "sequentialminus": [
            [
             0,
             "#0d0887"
            ],
            [
             0.1111111111111111,
             "#46039f"
            ],
            [
             0.2222222222222222,
             "#7201a8"
            ],
            [
             0.3333333333333333,
             "#9c179e"
            ],
            [
             0.4444444444444444,
             "#bd3786"
            ],
            [
             0.5555555555555556,
             "#d8576b"
            ],
            [
             0.6666666666666666,
             "#ed7953"
            ],
            [
             0.7777777777777778,
             "#fb9f3a"
            ],
            [
             0.8888888888888888,
             "#fdca26"
            ],
            [
             1,
             "#f0f921"
            ]
           ]
          },
          "colorway": [
           "#636efa",
           "#EF553B",
           "#00cc96",
           "#ab63fa",
           "#FFA15A",
           "#19d3f3",
           "#FF6692",
           "#B6E880",
           "#FF97FF",
           "#FECB52"
          ],
          "font": {
           "color": "#2a3f5f"
          },
          "geo": {
           "bgcolor": "white",
           "lakecolor": "white",
           "landcolor": "#E5ECF6",
           "showlakes": true,
           "showland": true,
           "subunitcolor": "white"
          },
          "hoverlabel": {
           "align": "left"
          },
          "hovermode": "closest",
          "mapbox": {
           "style": "light"
          },
          "paper_bgcolor": "white",
          "plot_bgcolor": "#E5ECF6",
          "polar": {
           "angularaxis": {
            "gridcolor": "white",
            "linecolor": "white",
            "ticks": ""
           },
           "bgcolor": "#E5ECF6",
           "radialaxis": {
            "gridcolor": "white",
            "linecolor": "white",
            "ticks": ""
           }
          },
          "scene": {
           "xaxis": {
            "backgroundcolor": "#E5ECF6",
            "gridcolor": "white",
            "gridwidth": 2,
            "linecolor": "white",
            "showbackground": true,
            "ticks": "",
            "zerolinecolor": "white"
           },
           "yaxis": {
            "backgroundcolor": "#E5ECF6",
            "gridcolor": "white",
            "gridwidth": 2,
            "linecolor": "white",
            "showbackground": true,
            "ticks": "",
            "zerolinecolor": "white"
           },
           "zaxis": {
            "backgroundcolor": "#E5ECF6",
            "gridcolor": "white",
            "gridwidth": 2,
            "linecolor": "white",
            "showbackground": true,
            "ticks": "",
            "zerolinecolor": "white"
           }
          },
          "shapedefaults": {
           "line": {
            "color": "#2a3f5f"
           }
          },
          "ternary": {
           "aaxis": {
            "gridcolor": "white",
            "linecolor": "white",
            "ticks": ""
           },
           "baxis": {
            "gridcolor": "white",
            "linecolor": "white",
            "ticks": ""
           },
           "bgcolor": "#E5ECF6",
           "caxis": {
            "gridcolor": "white",
            "linecolor": "white",
            "ticks": ""
           }
          },
          "title": {
           "x": 0.05
          },
          "xaxis": {
           "automargin": true,
           "gridcolor": "white",
           "linecolor": "white",
           "ticks": "",
           "title": {
            "standoff": 15
           },
           "zerolinecolor": "white",
           "zerolinewidth": 2
          },
          "yaxis": {
           "automargin": true,
           "gridcolor": "white",
           "linecolor": "white",
           "ticks": "",
           "title": {
            "standoff": 15
           },
           "zerolinecolor": "white",
           "zerolinewidth": 2
          }
         }
        },
        "title": {
         "text": "Coordenadas corregidas - Ronda pData_1",
         "x": 0.5
        },
        "width": 600
       }
      }
     },
     "metadata": {},
     "output_type": "display_data"
    },
    {
     "data": {
      "application/vnd.jupyter.widget-view+json": {
       "model_id": "29ba428343c649aab8afeb5831abb6f6",
       "version_major": 2,
       "version_minor": 0
      },
      "text/plain": [
       "interactive(children=(SelectionSlider(description='Fecha', options=(numpy.datetime64('2023-02-19T00:00:00.0000…"
      ]
     },
     "metadata": {},
     "output_type": "display_data"
    }
   ],
   "source": [
    "#Visualización de mapa interactivo\n",
    "Rdiscrete_map3(dicTemp2, wgDic7, \"Coordenadas corregidas\")"
   ]
  },
  {
   "cell_type": "code",
   "execution_count": 133,
   "metadata": {},
   "outputs": [],
   "source": [
    "\n",
    "anomalies.loc[anomalies[\"fixed\"] == \"Fixed\", \"latitude\"] = anomalies.loc\\\n",
    "            [anomalies[\"fixed\"] == \"Fixed\",\"latitude_pl\"]\n",
    "anomalies.loc[anomalies[\"fixed\"] == \"Fixed\", \"longitude\"] = anomalies.loc\\\n",
    "            [anomalies[\"fixed\"] == \"Fixed\",\"longitude_pl\"]\n",
    "anomalies.to_csv(\"../Data/DataLake/temp/anomalies.csv\", index = False)"
   ]
  },
  {
   "cell_type": "code",
   "execution_count": 134,
   "metadata": {},
   "outputs": [
    {
     "name": "stdout",
     "output_type": "stream",
     "text": [
      "Len de tmContainer antes de actualización : 1733505\n"
     ]
    }
   ],
   "source": [
    "#Actualizando tmContainer\n",
    "print(\"Len de tmContainer antes de actualización :\", len(tmContainer))\n",
    "tmContainer[\"fixed\"] = \"\"\n",
    "#Aplicando update\n",
    "tmContainer = updateDf(tmContainer, anomalies[[\"meterNo\",\"fDate\",\"fixed\", \"latitude\", \"longitude\"]], [\"meterNo\", \"fDate\"],\\\n",
    "                    [\"fixed\"])"
   ]
  },
  {
   "cell_type": "code",
   "execution_count": 135,
   "metadata": {},
   "outputs": [],
   "source": [
    "tmContainer[tmContainer[\"anomaly\"] == \"Anomaly\"].to_csv(\"../Data/DataLake/temp/anomaliesfinal2.csv\",\\\n",
    "                        index = False, encoding = 'latin-1')"
   ]
  },
  {
   "cell_type": "code",
   "execution_count": 136,
   "metadata": {},
   "outputs": [],
   "source": [
    "tmContainer[\"poleNo\"] = tmContainer[\"poleNo\"].astype(str)\n",
    "tmContainer[\"mntDate\"] = pd.to_datetime(tmContainer[\"mntDate\"],  errors = 'coerce')\n",
    "tmContainer[\"dmntDate\"] = pd.to_datetime(tmContainer[\"dmntDate\"],  errors = 'coerce')"
   ]
  },
  {
   "cell_type": "code",
   "execution_count": 137,
   "metadata": {},
   "outputs": [],
   "source": [
    "tmContainer.to_parquet(\"../Data/DataMart/Base/mContainer.parquet\")\n",
    "tmContainer.to_csv(\"../Data/DataMart/Base/mContainer.csv\", index = False, encoding='latin-1')"
   ]
  }
 ],
 "metadata": {
  "kernelspec": {
   "display_name": "Tesis",
   "language": "python",
   "name": "python3"
  },
  "language_info": {
   "codemirror_mode": {
    "name": "ipython",
    "version": 3
   },
   "file_extension": ".py",
   "mimetype": "text/x-python",
   "name": "python",
   "nbconvert_exporter": "python",
   "pygments_lexer": "ipython3",
   "version": "3.8.13"
  },
  "orig_nbformat": 4
 },
 "nbformat": 4,
 "nbformat_minor": 2
}
