{
 "cells": [
  {
   "attachments": {},
   "cell_type": "markdown",
   "id": "879bf0c5-8994-4df5-87fc-72b7b0021018",
   "metadata": {},
   "source": [
    "# Limpieza de PointsData-Network Devices"
   ]
  },
  {
   "attachments": {},
   "cell_type": "markdown",
   "id": "72b912f5-5ec5-446a-bae8-9185f64b68ff",
   "metadata": {},
   "source": [
    "Los datos tal como se obtienen de sus fuentes tienen ciertas condiciones que perjudican el desempeño de los algoritmos de aprendizaje de máquina, ya sean datos faltantes, erróneos o inconsistentes, disponer de ellos previo a su ingesta por los algoritmos Machine Learning y Deep Learning, puede ser un potenciador para un mejor desempeño.\n",
    "\n",
    "En el caso de las coordenadas geográficas, dada la relevancia que se sabe según el conocimiento del negocio, que tiene la ubicación de los equipos a la hora de determinar su comunicación efectiva o no, podría ser que ubicaciones erróneas sesguen o confundan los algoritmos al momento del entrenamiento.\n",
    "\n",
    "Las fuentes de datos que contienen la información referente a la ubicación, son los siguientes:\n",
    "    \n",
    "* En archivos \"report\" de la carpeta cFiles.\n",
    "* En los archivos de la carpeta pointsData."
   ]
  },
  {
   "cell_type": "code",
   "execution_count": 1,
   "id": "48bed30d-1246-437d-81ce-605e36d0738a",
   "metadata": {},
   "outputs": [],
   "source": [
    "#Importando paquetes\n",
    "import os\n",
    "import re\n",
    "import sys\n",
    "sys.path.append('../')\n",
    "from Python.Preprocessing.funcs import *\n",
    "from Python.FeatureEngeeniering.Fresnel.fresnelFeature import cord2disV2\n",
    "import plotly.express as px\n",
    "import warnings\n",
    "import json\n",
    "import matplotlib.pyplot as plt\n",
    "import plotly\n",
    "import pandas as pd\n",
    "import pickle\n",
    "from datetime import datetime\n",
    "from Python.Style.styles import  *\n",
    "from Python.Preprocessing.funcs import  *\n",
    "import seaborn as sns\n",
    "import plotly.graph_objs as go\n",
    "from ipywidgets import interact, widgets, Output\n",
    "from Python.Preprocessing.mapFuncs import Rdiscrete_map, Rdiscrete_map2, Rdiscrete_map3"
   ]
  },
  {
   "cell_type": "code",
   "execution_count": 2,
   "id": "e05b89de",
   "metadata": {},
   "outputs": [],
   "source": [
    "warnings.filterwarnings(\"ignore\")"
   ]
  },
  {
   "cell_type": "code",
   "execution_count": 3,
   "id": "a270a574",
   "metadata": {},
   "outputs": [],
   "source": [
    "pd.set_option('display.float_format',  '{:,.8f}'.format)"
   ]
  },
  {
   "cell_type": "code",
   "execution_count": 4,
   "id": "524db666",
   "metadata": {},
   "outputs": [],
   "source": [
    "#Utilizando diseño base 1\n",
    "plt.style.use('../Python/Style/style1.mplstyle')"
   ]
  },
  {
   "cell_type": "code",
   "execution_count": 5,
   "id": "57d449d2",
   "metadata": {},
   "outputs": [],
   "source": [
    "#Colores base\n",
    "#Diseño base\n",
    "mClr = designC['cs']\n",
    "mClr_d2 = plt.get_cmap('cs-d')(2)\n",
    "sClr1 = designC['nr']\n",
    "sClr1_d2 = plt.get_cmap('nr-d')(2)\n",
    "sClr3 = designC['az']\n",
    "sClr2 = designC['gr']\n",
    "sClr2_d = plt.get_cmap('gr-d')(0)\n",
    "sClr2_d2 = plt.get_cmap('gr-d')(2)\n",
    "sClr4 = designC['vr']\n",
    "plt.rcParams['figure.dpi'] = 120\n",
    "plt.rcParams['savefig.dpi'] = 120"
   ]
  },
  {
   "attachments": {},
   "cell_type": "markdown",
   "id": "f6c822f2",
   "metadata": {},
   "source": [
    "## Datos de carpeta PointsData"
   ]
  },
  {
   "attachments": {},
   "cell_type": "markdown",
   "id": "8bcb591a",
   "metadata": {},
   "source": [
    "Una red de comunicaciones desplegada en el terreno, como se ha mencionado, no es estática. En los archivos almacenados de manera automática en la carpeta pointsData pueden existir discrepancias, la validación de estos datos se realiza a continuación, considerando que se tienen las siguientes fuentes de datos:\n",
    "\n",
    "* Información de MG, MR y MC en la carpeta PointsData.\n",
    "* Información de las distintas rondas en la carpeta roundsControl."
   ]
  },
  {
   "cell_type": "code",
   "execution_count": 6,
   "id": "ee65ff43",
   "metadata": {},
   "outputs": [],
   "source": [
    "#Obteniendo lista de archivos en la carpeta PointsData\n",
    "pData = getNames(\"../Data/DataLake/PointsData\",\".json\")"
   ]
  },
  {
   "cell_type": "code",
   "execution_count": null,
   "id": "12bafb7d",
   "metadata": {},
   "outputs": [],
   "source": [
    "#Leyendo datos de procesamiento automático\n",
    "prqFiles2 = getNames(r\"../Data/DataLake/pointsData\",\".json\")\n",
    "\n",
    "jdf = pd.DataFrame({'path':prqFiles2, 'name' : ['']*len(prqFiles2)})\n",
    "\n",
    "jdf[\"dType\"] = jdf[\"path\"].str.extract(\"([a-z]+)-\")\n",
    "\n",
    "jdf[\"fDate\"] = jdf[\"path\"].str.extract(\"([0-9]+.[0-9]+.[0-9]+)\")\n",
    "\n",
    "jdf.head()"
   ]
  },
  {
   "cell_type": "code",
   "execution_count": 8,
   "id": "0f8abc57",
   "metadata": {},
   "outputs": [],
   "source": [
    "#creando dataFrames de \"dataPoints\" \n",
    "\n",
    "cList = jdf[jdf[\"dType\"]==\"colectores\"][\"path\"]\n",
    "rList = jdf[jdf[\"dType\"]==\"routers\"][\"path\"]\n",
    "mList = jdf[jdf[\"dType\"]==\"meters\"][\"path\"]\n",
    "\n",
    "cContainer = createContainer(cList,\".json\")\n",
    "rContainer = createContainer(rList,\".json\")\n",
    "mContainer = createContainer(mList,\".json\")"
   ]
  },
  {
   "cell_type": "code",
   "execution_count": 9,
   "id": "aaf6627b",
   "metadata": {},
   "outputs": [
    {
     "data": {
      "text/html": [
       "<div>\n",
       "<style scoped>\n",
       "    .dataframe tbody tr th:only-of-type {\n",
       "        vertical-align: middle;\n",
       "    }\n",
       "\n",
       "    .dataframe tbody tr th {\n",
       "        vertical-align: top;\n",
       "    }\n",
       "\n",
       "    .dataframe thead th {\n",
       "        text-align: right;\n",
       "    }\n",
       "</style>\n",
       "<table border=\"1\" class=\"dataframe\">\n",
       "  <thead>\n",
       "    <tr style=\"text-align: right;\">\n",
       "      <th></th>\n",
       "      <th>fDate</th>\n",
       "      <th>lDate</th>\n",
       "      <th>round</th>\n",
       "    </tr>\n",
       "  </thead>\n",
       "  <tbody>\n",
       "    <tr>\n",
       "      <th>0</th>\n",
       "      <td>2023-02-19</td>\n",
       "      <td>2023-02-27</td>\n",
       "      <td>pData_1</td>\n",
       "    </tr>\n",
       "    <tr>\n",
       "      <th>1</th>\n",
       "      <td>2023-02-27</td>\n",
       "      <td>2023-03-06</td>\n",
       "      <td>pData_2</td>\n",
       "    </tr>\n",
       "    <tr>\n",
       "      <th>2</th>\n",
       "      <td>2023-03-06</td>\n",
       "      <td>2023-03-13</td>\n",
       "      <td>pData_3</td>\n",
       "    </tr>\n",
       "    <tr>\n",
       "      <th>3</th>\n",
       "      <td>2023-03-13</td>\n",
       "      <td>2023-03-20</td>\n",
       "      <td>pData_4</td>\n",
       "    </tr>\n",
       "    <tr>\n",
       "      <th>4</th>\n",
       "      <td>2023-03-20</td>\n",
       "      <td>2023-03-27</td>\n",
       "      <td>pData_5</td>\n",
       "    </tr>\n",
       "  </tbody>\n",
       "</table>\n",
       "</div>"
      ],
      "text/plain": [
       "       fDate       lDate    round\n",
       "0 2023-02-19  2023-02-27  pData_1\n",
       "1 2023-02-27  2023-03-06  pData_2\n",
       "2 2023-03-06  2023-03-13  pData_3\n",
       "3 2023-03-13  2023-03-20  pData_4\n",
       "4 2023-03-20  2023-03-27  pData_5"
      ]
     },
     "execution_count": 9,
     "metadata": {},
     "output_type": "execute_result"
    }
   ],
   "source": [
    "#Leyendo información de rondas\n",
    "rondFiles = getNames(r\"../Data/DataLake/roundsControl\",\".json\")\n",
    "flag = True\n",
    "roundsDic = {}\n",
    "cnt = 0\n",
    "for i in rondFiles:\n",
    "    cnt += 1\n",
    "    tRow = {}\n",
    "    #Leyendo json\n",
    "    with open(i, \"r\") as f:\n",
    "        tDic = json.load(f)\n",
    "        f.close()\n",
    "    #print(tDic)\n",
    "    #Fechas de ronda\n",
    "    tRow[\"fDate\"] = tDic[\"fDate\"]\n",
    "    tRow[\"lDate\"] = tDic[\"lDate\"]\n",
    "    tRow[\"round\"] = \"pData_{}\".format(cnt)\n",
    "\n",
    "    #tRow[\"routers\"] = tDic[\"routers\"]\n",
    "    \n",
    "    tMeters = []\n",
    "    for j in range(5):\n",
    "        #Agregando clients a lista\n",
    "        tMeters = tMeters + tDic[str(j)][0]\n",
    "        tMeters = tMeters + tDic[str(j)][1]\n",
    "\n",
    "    #Agregando información a roundsDic\n",
    "    trDic = {}\n",
    "    trDic[\"routers\"] = tDic[\"routers\"]\n",
    "    trDic[\"meters\"] = tMeters\n",
    "    roundsDic[\"pData_{}\".format(cnt)] = trDic\n",
    "\n",
    "    #Creando DataFrame\n",
    "    tdf = pd.DataFrame(tRow, columns = [\"fDate\",\"lDate\", \"round\"], index = [1])\n",
    "    if flag:\n",
    "        roundsDf = tdf\n",
    "        flag = False\n",
    "    else:\n",
    "        roundsDf = pd.concat([roundsDf,tdf], ignore_index = True)\n",
    "\n",
    "\n",
    "#Convirtiendo fechas a datetime\n",
    "roundsDf[\"fDate\"] = pd.to_datetime(roundsDf[\"fDate\"], format = \"%Y-%m-%d\")\n",
    "#Mostrando roundsDf\n",
    "roundsDf.head()\n",
    "#roundsDf.to_parquet(\"../Data/DataLake/roundsControl/roundsDf.parquet\")"
   ]
  },
  {
   "attachments": {},
   "cell_type": "markdown",
   "id": "06a8d02d",
   "metadata": {},
   "source": [
    "### Mesh gateways"
   ]
  },
  {
   "cell_type": "code",
   "execution_count": 10,
   "id": "3b042d58",
   "metadata": {},
   "outputs": [],
   "source": [
    "#Temporal durante desarrollo\n",
    "backcc = cContainer.copy()#\n",
    "#cContainer = tbackcc.copy()\n",
    "#cContainer.to_csv(\"cContainer.csv\", index = False)"
   ]
  },
  {
   "cell_type": "code",
   "execution_count": null,
   "id": "f9fce051",
   "metadata": {},
   "outputs": [],
   "source": [
    "\n",
    "#Leyendo fecha de fName\n",
    "pattern = r\"([0-9]{4}-[0-9]{2}-[0-9]{2})\"\n",
    "cContainer[\"fDate\"] = cContainer[\"fName\"].str.extract(pattern)\n",
    "cContainer[\"fDate\"] = pd.to_datetime(cContainer[\"fDate\"], format = \"%Y-%m-%d\")\n",
    "cContainer[\"fDate\"] = cContainer[\"fDate\"].dt.date\n",
    "cContainer[\"fDate\"] = pd.to_datetime(cContainer[\"fDate\"])\n",
    "#Redondeando latitud y longitud\n",
    "cContainer[\"latitude\"] = cContainer[\"latitude\"].round(8)\n",
    "cContainer[\"longitude\"] = cContainer[\"longitude\"].round(8)\n",
    "#Modificando estampas de tiempo\n",
    "def modTime(x):\n",
    "    try:\n",
    "        return datetime.fromtimestamp(int(x)/1000)\n",
    "    except:\n",
    "        return np.nan\n",
    "\n",
    "cContainer[\"onBatteryBackupTimeStamp\"] = cContainer[\"onBatteryBackupTimeStamp\"].apply(modTime)\n",
    "cContainer[\"LastPacketReceived\"] = cContainer[\"LastPacketReceived\"].apply(modTime)\n",
    "cContainer[\"LastStatusChanged\"] = cContainer[\"LastStatusChanged\"].apply(modTime)\n",
    "#Eliminando columnas innecesarias\n",
    "cContainer.drop([\"altitude\",\"ipAddress\",\"notes\"], axis = 1, inplace = True)\n",
    "\n",
    "#Identificando cambios entre fechas\n",
    "cContainer = detect_changes(cContainer, [\"collectorId\",\"serialNumber\",\"radio\"],[\"CollectorNm\",\"StatusCode\",\"latitude\",\"longitude\"])\n",
    "\n",
    "#Identificando coordenadas duplicadas para validación\n",
    "cContainer[\"Dup\"] = \"NoDup\"\n",
    "cContainer.loc[cContainer.duplicated(subset = [\"latitude\",\"longitude\",\"fDate\"], keep = False), \"Dup\"] = \"Dup\"\n",
    "\n",
    "\n",
    "\n",
    "#Agregando columna de ronda\n",
    "for i, row in roundsDf.iterrows():\n",
    "    mask = (cContainer[\"fDate\"] >= row[\"fDate\"]) & (cContainer[\"fDate\"] < row[\"lDate\"])\n",
    "    cContainer.loc[mask,\"round\"] = row[\"round\"]\n",
    "#Quitando hora de fDate\n",
    "cContainer[\"fDate\"] = cContainer[\"fDate\"].dt.date\n",
    "cContainer.head()"
   ]
  },
  {
   "attachments": {},
   "cell_type": "markdown",
   "id": "cbf26f2e",
   "metadata": {},
   "source": [
    "#### Visualización de mesh gateways"
   ]
  },
  {
   "attachments": {},
   "cell_type": "markdown",
   "id": "49a0f73c",
   "metadata": {},
   "source": [
    "##### Coordenadas duplicadas"
   ]
  },
  {
   "cell_type": "code",
   "execution_count": 12,
   "id": "824494bb",
   "metadata": {},
   "outputs": [],
   "source": [
    "#Función para mapas discretos\n",
    "#Variables\n",
    "#Leyendo token de pickle\n",
    "with open(\"../Private/mapboxToken.pickle\", \"rb\") as f:\n",
    "    mapbox_access_token = pickle.load(f)\n",
    "\n",
    "#Widgets de entrada\n",
    "fDate = widgets.SelectionSlider(options = list(cContainer[\"fDate\"].unique()), description = \"Fecha\")\n",
    "#CollectorNm = widgets.Dropdown(options = list(cContainer[\"CollectorNm\"].unique()), description = \"Collector\")\n",
    "\n",
    "clrDic = {\"Dup\" : sClr1, \"NoDup\" : sClr3}\n",
    "wgDic = {\"fDate\":fDate}#,\"CollectorNm\":CollectorNm"
   ]
  },
  {
   "cell_type": "code",
   "execution_count": 13,
   "id": "5f99aa3c",
   "metadata": {},
   "outputs": [
    {
     "data": {
      "application/vnd.jupyter.widget-view+json": {
       "model_id": "e7fd6d68b3e04ab4b6a73c3408cbcf51",
       "version_major": 2,
       "version_minor": 0
      },
      "text/plain": [
       "Output()"
      ]
     },
     "metadata": {},
     "output_type": "display_data"
    },
    {
     "data": {
      "application/vnd.plotly.v1+json": {
       "config": {
        "plotlyServerURL": "https://plot.ly"
       },
       "data": [
        {
         "lat": [
          14.6005725,
          14.56675528,
          14.26693,
          14.58889972,
          14.66408722,
          14.61919778,
          14.63808056,
          14.5535375,
          14.63850972,
          14.59619528,
          14.53697194,
          14.55405222,
          14.39217556,
          14.4404125,
          14.51190944,
          13.93032083,
          14.66185583,
          14.73481167,
          14.2260075,
          14.69043722,
          14.66846472,
          14.72425472,
          14.47500222,
          14.65876583,
          14.14978972,
          13.89307028,
          14.088335,
          14.14395333,
          14.76202,
          14.00559417,
          14.63584889,
          14.72434056,
          14.69490056,
          14.60666639,
          14.36539639,
          14.76708417,
          14.60812556,
          14.53027722,
          14.50856222,
          14.31492806,
          14.55482472,
          14.50821889,
          14.68606,
          14.78347778,
          14.43414694,
          14.51448444,
          14.330223,
          13.931265,
          14.659195,
          14.48942194,
          14.53474056,
          13.92911917,
          13.91916278,
          14.22042833,
          14.75412361,
          14.81746667,
          14.39457889,
          14.37758444,
          14.40925611,
          14.39921389,
          14.32874667,
          14.75352278,
          14.20583722,
          14.59662444,
          14.6264075,
          14.51877583,
          14.77892889,
          14.73738667,
          14.38737,
          14.04409,
          14.16652667,
          14.54916,
          14.23527722,
          14.3944,
          13.91976361,
          14.38203,
          14.59250444,
          14.267034,
          14.40496444,
          14.45217139,
          14.5889,
          14.81109,
          14.27527417,
          13.92002111
         ],
         "lon": [
          -90.65763472,
          -90.46194083,
          -90.8858,
          -90.71290972,
          -90.50296778,
          -90.52356722,
          -90.49035083,
          -90.54390917,
          -90.60004222,
          -90.58562278,
          -90.59781083,
          -90.727415,
          -90.71187972,
          -90.64819333,
          -90.53695667,
          -90.81873889,
          -90.53575528,
          -90.58364861,
          -90.64270028,
          -90.75024611,
          -90.36031722,
          -90.54751389,
          -90.53944583,
          -90.70707333,
          -90.97065917,
          -90.48151028,
          -91.0552025,
          -90.78131667,
          -90.59635167,
          -91.10850333,
          -90.37302028,
          -90.64167028,
          -90.57043083,
          -90.39705278,
          -90.5659675,
          -90.4846,
          -90.76286306,
          -90.3753375,
          -90.35799972,
          -90.77702528,
          -90.40254583,
          -90.78912722,
          -90.39919861,
          -90.61858167,
          -90.44649111,
          -90.42889583,
          -91.051165,
          -90.65883639,
          -90.44228556,
          -90.48425667,
          -90.46829222,
          -91.14163389,
          -90.55867194,
          -91.19253167,
          -90.49927722,
          -90.52056306,
          -91.1053275,
          -90.92259417,
          -90.590515,
          -90.63652028,
          -90.99091528,
          -90.41576389,
          -90.8413125,
          -90.45687667,
          -90.33302306,
          -90.29405583,
          -90.45576083,
          -90.44846528,
          -90.7678414,
          -91.18033,
          -91.16000167,
          -90.8681775,
          -90.95160472,
          -91.1053,
          -90.95323556,
          -90.87348,
          -90.51180833,
          -90.887489,
          -90.82852361,
          -90.50030694,
          -90.7129,
          -90.62999,
          -91.09013556,
          -90.97374917
         ],
         "marker": {
          "color": "#304059",
          "size": 9
         },
         "mode": "markers",
         "name": "NoDup",
         "text": [
          "San Lucas_3008",
          "bosques3",
          "517044_5001",
          "336617_3001",
          "Sub Norte",
          "Castellana",
          "paz2",
          "Fiorentina2",
          "Tinco",
          "San Cristobal",
          "Barcenas_1064",
          "Antigua_3001",
          "Palin_5011",
          "Sauce_5011",
          "Alamos_1066",
          "Puerto_San_Jose_5009",
          "Naranjo 3",
          "181115_1059",
          "234065_5008(5)",
          "396052_3004",
          "186943_1054",
          "S/N_1058",
          "299798_1065",
          "Santa_Maria_Cauque_3004",
          "Milagro_5003",
          "450192_5007",
          "240842_5007",
          "Costa_Linda_5005",
          "380402_1060",
          "240932_5007",
          "190561_1054",
          "San_Juan_Sacatepequez_1059",
          "Ciudad_Quetzal",
          "164678_1052",
          "248103_1065",
          "352942_1056(2)",
          "238509_3003",
          "184441_1052",
          "406000_1052",
          "Marquez",
          "MonteCristo_1052",
          "235769_3012",
          "Llano_Largo_1017",
          "452784_1059",
          "141011_1062",
          "140145_1062",
          "518544_5001",
          "440941_5010",
          "Hector_Flores_1018",
          "121674_1062",
          "364277_1051",
          "339917_5021",
          "436446_6009",
          "100132_5002",
          "508233_1055",
          "173364_1061",
          "516498_5002",
          "277460_5001",
          "235281_1063",
          "269130_5012",
          "Santa_Lucia_5002",
          "192536_1056",
          "LIRIOS_5005",
          "Lomas de San Isidro 2",
          "Antigua_2",
          "434173_1052",
          "346600_1056",
          "189212_1056",
          "286925_5001(4)",
          "194760_5007",
          "344287_5002",
          "226093_4013",
          "426815_5003",
          "516498_5002(2)",
          "Marina3",
          "309257_5001(2)",
          "Aurora (2)",
          "262004_5001(2)",
          "222649_5001(3)",
          "250554_1065(2)",
          "336617_3001(2)",
          "511772_1059(2)",
          "446135_5002(2)",
          "Marina R"
         ],
         "type": "scattermapbox"
        },
        {
         "lat": [
          14.28729056,
          14.38736917,
          14.78141778,
          14.78141778,
          14.38736917,
          14.28729056,
          14.28729056
         ],
         "lon": [
          -90.56528083,
          -90.76784139,
          -90.36812778,
          -90.36812778,
          -90.76784139,
          -90.56528083,
          -90.56528083
         ],
         "marker": {
          "color": "#F56522",
          "size": 9
         },
         "mode": "markers",
         "name": "Dup",
         "text": [
          "229152_1065",
          "286925_5001(3)",
          "446840_1053(3)",
          "446840_1053(2)",
          "286925_5001(2)",
          "229152_1065(2)",
          "192536_1056(2)"
         ],
         "type": "scattermapbox"
        }
       ],
       "layout": {
        "height": 400,
        "mapbox": {
         "accesstoken": "pk.eyJ1IjoidmJvcnJheW8iLCJhIjoiY2xob2dvdTZlMXZuODNmbHJyYjVvMzIzeSJ9.aNrb8uXomKz2Qrk_GsABgA",
         "center": {
          "lat": 14.456267528241757,
          "lon": -90.66514384153847
         },
         "style": "mapbox://styles/mapbox/streets-v11",
         "zoom": 7.5
        },
        "margin": {
         "b": 10,
         "l": 10,
         "r": 50,
         "t": 30
        },
        "template": {
         "data": {
          "bar": [
           {
            "error_x": {
             "color": "#2a3f5f"
            },
            "error_y": {
             "color": "#2a3f5f"
            },
            "marker": {
             "line": {
              "color": "#E5ECF6",
              "width": 0.5
             },
             "pattern": {
              "fillmode": "overlay",
              "size": 10,
              "solidity": 0.2
             }
            },
            "type": "bar"
           }
          ],
          "barpolar": [
           {
            "marker": {
             "line": {
              "color": "#E5ECF6",
              "width": 0.5
             },
             "pattern": {
              "fillmode": "overlay",
              "size": 10,
              "solidity": 0.2
             }
            },
            "type": "barpolar"
           }
          ],
          "carpet": [
           {
            "aaxis": {
             "endlinecolor": "#2a3f5f",
             "gridcolor": "white",
             "linecolor": "white",
             "minorgridcolor": "white",
             "startlinecolor": "#2a3f5f"
            },
            "baxis": {
             "endlinecolor": "#2a3f5f",
             "gridcolor": "white",
             "linecolor": "white",
             "minorgridcolor": "white",
             "startlinecolor": "#2a3f5f"
            },
            "type": "carpet"
           }
          ],
          "choropleth": [
           {
            "colorbar": {
             "outlinewidth": 0,
             "ticks": ""
            },
            "type": "choropleth"
           }
          ],
          "contour": [
           {
            "colorbar": {
             "outlinewidth": 0,
             "ticks": ""
            },
            "colorscale": [
             [
              0,
              "#0d0887"
             ],
             [
              0.1111111111111111,
              "#46039f"
             ],
             [
              0.2222222222222222,
              "#7201a8"
             ],
             [
              0.3333333333333333,
              "#9c179e"
             ],
             [
              0.4444444444444444,
              "#bd3786"
             ],
             [
              0.5555555555555556,
              "#d8576b"
             ],
             [
              0.6666666666666666,
              "#ed7953"
             ],
             [
              0.7777777777777778,
              "#fb9f3a"
             ],
             [
              0.8888888888888888,
              "#fdca26"
             ],
             [
              1,
              "#f0f921"
             ]
            ],
            "type": "contour"
           }
          ],
          "contourcarpet": [
           {
            "colorbar": {
             "outlinewidth": 0,
             "ticks": ""
            },
            "type": "contourcarpet"
           }
          ],
          "heatmap": [
           {
            "colorbar": {
             "outlinewidth": 0,
             "ticks": ""
            },
            "colorscale": [
             [
              0,
              "#0d0887"
             ],
             [
              0.1111111111111111,
              "#46039f"
             ],
             [
              0.2222222222222222,
              "#7201a8"
             ],
             [
              0.3333333333333333,
              "#9c179e"
             ],
             [
              0.4444444444444444,
              "#bd3786"
             ],
             [
              0.5555555555555556,
              "#d8576b"
             ],
             [
              0.6666666666666666,
              "#ed7953"
             ],
             [
              0.7777777777777778,
              "#fb9f3a"
             ],
             [
              0.8888888888888888,
              "#fdca26"
             ],
             [
              1,
              "#f0f921"
             ]
            ],
            "type": "heatmap"
           }
          ],
          "heatmapgl": [
           {
            "colorbar": {
             "outlinewidth": 0,
             "ticks": ""
            },
            "colorscale": [
             [
              0,
              "#0d0887"
             ],
             [
              0.1111111111111111,
              "#46039f"
             ],
             [
              0.2222222222222222,
              "#7201a8"
             ],
             [
              0.3333333333333333,
              "#9c179e"
             ],
             [
              0.4444444444444444,
              "#bd3786"
             ],
             [
              0.5555555555555556,
              "#d8576b"
             ],
             [
              0.6666666666666666,
              "#ed7953"
             ],
             [
              0.7777777777777778,
              "#fb9f3a"
             ],
             [
              0.8888888888888888,
              "#fdca26"
             ],
             [
              1,
              "#f0f921"
             ]
            ],
            "type": "heatmapgl"
           }
          ],
          "histogram": [
           {
            "marker": {
             "pattern": {
              "fillmode": "overlay",
              "size": 10,
              "solidity": 0.2
             }
            },
            "type": "histogram"
           }
          ],
          "histogram2d": [
           {
            "colorbar": {
             "outlinewidth": 0,
             "ticks": ""
            },
            "colorscale": [
             [
              0,
              "#0d0887"
             ],
             [
              0.1111111111111111,
              "#46039f"
             ],
             [
              0.2222222222222222,
              "#7201a8"
             ],
             [
              0.3333333333333333,
              "#9c179e"
             ],
             [
              0.4444444444444444,
              "#bd3786"
             ],
             [
              0.5555555555555556,
              "#d8576b"
             ],
             [
              0.6666666666666666,
              "#ed7953"
             ],
             [
              0.7777777777777778,
              "#fb9f3a"
             ],
             [
              0.8888888888888888,
              "#fdca26"
             ],
             [
              1,
              "#f0f921"
             ]
            ],
            "type": "histogram2d"
           }
          ],
          "histogram2dcontour": [
           {
            "colorbar": {
             "outlinewidth": 0,
             "ticks": ""
            },
            "colorscale": [
             [
              0,
              "#0d0887"
             ],
             [
              0.1111111111111111,
              "#46039f"
             ],
             [
              0.2222222222222222,
              "#7201a8"
             ],
             [
              0.3333333333333333,
              "#9c179e"
             ],
             [
              0.4444444444444444,
              "#bd3786"
             ],
             [
              0.5555555555555556,
              "#d8576b"
             ],
             [
              0.6666666666666666,
              "#ed7953"
             ],
             [
              0.7777777777777778,
              "#fb9f3a"
             ],
             [
              0.8888888888888888,
              "#fdca26"
             ],
             [
              1,
              "#f0f921"
             ]
            ],
            "type": "histogram2dcontour"
           }
          ],
          "mesh3d": [
           {
            "colorbar": {
             "outlinewidth": 0,
             "ticks": ""
            },
            "type": "mesh3d"
           }
          ],
          "parcoords": [
           {
            "line": {
             "colorbar": {
              "outlinewidth": 0,
              "ticks": ""
             }
            },
            "type": "parcoords"
           }
          ],
          "pie": [
           {
            "automargin": true,
            "type": "pie"
           }
          ],
          "scatter": [
           {
            "fillpattern": {
             "fillmode": "overlay",
             "size": 10,
             "solidity": 0.2
            },
            "type": "scatter"
           }
          ],
          "scatter3d": [
           {
            "line": {
             "colorbar": {
              "outlinewidth": 0,
              "ticks": ""
             }
            },
            "marker": {
             "colorbar": {
              "outlinewidth": 0,
              "ticks": ""
             }
            },
            "type": "scatter3d"
           }
          ],
          "scattercarpet": [
           {
            "marker": {
             "colorbar": {
              "outlinewidth": 0,
              "ticks": ""
             }
            },
            "type": "scattercarpet"
           }
          ],
          "scattergeo": [
           {
            "marker": {
             "colorbar": {
              "outlinewidth": 0,
              "ticks": ""
             }
            },
            "type": "scattergeo"
           }
          ],
          "scattergl": [
           {
            "marker": {
             "colorbar": {
              "outlinewidth": 0,
              "ticks": ""
             }
            },
            "type": "scattergl"
           }
          ],
          "scattermapbox": [
           {
            "marker": {
             "colorbar": {
              "outlinewidth": 0,
              "ticks": ""
             }
            },
            "type": "scattermapbox"
           }
          ],
          "scatterpolar": [
           {
            "marker": {
             "colorbar": {
              "outlinewidth": 0,
              "ticks": ""
             }
            },
            "type": "scatterpolar"
           }
          ],
          "scatterpolargl": [
           {
            "marker": {
             "colorbar": {
              "outlinewidth": 0,
              "ticks": ""
             }
            },
            "type": "scatterpolargl"
           }
          ],
          "scatterternary": [
           {
            "marker": {
             "colorbar": {
              "outlinewidth": 0,
              "ticks": ""
             }
            },
            "type": "scatterternary"
           }
          ],
          "surface": [
           {
            "colorbar": {
             "outlinewidth": 0,
             "ticks": ""
            },
            "colorscale": [
             [
              0,
              "#0d0887"
             ],
             [
              0.1111111111111111,
              "#46039f"
             ],
             [
              0.2222222222222222,
              "#7201a8"
             ],
             [
              0.3333333333333333,
              "#9c179e"
             ],
             [
              0.4444444444444444,
              "#bd3786"
             ],
             [
              0.5555555555555556,
              "#d8576b"
             ],
             [
              0.6666666666666666,
              "#ed7953"
             ],
             [
              0.7777777777777778,
              "#fb9f3a"
             ],
             [
              0.8888888888888888,
              "#fdca26"
             ],
             [
              1,
              "#f0f921"
             ]
            ],
            "type": "surface"
           }
          ],
          "table": [
           {
            "cells": {
             "fill": {
              "color": "#EBF0F8"
             },
             "line": {
              "color": "white"
             }
            },
            "header": {
             "fill": {
              "color": "#C8D4E3"
             },
             "line": {
              "color": "white"
             }
            },
            "type": "table"
           }
          ]
         },
         "layout": {
          "annotationdefaults": {
           "arrowcolor": "#2a3f5f",
           "arrowhead": 0,
           "arrowwidth": 1
          },
          "autotypenumbers": "strict",
          "coloraxis": {
           "colorbar": {
            "outlinewidth": 0,
            "ticks": ""
           }
          },
          "colorscale": {
           "diverging": [
            [
             0,
             "#8e0152"
            ],
            [
             0.1,
             "#c51b7d"
            ],
            [
             0.2,
             "#de77ae"
            ],
            [
             0.3,
             "#f1b6da"
            ],
            [
             0.4,
             "#fde0ef"
            ],
            [
             0.5,
             "#f7f7f7"
            ],
            [
             0.6,
             "#e6f5d0"
            ],
            [
             0.7,
             "#b8e186"
            ],
            [
             0.8,
             "#7fbc41"
            ],
            [
             0.9,
             "#4d9221"
            ],
            [
             1,
             "#276419"
            ]
           ],
           "sequential": [
            [
             0,
             "#0d0887"
            ],
            [
             0.1111111111111111,
             "#46039f"
            ],
            [
             0.2222222222222222,
             "#7201a8"
            ],
            [
             0.3333333333333333,
             "#9c179e"
            ],
            [
             0.4444444444444444,
             "#bd3786"
            ],
            [
             0.5555555555555556,
             "#d8576b"
            ],
            [
             0.6666666666666666,
             "#ed7953"
            ],
            [
             0.7777777777777778,
             "#fb9f3a"
            ],
            [
             0.8888888888888888,
             "#fdca26"
            ],
            [
             1,
             "#f0f921"
            ]
           ],
           "sequentialminus": [
            [
             0,
             "#0d0887"
            ],
            [
             0.1111111111111111,
             "#46039f"
            ],
            [
             0.2222222222222222,
             "#7201a8"
            ],
            [
             0.3333333333333333,
             "#9c179e"
            ],
            [
             0.4444444444444444,
             "#bd3786"
            ],
            [
             0.5555555555555556,
             "#d8576b"
            ],
            [
             0.6666666666666666,
             "#ed7953"
            ],
            [
             0.7777777777777778,
             "#fb9f3a"
            ],
            [
             0.8888888888888888,
             "#fdca26"
            ],
            [
             1,
             "#f0f921"
            ]
           ]
          },
          "colorway": [
           "#636efa",
           "#EF553B",
           "#00cc96",
           "#ab63fa",
           "#FFA15A",
           "#19d3f3",
           "#FF6692",
           "#B6E880",
           "#FF97FF",
           "#FECB52"
          ],
          "font": {
           "color": "#2a3f5f"
          },
          "geo": {
           "bgcolor": "white",
           "lakecolor": "white",
           "landcolor": "#E5ECF6",
           "showlakes": true,
           "showland": true,
           "subunitcolor": "white"
          },
          "hoverlabel": {
           "align": "left"
          },
          "hovermode": "closest",
          "mapbox": {
           "style": "light"
          },
          "paper_bgcolor": "white",
          "plot_bgcolor": "#E5ECF6",
          "polar": {
           "angularaxis": {
            "gridcolor": "white",
            "linecolor": "white",
            "ticks": ""
           },
           "bgcolor": "#E5ECF6",
           "radialaxis": {
            "gridcolor": "white",
            "linecolor": "white",
            "ticks": ""
           }
          },
          "scene": {
           "xaxis": {
            "backgroundcolor": "#E5ECF6",
            "gridcolor": "white",
            "gridwidth": 2,
            "linecolor": "white",
            "showbackground": true,
            "ticks": "",
            "zerolinecolor": "white"
           },
           "yaxis": {
            "backgroundcolor": "#E5ECF6",
            "gridcolor": "white",
            "gridwidth": 2,
            "linecolor": "white",
            "showbackground": true,
            "ticks": "",
            "zerolinecolor": "white"
           },
           "zaxis": {
            "backgroundcolor": "#E5ECF6",
            "gridcolor": "white",
            "gridwidth": 2,
            "linecolor": "white",
            "showbackground": true,
            "ticks": "",
            "zerolinecolor": "white"
           }
          },
          "shapedefaults": {
           "line": {
            "color": "#2a3f5f"
           }
          },
          "ternary": {
           "aaxis": {
            "gridcolor": "white",
            "linecolor": "white",
            "ticks": ""
           },
           "baxis": {
            "gridcolor": "white",
            "linecolor": "white",
            "ticks": ""
           },
           "bgcolor": "#E5ECF6",
           "caxis": {
            "gridcolor": "white",
            "linecolor": "white",
            "ticks": ""
           }
          },
          "title": {
           "x": 0.05
          },
          "xaxis": {
           "automargin": true,
           "gridcolor": "white",
           "linecolor": "white",
           "ticks": "",
           "title": {
            "standoff": 15
           },
           "zerolinecolor": "white",
           "zerolinewidth": 2
          },
          "yaxis": {
           "automargin": true,
           "gridcolor": "white",
           "linecolor": "white",
           "ticks": "",
           "title": {
            "standoff": 15
           },
           "zerolinecolor": "white",
           "zerolinewidth": 2
          }
         }
        },
        "title": {
         "text": "Mesh Gateways DupCoords - Ronda pData_1",
         "x": 0.5
        },
        "width": 600
       }
      }
     },
     "metadata": {},
     "output_type": "display_data"
    },
    {
     "data": {
      "application/vnd.jupyter.widget-view+json": {
       "model_id": "6d775387e98247c584962dd0deebd77d",
       "version_major": 2,
       "version_minor": 0
      },
      "text/plain": [
       "interactive(children=(SelectionSlider(description='Fecha', options=(datetime.date(2023, 2, 19), datetime.date(…"
      ]
     },
     "metadata": {},
     "output_type": "display_data"
    }
   ],
   "source": [
    "#Función para mapas discretos\n",
    "Rdiscrete_map(cContainer,clrDic,\"Dup\",wgDic,\"Mesh Gateways DupCoords\")"
   ]
  },
  {
   "cell_type": "code",
   "execution_count": 14,
   "id": "01b391cd",
   "metadata": {},
   "outputs": [],
   "source": [
    "#Widgets de entrada\n",
    "fDate2 = widgets.SelectionSlider(options = list(cContainer[\"fDate\"].unique()), description = \"Fecha\")\n",
    "clrDic2 = {\"Cambio\" : sClr1, \"NoCambio\" : sClr3}\n",
    "wgDic2 = {\"fDate\":fDate2}#,\"CollectorNm\":CollectorNm"
   ]
  },
  {
   "cell_type": "code",
   "execution_count": 15,
   "id": "523e09be",
   "metadata": {},
   "outputs": [
    {
     "data": {
      "application/vnd.jupyter.widget-view+json": {
       "model_id": "1fbf743fe5944be2923cac7db9f28cac",
       "version_major": 2,
       "version_minor": 0
      },
      "text/plain": [
       "Output()"
      ]
     },
     "metadata": {},
     "output_type": "display_data"
    },
    {
     "data": {
      "application/vnd.plotly.v1+json": {
       "config": {
        "plotlyServerURL": "https://plot.ly"
       },
       "data": [
        {
         "lat": [
          14.6005725,
          14.56675528,
          14.66408722,
          14.61919778,
          14.63808056,
          14.5535375,
          14.63850972,
          14.59619528,
          14.53697194,
          14.62028,
          14.39217556,
          14.51190944,
          13.93032083,
          14.66185583,
          14.73481167,
          14.69043722,
          14.66846472,
          14.72425472,
          14.47500222,
          14.65876583,
          14.14978972,
          13.89307028,
          14.088335,
          14.14395333,
          14.76202,
          14.00559417,
          14.4404125,
          14.72434056,
          14.69490056,
          14.60666639,
          14.36539639,
          14.76708417,
          14.60812556,
          14.53027722,
          14.50856222,
          14.31492806,
          14.55482472,
          14.50821889,
          14.68606,
          14.78347778,
          14.43414694,
          14.51448444,
          14.330223,
          13.931265,
          14.659195,
          14.48942194,
          14.53474056,
          13.92911917,
          13.91916278,
          14.22042833,
          14.75412361,
          14.81746667,
          14.37758444,
          14.40925611,
          14.39921389,
          14.32874667,
          14.78141778,
          14.75352278,
          14.20583722,
          14.59662444,
          14.55396639,
          14.51877583,
          14.77892889,
          14.73738667,
          14.04409,
          14.16652667,
          14.54916,
          14.23527722,
          13.91976361,
          14.38203,
          14.59250444,
          14.267034,
          14.40496444,
          14.45217139,
          14.5889,
          14.81109,
          14.27527417,
          13.92002111,
          14.28729056,
          14.28729056
         ],
         "lon": [
          -90.65763472,
          -90.46194083,
          -90.50296778,
          -90.52356722,
          -90.49035083,
          -90.54390917,
          -90.60004222,
          -90.58562278,
          -90.59781083,
          -90.523,
          -90.71187972,
          -90.53695667,
          -90.81873889,
          -90.53575528,
          -90.58364861,
          -90.75024611,
          -90.36031722,
          -90.54751389,
          -90.53944583,
          -90.70707333,
          -90.97065917,
          -90.48151028,
          -91.0552025,
          -90.78131667,
          -90.59635167,
          -91.10850333,
          -90.64819333,
          -90.64167028,
          -90.57043083,
          -90.39705278,
          -90.5659675,
          -90.4846,
          -90.76286306,
          -90.3753375,
          -90.35799972,
          -90.77702528,
          -90.40254583,
          -90.78912722,
          -90.39919861,
          -90.61858167,
          -90.44649111,
          -90.42889583,
          -91.051165,
          -90.65883639,
          -90.44228556,
          -90.48425667,
          -90.46829222,
          -91.14163389,
          -90.55867194,
          -91.19253167,
          -90.49927722,
          -90.52056306,
          -90.92259417,
          -90.590515,
          -90.63652028,
          -90.99091528,
          -90.36812778,
          -90.41576389,
          -90.8413125,
          -90.45687667,
          -90.727415,
          -90.29405583,
          -90.45576083,
          -90.44846528,
          -91.18033,
          -91.16000167,
          -90.8681775,
          -90.95160472,
          -90.95323556,
          -90.87348,
          -90.51180833,
          -90.887489,
          -90.82852361,
          -90.50030694,
          -90.7129,
          -90.62999,
          -91.09013556,
          -90.97374917,
          -90.56528083,
          -90.56528083
         ],
         "marker": {
          "color": "#304059",
          "size": 9
         },
         "mode": "markers",
         "name": "NoCambio",
         "text": [
          "San Lucas_3008",
          "bosques3",
          "Sub Norte",
          "Castellana",
          "paz2",
          "Fiorentina2",
          "Tinco",
          "San Cristobal",
          "Barcenas_1064",
          "Castellana_Pruebas",
          "Palin_5011",
          "Alamos_1066",
          "Puerto_San_Jose_5009",
          "Naranjo 3",
          "181115_1059",
          "396052_3004",
          "186943_1054",
          "S/N_1058",
          "299798_1065",
          "Santa_Maria_Cauque_3004",
          "Milagro_5003",
          "450192_5007",
          "240842_5007",
          "Costa_Linda_5005",
          "380402_1060",
          "240932_5007",
          "Sauce_5011(2)",
          "San_Juan_Sacatepequez_1059",
          "Ciudad_Quetzal",
          "164678_1052",
          "248103_1065",
          "352942_1056(2)",
          "238509_3003",
          "184441_1052",
          "406000_1052",
          "Marquez",
          "MonteCristo_1052",
          "235769_3012",
          "Llano_Largo_1017",
          "452784_1059",
          "141011_1062",
          "140145_1062",
          "518544_5001",
          "440941_5010",
          "Hector_Flores_1018",
          "121674_1062",
          "364277_1051",
          "339917_5021",
          "436446_6009",
          "100132_5002",
          "508233_1055",
          "173364_1061",
          "277460_5001",
          "235281_1063",
          "269130_5012",
          "Santa_Lucia_5002",
          "446840_1053(3)",
          "192536_1056",
          "LIRIOS_5005",
          "Lomas de San Isidro 2",
          "Antigua_2",
          "434173_1052",
          "346600_1056",
          "189212_1056",
          "194760_5007",
          "344287_5002",
          "226093_4013",
          "426815_5003",
          "Marina3",
          "309257_5001(2)",
          "Aurora (2)",
          "262004_5001(2)",
          "222649_5001(3)",
          "250554_1065(2)",
          "336617_3001(2)",
          "511772_1059(2)",
          "446135_5002(2)",
          "Marina R",
          "229152_1065(2)",
          "192536_1056(2)"
         ],
         "type": "scattermapbox"
        },
        {
         "lat": [
          14.620191,
          14.620191,
          14.620191,
          14.22669417,
          14.620191,
          14.620191,
          14.620191,
          14.620191,
          14.620191,
          14.620191,
          14.620191
         ],
         "lon": [
          -90.523076,
          -90.523076,
          -90.523076,
          -90.64218528,
          -90.523076,
          -90.523076,
          -90.523076,
          -90.523076,
          -90.523076,
          -90.523076,
          -90.523076
         ],
         "marker": {
          "color": "#F56522",
          "size": 9
         },
         "mode": "markers",
         "name": "Cambio",
         "text": [
          "517044_5001",
          "336617_3001",
          "Sauce_5011",
          "267164_5008(5)",
          "229152_1065",
          "286925_5001(3)",
          "516498_5002",
          "446840_1053(2)",
          "286925_5001(4)",
          "516498_5002(2)",
          "286925_5001(2)"
         ],
         "type": "scattermapbox"
        }
       ],
       "layout": {
        "height": 400,
        "mapbox": {
         "accesstoken": "pk.eyJ1IjoidmJvcnJheW8iLCJhIjoiY2xob2dvdTZlMXZuODNmbHJyYjVvMzIzeSJ9.aNrb8uXomKz2Qrk_GsABgA",
         "center": {
          "lat": 14.474783013516484,
          "lon": -90.64317605747253
         },
         "style": "mapbox://styles/mapbox/streets-v11",
         "zoom": 7.5
        },
        "margin": {
         "b": 10,
         "l": 10,
         "r": 50,
         "t": 30
        },
        "template": {
         "data": {
          "bar": [
           {
            "error_x": {
             "color": "#2a3f5f"
            },
            "error_y": {
             "color": "#2a3f5f"
            },
            "marker": {
             "line": {
              "color": "#E5ECF6",
              "width": 0.5
             },
             "pattern": {
              "fillmode": "overlay",
              "size": 10,
              "solidity": 0.2
             }
            },
            "type": "bar"
           }
          ],
          "barpolar": [
           {
            "marker": {
             "line": {
              "color": "#E5ECF6",
              "width": 0.5
             },
             "pattern": {
              "fillmode": "overlay",
              "size": 10,
              "solidity": 0.2
             }
            },
            "type": "barpolar"
           }
          ],
          "carpet": [
           {
            "aaxis": {
             "endlinecolor": "#2a3f5f",
             "gridcolor": "white",
             "linecolor": "white",
             "minorgridcolor": "white",
             "startlinecolor": "#2a3f5f"
            },
            "baxis": {
             "endlinecolor": "#2a3f5f",
             "gridcolor": "white",
             "linecolor": "white",
             "minorgridcolor": "white",
             "startlinecolor": "#2a3f5f"
            },
            "type": "carpet"
           }
          ],
          "choropleth": [
           {
            "colorbar": {
             "outlinewidth": 0,
             "ticks": ""
            },
            "type": "choropleth"
           }
          ],
          "contour": [
           {
            "colorbar": {
             "outlinewidth": 0,
             "ticks": ""
            },
            "colorscale": [
             [
              0,
              "#0d0887"
             ],
             [
              0.1111111111111111,
              "#46039f"
             ],
             [
              0.2222222222222222,
              "#7201a8"
             ],
             [
              0.3333333333333333,
              "#9c179e"
             ],
             [
              0.4444444444444444,
              "#bd3786"
             ],
             [
              0.5555555555555556,
              "#d8576b"
             ],
             [
              0.6666666666666666,
              "#ed7953"
             ],
             [
              0.7777777777777778,
              "#fb9f3a"
             ],
             [
              0.8888888888888888,
              "#fdca26"
             ],
             [
              1,
              "#f0f921"
             ]
            ],
            "type": "contour"
           }
          ],
          "contourcarpet": [
           {
            "colorbar": {
             "outlinewidth": 0,
             "ticks": ""
            },
            "type": "contourcarpet"
           }
          ],
          "heatmap": [
           {
            "colorbar": {
             "outlinewidth": 0,
             "ticks": ""
            },
            "colorscale": [
             [
              0,
              "#0d0887"
             ],
             [
              0.1111111111111111,
              "#46039f"
             ],
             [
              0.2222222222222222,
              "#7201a8"
             ],
             [
              0.3333333333333333,
              "#9c179e"
             ],
             [
              0.4444444444444444,
              "#bd3786"
             ],
             [
              0.5555555555555556,
              "#d8576b"
             ],
             [
              0.6666666666666666,
              "#ed7953"
             ],
             [
              0.7777777777777778,
              "#fb9f3a"
             ],
             [
              0.8888888888888888,
              "#fdca26"
             ],
             [
              1,
              "#f0f921"
             ]
            ],
            "type": "heatmap"
           }
          ],
          "heatmapgl": [
           {
            "colorbar": {
             "outlinewidth": 0,
             "ticks": ""
            },
            "colorscale": [
             [
              0,
              "#0d0887"
             ],
             [
              0.1111111111111111,
              "#46039f"
             ],
             [
              0.2222222222222222,
              "#7201a8"
             ],
             [
              0.3333333333333333,
              "#9c179e"
             ],
             [
              0.4444444444444444,
              "#bd3786"
             ],
             [
              0.5555555555555556,
              "#d8576b"
             ],
             [
              0.6666666666666666,
              "#ed7953"
             ],
             [
              0.7777777777777778,
              "#fb9f3a"
             ],
             [
              0.8888888888888888,
              "#fdca26"
             ],
             [
              1,
              "#f0f921"
             ]
            ],
            "type": "heatmapgl"
           }
          ],
          "histogram": [
           {
            "marker": {
             "pattern": {
              "fillmode": "overlay",
              "size": 10,
              "solidity": 0.2
             }
            },
            "type": "histogram"
           }
          ],
          "histogram2d": [
           {
            "colorbar": {
             "outlinewidth": 0,
             "ticks": ""
            },
            "colorscale": [
             [
              0,
              "#0d0887"
             ],
             [
              0.1111111111111111,
              "#46039f"
             ],
             [
              0.2222222222222222,
              "#7201a8"
             ],
             [
              0.3333333333333333,
              "#9c179e"
             ],
             [
              0.4444444444444444,
              "#bd3786"
             ],
             [
              0.5555555555555556,
              "#d8576b"
             ],
             [
              0.6666666666666666,
              "#ed7953"
             ],
             [
              0.7777777777777778,
              "#fb9f3a"
             ],
             [
              0.8888888888888888,
              "#fdca26"
             ],
             [
              1,
              "#f0f921"
             ]
            ],
            "type": "histogram2d"
           }
          ],
          "histogram2dcontour": [
           {
            "colorbar": {
             "outlinewidth": 0,
             "ticks": ""
            },
            "colorscale": [
             [
              0,
              "#0d0887"
             ],
             [
              0.1111111111111111,
              "#46039f"
             ],
             [
              0.2222222222222222,
              "#7201a8"
             ],
             [
              0.3333333333333333,
              "#9c179e"
             ],
             [
              0.4444444444444444,
              "#bd3786"
             ],
             [
              0.5555555555555556,
              "#d8576b"
             ],
             [
              0.6666666666666666,
              "#ed7953"
             ],
             [
              0.7777777777777778,
              "#fb9f3a"
             ],
             [
              0.8888888888888888,
              "#fdca26"
             ],
             [
              1,
              "#f0f921"
             ]
            ],
            "type": "histogram2dcontour"
           }
          ],
          "mesh3d": [
           {
            "colorbar": {
             "outlinewidth": 0,
             "ticks": ""
            },
            "type": "mesh3d"
           }
          ],
          "parcoords": [
           {
            "line": {
             "colorbar": {
              "outlinewidth": 0,
              "ticks": ""
             }
            },
            "type": "parcoords"
           }
          ],
          "pie": [
           {
            "automargin": true,
            "type": "pie"
           }
          ],
          "scatter": [
           {
            "fillpattern": {
             "fillmode": "overlay",
             "size": 10,
             "solidity": 0.2
            },
            "type": "scatter"
           }
          ],
          "scatter3d": [
           {
            "line": {
             "colorbar": {
              "outlinewidth": 0,
              "ticks": ""
             }
            },
            "marker": {
             "colorbar": {
              "outlinewidth": 0,
              "ticks": ""
             }
            },
            "type": "scatter3d"
           }
          ],
          "scattercarpet": [
           {
            "marker": {
             "colorbar": {
              "outlinewidth": 0,
              "ticks": ""
             }
            },
            "type": "scattercarpet"
           }
          ],
          "scattergeo": [
           {
            "marker": {
             "colorbar": {
              "outlinewidth": 0,
              "ticks": ""
             }
            },
            "type": "scattergeo"
           }
          ],
          "scattergl": [
           {
            "marker": {
             "colorbar": {
              "outlinewidth": 0,
              "ticks": ""
             }
            },
            "type": "scattergl"
           }
          ],
          "scattermapbox": [
           {
            "marker": {
             "colorbar": {
              "outlinewidth": 0,
              "ticks": ""
             }
            },
            "type": "scattermapbox"
           }
          ],
          "scatterpolar": [
           {
            "marker": {
             "colorbar": {
              "outlinewidth": 0,
              "ticks": ""
             }
            },
            "type": "scatterpolar"
           }
          ],
          "scatterpolargl": [
           {
            "marker": {
             "colorbar": {
              "outlinewidth": 0,
              "ticks": ""
             }
            },
            "type": "scatterpolargl"
           }
          ],
          "scatterternary": [
           {
            "marker": {
             "colorbar": {
              "outlinewidth": 0,
              "ticks": ""
             }
            },
            "type": "scatterternary"
           }
          ],
          "surface": [
           {
            "colorbar": {
             "outlinewidth": 0,
             "ticks": ""
            },
            "colorscale": [
             [
              0,
              "#0d0887"
             ],
             [
              0.1111111111111111,
              "#46039f"
             ],
             [
              0.2222222222222222,
              "#7201a8"
             ],
             [
              0.3333333333333333,
              "#9c179e"
             ],
             [
              0.4444444444444444,
              "#bd3786"
             ],
             [
              0.5555555555555556,
              "#d8576b"
             ],
             [
              0.6666666666666666,
              "#ed7953"
             ],
             [
              0.7777777777777778,
              "#fb9f3a"
             ],
             [
              0.8888888888888888,
              "#fdca26"
             ],
             [
              1,
              "#f0f921"
             ]
            ],
            "type": "surface"
           }
          ],
          "table": [
           {
            "cells": {
             "fill": {
              "color": "#EBF0F8"
             },
             "line": {
              "color": "white"
             }
            },
            "header": {
             "fill": {
              "color": "#C8D4E3"
             },
             "line": {
              "color": "white"
             }
            },
            "type": "table"
           }
          ]
         },
         "layout": {
          "annotationdefaults": {
           "arrowcolor": "#2a3f5f",
           "arrowhead": 0,
           "arrowwidth": 1
          },
          "autotypenumbers": "strict",
          "coloraxis": {
           "colorbar": {
            "outlinewidth": 0,
            "ticks": ""
           }
          },
          "colorscale": {
           "diverging": [
            [
             0,
             "#8e0152"
            ],
            [
             0.1,
             "#c51b7d"
            ],
            [
             0.2,
             "#de77ae"
            ],
            [
             0.3,
             "#f1b6da"
            ],
            [
             0.4,
             "#fde0ef"
            ],
            [
             0.5,
             "#f7f7f7"
            ],
            [
             0.6,
             "#e6f5d0"
            ],
            [
             0.7,
             "#b8e186"
            ],
            [
             0.8,
             "#7fbc41"
            ],
            [
             0.9,
             "#4d9221"
            ],
            [
             1,
             "#276419"
            ]
           ],
           "sequential": [
            [
             0,
             "#0d0887"
            ],
            [
             0.1111111111111111,
             "#46039f"
            ],
            [
             0.2222222222222222,
             "#7201a8"
            ],
            [
             0.3333333333333333,
             "#9c179e"
            ],
            [
             0.4444444444444444,
             "#bd3786"
            ],
            [
             0.5555555555555556,
             "#d8576b"
            ],
            [
             0.6666666666666666,
             "#ed7953"
            ],
            [
             0.7777777777777778,
             "#fb9f3a"
            ],
            [
             0.8888888888888888,
             "#fdca26"
            ],
            [
             1,
             "#f0f921"
            ]
           ],
           "sequentialminus": [
            [
             0,
             "#0d0887"
            ],
            [
             0.1111111111111111,
             "#46039f"
            ],
            [
             0.2222222222222222,
             "#7201a8"
            ],
            [
             0.3333333333333333,
             "#9c179e"
            ],
            [
             0.4444444444444444,
             "#bd3786"
            ],
            [
             0.5555555555555556,
             "#d8576b"
            ],
            [
             0.6666666666666666,
             "#ed7953"
            ],
            [
             0.7777777777777778,
             "#fb9f3a"
            ],
            [
             0.8888888888888888,
             "#fdca26"
            ],
            [
             1,
             "#f0f921"
            ]
           ]
          },
          "colorway": [
           "#636efa",
           "#EF553B",
           "#00cc96",
           "#ab63fa",
           "#FFA15A",
           "#19d3f3",
           "#FF6692",
           "#B6E880",
           "#FF97FF",
           "#FECB52"
          ],
          "font": {
           "color": "#2a3f5f"
          },
          "geo": {
           "bgcolor": "white",
           "lakecolor": "white",
           "landcolor": "#E5ECF6",
           "showlakes": true,
           "showland": true,
           "subunitcolor": "white"
          },
          "hoverlabel": {
           "align": "left"
          },
          "hovermode": "closest",
          "mapbox": {
           "style": "light"
          },
          "paper_bgcolor": "white",
          "plot_bgcolor": "#E5ECF6",
          "polar": {
           "angularaxis": {
            "gridcolor": "white",
            "linecolor": "white",
            "ticks": ""
           },
           "bgcolor": "#E5ECF6",
           "radialaxis": {
            "gridcolor": "white",
            "linecolor": "white",
            "ticks": ""
           }
          },
          "scene": {
           "xaxis": {
            "backgroundcolor": "#E5ECF6",
            "gridcolor": "white",
            "gridwidth": 2,
            "linecolor": "white",
            "showbackground": true,
            "ticks": "",
            "zerolinecolor": "white"
           },
           "yaxis": {
            "backgroundcolor": "#E5ECF6",
            "gridcolor": "white",
            "gridwidth": 2,
            "linecolor": "white",
            "showbackground": true,
            "ticks": "",
            "zerolinecolor": "white"
           },
           "zaxis": {
            "backgroundcolor": "#E5ECF6",
            "gridcolor": "white",
            "gridwidth": 2,
            "linecolor": "white",
            "showbackground": true,
            "ticks": "",
            "zerolinecolor": "white"
           }
          },
          "shapedefaults": {
           "line": {
            "color": "#2a3f5f"
           }
          },
          "ternary": {
           "aaxis": {
            "gridcolor": "white",
            "linecolor": "white",
            "ticks": ""
           },
           "baxis": {
            "gridcolor": "white",
            "linecolor": "white",
            "ticks": ""
           },
           "bgcolor": "#E5ECF6",
           "caxis": {
            "gridcolor": "white",
            "linecolor": "white",
            "ticks": ""
           }
          },
          "title": {
           "x": 0.05
          },
          "xaxis": {
           "automargin": true,
           "gridcolor": "white",
           "linecolor": "white",
           "ticks": "",
           "title": {
            "standoff": 15
           },
           "zerolinecolor": "white",
           "zerolinewidth": 2
          },
          "yaxis": {
           "automargin": true,
           "gridcolor": "white",
           "linecolor": "white",
           "ticks": "",
           "title": {
            "standoff": 15
           },
           "zerolinecolor": "white",
           "zerolinewidth": 2
          }
         }
        },
        "title": {
         "text": "Mesh Gateways Cambios - Ronda pData_9",
         "x": 0.5
        },
        "width": 600
       }
      }
     },
     "metadata": {},
     "output_type": "display_data"
    },
    {
     "data": {
      "application/vnd.jupyter.widget-view+json": {
       "model_id": "4825e25c320440df89e71d7ea4d368ce",
       "version_major": 2,
       "version_minor": 0
      },
      "text/plain": [
       "interactive(children=(SelectionSlider(description='Fecha', options=(datetime.date(2023, 2, 19), datetime.date(…"
      ]
     },
     "metadata": {},
     "output_type": "display_data"
    }
   ],
   "source": [
    "#Mapa de cambios en mesh gateway\n",
    "Rdiscrete_map(cContainer,clrDic2,\"Change\",wgDic2,\"Mesh Gateways Cambios\")"
   ]
  },
  {
   "attachments": {},
   "cell_type": "markdown",
   "id": "3d6ff0eb",
   "metadata": {},
   "source": [
    "Las visualizaciones anteriores están pensadas en conseguir la identificación de los casos que puedan tener coordenadas erróneas. Se guarda un archivo csv en el área de espera del lago de datos, con la finalidad de que un proceso de asignación de datos de parte del usuario consiga corregir los posibles errores o en su defecto, acondicionar los casos como sea pertinente."
   ]
  },
  {
   "cell_type": "code",
   "execution_count": 16,
   "id": "e9db9939",
   "metadata": {},
   "outputs": [],
   "source": [
    "#Almacenando dataset para su revisión manual\n",
    "cContainer[\"toDelete\"] = False\n",
    "cContainer[\"Rev\"] = False\n",
    "cContainer[\"Comment\"] = \"\"\n",
    "#cContainer.to_csv(\"../Data/DataLake/cleaningStage/cContainer-issues-20-5-2023.csv\", index = False)"
   ]
  },
  {
   "attachments": {},
   "cell_type": "markdown",
   "id": "3e607863",
   "metadata": {},
   "source": [
    "Debido a que la cantidad es menor y que estos equipos son en la mayoría de los casos estáticos, la validación de los datos se hará con un \"análisis manual\", que en las circunstancias actuales no es más que usar la inteligencia humana para identificar problemas y corregirlos, en lugar de usar una IA."
   ]
  },
  {
   "cell_type": "code",
   "execution_count": 17,
   "id": "32ba3a6a",
   "metadata": {},
   "outputs": [],
   "source": [
    "#Agregando correcciones a cContainer\n",
    "#Leyendo arrchivo corregido\n",
    "fixcContainer = pd.read_csv(\"../Data/DataLake/cleaningStage/cContainer-issues-20-5-2023-rev.csv\", parse_dates=['fDate'])\n",
    "#Seleccionando filas de interés\n",
    "#fixcContainer = fixcContainer[[\"serialNumber\",\"fName\",\"latitude\",\"longitude\",\\\n",
    "#                               \"toDelete\",\"Rev\",\"Comment\"]]\n",
    "#Redondeando coordenadas\n",
    "fixcContainer[[\"latitude\",\"longitude\"]] = fixcContainer[[\"latitude\",\"longitude\"]].round(8)\n",
    "#Agregando correcciones a cContainer\n",
    "cContainer = updateDf(cContainer,fixcContainer,[\"serialNumber\",\"fName\"],[\"latitude\",\"longitude\",\\\n",
    "                            \"toDelete\",\"Rev\",\"Comment\"])\n",
    "#cContainer.to_csv(\"../Data/DataLake/temp/cContainer-26-5-2023.csv\",index = False)"
   ]
  },
  {
   "cell_type": "code",
   "execution_count": 18,
   "id": "9d258809",
   "metadata": {},
   "outputs": [],
   "source": [
    "#Almacenando cContainer en carpeta Base de DataMart\n",
    "#cContainer.to_parquet(\"../Data/DataMart/Base/cContainer.parquet\", index = False)"
   ]
  },
  {
   "attachments": {},
   "cell_type": "markdown",
   "id": "6399734d",
   "metadata": {},
   "source": [
    "El archivo corregido será una referencia para las siguientes fases de detección de información errónea. Dado que la estrategia es ir descendiendo en la jerarquía  de equipos de red, el siguiente equipo a trabajar serán los Mesh Routers."
   ]
  },
  {
   "attachments": {},
   "cell_type": "markdown",
   "id": "2746a8f8",
   "metadata": {},
   "source": [
    "### Mesh routers"
   ]
  },
  {
   "cell_type": "code",
   "execution_count": 19,
   "id": "4a06a12d",
   "metadata": {},
   "outputs": [
    {
     "name": "stdout",
     "output_type": "stream",
     "text": [
      "Duplicados luego de correción: 427\n"
     ]
    }
   ],
   "source": [
    "#Referencia de meshGateways\n",
    "mgRef = pd.read_parquet(\"../Data/DataMart/Base/cContainer.parquet\")\n",
    "#mgRef = cContainer[cContainer[\"toDelete\"] != True]\n",
    "#Confirmando eliminación de duplicados\n",
    "print(\"Duplicados luego de correción: {}\".format(mgRef.duplicated(subset = [\"latitude\",\"longitude\",\"fDate\"]).sum()))\n",
    "#Los cambios fueron validados manualmente y puede que algunos se mantengan y no tengan etiqueta para eliminar."
   ]
  },
  {
   "attachments": {},
   "cell_type": "markdown",
   "id": "fa4cb311",
   "metadata": {},
   "source": [
    "Los datos de los mesh router que son de interés en este punto son los que corresponden a la ubicación geográfica, su poste de referencia, su mesh gateway asociado y su mejor vecino. Esto permitirá identificar si algún router muestra información incorrecta, al igual que en el caso de los colectores el objetivo de este tratamiento es entregar un dataset con etiquetas que permitan una verificación manual, aunque en este caso se utilizará la estadística como herramienta para la identificación de posibles fallas.\n",
    "\n",
    "Con respecto al mejor vecino, puede darse el caso, dada la naturaleza de la red mesh y a su software de enrutamiento, que un mesh router utilice un mesh client como mejor vecino. Dado que la información de los mesh clients aún no se ha validado, se utilizará la estrategia siguiente."
   ]
  },
  {
   "attachments": {},
   "cell_type": "markdown",
   "id": "8126b8bd",
   "metadata": {},
   "source": [
    "### Generando datos para análisis de Mesh Routers"
   ]
  },
  {
   "cell_type": "code",
   "execution_count": null,
   "id": "2611940a",
   "metadata": {},
   "outputs": [],
   "source": [
    "#Agregando fDate a tRContainer\n",
    "tRContainer = rContainer.copy()\n",
    "tRContainer[\"fDate\"] = tRContainer[\"fName\"].str.extract(pattern)\n",
    "tRContainer[\"fDate\"] = pd.to_datetime(tRContainer[\"fDate\"], format = \"%Y-%m-%d\")\n",
    "#Agregando columna de ronda a tRContainer\n",
    "for i, row in roundsDf.iterrows():\n",
    "    mask = (tRContainer[\"fDate\"] >= row[\"fDate\"]) & (tRContainer[\"fDate\"] < row[\"lDate\"])\n",
    "    tRContainer.loc[mask,\"round\"] = row[\"round\"]\n",
    "#tRContainer = tRContainer.merge(roundsDf[[\"fDate\",\"round\"]], on = \"fDate\", how = \"left\")\n",
    "#Extrayendo polo de poleNo\n",
    "tRContainer[\"poleNo\"] = tRContainer[\"poleNo\"].str.extract(r\"([0-9]{6})\")\n",
    "#tRContainer.to_csv(\"../Data/DataLake/temp/rContainerV2-22-5-2023.csv\", index = False)\n",
    "tRContainer.head(3)"
   ]
  },
  {
   "cell_type": "code",
   "execution_count": null,
   "id": "a014ae03",
   "metadata": {},
   "outputs": [],
   "source": [
    "#Agregando coordenadas de gateway a rContainer\n",
    "tRContainer[\"fDate\"] = tRContainer[\"fDate\"].astype(str)\n",
    "mgRef[\"fDate\"] = mgRef[\"fDate\"].astype(str)\n",
    "tRContainer = tRContainer.merge(mgRef[[\"CollectorNm\",\"fDate\",\"latitude\",\"longitude\"]],\\\n",
    "                                 how = \"left\", on = [\"CollectorNm\",\"fDate\"], suffixes = (\"\",\"_gw\"))\n",
    "#Validando falta de coordenadas colector\n",
    "print(\"Colectores sin coordenadas: {}\".format(tRContainer[\"latitude_gw\"].isna().sum()))\n",
    "#Calculando distancia entre routers y su correspondiente gateway\n",
    "tRContainer[\"cDist\"] = tRContainer.apply(lambda x: cord2disV2(x[\"latitude\"],x[\"longitude\"],x[\"latitude_gw\"],x[\"longitude_gw\"]), axis = 1)\n",
    "#tRContainer.to_csv(\"../Data/DataLake/temp/rContainerV3-22-5-2023.csv\", index = False)\n",
    "tRContainer.head(3)"
   ]
  },
  {
   "cell_type": "code",
   "execution_count": 22,
   "id": "73edc1de",
   "metadata": {},
   "outputs": [],
   "source": [
    "#Creando backup temporal, útil para desarrollo\n",
    "# Verificar y crear el DataFrame de backup 'tMCbackup'\n",
    "if 'tMCbackup' not in globals() or not isinstance(tMCbackup, pd.DataFrame):\n",
    "    tMCbackup = mContainer.copy()\n",
    "else:\n",
    "    mContainer = tMCbackup.copy()\n",
    "# Verificar y crear el DataFrame de backup 'tRCbackup'\n",
    "if 'tRCbackup' not in globals() or not isinstance(tRCbackup, pd.DataFrame):\n",
    "    tRCbackup = tRContainer.copy()\n",
    "else:\n",
    "    tRContainer = tRCbackup.copy()"
   ]
  },
  {
   "cell_type": "code",
   "execution_count": null,
   "id": "0899c419",
   "metadata": {},
   "outputs": [],
   "source": [
    "#Agregando fDate a mContainer\n",
    "mContainer[\"fDate\"] = mContainer[\"fName\"].str.extract(pattern)\n",
    "mContainer[\"fDate\"] = pd.to_datetime(mContainer[\"fDate\"], format = \"%Y-%m-%d\")\n",
    "mContainer[\"fDate\"] = mContainer[\"fDate\"].dt.date\n",
    "#Preparando referencia de mejor vecino\n",
    "tempMG = cContainer[[\"serialNumber\",\"fDate\",\"latitude\",\"longitude\"]].copy()#\n",
    "tempMG[\"devType\"] = \"MG\"\n",
    "tempMC = mContainer[[\"serialNumber\",\"fDate\",\"latitude\",\"longitude\"]].copy()#\n",
    "tempMC[\"devType\"] = \"MC\"\n",
    "tempRC = tRContainer[[\"serialNumber\",\"fDate\",\"latitude\",\"longitude\"]].copy()#\n",
    "tempRC[\"devType\"] = \"MR\"\n",
    "#Agregando neighbourSN a tRContainer\n",
    "enSN = pd.read_csv(\"../Data/DataLake/cFiles/endpointSerialN.csv\")\n",
    "enSN.columns = [\"NeighbourEndpointId\",\"neighborSN\"]\n",
    "enSN[\"NeighbourEndpointId\"] = enSN[\"NeighbourEndpointId\"].astype(object)\n",
    "#Agregando neighbourSN a tRContainer\n",
    "tRContainer = tRContainer.merge(enSN, on = \"NeighbourEndpointId\", how = \"left\")\n",
    "#Concatenando referencias de vecinos\n",
    "tempNeigh = pd.concat([tempMG,tempMC,tempRC], ignore_index = True)\n",
    "#Eliminando dfs temporales\n",
    "del tempMG, tempMC, tempRC\n",
    "#Modificando tipo de fecha\n",
    "tempNeigh[\"fDate\"] = tempNeigh[\"fDate\"].astype(str)\n",
    "tRContainer[\"fDate\"] = tRContainer[\"fDate\"].astype(str)\n",
    "#Modificando tipo de serialNumber\n",
    "tempNeigh[\"serialNumber\"] = tempNeigh[\"serialNumber\"].astype(str)\n",
    "tRContainer[\"neighborSN\"] = tRContainer[\"neighborSN\"].astype(str)\n",
    "tRContainer = tRContainer.merge(tempNeigh,\\\n",
    "                                how = \"left\", left_on = [\"neighborSN\",\"fDate\"], right_on = \\\n",
    "                                    [\"serialNumber\",\"fDate\"], suffixes = (\"\",\"_neigh\"))\n",
    "                                \n",
    "tRContainer.head(3)"
   ]
  },
  {
   "attachments": {},
   "cell_type": "markdown",
   "id": "3282bf43",
   "metadata": {},
   "source": [
    "Se identificaron algunos serialNumber de mejor vecino sin su correspondiente en el df tempNeigh, analizando los casos parece ser que hubo una falla con la actualización del dato de mejor vecino en la base de datos, para estos casos en específico se obtendrá el mejor vecino basándose en el primer salto de la columna path."
   ]
  },
  {
   "cell_type": "code",
   "execution_count": null,
   "id": "39075a0a",
   "metadata": {},
   "outputs": [],
   "source": [
    "#Determinando vecinos sin match con serialNumber para su validación manual\n",
    "rSNVal = tRContainer[(tRContainer[\"serialNumber_neigh\"].isna()) & \\\n",
    "                      (tRContainer[\"NeighbourEndpointId\"].notna())].copy()\n",
    "#Obteniendo mejor vecino de path\n",
    "rSNVal[\"neighborSN\"] = rSNVal[\"path\"].str.split(\",\").str[-2]\n",
    "#Eliminando columnas a ser reemplazadas\n",
    "rSNVal.drop(columns = [\"serialNumber_neigh\",\"latitude_neigh\",\"longitude_neigh\",\\\n",
    "                       \"devType\"], inplace = True)\n",
    "#Agregando columnas reemplazadas con nuevo mejor vecino\n",
    "rSNVal = rSNVal.merge(tempNeigh, how = \"left\", left_on = [\"neighborSN\",\"fDate\"],\\\n",
    "                        right_on = [\"serialNumber\",\"fDate\"], suffixes = (\"\",\"_neigh\"))\n",
    "#Guardando archivo de referencia para revisión manual\n",
    "#rSNVal.to_csv(\"../Data/DataLake/cleaningStage/rSNVal.csv\", index = False)\n",
    "#Se realiza una revisión manual de los problemas identificados en esta sección\n",
    "rSNVal.head(3)"
   ]
  },
  {
   "cell_type": "code",
   "execution_count": 25,
   "id": "1714f573",
   "metadata": {},
   "outputs": [],
   "source": [
    "#Agregando información validada a df principal\n",
    "#Leyendo archivo modificado manual mente de cleaningStage\n",
    "revRSN = pd.read_csv(\"../Data/DataLake/cleaningStage/rSNVal-rev.csv\")\n",
    "#revRSN = revRSN[[\"serialNumber\",\"fName\",\"neighborSN\",\"serialNumber_neigh\",\\\n",
    "#                 \"latitude_neigh\",\"longitude_neigh\",\"devType\"]]\n",
    "#Redondeando coordenadas\n",
    "revRSN[\"latitude_neigh\"] = revRSN[\"latitude_neigh\"].round(8)\n",
    "revRSN[\"longitude_neigh\"] = revRSN[\"longitude_neigh\"].round(8)\n",
    "#Actualizando df principal\n",
    "tRContainer = updateDf(tRContainer,revRSN,[\"serialNumber\",\"fName\"],[\"neighborSN\",\"serialNumber_neigh\",\\\n",
    "                \"latitude_neigh\",\"longitude_neigh\",\"devType\"])\n",
    "#Guardando para inspección visual\n",
    "#tRContainer.to_csv(\"../Data/DataLake/temp/rContainerMOD2.csv\", index = False)"
   ]
  },
  {
   "attachments": {},
   "cell_type": "markdown",
   "id": "c972c089",
   "metadata": {},
   "source": [
    "Luego de las revisiones previas existen datos vacios que requieren una imputación, para ese procedimiento se identifican los casos vacíos, se generan archivos para agregación manual y luego se actualizan estos datos en el df principal (tRContainer)"
   ]
  },
  {
   "cell_type": "code",
   "execution_count": 26,
   "id": "4922ba73",
   "metadata": {},
   "outputs": [],
   "source": [
    "#Routers sin poste\n",
    "rNoPoste = tRContainer[tRContainer[\"poleNo\"].isna()].copy()\n",
    "#Guardando en cleaningStage\n",
    "rNoPoste.to_csv(\"../Data/DataLake/cleaningStage/rNoPoste.csv\", index = False)"
   ]
  },
  {
   "cell_type": "code",
   "execution_count": 27,
   "id": "b4488240",
   "metadata": {},
   "outputs": [],
   "source": [
    "#Agregando postes faltantes a tRContainer\n",
    "rRevPoste = pd.read_csv(\"../Data/DataLake/cleaningStage/rNoPoste-rev.csv\")\n",
    "#Seleccionando columnas de interés\n",
    "#rRevPoste = rRevPoste[[\"serialNumber\",\"fName\",\"poleNo\"]]\n",
    "#Actualizando df principal\n",
    "tRContainer = updateDf(tRContainer,rRevPoste,[\"serialNumber\",\"fName\"],[\"poleNo\"])\n",
    "#Guardando para inspección visual\n",
    "#tRContainer.to_csv(\"../Data/DataLake/temp/trContainer-MOD3.csv\", index = False)"
   ]
  },
  {
   "attachments": {},
   "cell_type": "markdown",
   "id": "4e34cbe3",
   "metadata": {},
   "source": [
    "Por último es necesario completar coordenadas que aún se mantienen vacías, considerando que hay dos pares de coordenadas en este punto en el dataset tRContainer, las coordenadas referentes al equipo en sí, y las coordenadas correspondientes al vecino."
   ]
  },
  {
   "cell_type": "code",
   "execution_count": 28,
   "id": "a348a4d1",
   "metadata": {},
   "outputs": [],
   "source": [
    "#Mesh routers sin coordenadas\n",
    "nRC1 = tRContainer[(tRContainer[\"latitude\"].isna()|tRContainer[\"longitude\"].isna())]\n",
    "#Guardando en cleaningStage\n",
    "nRC1.to_csv(\"../Data/DataLake/cleaningStage/nRC1.csv\", index = False)"
   ]
  },
  {
   "cell_type": "code",
   "execution_count": 29,
   "id": "90434369",
   "metadata": {},
   "outputs": [],
   "source": [
    "#Agregando coordenadas faltantes a tRContainer\n",
    "nRC1Rev = pd.read_csv(\"../Data/DataLake/cleaningStage/nRC1-rev.csv\")\n",
    "#Seleccionando columnas de interés\n",
    "#nRC1Rev = nRC1Rev[[\"serialNumber\",\"fName\",\"latitude\",\"longitude\"]]\n",
    "#Actualizando df principal\n",
    "tRContainer = updateDf(tRContainer,nRC1Rev,[\"serialNumber\",\"fName\"],[\"latitude\",\"longitude\"])\n",
    "#Guardando para inspección visual\n",
    "#tRContainer.to_csv(\"../Data/DataLake/temp/trContainer-MOD4.csv\", index = False)"
   ]
  },
  {
   "cell_type": "code",
   "execution_count": 30,
   "id": "a80f033f",
   "metadata": {},
   "outputs": [],
   "source": [
    "#Vecino sin coordenadas\n",
    "nRC2 = tRContainer[((tRContainer[\"latitude_neigh\"].isna()|tRContainer[\"longitude_neigh\"]\\\n",
    "                     .isna()) & (tRContainer[\"NeighbourEndpointId\"].notna()))]\n",
    "#Guardando en cleaningStage\n",
    "#nRC2.to_csv(\"../Data/DataLake/cleaningStage/nRC2.csv\", index = False)"
   ]
  },
  {
   "cell_type": "code",
   "execution_count": 31,
   "id": "32ca3b03-8feb-49df-b468-5fe76cd3fd00",
   "metadata": {},
   "outputs": [],
   "source": [
    "#Actualizando a partir de nRC2-rev.csv\n",
    "nRC2Rev = pd.read_csv(\"../Data/DataLake/cleaningStage/nRC2-rev.csv\")\n",
    "#Seleccionando columnas de interés\n",
    "#nRC2Rev = nRC2Rev[[\"serialNumber\",\"fName\",\"serialNumber_neigh\",\"latitude_neigh\",\"longitude_neigh\"]]\n",
    "#Actualizando df principal\n",
    "tRContainer = updateDf(tRContainer,nRC2Rev,[\"serialNumber\",\"fName\"],[\"serialNumber_neigh\",\"latitude_neigh\",\"longitude_neigh\"])\n",
    "#Guardando para inspección visual\n",
    "#tRContainer.to_csv(\"../Data/DataLake/temp/trContainer-MOD5.csv\", index = False)"
   ]
  },
  {
   "cell_type": "code",
   "execution_count": null,
   "id": "52a86ee2",
   "metadata": {},
   "outputs": [],
   "source": [
    "#Imputando para mesh routers con neighnhborEndpointId = NA\n",
    "#Seleccionando filas\n",
    "rSNVal2 = tRContainer[tRContainer[\"NeighbourEndpointId\"].isna()].copy()\n",
    "#Obteniendo mejor vecino de path\n",
    "def getHop(x):\n",
    "    tL = x.split(\",\")\n",
    "    if len(tL) > 2:\n",
    "        return tL[-2]\n",
    "    elif len(tL) == 2:\n",
    "        return tL[1]\n",
    "    elif len(tL) == 1:\n",
    "        return tL[0]\n",
    "\n",
    "rSNVal2[\"neighborSN\"] = rSNVal2[\"path\"].apply(getHop)\n",
    "#Eliminando columnas a ser reemplazadas\n",
    "rSNVal2.drop(columns = [\"serialNumber_neigh\",\"latitude_neigh\",\"longitude_neigh\",\\\n",
    "                        \"devType\"], inplace = True)\n",
    "#Agregando columnas reemplazadas con nuevo mejor vecino\n",
    "rSNVal2 = rSNVal2.merge(tempNeigh, how = \"left\", left_on = [\"neighborSN\",\"fDate\"],\\\n",
    "                        right_on = [\"serialNumber\",\"fDate\"], suffixes = (\"\",\"_neigh\"))\n",
    "#Guardando archivo de referencia para revisión manual\n",
    "rSNVal2.to_csv(\"../Data/DataLake/cleaningStage/rSNVal2.csv\", index = False)\n",
    "#Se realiza una revisión manual de los problemas identificados en esta sección\n",
    "rSNVal2.head(3)"
   ]
  },
  {
   "cell_type": "code",
   "execution_count": null,
   "id": "379af139",
   "metadata": {},
   "outputs": [],
   "source": [
    "#Actualizando a partir de rSNVal2-rev.csv\n",
    "rSNVal2Rev = pd.read_csv(\"../Data/DataLake/cleaningStage/rSNVal2-rev.csv\")\n",
    "#Seleccionando columnas de interés\n",
    "#rSNVal2Rev = rSNVal2Rev[[\"serialNumber\",\"fName\",\"neighborSN\",\"serialNumber_neigh\",\\\n",
    "#                            \"latitude_neigh\",\"longitude_neigh\",\"devType\"]]\n",
    "#Actualizando df principal\n",
    "tRContainer = updateDf(tRContainer,rSNVal2Rev,[\"serialNumber\",\"fName\"],[\"neighborSN\",\"serialNumber_neigh\",\\\n",
    "                            \"latitude_neigh\",\"longitude_neigh\",\"devType\"])\n",
    "#Guardando para inspección visual\n",
    "tRContainer.to_csv(\"../Data/DataLake/temp/trContainer-MOD6.csv\", index = False)\n",
    "tRContainer.head(3)"
   ]
  },
  {
   "cell_type": "code",
   "execution_count": null,
   "id": "68e03487",
   "metadata": {},
   "outputs": [],
   "source": [
    "#Calculando distancia entre mesh routers y mejor vecino\n",
    "tRContainer[\"dist_neigh\"] = tRContainer.apply(lambda x: cord2disV2(x[\"latitude\"],\\\n",
    "                    x[\"longitude\"],x[\"latitude_neigh\"],x[\"longitude_neigh\"]), axis = 1)\n",
    "\n",
    "tRContainer.head(3)"
   ]
  },
  {
   "cell_type": "code",
   "execution_count": 35,
   "id": "6c38b879",
   "metadata": {},
   "outputs": [
    {
     "data": {
      "image/png": "[encoded data removed]",
      "text/plain": [
       "<Figure size 720x480 with 1 Axes>"
      ]
     },
     "metadata": {},
     "output_type": "display_data"
    }
   ],
   "source": [
    "#Visualizando distribuciones de distancias\n",
    "sns.kdeplot(tRContainer[\"cDist\"], color = mClr)#, shade = True\n",
    "sns.kdeplot(tRContainer[\"dist_neigh\"], color = sClr1)#, shade = True\n",
    "plt.legend([\"Distancia a gateway\",\"Distancia a vecino\"])\n",
    "plt.title(\"Distancias de referencia mesh routers\")\n",
    "plt.savefig(\"../Python/PythonGImages/distRefMR_density.png\", dpi = 300, bbox_inches = \"tight\")"
   ]
  },
  {
   "cell_type": "code",
   "execution_count": 36,
   "id": "78eeb1bf",
   "metadata": {},
   "outputs": [
    {
     "data": {
      "image/png": "[encoded data removed]",
      "text/plain": [
       "<Figure size 720x480 with 1 Axes>"
      ]
     },
     "metadata": {},
     "output_type": "display_data"
    }
   ],
   "source": [
    "#Visualizando boxplot\n",
    "tempDf = tRContainer[tRContainer[\"fDate\"] == \"2023-03-15\"]\n",
    "whiskerprops = dict(color=sClr2)\n",
    "capprops = dict(color=sClr2)\n",
    "boxprops = dict(edgecolor = sClr2, linewidth=0.5)\n",
    "medianprops = dict(color = \"black\", linewidth=1)\n",
    "\n",
    "ax = sns.boxplot(data = tempDf[[\"cDist\",\"dist_neigh\"]], palette = [mClr_d2,sClr1_d2],\\\n",
    "             fliersize = 1, whiskerprops=whiskerprops,\\\n",
    "            capprops = capprops, boxprops = boxprops, medianprops = medianprops)#\n",
    "\n",
    "plt.title(\"Boxplot distancias referencia Mesh Routers\")\n",
    "plt.savefig(\"../Python/PythonGImages/distRefMR_boxplot.png\", dpi = 300, bbox_inches = \"tight\")\n",
    "plt.show()"
   ]
  },
  {
   "cell_type": "code",
   "execution_count": 37,
   "id": "311ba630",
   "metadata": {},
   "outputs": [],
   "source": [
    "#Detectando outliers en tRContainer\n",
    "tRContainer[\"neigh_outlier\"] = outliers_detector(tRContainer[\"dist_neigh\"])\n",
    "tRContainer[\"gw_outlier\"] = outliers_detector(tRContainer[\"cDist\"])\n",
    "#Determinando si es outlier en alguna de las columnas anteriores\n",
    "tRContainer[\"outlier\"] = tRContainer.apply(lambda x: \"outlier\" if x[\"neigh_outlier\"] == \"outlier\"\\\n",
    "                        or x[\"gw_outlier\"] == \"outlier\" else \"normal\", axis = 1)\n",
    "#Guardando para inspección visual\n",
    "#tRContainer.to_csv(\"../Data/DataLake/temp/trContainer-MOD17.csv\", index = False)"
   ]
  },
  {
   "attachments": {},
   "cell_type": "markdown",
   "id": "9574be17",
   "metadata": {},
   "source": [
    "Se aprecia en ambas gráficas que la distribución de las distancias está mayoritariamente cercana a la media y a la mediana. Los valores atípicos son aquellos que se extienden más allá de la cota superior, que representa junto con la cota inferior, un ancho de 1.5 veces el rango inter cuantil.\n",
    "\n",
    "Siendo que esta detección se hace por métodos estadísticos, este será el criterio para la selección de los valores que serán validados debido a que se consideran con mayor probabilidad de ser datos erróneos."
   ]
  },
  {
   "cell_type": "code",
   "execution_count": null,
   "id": "08ab4656",
   "metadata": {},
   "outputs": [],
   "source": [
    "#Detectando outliers\n",
    "tRContainer[\"n_outliers\"]= identificar_outliers(tRContainer[\"dist_neigh\"])\n",
    "nn_outliers = tRContainer[\"n_outliers\"].value_counts()\n",
    "tRContainer[\"g_outliers\"]= identificar_outliers(tRContainer[\"cDist\"])\n",
    "gn_outliers = tRContainer[\"g_outliers\"].value_counts()\n",
    "tRContainer[\"outliers\"] = tRContainer[\"n_outliers\"] + tRContainer[\"g_outliers\"]\n",
    "#Guardando para validación manual\n",
    "tRContainer[\"toDelete\"] = False\n",
    "tRContainer[\"Rev\"] = False\n",
    "tRContainer[\"Comment\"] = \"\"\n",
    "#tRContainer.to_csv(\"../Data/DataLake/cleaningStage/trContainer_woutliers.csv\", index = False)\n",
    "tRContainer.head(3)"
   ]
  },
  {
   "attachments": {},
   "cell_type": "markdown",
   "id": "b9a64110",
   "metadata": {},
   "source": [
    "### Visualizando mesh routers en mapa"
   ]
  },
  {
   "attachments": {},
   "cell_type": "markdown",
   "id": "859ce22f",
   "metadata": {},
   "source": [
    "Se utiliza un mapa de plotly para visualizar los outliers con referencia a su mesh gateway correspondiente y en una determinada fecha. Con esta ayuda visual se facilita la revisión manual de los outliers con el fin de corregir los posibles datos erróneos."
   ]
  },
  {
   "cell_type": "code",
   "execution_count": 39,
   "id": "c7c7976d",
   "metadata": {},
   "outputs": [],
   "source": [
    "#Parámetros de mapa\n",
    "#Widgets\n",
    "fDate3 = widgets.SelectionSlider(options = list(tRContainer[\"fDate\"].unique()), description = \"Fecha\")\n",
    "collectorNm = widgets.Dropdown(options = list(tRContainer[\"CollectorNm\"].unique()),description = \"Collector\")\n",
    "clrDic3 = {\"outlier\": sClr1, \"normal\": sClr3}\n",
    "wgDic3 = {\"fDate\":fDate3, \"CollectorNm\":collectorNm}#\n",
    "dicTemp1 = {\n",
    "    \n",
    "    \"routers\" : [tRContainer, clrDic3, \"outlier\",[\"radio\",\"neighborSN\"]],\n",
    "    \"gateways\" : [mgRef, mClr, None,[\"CollectorNm\"]]\n",
    "\n",
    "}"
   ]
  },
  {
   "cell_type": "code",
   "execution_count": 40,
   "id": "b3efd1c9",
   "metadata": {},
   "outputs": [
    {
     "data": {
      "application/vnd.jupyter.widget-view+json": {
       "model_id": "302f9364b7574653bdeb72e9baae10e7",
       "version_major": 2,
       "version_minor": 0
      },
      "text/plain": [
       "Output()"
      ]
     },
     "metadata": {},
     "output_type": "display_data"
    },
    {
     "data": {
      "application/vnd.plotly.v1+json": {
       "config": {
        "plotlyServerURL": "https://plot.ly"
       },
       "data": [
        {
         "lat": [
          14.59502,
          14.60179,
          14.606324,
          14.5975,
          14.5922,
          14.60378,
          14.64603,
          14.6027,
          14.5945,
          14.58453,
          14.622481,
          14.59744,
          14.6496
         ],
         "lon": [
          -90.46588,
          -90.47307,
          -90.516892,
          -90.4619,
          -90.4717,
          -90.44835,
          -90.53797,
          -90.4674,
          -90.46573,
          -90.44871,
          -90.549842,
          -90.5392,
          -90.45174
         ],
         "marker": {
          "color": "#304059",
          "size": 9
         },
         "mode": "markers",
         "name": "normal",
         "text": [
          [
           "807F405F",
           "1355580800"
          ],
          [
           "8061DAD1",
           "1086462282"
          ],
          [
           "8075C41B",
           "2155201570"
          ],
          [
           "8061F4B7",
           "2155823199"
          ],
          [
           "8061EFDD",
           "2155823199"
          ],
          [
           "8061C9CD",
           "4038715232"
          ],
          [
           "8061D7D4",
           "4044145059"
          ],
          [
           "8061EFE0",
           "1086462282"
          ],
          [
           "8061EFE1",
           "2155823199"
          ],
          [
           "8061D5C3",
           "2155823199"
          ],
          [
           "8061F18C",
           "2155823199"
          ],
          [
           "8061EFDE",
           "2155201569"
          ],
          [
           "8061F191",
           "4036404539"
          ]
         ],
         "type": "scattermapbox"
        },
        {
         "lat": [
          14.59662444
         ],
         "lon": [
          -90.45687667
         ],
         "marker": {
          "color": "#3997D4",
          "size": 9
         },
         "mode": "markers",
         "name": "gateways",
         "text": [
          [
           "Lomas de San Isidro 2"
          ]
         ],
         "type": "scattermapbox"
        }
       ],
       "layout": {
        "height": 400,
        "mapbox": {
         "accesstoken": "pk.eyJ1IjoidmJvcnJheW8iLCJhIjoiY2xob2dvdTZlMXZuODNmbHJyYjVvMzIzeSJ9.aNrb8uXomKz2Qrk_GsABgA",
         "center": {
          "lat": 14.59662444,
          "lon": -90.45687667
         },
         "style": "mapbox://styles/mapbox/streets-v11",
         "zoom": 7.5
        },
        "margin": {
         "b": 10,
         "l": 10,
         "r": 50,
         "t": 30
        },
        "template": {
         "data": {
          "bar": [
           {
            "error_x": {
             "color": "#2a3f5f"
            },
            "error_y": {
             "color": "#2a3f5f"
            },
            "marker": {
             "line": {
              "color": "#E5ECF6",
              "width": 0.5
             },
             "pattern": {
              "fillmode": "overlay",
              "size": 10,
              "solidity": 0.2
             }
            },
            "type": "bar"
           }
          ],
          "barpolar": [
           {
            "marker": {
             "line": {
              "color": "#E5ECF6",
              "width": 0.5
             },
             "pattern": {
              "fillmode": "overlay",
              "size": 10,
              "solidity": 0.2
             }
            },
            "type": "barpolar"
           }
          ],
          "carpet": [
           {
            "aaxis": {
             "endlinecolor": "#2a3f5f",
             "gridcolor": "white",
             "linecolor": "white",
             "minorgridcolor": "white",
             "startlinecolor": "#2a3f5f"
            },
            "baxis": {
             "endlinecolor": "#2a3f5f",
             "gridcolor": "white",
             "linecolor": "white",
             "minorgridcolor": "white",
             "startlinecolor": "#2a3f5f"
            },
            "type": "carpet"
           }
          ],
          "choropleth": [
           {
            "colorbar": {
             "outlinewidth": 0,
             "ticks": ""
            },
            "type": "choropleth"
           }
          ],
          "contour": [
           {
            "colorbar": {
             "outlinewidth": 0,
             "ticks": ""
            },
            "colorscale": [
             [
              0,
              "#0d0887"
             ],
             [
              0.1111111111111111,
              "#46039f"
             ],
             [
              0.2222222222222222,
              "#7201a8"
             ],
             [
              0.3333333333333333,
              "#9c179e"
             ],
             [
              0.4444444444444444,
              "#bd3786"
             ],
             [
              0.5555555555555556,
              "#d8576b"
             ],
             [
              0.6666666666666666,
              "#ed7953"
             ],
             [
              0.7777777777777778,
              "#fb9f3a"
             ],
             [
              0.8888888888888888,
              "#fdca26"
             ],
             [
              1,
              "#f0f921"
             ]
            ],
            "type": "contour"
           }
          ],
          "contourcarpet": [
           {
            "colorbar": {
             "outlinewidth": 0,
             "ticks": ""
            },
            "type": "contourcarpet"
           }
          ],
          "heatmap": [
           {
            "colorbar": {
             "outlinewidth": 0,
             "ticks": ""
            },
            "colorscale": [
             [
              0,
              "#0d0887"
             ],
             [
              0.1111111111111111,
              "#46039f"
             ],
             [
              0.2222222222222222,
              "#7201a8"
             ],
             [
              0.3333333333333333,
              "#9c179e"
             ],
             [
              0.4444444444444444,
              "#bd3786"
             ],
             [
              0.5555555555555556,
              "#d8576b"
             ],
             [
              0.6666666666666666,
              "#ed7953"
             ],
             [
              0.7777777777777778,
              "#fb9f3a"
             ],
             [
              0.8888888888888888,
              "#fdca26"
             ],
             [
              1,
              "#f0f921"
             ]
            ],
            "type": "heatmap"
           }
          ],
          "heatmapgl": [
           {
            "colorbar": {
             "outlinewidth": 0,
             "ticks": ""
            },
            "colorscale": [
             [
              0,
              "#0d0887"
             ],
             [
              0.1111111111111111,
              "#46039f"
             ],
             [
              0.2222222222222222,
              "#7201a8"
             ],
             [
              0.3333333333333333,
              "#9c179e"
             ],
             [
              0.4444444444444444,
              "#bd3786"
             ],
             [
              0.5555555555555556,
              "#d8576b"
             ],
             [
              0.6666666666666666,
              "#ed7953"
             ],
             [
              0.7777777777777778,
              "#fb9f3a"
             ],
             [
              0.8888888888888888,
              "#fdca26"
             ],
             [
              1,
              "#f0f921"
             ]
            ],
            "type": "heatmapgl"
           }
          ],
          "histogram": [
           {
            "marker": {
             "pattern": {
              "fillmode": "overlay",
              "size": 10,
              "solidity": 0.2
             }
            },
            "type": "histogram"
           }
          ],
          "histogram2d": [
           {
            "colorbar": {
             "outlinewidth": 0,
             "ticks": ""
            },
            "colorscale": [
             [
              0,
              "#0d0887"
             ],
             [
              0.1111111111111111,
              "#46039f"
             ],
             [
              0.2222222222222222,
              "#7201a8"
             ],
             [
              0.3333333333333333,
              "#9c179e"
             ],
             [
              0.4444444444444444,
              "#bd3786"
             ],
             [
              0.5555555555555556,
              "#d8576b"
             ],
             [
              0.6666666666666666,
              "#ed7953"
             ],
             [
              0.7777777777777778,
              "#fb9f3a"
             ],
             [
              0.8888888888888888,
              "#fdca26"
             ],
             [
              1,
              "#f0f921"
             ]
            ],
            "type": "histogram2d"
           }
          ],
          "histogram2dcontour": [
           {
            "colorbar": {
             "outlinewidth": 0,
             "ticks": ""
            },
            "colorscale": [
             [
              0,
              "#0d0887"
             ],
             [
              0.1111111111111111,
              "#46039f"
             ],
             [
              0.2222222222222222,
              "#7201a8"
             ],
             [
              0.3333333333333333,
              "#9c179e"
             ],
             [
              0.4444444444444444,
              "#bd3786"
             ],
             [
              0.5555555555555556,
              "#d8576b"
             ],
             [
              0.6666666666666666,
              "#ed7953"
             ],
             [
              0.7777777777777778,
              "#fb9f3a"
             ],
             [
              0.8888888888888888,
              "#fdca26"
             ],
             [
              1,
              "#f0f921"
             ]
            ],
            "type": "histogram2dcontour"
           }
          ],
          "mesh3d": [
           {
            "colorbar": {
             "outlinewidth": 0,
             "ticks": ""
            },
            "type": "mesh3d"
           }
          ],
          "parcoords": [
           {
            "line": {
             "colorbar": {
              "outlinewidth": 0,
              "ticks": ""
             }
            },
            "type": "parcoords"
           }
          ],
          "pie": [
           {
            "automargin": true,
            "type": "pie"
           }
          ],
          "scatter": [
           {
            "fillpattern": {
             "fillmode": "overlay",
             "size": 10,
             "solidity": 0.2
            },
            "type": "scatter"
           }
          ],
          "scatter3d": [
           {
            "line": {
             "colorbar": {
              "outlinewidth": 0,
              "ticks": ""
             }
            },
            "marker": {
             "colorbar": {
              "outlinewidth": 0,
              "ticks": ""
             }
            },
            "type": "scatter3d"
           }
          ],
          "scattercarpet": [
           {
            "marker": {
             "colorbar": {
              "outlinewidth": 0,
              "ticks": ""
             }
            },
            "type": "scattercarpet"
           }
          ],
          "scattergeo": [
           {
            "marker": {
             "colorbar": {
              "outlinewidth": 0,
              "ticks": ""
             }
            },
            "type": "scattergeo"
           }
          ],
          "scattergl": [
           {
            "marker": {
             "colorbar": {
              "outlinewidth": 0,
              "ticks": ""
             }
            },
            "type": "scattergl"
           }
          ],
          "scattermapbox": [
           {
            "marker": {
             "colorbar": {
              "outlinewidth": 0,
              "ticks": ""
             }
            },
            "type": "scattermapbox"
           }
          ],
          "scatterpolar": [
           {
            "marker": {
             "colorbar": {
              "outlinewidth": 0,
              "ticks": ""
             }
            },
            "type": "scatterpolar"
           }
          ],
          "scatterpolargl": [
           {
            "marker": {
             "colorbar": {
              "outlinewidth": 0,
              "ticks": ""
             }
            },
            "type": "scatterpolargl"
           }
          ],
          "scatterternary": [
           {
            "marker": {
             "colorbar": {
              "outlinewidth": 0,
              "ticks": ""
             }
            },
            "type": "scatterternary"
           }
          ],
          "surface": [
           {
            "colorbar": {
             "outlinewidth": 0,
             "ticks": ""
            },
            "colorscale": [
             [
              0,
              "#0d0887"
             ],
             [
              0.1111111111111111,
              "#46039f"
             ],
             [
              0.2222222222222222,
              "#7201a8"
             ],
             [
              0.3333333333333333,
              "#9c179e"
             ],
             [
              0.4444444444444444,
              "#bd3786"
             ],
             [
              0.5555555555555556,
              "#d8576b"
             ],
             [
              0.6666666666666666,
              "#ed7953"
             ],
             [
              0.7777777777777778,
              "#fb9f3a"
             ],
             [
              0.8888888888888888,
              "#fdca26"
             ],
             [
              1,
              "#f0f921"
             ]
            ],
            "type": "surface"
           }
          ],
          "table": [
           {
            "cells": {
             "fill": {
              "color": "#EBF0F8"
             },
             "line": {
              "color": "white"
             }
            },
            "header": {
             "fill": {
              "color": "#C8D4E3"
             },
             "line": {
              "color": "white"
             }
            },
            "type": "table"
           }
          ]
         },
         "layout": {
          "annotationdefaults": {
           "arrowcolor": "#2a3f5f",
           "arrowhead": 0,
           "arrowwidth": 1
          },
          "autotypenumbers": "strict",
          "coloraxis": {
           "colorbar": {
            "outlinewidth": 0,
            "ticks": ""
           }
          },
          "colorscale": {
           "diverging": [
            [
             0,
             "#8e0152"
            ],
            [
             0.1,
             "#c51b7d"
            ],
            [
             0.2,
             "#de77ae"
            ],
            [
             0.3,
             "#f1b6da"
            ],
            [
             0.4,
             "#fde0ef"
            ],
            [
             0.5,
             "#f7f7f7"
            ],
            [
             0.6,
             "#e6f5d0"
            ],
            [
             0.7,
             "#b8e186"
            ],
            [
             0.8,
             "#7fbc41"
            ],
            [
             0.9,
             "#4d9221"
            ],
            [
             1,
             "#276419"
            ]
           ],
           "sequential": [
            [
             0,
             "#0d0887"
            ],
            [
             0.1111111111111111,
             "#46039f"
            ],
            [
             0.2222222222222222,
             "#7201a8"
            ],
            [
             0.3333333333333333,
             "#9c179e"
            ],
            [
             0.4444444444444444,
             "#bd3786"
            ],
            [
             0.5555555555555556,
             "#d8576b"
            ],
            [
             0.6666666666666666,
             "#ed7953"
            ],
            [
             0.7777777777777778,
             "#fb9f3a"
            ],
            [
             0.8888888888888888,
             "#fdca26"
            ],
            [
             1,
             "#f0f921"
            ]
           ],
           "sequentialminus": [
            [
             0,
             "#0d0887"
            ],
            [
             0.1111111111111111,
             "#46039f"
            ],
            [
             0.2222222222222222,
             "#7201a8"
            ],
            [
             0.3333333333333333,
             "#9c179e"
            ],
            [
             0.4444444444444444,
             "#bd3786"
            ],
            [
             0.5555555555555556,
             "#d8576b"
            ],
            [
             0.6666666666666666,
             "#ed7953"
            ],
            [
             0.7777777777777778,
             "#fb9f3a"
            ],
            [
             0.8888888888888888,
             "#fdca26"
            ],
            [
             1,
             "#f0f921"
            ]
           ]
          },
          "colorway": [
           "#636efa",
           "#EF553B",
           "#00cc96",
           "#ab63fa",
           "#FFA15A",
           "#19d3f3",
           "#FF6692",
           "#B6E880",
           "#FF97FF",
           "#FECB52"
          ],
          "font": {
           "color": "#2a3f5f"
          },
          "geo": {
           "bgcolor": "white",
           "lakecolor": "white",
           "landcolor": "#E5ECF6",
           "showlakes": true,
           "showland": true,
           "subunitcolor": "white"
          },
          "hoverlabel": {
           "align": "left"
          },
          "hovermode": "closest",
          "mapbox": {
           "style": "light"
          },
          "paper_bgcolor": "white",
          "plot_bgcolor": "#E5ECF6",
          "polar": {
           "angularaxis": {
            "gridcolor": "white",
            "linecolor": "white",
            "ticks": ""
           },
           "bgcolor": "#E5ECF6",
           "radialaxis": {
            "gridcolor": "white",
            "linecolor": "white",
            "ticks": ""
           }
          },
          "scene": {
           "xaxis": {
            "backgroundcolor": "#E5ECF6",
            "gridcolor": "white",
            "gridwidth": 2,
            "linecolor": "white",
            "showbackground": true,
            "ticks": "",
            "zerolinecolor": "white"
           },
           "yaxis": {
            "backgroundcolor": "#E5ECF6",
            "gridcolor": "white",
            "gridwidth": 2,
            "linecolor": "white",
            "showbackground": true,
            "ticks": "",
            "zerolinecolor": "white"
           },
           "zaxis": {
            "backgroundcolor": "#E5ECF6",
            "gridcolor": "white",
            "gridwidth": 2,
            "linecolor": "white",
            "showbackground": true,
            "ticks": "",
            "zerolinecolor": "white"
           }
          },
          "shapedefaults": {
           "line": {
            "color": "#2a3f5f"
           }
          },
          "ternary": {
           "aaxis": {
            "gridcolor": "white",
            "linecolor": "white",
            "ticks": ""
           },
           "baxis": {
            "gridcolor": "white",
            "linecolor": "white",
            "ticks": ""
           },
           "bgcolor": "#E5ECF6",
           "caxis": {
            "gridcolor": "white",
            "linecolor": "white",
            "ticks": ""
           }
          },
          "title": {
           "x": 0.05
          },
          "xaxis": {
           "automargin": true,
           "gridcolor": "white",
           "linecolor": "white",
           "ticks": "",
           "title": {
            "standoff": 15
           },
           "zerolinecolor": "white",
           "zerolinewidth": 2
          },
          "yaxis": {
           "automargin": true,
           "gridcolor": "white",
           "linecolor": "white",
           "ticks": "",
           "title": {
            "standoff": 15
           },
           "zerolinecolor": "white",
           "zerolinewidth": 2
          }
         }
        },
        "title": {
         "text": "Mesh Routers Outliers - Ronda pData_1",
         "x": 0.5
        },
        "width": 600
       }
      }
     },
     "metadata": {},
     "output_type": "display_data"
    },
    {
     "data": {
      "application/vnd.jupyter.widget-view+json": {
       "model_id": "ae04c3280b404369a2a9ccf8e37af5eb",
       "version_major": 2,
       "version_minor": 0
      },
      "text/plain": [
       "interactive(children=(SelectionSlider(description='Fecha', options=('2023-02-19', '2023-02-20', '2023-02-21', …"
      ]
     },
     "metadata": {},
     "output_type": "display_data"
    }
   ],
   "source": [
    "#Visualización de mapa interactivo\n",
    "Rdiscrete_map2(dicTemp1, wgDic3, \"Mesh Routers Outliers\")"
   ]
  },
  {
   "cell_type": "code",
   "execution_count": 41,
   "id": "a48870fe",
   "metadata": {},
   "outputs": [],
   "source": [
    "#Parámetros de mapa\n",
    "#Widgets\n",
    "fDate4 = widgets.SelectionSlider(options = list(tRContainer[\"fDate\"].unique()), description = \"Fecha\")\n",
    "routrR = widgets.Dropdown(options = list(tRContainer[\"radio\"].unique()),description = \"radio\")\n",
    "clrDic3 = {\"outlier\": sClr1, \"normal\": sClr3}\n",
    "#clrDic3 = {True: sClr1, False: sClr3}\n",
    "wgDic4 = {\"radio\":routrR}#\"fDate\":fDate4, \n",
    "dicTemp2 = {\n",
    "    \"vecino\" : [tRContainer, clrDic3, \"neigh_outlier\",[\"neighborSN\"]],\n",
    "    \"router\" : [tRContainer, mClr, None,[\"radio\"]]\n",
    "    \n",
    "    #\"routers\" : [tRContainer, clrDic3, \"outlier\",[\"radio\",\"neighborSN\"]],\n",
    "}"
   ]
  },
  {
   "cell_type": "code",
   "execution_count": 42,
   "id": "530c698b",
   "metadata": {},
   "outputs": [
    {
     "data": {
      "application/vnd.jupyter.widget-view+json": {
       "model_id": "9f7cc338dde24581840f6ad72bdbc265",
       "version_major": 2,
       "version_minor": 0
      },
      "text/plain": [
       "Output()"
      ]
     },
     "metadata": {},
     "output_type": "display_data"
    },
    {
     "data": {
      "application/vnd.plotly.v1+json": {
       "config": {
        "plotlyServerURL": "https://plot.ly"
       },
       "data": [
        {
         "lat": [
          14.569469,
          14.569469,
          14.569469,
          14.569469,
          14.569469,
          14.569469,
          14.569469,
          14.569469,
          14.569469,
          14.569469,
          14.569469,
          14.569469,
          14.569469,
          14.569469,
          14.569469,
          14.569469,
          14.569469,
          14.569469,
          14.569469,
          14.569469,
          14.569469,
          14.569469,
          14.569469,
          14.569469,
          14.569469,
          14.569469,
          14.569469,
          14.569469,
          14.569469,
          14.569469,
          14.569469,
          14.569469,
          14.569469,
          14.569469,
          14.569469,
          14.569469,
          14.569469,
          14.569469,
          14.569469,
          14.569469,
          14.569469,
          14.569469,
          14.569469,
          14.569469,
          14.569469,
          14.569469,
          14.569469,
          14.569469,
          14.569469,
          14.569469,
          14.569469,
          14.569469,
          14.569469,
          14.569469,
          14.569469,
          14.569469,
          14.569469,
          14.569469,
          14.569469,
          14.569469,
          14.569469,
          14.569469,
          14.569469,
          14.569469,
          14.569469,
          14.569469,
          14.569469,
          14.569469,
          14.569469,
          14.569469,
          14.569469,
          14.569469,
          14.569469,
          14.569469,
          14.569469,
          14.569469,
          14.569469,
          14.569469,
          14.569469,
          14.569469
         ],
         "lon": [
          -90.54356,
          -90.54356,
          -90.54356,
          -90.54356,
          -90.54356,
          -90.54356,
          -90.54356,
          -90.54356,
          -90.54356,
          -90.54356,
          -90.54356,
          -90.54356,
          -90.54356,
          -90.54356,
          -90.54356,
          -90.54356,
          -90.54356,
          -90.54356,
          -90.54356,
          -90.54356,
          -90.54356,
          -90.54356,
          -90.54356,
          -90.54356,
          -90.54356,
          -90.54356,
          -90.54356,
          -90.54356,
          -90.54356,
          -90.54356,
          -90.54356,
          -90.54356,
          -90.54356,
          -90.54356,
          -90.54356,
          -90.54356,
          -90.54356,
          -90.54356,
          -90.54356,
          -90.54356,
          -90.54356,
          -90.54356,
          -90.54356,
          -90.54356,
          -90.54356,
          -90.54356,
          -90.54356,
          -90.54356,
          -90.54356,
          -90.54356,
          -90.54356,
          -90.54356,
          -90.54356,
          -90.54356,
          -90.54356,
          -90.54356,
          -90.54356,
          -90.54356,
          -90.54356,
          -90.54356,
          -90.54356,
          -90.54356,
          -90.54356,
          -90.54356,
          -90.54356,
          -90.54356,
          -90.54356,
          -90.54356,
          -90.54356,
          -90.54356,
          -90.54356,
          -90.54356,
          -90.54356,
          -90.54356,
          -90.54356,
          -90.54356,
          -90.54356,
          -90.54356,
          -90.54356,
          -90.54356
         ],
         "marker": {
          "color": "#304059",
          "size": 9
         },
         "mode": "markers",
         "name": "normal",
         "text": [
          [
           "2153895067"
          ],
          [
           "2153895067"
          ],
          [
           "2153895067"
          ],
          [
           "2153895067"
          ],
          [
           "2153895260"
          ],
          [
           "2153895067"
          ],
          [
           "2153895067"
          ],
          [
           "2153895067"
          ],
          [
           "2153895067"
          ],
          [
           "1355725576"
          ],
          [
           "2153895067"
          ],
          [
           "2153895067"
          ],
          [
           "2153895067"
          ],
          [
           "2153895067"
          ],
          [
           "2153895067"
          ],
          [
           "2153895260"
          ],
          [
           "2153895067"
          ],
          [
           "2153895067"
          ],
          [
           "2153895067"
          ],
          [
           "2153895067"
          ],
          [
           "2153895260"
          ],
          [
           "1355725213"
          ],
          [
           "2153895067"
          ],
          [
           "1355725141"
          ],
          [
           "2153895067"
          ],
          [
           "2153895067"
          ],
          [
           "1355725213"
          ],
          [
           "2153895067"
          ],
          [
           "2153895067"
          ],
          [
           "2153895067"
          ],
          [
           "2153895067"
          ],
          [
           "2153895067"
          ],
          [
           "2153895067"
          ],
          [
           "2153895067"
          ],
          [
           "2153895067"
          ],
          [
           "2153895067"
          ],
          [
           "2153895067"
          ],
          [
           "2153895067"
          ],
          [
           "2153895067"
          ],
          [
           "2153895067"
          ],
          [
           "2153895067"
          ],
          [
           "2153895067"
          ],
          [
           "2153895067"
          ],
          [
           "1086462704"
          ],
          [
           "1086462704"
          ],
          [
           "2153895067"
          ],
          [
           "2153895067"
          ],
          [
           "2153895067"
          ],
          [
           "2153895067"
          ],
          [
           "2153895067"
          ],
          [
           "2153895067"
          ],
          [
           "2153895067"
          ],
          [
           "2153895067"
          ],
          [
           "2153895067"
          ],
          [
           "2153895067"
          ],
          [
           "2153895067"
          ],
          [
           "2153895067"
          ],
          [
           "2153895067"
          ],
          [
           "2153895067"
          ],
          [
           "2153895260"
          ],
          [
           "2153895260"
          ],
          [
           "2153895067"
          ],
          [
           "2153895260"
          ],
          [
           "2153895067"
          ],
          [
           "2153895067"
          ],
          [
           "2153895067"
          ],
          [
           "2153895067"
          ],
          [
           "2153895067"
          ],
          [
           "2153895067"
          ],
          [
           "2153895067"
          ],
          [
           "2153895067"
          ],
          [
           "2153895067"
          ],
          [
           2153895260
          ],
          [
           2153895260
          ],
          [
           2153895260
          ],
          [
           2153895260
          ],
          [
           2153895260
          ],
          [
           2153895260
          ],
          [
           "2153895067"
          ],
          [
           "2155201569"
          ]
         ],
         "type": "scattermapbox"
        },
        {
         "lat": [
          14.569469,
          14.569469,
          14.569469,
          14.569469
         ],
         "lon": [
          -90.54356,
          -90.54356,
          -90.54356,
          -90.54356
         ],
         "marker": {
          "color": "#F56522",
          "size": 9
         },
         "mode": "markers",
         "name": "outlier",
         "text": [
          [
           "2153896376"
          ],
          [
           "2153896376"
          ],
          [
           "2153896376"
          ],
          [
           "2153896376"
          ]
         ],
         "type": "scattermapbox"
        },
        {
         "lat": [
          14.569469,
          14.569469,
          14.569469,
          14.569469,
          14.569469,
          14.569469,
          14.569469,
          14.569469,
          14.569469,
          14.569469,
          14.569469,
          14.569469,
          14.569469,
          14.569469,
          14.569469,
          14.569469,
          14.569469,
          14.569469,
          14.569469,
          14.569469,
          14.569469,
          14.569469,
          14.569469,
          14.569469,
          14.569469,
          14.569469,
          14.569469,
          14.569469,
          14.569469,
          14.569469,
          14.569469,
          14.569469,
          14.569469,
          14.569469,
          14.569469,
          14.569469,
          14.569469,
          14.569469,
          14.569469,
          14.569469,
          14.569469,
          14.569469,
          14.569469,
          14.569469,
          14.569469,
          14.569469,
          14.569469,
          14.569469,
          14.569469,
          14.569469,
          14.569469,
          14.569469,
          14.569469,
          14.569469,
          14.569469,
          14.569469,
          14.569469,
          14.569469,
          14.569469,
          14.569469,
          14.569469,
          14.569469,
          14.569469,
          14.569469,
          14.569469,
          14.569469,
          14.569469,
          14.569469,
          14.569469,
          14.569469,
          14.569469,
          14.569469,
          14.569469,
          14.569469,
          14.569469,
          14.569469,
          14.569469,
          14.569469,
          14.569469,
          14.569469,
          14.569469,
          14.569469,
          14.569469,
          14.569469
         ],
         "lon": [
          -90.54356,
          -90.54356,
          -90.54356,
          -90.54356,
          -90.54356,
          -90.54356,
          -90.54356,
          -90.54356,
          -90.54356,
          -90.54356,
          -90.54356,
          -90.54356,
          -90.54356,
          -90.54356,
          -90.54356,
          -90.54356,
          -90.54356,
          -90.54356,
          -90.54356,
          -90.54356,
          -90.54356,
          -90.54356,
          -90.54356,
          -90.54356,
          -90.54356,
          -90.54356,
          -90.54356,
          -90.54356,
          -90.54356,
          -90.54356,
          -90.54356,
          -90.54356,
          -90.54356,
          -90.54356,
          -90.54356,
          -90.54356,
          -90.54356,
          -90.54356,
          -90.54356,
          -90.54356,
          -90.54356,
          -90.54356,
          -90.54356,
          -90.54356,
          -90.54356,
          -90.54356,
          -90.54356,
          -90.54356,
          -90.54356,
          -90.54356,
          -90.54356,
          -90.54356,
          -90.54356,
          -90.54356,
          -90.54356,
          -90.54356,
          -90.54356,
          -90.54356,
          -90.54356,
          -90.54356,
          -90.54356,
          -90.54356,
          -90.54356,
          -90.54356,
          -90.54356,
          -90.54356,
          -90.54356,
          -90.54356,
          -90.54356,
          -90.54356,
          -90.54356,
          -90.54356,
          -90.54356,
          -90.54356,
          -90.54356,
          -90.54356,
          -90.54356,
          -90.54356,
          -90.54356,
          -90.54356,
          -90.54356,
          -90.54356,
          -90.54356,
          -90.54356
         ],
         "marker": {
          "color": "#3997D4",
          "size": 9
         },
         "mode": "markers",
         "name": "router",
         "text": [
          [
           "8075C4BC"
          ],
          [
           "8075C4BC"
          ],
          [
           "8075C4BC"
          ],
          [
           "8075C4BC"
          ],
          [
           "8075C4BC"
          ],
          [
           "8075C4BC"
          ],
          [
           "8075C4BC"
          ],
          [
           "8075C4BC"
          ],
          [
           "8075C4BC"
          ],
          [
           "8075C4BC"
          ],
          [
           "8075C4BC"
          ],
          [
           "8075C4BC"
          ],
          [
           "8075C4BC"
          ],
          [
           "8075C4BC"
          ],
          [
           "8075C4BC"
          ],
          [
           "8075C4BC"
          ],
          [
           "8075C4BC"
          ],
          [
           "8075C4BC"
          ],
          [
           "8075C4BC"
          ],
          [
           "8075C4BC"
          ],
          [
           "8075C4BC"
          ],
          [
           "8075C4BC"
          ],
          [
           "8075C4BC"
          ],
          [
           "8075C4BC"
          ],
          [
           "8075C4BC"
          ],
          [
           "8075C4BC"
          ],
          [
           "8075C4BC"
          ],
          [
           "8075C4BC"
          ],
          [
           "8075C4BC"
          ],
          [
           "8075C4BC"
          ],
          [
           "8075C4BC"
          ],
          [
           "8075C4BC"
          ],
          [
           "8075C4BC"
          ],
          [
           "8075C4BC"
          ],
          [
           "8075C4BC"
          ],
          [
           "8075C4BC"
          ],
          [
           "8075C4BC"
          ],
          [
           "8075C4BC"
          ],
          [
           "8075C4BC"
          ],
          [
           "8075C4BC"
          ],
          [
           "8075C4BC"
          ],
          [
           "8075C4BC"
          ],
          [
           "8075C4BC"
          ],
          [
           "8075C4BC"
          ],
          [
           "8075C4BC"
          ],
          [
           "8075C4BC"
          ],
          [
           "8075C4BC"
          ],
          [
           "8075C4BC"
          ],
          [
           "8075C4BC"
          ],
          [
           "8075C4BC"
          ],
          [
           "8075C4BC"
          ],
          [
           "8075C4BC"
          ],
          [
           "8075C4BC"
          ],
          [
           "8075C4BC"
          ],
          [
           "8075C4BC"
          ],
          [
           "8075C4BC"
          ],
          [
           "8075C4BC"
          ],
          [
           "8075C4BC"
          ],
          [
           "8075C4BC"
          ],
          [
           "8075C4BC"
          ],
          [
           "8075C4BC"
          ],
          [
           "8075C4BC"
          ],
          [
           "8075C4BC"
          ],
          [
           "8075C4BC"
          ],
          [
           "8075C4BC"
          ],
          [
           "8075C4BC"
          ],
          [
           "8075C4BC"
          ],
          [
           "8075C4BC"
          ],
          [
           "8075C4BC"
          ],
          [
           "8075C4BC"
          ],
          [
           "8075C4BC"
          ],
          [
           "8075C4BC"
          ],
          [
           "8075C4BC"
          ],
          [
           "8075C4BC"
          ],
          [
           "8075C4BC"
          ],
          [
           "8075C4BC"
          ],
          [
           "8075C4BC"
          ],
          [
           "8075C4BC"
          ],
          [
           "8075C4BC"
          ],
          [
           "8075C4BC"
          ],
          [
           "8075C4BC"
          ],
          [
           "8075C4BC"
          ],
          [
           "8075C4BC"
          ],
          [
           "8075C4BC"
          ]
         ],
         "type": "scattermapbox"
        }
       ],
       "layout": {
        "height": 400,
        "mapbox": {
         "accesstoken": "pk.eyJ1IjoidmJvcnJheW8iLCJhIjoiY2xob2dvdTZlMXZuODNmbHJyYjVvMzIzeSJ9.aNrb8uXomKz2Qrk_GsABgA",
         "center": {
          "lat": 14.569469000000002,
          "lon": -90.54355999999999
         },
         "style": "mapbox://styles/mapbox/streets-v11",
         "zoom": 7.5
        },
        "margin": {
         "b": 10,
         "l": 10,
         "r": 50,
         "t": 30
        },
        "template": {
         "data": {
          "bar": [
           {
            "error_x": {
             "color": "#2a3f5f"
            },
            "error_y": {
             "color": "#2a3f5f"
            },
            "marker": {
             "line": {
              "color": "#E5ECF6",
              "width": 0.5
             },
             "pattern": {
              "fillmode": "overlay",
              "size": 10,
              "solidity": 0.2
             }
            },
            "type": "bar"
           }
          ],
          "barpolar": [
           {
            "marker": {
             "line": {
              "color": "#E5ECF6",
              "width": 0.5
             },
             "pattern": {
              "fillmode": "overlay",
              "size": 10,
              "solidity": 0.2
             }
            },
            "type": "barpolar"
           }
          ],
          "carpet": [
           {
            "aaxis": {
             "endlinecolor": "#2a3f5f",
             "gridcolor": "white",
             "linecolor": "white",
             "minorgridcolor": "white",
             "startlinecolor": "#2a3f5f"
            },
            "baxis": {
             "endlinecolor": "#2a3f5f",
             "gridcolor": "white",
             "linecolor": "white",
             "minorgridcolor": "white",
             "startlinecolor": "#2a3f5f"
            },
            "type": "carpet"
           }
          ],
          "choropleth": [
           {
            "colorbar": {
             "outlinewidth": 0,
             "ticks": ""
            },
            "type": "choropleth"
           }
          ],
          "contour": [
           {
            "colorbar": {
             "outlinewidth": 0,
             "ticks": ""
            },
            "colorscale": [
             [
              0,
              "#0d0887"
             ],
             [
              0.1111111111111111,
              "#46039f"
             ],
             [
              0.2222222222222222,
              "#7201a8"
             ],
             [
              0.3333333333333333,
              "#9c179e"
             ],
             [
              0.4444444444444444,
              "#bd3786"
             ],
             [
              0.5555555555555556,
              "#d8576b"
             ],
             [
              0.6666666666666666,
              "#ed7953"
             ],
             [
              0.7777777777777778,
              "#fb9f3a"
             ],
             [
              0.8888888888888888,
              "#fdca26"
             ],
             [
              1,
              "#f0f921"
             ]
            ],
            "type": "contour"
           }
          ],
          "contourcarpet": [
           {
            "colorbar": {
             "outlinewidth": 0,
             "ticks": ""
            },
            "type": "contourcarpet"
           }
          ],
          "heatmap": [
           {
            "colorbar": {
             "outlinewidth": 0,
             "ticks": ""
            },
            "colorscale": [
             [
              0,
              "#0d0887"
             ],
             [
              0.1111111111111111,
              "#46039f"
             ],
             [
              0.2222222222222222,
              "#7201a8"
             ],
             [
              0.3333333333333333,
              "#9c179e"
             ],
             [
              0.4444444444444444,
              "#bd3786"
             ],
             [
              0.5555555555555556,
              "#d8576b"
             ],
             [
              0.6666666666666666,
              "#ed7953"
             ],
             [
              0.7777777777777778,
              "#fb9f3a"
             ],
             [
              0.8888888888888888,
              "#fdca26"
             ],
             [
              1,
              "#f0f921"
             ]
            ],
            "type": "heatmap"
           }
          ],
          "heatmapgl": [
           {
            "colorbar": {
             "outlinewidth": 0,
             "ticks": ""
            },
            "colorscale": [
             [
              0,
              "#0d0887"
             ],
             [
              0.1111111111111111,
              "#46039f"
             ],
             [
              0.2222222222222222,
              "#7201a8"
             ],
             [
              0.3333333333333333,
              "#9c179e"
             ],
             [
              0.4444444444444444,
              "#bd3786"
             ],
             [
              0.5555555555555556,
              "#d8576b"
             ],
             [
              0.6666666666666666,
              "#ed7953"
             ],
             [
              0.7777777777777778,
              "#fb9f3a"
             ],
             [
              0.8888888888888888,
              "#fdca26"
             ],
             [
              1,
              "#f0f921"
             ]
            ],
            "type": "heatmapgl"
           }
          ],
          "histogram": [
           {
            "marker": {
             "pattern": {
              "fillmode": "overlay",
              "size": 10,
              "solidity": 0.2
             }
            },
            "type": "histogram"
           }
          ],
          "histogram2d": [
           {
            "colorbar": {
             "outlinewidth": 0,
             "ticks": ""
            },
            "colorscale": [
             [
              0,
              "#0d0887"
             ],
             [
              0.1111111111111111,
              "#46039f"
             ],
             [
              0.2222222222222222,
              "#7201a8"
             ],
             [
              0.3333333333333333,
              "#9c179e"
             ],
             [
              0.4444444444444444,
              "#bd3786"
             ],
             [
              0.5555555555555556,
              "#d8576b"
             ],
             [
              0.6666666666666666,
              "#ed7953"
             ],
             [
              0.7777777777777778,
              "#fb9f3a"
             ],
             [
              0.8888888888888888,
              "#fdca26"
             ],
             [
              1,
              "#f0f921"
             ]
            ],
            "type": "histogram2d"
           }
          ],
          "histogram2dcontour": [
           {
            "colorbar": {
             "outlinewidth": 0,
             "ticks": ""
            },
            "colorscale": [
             [
              0,
              "#0d0887"
             ],
             [
              0.1111111111111111,
              "#46039f"
             ],
             [
              0.2222222222222222,
              "#7201a8"
             ],
             [
              0.3333333333333333,
              "#9c179e"
             ],
             [
              0.4444444444444444,
              "#bd3786"
             ],
             [
              0.5555555555555556,
              "#d8576b"
             ],
             [
              0.6666666666666666,
              "#ed7953"
             ],
             [
              0.7777777777777778,
              "#fb9f3a"
             ],
             [
              0.8888888888888888,
              "#fdca26"
             ],
             [
              1,
              "#f0f921"
             ]
            ],
            "type": "histogram2dcontour"
           }
          ],
          "mesh3d": [
           {
            "colorbar": {
             "outlinewidth": 0,
             "ticks": ""
            },
            "type": "mesh3d"
           }
          ],
          "parcoords": [
           {
            "line": {
             "colorbar": {
              "outlinewidth": 0,
              "ticks": ""
             }
            },
            "type": "parcoords"
           }
          ],
          "pie": [
           {
            "automargin": true,
            "type": "pie"
           }
          ],
          "scatter": [
           {
            "fillpattern": {
             "fillmode": "overlay",
             "size": 10,
             "solidity": 0.2
            },
            "type": "scatter"
           }
          ],
          "scatter3d": [
           {
            "line": {
             "colorbar": {
              "outlinewidth": 0,
              "ticks": ""
             }
            },
            "marker": {
             "colorbar": {
              "outlinewidth": 0,
              "ticks": ""
             }
            },
            "type": "scatter3d"
           }
          ],
          "scattercarpet": [
           {
            "marker": {
             "colorbar": {
              "outlinewidth": 0,
              "ticks": ""
             }
            },
            "type": "scattercarpet"
           }
          ],
          "scattergeo": [
           {
            "marker": {
             "colorbar": {
              "outlinewidth": 0,
              "ticks": ""
             }
            },
            "type": "scattergeo"
           }
          ],
          "scattergl": [
           {
            "marker": {
             "colorbar": {
              "outlinewidth": 0,
              "ticks": ""
             }
            },
            "type": "scattergl"
           }
          ],
          "scattermapbox": [
           {
            "marker": {
             "colorbar": {
              "outlinewidth": 0,
              "ticks": ""
             }
            },
            "type": "scattermapbox"
           }
          ],
          "scatterpolar": [
           {
            "marker": {
             "colorbar": {
              "outlinewidth": 0,
              "ticks": ""
             }
            },
            "type": "scatterpolar"
           }
          ],
          "scatterpolargl": [
           {
            "marker": {
             "colorbar": {
              "outlinewidth": 0,
              "ticks": ""
             }
            },
            "type": "scatterpolargl"
           }
          ],
          "scatterternary": [
           {
            "marker": {
             "colorbar": {
              "outlinewidth": 0,
              "ticks": ""
             }
            },
            "type": "scatterternary"
           }
          ],
          "surface": [
           {
            "colorbar": {
             "outlinewidth": 0,
             "ticks": ""
            },
            "colorscale": [
             [
              0,
              "#0d0887"
             ],
             [
              0.1111111111111111,
              "#46039f"
             ],
             [
              0.2222222222222222,
              "#7201a8"
             ],
             [
              0.3333333333333333,
              "#9c179e"
             ],
             [
              0.4444444444444444,
              "#bd3786"
             ],
             [
              0.5555555555555556,
              "#d8576b"
             ],
             [
              0.6666666666666666,
              "#ed7953"
             ],
             [
              0.7777777777777778,
              "#fb9f3a"
             ],
             [
              0.8888888888888888,
              "#fdca26"
             ],
             [
              1,
              "#f0f921"
             ]
            ],
            "type": "surface"
           }
          ],
          "table": [
           {
            "cells": {
             "fill": {
              "color": "#EBF0F8"
             },
             "line": {
              "color": "white"
             }
            },
            "header": {
             "fill": {
              "color": "#C8D4E3"
             },
             "line": {
              "color": "white"
             }
            },
            "type": "table"
           }
          ]
         },
         "layout": {
          "annotationdefaults": {
           "arrowcolor": "#2a3f5f",
           "arrowhead": 0,
           "arrowwidth": 1
          },
          "autotypenumbers": "strict",
          "coloraxis": {
           "colorbar": {
            "outlinewidth": 0,
            "ticks": ""
           }
          },
          "colorscale": {
           "diverging": [
            [
             0,
             "#8e0152"
            ],
            [
             0.1,
             "#c51b7d"
            ],
            [
             0.2,
             "#de77ae"
            ],
            [
             0.3,
             "#f1b6da"
            ],
            [
             0.4,
             "#fde0ef"
            ],
            [
             0.5,
             "#f7f7f7"
            ],
            [
             0.6,
             "#e6f5d0"
            ],
            [
             0.7,
             "#b8e186"
            ],
            [
             0.8,
             "#7fbc41"
            ],
            [
             0.9,
             "#4d9221"
            ],
            [
             1,
             "#276419"
            ]
           ],
           "sequential": [
            [
             0,
             "#0d0887"
            ],
            [
             0.1111111111111111,
             "#46039f"
            ],
            [
             0.2222222222222222,
             "#7201a8"
            ],
            [
             0.3333333333333333,
             "#9c179e"
            ],
            [
             0.4444444444444444,
             "#bd3786"
            ],
            [
             0.5555555555555556,
             "#d8576b"
            ],
            [
             0.6666666666666666,
             "#ed7953"
            ],
            [
             0.7777777777777778,
             "#fb9f3a"
            ],
            [
             0.8888888888888888,
             "#fdca26"
            ],
            [
             1,
             "#f0f921"
            ]
           ],
           "sequentialminus": [
            [
             0,
             "#0d0887"
            ],
            [
             0.1111111111111111,
             "#46039f"
            ],
            [
             0.2222222222222222,
             "#7201a8"
            ],
            [
             0.3333333333333333,
             "#9c179e"
            ],
            [
             0.4444444444444444,
             "#bd3786"
            ],
            [
             0.5555555555555556,
             "#d8576b"
            ],
            [
             0.6666666666666666,
             "#ed7953"
            ],
            [
             0.7777777777777778,
             "#fb9f3a"
            ],
            [
             0.8888888888888888,
             "#fdca26"
            ],
            [
             1,
             "#f0f921"
            ]
           ]
          },
          "colorway": [
           "#636efa",
           "#EF553B",
           "#00cc96",
           "#ab63fa",
           "#FFA15A",
           "#19d3f3",
           "#FF6692",
           "#B6E880",
           "#FF97FF",
           "#FECB52"
          ],
          "font": {
           "color": "#2a3f5f"
          },
          "geo": {
           "bgcolor": "white",
           "lakecolor": "white",
           "landcolor": "#E5ECF6",
           "showlakes": true,
           "showland": true,
           "subunitcolor": "white"
          },
          "hoverlabel": {
           "align": "left"
          },
          "hovermode": "closest",
          "mapbox": {
           "style": "light"
          },
          "paper_bgcolor": "white",
          "plot_bgcolor": "#E5ECF6",
          "polar": {
           "angularaxis": {
            "gridcolor": "white",
            "linecolor": "white",
            "ticks": ""
           },
           "bgcolor": "#E5ECF6",
           "radialaxis": {
            "gridcolor": "white",
            "linecolor": "white",
            "ticks": ""
           }
          },
          "scene": {
           "xaxis": {
            "backgroundcolor": "#E5ECF6",
            "gridcolor": "white",
            "gridwidth": 2,
            "linecolor": "white",
            "showbackground": true,
            "ticks": "",
            "zerolinecolor": "white"
           },
           "yaxis": {
            "backgroundcolor": "#E5ECF6",
            "gridcolor": "white",
            "gridwidth": 2,
            "linecolor": "white",
            "showbackground": true,
            "ticks": "",
            "zerolinecolor": "white"
           },
           "zaxis": {
            "backgroundcolor": "#E5ECF6",
            "gridcolor": "white",
            "gridwidth": 2,
            "linecolor": "white",
            "showbackground": true,
            "ticks": "",
            "zerolinecolor": "white"
           }
          },
          "shapedefaults": {
           "line": {
            "color": "#2a3f5f"
           }
          },
          "ternary": {
           "aaxis": {
            "gridcolor": "white",
            "linecolor": "white",
            "ticks": ""
           },
           "baxis": {
            "gridcolor": "white",
            "linecolor": "white",
            "ticks": ""
           },
           "bgcolor": "#E5ECF6",
           "caxis": {
            "gridcolor": "white",
            "linecolor": "white",
            "ticks": ""
           }
          },
          "title": {
           "x": 0.05
          },
          "xaxis": {
           "automargin": true,
           "gridcolor": "white",
           "linecolor": "white",
           "ticks": "",
           "title": {
            "standoff": 15
           },
           "zerolinecolor": "white",
           "zerolinewidth": 2
          },
          "yaxis": {
           "automargin": true,
           "gridcolor": "white",
           "linecolor": "white",
           "ticks": "",
           "title": {
            "standoff": 15
           },
           "zerolinecolor": "white",
           "zerolinewidth": 2
          }
         }
        },
        "title": {
         "text": "Mesh Routers Outliers - Ronda pData_1",
         "x": 0.5
        },
        "width": 600
       }
      }
     },
     "metadata": {},
     "output_type": "display_data"
    },
    {
     "data": {
      "application/vnd.jupyter.widget-view+json": {
       "model_id": "a2583a26f1ef4b10bfb5cb9643ed4e09",
       "version_major": 2,
       "version_minor": 0
      },
      "text/plain": [
       "interactive(children=(Dropdown(description='radio', options=('807F405F', '8061CD07', '8061CE8C', '8061CC2D', '…"
      ]
     },
     "metadata": {},
     "output_type": "display_data"
    }
   ],
   "source": [
    "#Visualización de mapa interactivo\n",
    "Rdiscrete_map2(dicTemp2, wgDic4, \"Mesh Routers Outliers\")"
   ]
  },
  {
   "cell_type": "markdown",
   "id": "773ba11c",
   "metadata": {},
   "source": [
    "### Outliers por router"
   ]
  },
  {
   "cell_type": "code",
   "execution_count": 43,
   "id": "45bb28b3",
   "metadata": {},
   "outputs": [],
   "source": [
    "#Parámetros de mapa\n",
    "#Widgets\n",
    "fDate4 = widgets.SelectionSlider(options = list(tRContainer[\"fDate\"].unique()), description = \"Fecha\")\n",
    "routrR = widgets.Dropdown(options = sorted(list(tRContainer[\"radio\"].unique())),description = \"radio\")\n",
    "clrDic3 = {\"outlier\": sClr1, \"normal\": sClr3}\n",
    "clrDic4 = {\"outlier\"}\n",
    "#clrDic3 = {True: sClr1, False: sClr3}\n",
    "wgDic5 = {\"radio\":routrR}#\"fDate\":fDate4, \n",
    "dicTemp4 = {\n",
    "    \"vecino\" : [tRContainer, clrDic3, \"neigh_outlier\",[\"neighborSN\"],[\"latitude_neigh\",\"longitude_neigh\"]],\n",
    "    \"gway\" : [tRContainer, sClr4, None,[\"CollectorNm\"],[\"latitude_gw\",\"longitude_gw\"]],\n",
    "    \"router\" : [tRContainer, mClr, None,[\"radio\"],[\"latitude\",\"longitude\"]]\n",
    "    \n",
    "    #\"routers\" : [tRContainer, clrDic3, \"outlier\",[\"radio\",\"neighborSN\"]],\n",
    "}"
   ]
  },
  {
   "cell_type": "code",
   "execution_count": 44,
   "id": "e453b752",
   "metadata": {},
   "outputs": [
    {
     "data": {
      "application/vnd.jupyter.widget-view+json": {
       "model_id": "6573f1f967fb46168a76e79c5ac6b88b",
       "version_major": 2,
       "version_minor": 0
      },
      "text/plain": [
       "Output()"
      ]
     },
     "metadata": {},
     "output_type": "display_data"
    },
    {
     "data": {
      "application/vnd.plotly.v1+json": {
       "config": {
        "plotlyServerURL": "https://plot.ly"
       },
       "data": [
        {
         "lat": [
          14.718494,
          14.724154,
          14.718494,
          14.71281526,
          14.718494,
          14.718494,
          14.718494,
          14.718494,
          14.718494,
          14.718494,
          14.718494,
          14.718494,
          14.718494,
          14.724154,
          14.724154,
          14.724154,
          14.718494,
          14.724154,
          14.724154,
          14.724154,
          14.718494,
          14.718494,
          14.724154,
          14.724154,
          14.718494,
          14.718494,
          14.65803,
          14.718494,
          14.71202,
          14.724154,
          14.724154,
          14.724154,
          14.718494,
          14.724154,
          14.724154,
          14.710998,
          14.718494,
          14.724154,
          14.724154,
          14.724154,
          14.724154,
          14.724154,
          14.724154,
          14.724154,
          14.68345,
          14.724154,
          14.724154,
          14.724154,
          14.724154,
          14.724154,
          14.724154,
          14.724154,
          14.724154,
          14.724154,
          14.724154,
          14.724154,
          14.724154,
          14.713624,
          14.724154,
          14.724154,
          14.724154,
          14.724154,
          14.724154,
          14.724154,
          14.724154,
          14.724154,
          14.724154,
          14.724154,
          14.72415,
          14.72415,
          14.72415,
          14.72415,
          14.72415,
          14.72415,
          14.72415,
          14.72415,
          14.72415,
          14.724154,
          14.724154,
          14.724154,
          14.724154
         ],
         "lon": [
          -90.383,
          -90.387739,
          -90.383,
          -90.3707801,
          -90.383,
          -90.383,
          -90.383,
          -90.383,
          -90.383,
          -90.383,
          -90.383,
          -90.383,
          -90.383,
          -90.387739,
          -90.387739,
          -90.387739,
          -90.383,
          -90.387739,
          -90.387739,
          -90.387739,
          -90.383,
          -90.383,
          -90.387739,
          -90.387739,
          -90.383,
          -90.383,
          -90.43908,
          -90.383,
          -90.38844,
          -90.387739,
          -90.387739,
          -90.387739,
          -90.383,
          -90.387739,
          -90.387739,
          -90.373039,
          -90.383,
          -90.387739,
          -90.387739,
          -90.387739,
          -90.387739,
          -90.387739,
          -90.387739,
          -90.387739,
          -90.35518,
          -90.387739,
          -90.387739,
          -90.387739,
          -90.387739,
          -90.387739,
          -90.387739,
          -90.387739,
          -90.387739,
          -90.387739,
          -90.387739,
          -90.387739,
          -90.387739,
          -90.369024,
          -90.387739,
          -90.387739,
          -90.387739,
          -90.387739,
          -90.387739,
          -90.387739,
          -90.387739,
          -90.387739,
          -90.387739,
          -90.387739,
          -90.38774,
          -90.38774,
          -90.38774,
          -90.38774,
          -90.38774,
          -90.38774,
          -90.38774,
          -90.38774,
          -90.38774,
          -90.387739,
          -90.387739,
          -90.387739,
          -90.387739
         ],
         "marker": {
          "color": "#304059",
          "size": 9
         },
         "mode": "markers",
         "name": "normal",
         "text": [
          [
           "1355626819"
          ],
          [
           "1350038120"
          ],
          [
           "1355626819"
          ],
          [
           "1350110746"
          ],
          [
           "1355626819"
          ],
          [
           "1355626819"
          ],
          [
           "1355626819"
          ],
          [
           "1355626819"
          ],
          [
           "1355626819"
          ],
          [
           "1355626819"
          ],
          [
           "1355626819"
          ],
          [
           "1355626819"
          ],
          [
           "1355626819"
          ],
          [
           "1350038120"
          ],
          [
           "1350038120"
          ],
          [
           "1350038120"
          ],
          [
           "1355626819"
          ],
          [
           "1350038120"
          ],
          [
           "1350038120"
          ],
          [
           "1350038120"
          ],
          [
           "1355626819"
          ],
          [
           "1355626819"
          ],
          [
           "1350038120"
          ],
          [
           "1350038120"
          ],
          [
           "1355626819"
          ],
          [
           "1355626819"
          ],
          [
           "4038714762"
          ],
          [
           "1355626819"
          ],
          [
           "1350351225"
          ],
          [
           "1350038120"
          ],
          [
           "1350038120"
          ],
          [
           "1350038120"
          ],
          [
           "1355626819"
          ],
          [
           "1350038120"
          ],
          [
           "1350038120"
          ],
          [
           "1350041442"
          ],
          [
           "1355626819"
          ],
          [
           "1350038120"
          ],
          [
           "1350038120"
          ],
          [
           "1350038120"
          ],
          [
           "1350038120"
          ],
          [
           "1350038120"
          ],
          [
           "1350038120"
          ],
          [
           "1350038120"
          ],
          [
           "4030522118"
          ],
          [
           "1350038120"
          ],
          [
           "1350038120"
          ],
          [
           "1350038120"
          ],
          [
           "1350038120"
          ],
          [
           "1350038120"
          ],
          [
           "1350038120"
          ],
          [
           "1350038120"
          ],
          [
           "1350038120"
          ],
          [
           "1350038120"
          ],
          [
           "1350038120"
          ],
          [
           "1350038120"
          ],
          [
           "1350038120"
          ],
          [
           "2153892388"
          ],
          [
           "1350038120"
          ],
          [
           "1350038120"
          ],
          [
           "1350038120"
          ],
          [
           "1350038120"
          ],
          [
           "1350038120"
          ],
          [
           "1350038120"
          ],
          [
           "1350038120"
          ],
          [
           "1350038120"
          ],
          [
           "1350038120"
          ],
          [
           "1350038120"
          ],
          [
           "1350038120"
          ],
          [
           "1350038120"
          ],
          [
           "1350038120"
          ],
          [
           "1350038120"
          ],
          [
           "1350038120"
          ],
          [
           "1350038120"
          ],
          [
           "1350038120"
          ],
          [
           "1350038120"
          ],
          [
           "1350038120"
          ],
          [
           "1350038120"
          ],
          [
           "1350038120"
          ],
          [
           "1350038120"
          ],
          [
           "1350038120"
          ]
         ],
         "type": "scattermapbox"
        },
        {
         "lat": [
          14.52836708,
          14.52836708,
          14.52836708
         ],
         "lon": [
          -90.439613,
          -90.439613,
          -90.439613
         ],
         "marker": {
          "color": "#F56522",
          "size": 9
         },
         "mode": "markers",
         "name": "outlier",
         "text": [
          [
           "4038715628"
          ],
          [
           "4038715628"
          ],
          [
           "4038715628"
          ]
         ],
         "type": "scattermapbox"
        },
        {
         "lat": [
          14.68606,
          14.73738667,
          14.73738667,
          14.73738667,
          14.68606,
          14.68606,
          14.73738667,
          14.73738667,
          14.73738667,
          14.73738667,
          14.68606,
          14.68606,
          14.73738667,
          14.73738667,
          14.68606,
          14.68606,
          14.68606,
          14.68606,
          14.73738667,
          14.68606,
          14.68606,
          14.73738667,
          14.73738667,
          14.68606,
          14.73738667,
          14.73738667,
          14.73738667,
          14.68606,
          14.73738667,
          14.73738667,
          14.68606,
          14.68606,
          14.68606,
          14.73738667,
          14.68606,
          14.73738667,
          14.68606,
          14.68606,
          14.73738667,
          14.68606,
          14.73738667,
          14.73738667,
          14.68606,
          14.73738667,
          14.68606,
          14.68606,
          14.68606,
          14.68606,
          14.68606,
          14.68606,
          14.68606,
          14.68606,
          14.68606,
          14.68606,
          14.68606,
          14.68606,
          14.68606,
          14.68606,
          14.68606,
          14.68606,
          14.68606,
          14.68606,
          14.68606,
          14.68606,
          14.68606,
          14.68606,
          14.68606,
          14.68606,
          14.68606,
          14.68606,
          14.68606,
          14.68606,
          14.73738667,
          14.68606,
          14.68606,
          14.68606,
          14.68606,
          14.68606,
          14.68606,
          14.68606,
          14.68606,
          14.68606,
          14.68606,
          14.68606
         ],
         "lon": [
          -90.39919861,
          -90.44846528,
          -90.44846528,
          -90.44846528,
          -90.39919861,
          -90.39919861,
          -90.44846528,
          -90.44846528,
          -90.44846528,
          -90.44846528,
          -90.39919861,
          -90.39919861,
          -90.44846528,
          -90.44846528,
          -90.39919861,
          -90.39919861,
          -90.39919861,
          -90.39919861,
          -90.44846528,
          -90.39919861,
          -90.39919861,
          -90.44846528,
          -90.44846528,
          -90.39919861,
          -90.44846528,
          -90.44846528,
          -90.44846528,
          -90.39919861,
          -90.44846528,
          -90.44846528,
          -90.39919861,
          -90.39919861,
          -90.39919861,
          -90.44846528,
          -90.39919861,
          -90.44846528,
          -90.39919861,
          -90.39919861,
          -90.44846528,
          -90.39919861,
          -90.44846528,
          -90.44846528,
          -90.39919861,
          -90.44846528,
          -90.39919861,
          -90.39919861,
          -90.39919861,
          -90.39919861,
          -90.39919861,
          -90.39919861,
          -90.39919861,
          -90.39919861,
          -90.39919861,
          -90.39919861,
          -90.39919861,
          -90.39919861,
          -90.39919861,
          -90.39919861,
          -90.39919861,
          -90.39919861,
          -90.39919861,
          -90.39919861,
          -90.39919861,
          -90.39919861,
          -90.39919861,
          -90.39919861,
          -90.39919861,
          -90.39919861,
          -90.39919861,
          -90.39919861,
          -90.39919861,
          -90.39919861,
          -90.44846528,
          -90.39919861,
          -90.39919861,
          -90.39919861,
          -90.39919861,
          -90.39919861,
          -90.39919861,
          -90.39919861,
          -90.39919861,
          -90.39919861,
          -90.39919861,
          -90.39919861
         ],
         "marker": {
          "color": "#9DD3A4",
          "size": 9
         },
         "mode": "markers",
         "name": "gway",
         "text": [
          [
           "Llano_Largo_1017"
          ],
          [
           "189212_1056"
          ],
          [
           "189212_1056"
          ],
          [
           "189212_1056"
          ],
          [
           "Llano_Largo_1017"
          ],
          [
           "Llano_Largo_1017"
          ],
          [
           "189212_1056"
          ],
          [
           "189212_1056"
          ],
          [
           "189212_1056"
          ],
          [
           "189212_1056"
          ],
          [
           "Llano_Largo_1017"
          ],
          [
           "Llano_Largo_1017"
          ],
          [
           "189212_1056"
          ],
          [
           "189212_1056"
          ],
          [
           "Llano_Largo_1017"
          ],
          [
           "Llano_Largo_1017"
          ],
          [
           "Llano_Largo_1017"
          ],
          [
           "Llano_Largo_1017"
          ],
          [
           "189212_1056"
          ],
          [
           "Llano_Largo_1017"
          ],
          [
           "Llano_Largo_1017"
          ],
          [
           "189212_1056"
          ],
          [
           "189212_1056"
          ],
          [
           "Llano_Largo_1017"
          ],
          [
           "189212_1056"
          ],
          [
           "189212_1056"
          ],
          [
           "189212_1056"
          ],
          [
           "Llano_Largo_1017"
          ],
          [
           "189212_1056"
          ],
          [
           "189212_1056"
          ],
          [
           "Llano_Largo_1017"
          ],
          [
           "Llano_Largo_1017"
          ],
          [
           "Llano_Largo_1017"
          ],
          [
           "189212_1056"
          ],
          [
           "Llano_Largo_1017"
          ],
          [
           "189212_1056"
          ],
          [
           "Llano_Largo_1017"
          ],
          [
           "Llano_Largo_1017"
          ],
          [
           "189212_1056"
          ],
          [
           "Llano_Largo_1017"
          ],
          [
           "189212_1056"
          ],
          [
           "189212_1056"
          ],
          [
           "Llano_Largo_1017"
          ],
          [
           "189212_1056"
          ],
          [
           "Llano_Largo_1017"
          ],
          [
           "Llano_Largo_1017"
          ],
          [
           "Llano_Largo_1017"
          ],
          [
           "Llano_Largo_1017"
          ],
          [
           "Llano_Largo_1017"
          ],
          [
           "Llano_Largo_1017"
          ],
          [
           "Llano_Largo_1017"
          ],
          [
           "Llano_Largo_1017"
          ],
          [
           "Llano_Largo_1017"
          ],
          [
           "Llano_Largo_1017"
          ],
          [
           "Llano_Largo_1017"
          ],
          [
           "Llano_Largo_1017"
          ],
          [
           "Llano_Largo_1017"
          ],
          [
           "Llano_Largo_1017"
          ],
          [
           "Llano_Largo_1017"
          ],
          [
           "Llano_Largo_1017"
          ],
          [
           "Llano_Largo_1017"
          ],
          [
           "Llano_Largo_1017"
          ],
          [
           "Llano_Largo_1017"
          ],
          [
           "Llano_Largo_1017"
          ],
          [
           "Llano_Largo_1017"
          ],
          [
           "Llano_Largo_1017"
          ],
          [
           "Llano_Largo_1017"
          ],
          [
           "Llano_Largo_1017"
          ],
          [
           "Llano_Largo_1017"
          ],
          [
           "Llano_Largo_1017"
          ],
          [
           "Llano_Largo_1017"
          ],
          [
           "Llano_Largo_1017"
          ],
          [
           "189212_1056"
          ],
          [
           "Llano_Largo_1017"
          ],
          [
           "Llano_Largo_1017"
          ],
          [
           "Llano_Largo_1017"
          ],
          [
           "Llano_Largo_1017"
          ],
          [
           "Llano_Largo_1017"
          ],
          [
           "Llano_Largo_1017"
          ],
          [
           "Llano_Largo_1017"
          ],
          [
           "Llano_Largo_1017"
          ],
          [
           "Llano_Largo_1017"
          ],
          [
           "Llano_Largo_1017"
          ],
          [
           "Llano_Largo_1017"
          ]
         ],
         "type": "scattermapbox"
        },
        {
         "lat": [
          14.72028,
          14.72028,
          14.72028,
          14.72028,
          14.72028,
          14.72028,
          14.72028,
          14.72028,
          14.72028,
          14.72028,
          14.72028,
          14.72028,
          14.72028,
          14.72028,
          14.72028,
          14.72028,
          14.72028,
          14.72028,
          14.72028,
          14.72028,
          14.72028,
          14.72028,
          14.72028,
          14.72028,
          14.72028,
          14.72028,
          14.72028,
          14.72028,
          14.72028,
          14.72028,
          14.72028,
          14.72028,
          14.72028,
          14.72028,
          14.72028,
          14.72028,
          14.72028,
          14.72028,
          14.72028,
          14.72028,
          14.72028,
          14.72028,
          14.72028,
          14.72028,
          14.72028,
          14.72028,
          14.72028,
          14.72028,
          14.72028,
          14.72028,
          14.72028,
          14.72028,
          14.72028,
          14.72028,
          14.72028,
          14.72028,
          14.72028,
          14.72028,
          14.72028,
          14.72028,
          14.72028,
          14.72028,
          14.72028,
          14.72028,
          14.72028,
          14.72028,
          14.72028,
          14.72028,
          14.72028,
          14.72028,
          14.72028,
          14.72028,
          14.72028,
          14.72028,
          14.72028,
          14.72028,
          14.72028,
          14.72028,
          14.72028,
          14.72028,
          14.72028,
          14.72028,
          14.72028,
          14.72028
         ],
         "lon": [
          -90.38367,
          -90.38367,
          -90.38367,
          -90.38367,
          -90.38367,
          -90.38367,
          -90.38367,
          -90.38367,
          -90.38367,
          -90.38367,
          -90.38367,
          -90.38367,
          -90.38367,
          -90.38367,
          -90.38367,
          -90.38367,
          -90.38367,
          -90.38367,
          -90.38367,
          -90.38367,
          -90.38367,
          -90.38367,
          -90.38367,
          -90.38367,
          -90.38367,
          -90.38367,
          -90.38367,
          -90.38367,
          -90.38367,
          -90.38367,
          -90.38367,
          -90.38367,
          -90.38367,
          -90.38367,
          -90.38367,
          -90.38367,
          -90.38367,
          -90.38367,
          -90.38367,
          -90.38367,
          -90.38367,
          -90.38367,
          -90.38367,
          -90.38367,
          -90.38367,
          -90.38367,
          -90.38367,
          -90.38367,
          -90.38367,
          -90.38367,
          -90.38367,
          -90.38367,
          -90.38367,
          -90.38367,
          -90.38367,
          -90.38367,
          -90.38367,
          -90.38367,
          -90.38367,
          -90.38367,
          -90.38367,
          -90.38367,
          -90.38367,
          -90.38367,
          -90.38367,
          -90.38367,
          -90.38367,
          -90.38367,
          -90.38367,
          -90.38367,
          -90.38367,
          -90.38367,
          -90.38367,
          -90.38367,
          -90.38367,
          -90.38367,
          -90.38367,
          -90.38367,
          -90.38367,
          -90.38367,
          -90.38367,
          -90.38367,
          -90.38367,
          -90.38367
         ],
         "marker": {
          "color": "#3997D4",
          "size": 9
         },
         "mode": "markers",
         "name": "router",
         "text": [
          [
           "8061CCE4"
          ],
          [
           "8061CCE4"
          ],
          [
           "8061CCE4"
          ],
          [
           "8061CCE4"
          ],
          [
           "8061CCE4"
          ],
          [
           "8061CCE4"
          ],
          [
           "8061CCE4"
          ],
          [
           "8061CCE4"
          ],
          [
           "8061CCE4"
          ],
          [
           "8061CCE4"
          ],
          [
           "8061CCE4"
          ],
          [
           "8061CCE4"
          ],
          [
           "8061CCE4"
          ],
          [
           "8061CCE4"
          ],
          [
           "8061CCE4"
          ],
          [
           "8061CCE4"
          ],
          [
           "8061CCE4"
          ],
          [
           "8061CCE4"
          ],
          [
           "8061CCE4"
          ],
          [
           "8061CCE4"
          ],
          [
           "8061CCE4"
          ],
          [
           "8061CCE4"
          ],
          [
           "8061CCE4"
          ],
          [
           "8061CCE4"
          ],
          [
           "8061CCE4"
          ],
          [
           "8061CCE4"
          ],
          [
           "8061CCE4"
          ],
          [
           "8061CCE4"
          ],
          [
           "8061CCE4"
          ],
          [
           "8061CCE4"
          ],
          [
           "8061CCE4"
          ],
          [
           "8061CCE4"
          ],
          [
           "8061CCE4"
          ],
          [
           "8061CCE4"
          ],
          [
           "8061CCE4"
          ],
          [
           "8061CCE4"
          ],
          [
           "8061CCE4"
          ],
          [
           "8061CCE4"
          ],
          [
           "8061CCE4"
          ],
          [
           "8061CCE4"
          ],
          [
           "8061CCE4"
          ],
          [
           "8061CCE4"
          ],
          [
           "8061CCE4"
          ],
          [
           "8061CCE4"
          ],
          [
           "8061CCE4"
          ],
          [
           "8061CCE4"
          ],
          [
           "8061CCE4"
          ],
          [
           "8061CCE4"
          ],
          [
           "8061CCE4"
          ],
          [
           "8061CCE4"
          ],
          [
           "8061CCE4"
          ],
          [
           "8061CCE4"
          ],
          [
           "8061CCE4"
          ],
          [
           "8061CCE4"
          ],
          [
           "8061CCE4"
          ],
          [
           "8061CCE4"
          ],
          [
           "8061CCE4"
          ],
          [
           "8061CCE4"
          ],
          [
           "8061CCE4"
          ],
          [
           "8061CCE4"
          ],
          [
           "8061CCE4"
          ],
          [
           "8061CCE4"
          ],
          [
           "8061CCE4"
          ],
          [
           "8061CCE4"
          ],
          [
           "8061CCE4"
          ],
          [
           "8061CCE4"
          ],
          [
           "8061CCE4"
          ],
          [
           "8061CCE4"
          ],
          [
           "8061CCE4"
          ],
          [
           "8061CCE4"
          ],
          [
           "8061CCE4"
          ],
          [
           "8061CCE4"
          ],
          [
           "8061CCE4"
          ],
          [
           "8061CCE4"
          ],
          [
           "8061CCE4"
          ],
          [
           "8061CCE4"
          ],
          [
           "8061CCE4"
          ],
          [
           "8061CCE4"
          ],
          [
           "8061CCE4"
          ],
          [
           "8061CCE4"
          ],
          [
           "8061CCE4"
          ],
          [
           "8061CCE4"
          ],
          [
           "8061CCE4"
          ],
          [
           "8061CCE4"
          ]
         ],
         "type": "scattermapbox"
        }
       ],
       "layout": {
        "height": 400,
        "mapbox": {
         "accesstoken": "pk.eyJ1IjoidmJvcnJheW8iLCJhIjoiY2xob2dvdTZlMXZuODNmbHJyYjVvMzIzeSJ9.aNrb8uXomKz2Qrk_GsABgA",
         "center": {
          "lat": 14.720279999999999,
          "lon": -90.38367
         },
         "style": "mapbox://styles/mapbox/streets-v11",
         "zoom": 7.5
        },
        "margin": {
         "b": 10,
         "l": 10,
         "r": 50,
         "t": 30
        },
        "template": {
         "data": {
          "bar": [
           {
            "error_x": {
             "color": "#2a3f5f"
            },
            "error_y": {
             "color": "#2a3f5f"
            },
            "marker": {
             "line": {
              "color": "#E5ECF6",
              "width": 0.5
             },
             "pattern": {
              "fillmode": "overlay",
              "size": 10,
              "solidity": 0.2
             }
            },
            "type": "bar"
           }
          ],
          "barpolar": [
           {
            "marker": {
             "line": {
              "color": "#E5ECF6",
              "width": 0.5
             },
             "pattern": {
              "fillmode": "overlay",
              "size": 10,
              "solidity": 0.2
             }
            },
            "type": "barpolar"
           }
          ],
          "carpet": [
           {
            "aaxis": {
             "endlinecolor": "#2a3f5f",
             "gridcolor": "white",
             "linecolor": "white",
             "minorgridcolor": "white",
             "startlinecolor": "#2a3f5f"
            },
            "baxis": {
             "endlinecolor": "#2a3f5f",
             "gridcolor": "white",
             "linecolor": "white",
             "minorgridcolor": "white",
             "startlinecolor": "#2a3f5f"
            },
            "type": "carpet"
           }
          ],
          "choropleth": [
           {
            "colorbar": {
             "outlinewidth": 0,
             "ticks": ""
            },
            "type": "choropleth"
           }
          ],
          "contour": [
           {
            "colorbar": {
             "outlinewidth": 0,
             "ticks": ""
            },
            "colorscale": [
             [
              0,
              "#0d0887"
             ],
             [
              0.1111111111111111,
              "#46039f"
             ],
             [
              0.2222222222222222,
              "#7201a8"
             ],
             [
              0.3333333333333333,
              "#9c179e"
             ],
             [
              0.4444444444444444,
              "#bd3786"
             ],
             [
              0.5555555555555556,
              "#d8576b"
             ],
             [
              0.6666666666666666,
              "#ed7953"
             ],
             [
              0.7777777777777778,
              "#fb9f3a"
             ],
             [
              0.8888888888888888,
              "#fdca26"
             ],
             [
              1,
              "#f0f921"
             ]
            ],
            "type": "contour"
           }
          ],
          "contourcarpet": [
           {
            "colorbar": {
             "outlinewidth": 0,
             "ticks": ""
            },
            "type": "contourcarpet"
           }
          ],
          "heatmap": [
           {
            "colorbar": {
             "outlinewidth": 0,
             "ticks": ""
            },
            "colorscale": [
             [
              0,
              "#0d0887"
             ],
             [
              0.1111111111111111,
              "#46039f"
             ],
             [
              0.2222222222222222,
              "#7201a8"
             ],
             [
              0.3333333333333333,
              "#9c179e"
             ],
             [
              0.4444444444444444,
              "#bd3786"
             ],
             [
              0.5555555555555556,
              "#d8576b"
             ],
             [
              0.6666666666666666,
              "#ed7953"
             ],
             [
              0.7777777777777778,
              "#fb9f3a"
             ],
             [
              0.8888888888888888,
              "#fdca26"
             ],
             [
              1,
              "#f0f921"
             ]
            ],
            "type": "heatmap"
           }
          ],
          "heatmapgl": [
           {
            "colorbar": {
             "outlinewidth": 0,
             "ticks": ""
            },
            "colorscale": [
             [
              0,
              "#0d0887"
             ],
             [
              0.1111111111111111,
              "#46039f"
             ],
             [
              0.2222222222222222,
              "#7201a8"
             ],
             [
              0.3333333333333333,
              "#9c179e"
             ],
             [
              0.4444444444444444,
              "#bd3786"
             ],
             [
              0.5555555555555556,
              "#d8576b"
             ],
             [
              0.6666666666666666,
              "#ed7953"
             ],
             [
              0.7777777777777778,
              "#fb9f3a"
             ],
             [
              0.8888888888888888,
              "#fdca26"
             ],
             [
              1,
              "#f0f921"
             ]
            ],
            "type": "heatmapgl"
           }
          ],
          "histogram": [
           {
            "marker": {
             "pattern": {
              "fillmode": "overlay",
              "size": 10,
              "solidity": 0.2
             }
            },
            "type": "histogram"
           }
          ],
          "histogram2d": [
           {
            "colorbar": {
             "outlinewidth": 0,
             "ticks": ""
            },
            "colorscale": [
             [
              0,
              "#0d0887"
             ],
             [
              0.1111111111111111,
              "#46039f"
             ],
             [
              0.2222222222222222,
              "#7201a8"
             ],
             [
              0.3333333333333333,
              "#9c179e"
             ],
             [
              0.4444444444444444,
              "#bd3786"
             ],
             [
              0.5555555555555556,
              "#d8576b"
             ],
             [
              0.6666666666666666,
              "#ed7953"
             ],
             [
              0.7777777777777778,
              "#fb9f3a"
             ],
             [
              0.8888888888888888,
              "#fdca26"
             ],
             [
              1,
              "#f0f921"
             ]
            ],
            "type": "histogram2d"
           }
          ],
          "histogram2dcontour": [
           {
            "colorbar": {
             "outlinewidth": 0,
             "ticks": ""
            },
            "colorscale": [
             [
              0,
              "#0d0887"
             ],
             [
              0.1111111111111111,
              "#46039f"
             ],
             [
              0.2222222222222222,
              "#7201a8"
             ],
             [
              0.3333333333333333,
              "#9c179e"
             ],
             [
              0.4444444444444444,
              "#bd3786"
             ],
             [
              0.5555555555555556,
              "#d8576b"
             ],
             [
              0.6666666666666666,
              "#ed7953"
             ],
             [
              0.7777777777777778,
              "#fb9f3a"
             ],
             [
              0.8888888888888888,
              "#fdca26"
             ],
             [
              1,
              "#f0f921"
             ]
            ],
            "type": "histogram2dcontour"
           }
          ],
          "mesh3d": [
           {
            "colorbar": {
             "outlinewidth": 0,
             "ticks": ""
            },
            "type": "mesh3d"
           }
          ],
          "parcoords": [
           {
            "line": {
             "colorbar": {
              "outlinewidth": 0,
              "ticks": ""
             }
            },
            "type": "parcoords"
           }
          ],
          "pie": [
           {
            "automargin": true,
            "type": "pie"
           }
          ],
          "scatter": [
           {
            "fillpattern": {
             "fillmode": "overlay",
             "size": 10,
             "solidity": 0.2
            },
            "type": "scatter"
           }
          ],
          "scatter3d": [
           {
            "line": {
             "colorbar": {
              "outlinewidth": 0,
              "ticks": ""
             }
            },
            "marker": {
             "colorbar": {
              "outlinewidth": 0,
              "ticks": ""
             }
            },
            "type": "scatter3d"
           }
          ],
          "scattercarpet": [
           {
            "marker": {
             "colorbar": {
              "outlinewidth": 0,
              "ticks": ""
             }
            },
            "type": "scattercarpet"
           }
          ],
          "scattergeo": [
           {
            "marker": {
             "colorbar": {
              "outlinewidth": 0,
              "ticks": ""
             }
            },
            "type": "scattergeo"
           }
          ],
          "scattergl": [
           {
            "marker": {
             "colorbar": {
              "outlinewidth": 0,
              "ticks": ""
             }
            },
            "type": "scattergl"
           }
          ],
          "scattermapbox": [
           {
            "marker": {
             "colorbar": {
              "outlinewidth": 0,
              "ticks": ""
             }
            },
            "type": "scattermapbox"
           }
          ],
          "scatterpolar": [
           {
            "marker": {
             "colorbar": {
              "outlinewidth": 0,
              "ticks": ""
             }
            },
            "type": "scatterpolar"
           }
          ],
          "scatterpolargl": [
           {
            "marker": {
             "colorbar": {
              "outlinewidth": 0,
              "ticks": ""
             }
            },
            "type": "scatterpolargl"
           }
          ],
          "scatterternary": [
           {
            "marker": {
             "colorbar": {
              "outlinewidth": 0,
              "ticks": ""
             }
            },
            "type": "scatterternary"
           }
          ],
          "surface": [
           {
            "colorbar": {
             "outlinewidth": 0,
             "ticks": ""
            },
            "colorscale": [
             [
              0,
              "#0d0887"
             ],
             [
              0.1111111111111111,
              "#46039f"
             ],
             [
              0.2222222222222222,
              "#7201a8"
             ],
             [
              0.3333333333333333,
              "#9c179e"
             ],
             [
              0.4444444444444444,
              "#bd3786"
             ],
             [
              0.5555555555555556,
              "#d8576b"
             ],
             [
              0.6666666666666666,
              "#ed7953"
             ],
             [
              0.7777777777777778,
              "#fb9f3a"
             ],
             [
              0.8888888888888888,
              "#fdca26"
             ],
             [
              1,
              "#f0f921"
             ]
            ],
            "type": "surface"
           }
          ],
          "table": [
           {
            "cells": {
             "fill": {
              "color": "#EBF0F8"
             },
             "line": {
              "color": "white"
             }
            },
            "header": {
             "fill": {
              "color": "#C8D4E3"
             },
             "line": {
              "color": "white"
             }
            },
            "type": "table"
           }
          ]
         },
         "layout": {
          "annotationdefaults": {
           "arrowcolor": "#2a3f5f",
           "arrowhead": 0,
           "arrowwidth": 1
          },
          "autotypenumbers": "strict",
          "coloraxis": {
           "colorbar": {
            "outlinewidth": 0,
            "ticks": ""
           }
          },
          "colorscale": {
           "diverging": [
            [
             0,
             "#8e0152"
            ],
            [
             0.1,
             "#c51b7d"
            ],
            [
             0.2,
             "#de77ae"
            ],
            [
             0.3,
             "#f1b6da"
            ],
            [
             0.4,
             "#fde0ef"
            ],
            [
             0.5,
             "#f7f7f7"
            ],
            [
             0.6,
             "#e6f5d0"
            ],
            [
             0.7,
             "#b8e186"
            ],
            [
             0.8,
             "#7fbc41"
            ],
            [
             0.9,
             "#4d9221"
            ],
            [
             1,
             "#276419"
            ]
           ],
           "sequential": [
            [
             0,
             "#0d0887"
            ],
            [
             0.1111111111111111,
             "#46039f"
            ],
            [
             0.2222222222222222,
             "#7201a8"
            ],
            [
             0.3333333333333333,
             "#9c179e"
            ],
            [
             0.4444444444444444,
             "#bd3786"
            ],
            [
             0.5555555555555556,
             "#d8576b"
            ],
            [
             0.6666666666666666,
             "#ed7953"
            ],
            [
             0.7777777777777778,
             "#fb9f3a"
            ],
            [
             0.8888888888888888,
             "#fdca26"
            ],
            [
             1,
             "#f0f921"
            ]
           ],
           "sequentialminus": [
            [
             0,
             "#0d0887"
            ],
            [
             0.1111111111111111,
             "#46039f"
            ],
            [
             0.2222222222222222,
             "#7201a8"
            ],
            [
             0.3333333333333333,
             "#9c179e"
            ],
            [
             0.4444444444444444,
             "#bd3786"
            ],
            [
             0.5555555555555556,
             "#d8576b"
            ],
            [
             0.6666666666666666,
             "#ed7953"
            ],
            [
             0.7777777777777778,
             "#fb9f3a"
            ],
            [
             0.8888888888888888,
             "#fdca26"
            ],
            [
             1,
             "#f0f921"
            ]
           ]
          },
          "colorway": [
           "#636efa",
           "#EF553B",
           "#00cc96",
           "#ab63fa",
           "#FFA15A",
           "#19d3f3",
           "#FF6692",
           "#B6E880",
           "#FF97FF",
           "#FECB52"
          ],
          "font": {
           "color": "#2a3f5f"
          },
          "geo": {
           "bgcolor": "white",
           "lakecolor": "white",
           "landcolor": "#E5ECF6",
           "showlakes": true,
           "showland": true,
           "subunitcolor": "white"
          },
          "hoverlabel": {
           "align": "left"
          },
          "hovermode": "closest",
          "mapbox": {
           "style": "light"
          },
          "paper_bgcolor": "white",
          "plot_bgcolor": "#E5ECF6",
          "polar": {
           "angularaxis": {
            "gridcolor": "white",
            "linecolor": "white",
            "ticks": ""
           },
           "bgcolor": "#E5ECF6",
           "radialaxis": {
            "gridcolor": "white",
            "linecolor": "white",
            "ticks": ""
           }
          },
          "scene": {
           "xaxis": {
            "backgroundcolor": "#E5ECF6",
            "gridcolor": "white",
            "gridwidth": 2,
            "linecolor": "white",
            "showbackground": true,
            "ticks": "",
            "zerolinecolor": "white"
           },
           "yaxis": {
            "backgroundcolor": "#E5ECF6",
            "gridcolor": "white",
            "gridwidth": 2,
            "linecolor": "white",
            "showbackground": true,
            "ticks": "",
            "zerolinecolor": "white"
           },
           "zaxis": {
            "backgroundcolor": "#E5ECF6",
            "gridcolor": "white",
            "gridwidth": 2,
            "linecolor": "white",
            "showbackground": true,
            "ticks": "",
            "zerolinecolor": "white"
           }
          },
          "shapedefaults": {
           "line": {
            "color": "#2a3f5f"
           }
          },
          "ternary": {
           "aaxis": {
            "gridcolor": "white",
            "linecolor": "white",
            "ticks": ""
           },
           "baxis": {
            "gridcolor": "white",
            "linecolor": "white",
            "ticks": ""
           },
           "bgcolor": "#E5ECF6",
           "caxis": {
            "gridcolor": "white",
            "linecolor": "white",
            "ticks": ""
           }
          },
          "title": {
           "x": 0.05
          },
          "xaxis": {
           "automargin": true,
           "gridcolor": "white",
           "linecolor": "white",
           "ticks": "",
           "title": {
            "standoff": 15
           },
           "zerolinecolor": "white",
           "zerolinewidth": 2
          },
          "yaxis": {
           "automargin": true,
           "gridcolor": "white",
           "linecolor": "white",
           "ticks": "",
           "title": {
            "standoff": 15
           },
           "zerolinecolor": "white",
           "zerolinewidth": 2
          }
         }
        },
        "title": {
         "text": "Mesh Routers Outliers - Ronda pData_1",
         "x": 0.5
        },
        "width": 600
       }
      }
     },
     "metadata": {},
     "output_type": "display_data"
    },
    {
     "data": {
      "application/vnd.jupyter.widget-view+json": {
       "model_id": "4d43414a275748929585b91373b45525",
       "version_major": 2,
       "version_minor": 0
      },
      "text/plain": [
       "interactive(children=(Dropdown(description='radio', options=('80614B66', '80614B67', '8061C545', '8061C546', '…"
      ]
     },
     "metadata": {},
     "output_type": "display_data"
    }
   ],
   "source": [
    "#Visualización de mapa interactivo\n",
    "Rdiscrete_map3(dicTemp4, wgDic5, \"Mesh Routers Outliers\")"
   ]
  },
  {
   "cell_type": "code",
   "execution_count": 65,
   "id": "a3e7fea5",
   "metadata": {},
   "outputs": [],
   "source": [
    "#Visualización de todos los equipos\n",
    "#Widgets\n",
    "fDate5 = widgets.SelectionSlider(options = list(tRContainer[\"fDate\"].unique()), description = \"Fecha\")\n",
    "routrR = widgets.Dropdown(options = sorted(list(tRContainer[\"radio\"].unique())),description = \"radio\")\n",
    "clrDic4 = {\"outlier\": sClr1, \"normal\": sClr3}\n",
    "#clrDic3 = {True: sClr1, False: sClr3}\n",
    "wgDic6 = {\"fDate\":fDate5}#\"fDate\":fDate4, \n",
    "dicTemp5 = {\n",
    "    \"vecino\" : [tRContainer, clrDic4, \"outlier\",[\"radio\"],[\"latitude\",\"longitude\"]]\n",
    "    #\"routers\" : [tRContainer, clrDic3, \"outlier\",[\"radio\",\"neighborSN\"]],\n",
    "}"
   ]
  },
  {
   "cell_type": "code",
   "execution_count": 66,
   "id": "c6afa7b8",
   "metadata": {},
   "outputs": [
    {
     "data": {
      "application/vnd.jupyter.widget-view+json": {
       "model_id": "81e3d05476c84a31a895e2140494417a",
       "version_major": 2,
       "version_minor": 0
      },
      "text/plain": [
       "Output()"
      ]
     },
     "metadata": {},
     "output_type": "display_data"
    },
    {
     "data": {
      "application/vnd.plotly.v1+json": {
       "config": {
        "plotlyServerURL": "https://plot.ly"
       },
       "data": [
        {
         "lat": [
          14.78122,
          14.53569,
          14.246,
          14.762183,
          14.73988,
          14.713624,
          14.61824,
          14.222786,
          14.635243,
          14.298531,
          14.453284,
          14.55955,
          14.66885,
          14.519765,
          14.675925,
          14.54442,
          14.6459,
          14.646141,
          13.92907,
          14.60163,
          14.60439,
          14.52755,
          14.67827,
          14.290838,
          14.0343,
          13.92938,
          14.16743,
          14.254922,
          14.23375131,
          13.912644,
          14.749889,
          14.4877,
          14.519983,
          14.68747,
          14.6828,
          14.666123,
          14.60873,
          14.67196,
          14.63061,
          14.380646,
          14.60526,
          14.2203,
          14.3851,
          13.91795,
          14.30418,
          13.937855,
          14.7404,
          14.722010000000001,
          14.587719,
          13.918163,
          14.63456,
          14.33204,
          14.787082999999999,
          14.41358,
          14.55883,
          14.438282,
          14.559882,
          14.3334,
          14.505362,
          13.9751,
          14.411,
          14.496041,
          13.93592,
          14.715440000000001,
          14.181753,
          14.32607,
          14.0479,
          14.704444,
          14.349755,
          14.649038000000001,
          14.6034,
          13.916918,
          14.20018,
          13.91824,
          14.733163,
          14.585761,
          14.472576,
          14.639178,
          14.78022,
          14.612512,
          14.537808,
          14.609726,
          14.487579,
          14.48216,
          14.496541,
          14.76992,
          14.53059,
          14.188808,
          14.72871,
          14.723,
          14.71606,
          14.67992,
          14.78813,
          14.27852,
          14.510757,
          14.561897,
          14.497726,
          14.6406,
          14.672562,
          14.438966,
          14.461039,
          14.59502,
          14.6613,
          14.706839,
          14.35527,
          13.9318,
          13.955616,
          14.77626,
          14.651636,
          14.66911,
          14.2312,
          14.165233,
          14.454462,
          14.448118,
          13.93197,
          14.553539,
          14.536939,
          14.527611,
          14.5908,
          14.595258,
          14.671806,
          14.7346,
          14.300989,
          14.32545,
          13.92424,
          14.679038,
          14.65471,
          14.630306,
          14.68666,
          14.62271,
          14.6326,
          14.01306,
          14.133484,
          14.165818,
          14.156963,
          14.56365,
          14.62547,
          14.536679,
          14.507135,
          14.725532,
          14.6655,
          14.72085,
          14.445129,
          14.563172,
          14.599920000000001,
          14.75522,
          14.772175,
          14.330223,
          14.616431,
          14.641297,
          14.60135,
          14.7265,
          14.79018,
          14.461705,
          14.510647,
          14.560434,
          14.527485,
          14.67394625,
          14.611785,
          14.41236,
          14.594475,
          14.618577,
          13.92904,
          13.92676,
          13.922541,
          14.675524,
          14.74462,
          14.11377,
          14.649614,
          13.90695,
          14.673409,
          14.074262,
          14.302559,
          14.547885,
          14.563031,
          14.540026,
          14.644722,
          14.7078,
          14.491875,
          14.623325,
          14.661424,
          14.65834,
          14.3856,
          14.464114,
          14.50161,
          14.601108,
          14.21321,
          14.70162,
          14.299042,
          14.323699,
          14.486725,
          14.684,
          14.5664,
          14.661950000000001,
          14.613,
          14.2167,
          14.560875,
          14.46885,
          14.5588,
          14.242113,
          14.58282,
          14.75041,
          14.259418,
          14.663257,
          14.6587,
          14.60864,
          14.65927,
          14.4753,
          14.721375,
          14.5846,
          14.5945,
          14.634171,
          14.77736,
          14.21434,
          14.62313,
          13.926949,
          14.579376,
          14.788205,
          14.6789,
          14.228514,
          14.667300000000001,
          14.4886,
          14.471814,
          14.5407,
          14.638601,
          14.65479,
          14.579572,
          14.60179,
          14.604661,
          13.93116,
          14.732032,
          14.57551,
          13.9226,
          14.735746,
          14.570408,
          14.4225,
          14.594,
          14.494715,
          14.502561,
          14.52046,
          14.5735,
          14.495382,
          14.551131999999999,
          14.544325,
          14.447610000000001,
          14.46168,
          14.69145,
          14.517534,
          14.586088,
          14.566628,
          14.569469,
          14.611636,
          14.72678,
          14.3732,
          14.29935,
          14.55508,
          14.7775,
          14.778928,
          14.2344,
          14.37626,
          13.9245,
          14.67573,
          14.47252,
          14.485848,
          14.6305,
          14.63678,
          14.495922,
          14.541628,
          14.6844,
          14.55488,
          14.576022,
          14.606324,
          14.65935,
          14.604707,
          14.668493999999999,
          14.64172,
          14.72028,
          14.2632,
          14.66488,
          14.61332,
          14.398787,
          13.9965,
          14.527190000000001,
          14.55991,
          14.68871,
          14.6447,
          14.443153,
          14.66686,
          14.525656,
          14.515257,
          14.427,
          14.478226,
          14.629042,
          14.558959,
          14.043981,
          13.9452,
          14.69503,
          14.37197,
          14.567457,
          14.65859,
          13.96705,
          14.620382,
          14.553386,
          14.42463,
          14.7408,
          14.6351,
          14.0366,
          14.6327,
          14.6027,
          14.65051,
          14.742289,
          14.2755,
          14.58226,
          14.703181,
          14.435245,
          14.79143,
          14.548704,
          14.4253,
          14.578488,
          14.14955,
          14.235601,
          14.31253,
          14.482654,
          14.475901,
          14.685445,
          14.669376,
          14.65878,
          14.65129,
          13.918654,
          14.393265,
          14.515697,
          14.54561,
          14.63381,
          14.654787,
          14.82166,
          14.63403,
          14.62255,
          13.930164,
          14.68842,
          14.724044,
          14.2703,
          14.607496,
          14.57944,
          14.136285,
          14.3821,
          14.67936,
          14.57397,
          14.508610000000001,
          14.68599,
          14.533973,
          13.98418,
          14.518091,
          14.67503,
          14.6104687,
          14.51913,
          14.564197,
          14.52082,
          14.121827,
          14.481765,
          14.204739,
          14.358159,
          14.2972,
          14.70688,
          14.653214,
          14.43278,
          14.6546,
          14.66006,
          14.620940000000001,
          13.90471,
          14.6049,
          14.548809,
          14.54387,
          14.55085,
          14.76384,
          14.7582,
          14.199621,
          14.62478,
          14.78347,
          14.67517,
          14.592282,
          14.645,
          14.636800000000001,
          14.51241,
          13.9355,
          14.5802,
          14.404223,
          14.520664,
          14.57813,
          14.5354,
          14.161,
          14.09186,
          14.66321,
          14.043835,
          14.542431,
          14.552279,
          14.78055,
          14.38194,
          14.172695,
          14.542346,
          14.628703999999999,
          14.54307,
          14.522382,
          14.560506,
          14.4236,
          14.6113,
          14.4698,
          14.61496,
          14.592,
          14.396307,
          14.58878,
          14.50599,
          14.51929,
          14.700493,
          13.93062,
          14.67223,
          14.60378,
          13.99109,
          14.302889,
          14.421767,
          13.91574,
          14.5157,
          14.709857,
          14.2158,
          14.7613,
          14.71663,
          14.558673,
          14.588,
          14.616,
          14.4929,
          14.495059,
          14.47773,
          14.542246,
          14.61975,
          14.26849,
          14.67269,
          14.68311,
          14.58961,
          14.078317,
          14.55704,
          14.69368,
          13.92319,
          14.565912,
          14.54738,
          14.73717,
          14.4406,
          13.92792,
          14.7754,
          14.5794,
          14.6017,
          14.610852,
          14.503311,
          14.56415,
          14.49211,
          14.72509,
          13.95311,
          14.33795,
          14.523264,
          14.516672,
          14.58453,
          14.7583,
          14.72068,
          14.622481,
          14.6047,
          14.6206,
          14.59744,
          13.9164,
          14.2578,
          14.489619,
          14.512758,
          14.562106,
          14.474814,
          14.465142,
          13.92381,
          14.5357,
          14.596146,
          14.2744,
          14.27503,
          14.31648094,
          14.31274033,
          14.383813,
          14.70861,
          14.7572,
          14.49154,
          14.6402,
          14.20331,
          14.65133,
          14.5903,
          14.5998,
          14.57013,
          14.51782,
          14.021008,
          14.499298,
          14.407547,
          14.562072,
          14.431955,
          14.258323,
          13.93192,
          14.572106999999999,
          14.654910000000001,
          14.28333,
          14.570363,
          14.271782,
          14.6512,
          14.6991,
          13.94187,
          14.5216,
          14.2043,
          14.5854,
          14.131165,
          14.464583,
          14.43496,
          14.45969,
          14.502346,
          14.359786,
          14.52762142,
          14.72533,
          14.564255,
          14.70253,
          14.68439,
          14.63978,
          14.24577,
          13.916640000000001,
          13.93172,
          14.776037,
          14.577238,
          14.3973,
          14.628141,
          14.61737,
          14.5215,
          14.62483,
          13.93673,
          13.93098,
          14.5922,
          14.53961,
          14.62001,
          14.67966,
          14.549833,
          14.69839,
          14.356878,
          14.527424,
          14.752790000000001,
          14.587646,
          14.521785,
          14.580038,
          13.993458,
          14.282504,
          14.518397,
          14.6496,
          14.4752,
          14.661200000000001,
          14.65316,
          14.7511,
          14.5976,
          14.5968,
          14.7233,
          14.447409,
          14.527592,
          14.77725,
          14.1026,
          14.169693,
          14.620052,
          14.59958,
          14.705762,
          14.138718,
          13.9789,
          13.94221,
          14.474852,
          14.67455712,
          14.4426,
          14.51207,
          14.50711,
          14.5975,
          14.5766,
          14.6038,
          14.67219,
          14.49573,
          14.6226,
          14.50961,
          14.72804,
          14.64603,
          14.617251,
          14.74993,
          14.494332,
          14.519355000000001,
          13.962976,
          14.76733,
          14.34624,
          13.91551,
          14.638842,
          14.64587,
          13.92072,
          14.604844,
          14.72833,
          14.697064,
          14.299365,
          14.291046,
          14.119628,
          13.945017,
          14.61576,
          14.60016,
          14.78234,
          14.708903,
          13.9289,
          14.56451,
          14.5474,
          14.647461,
          14.613084,
          14.460988,
          14.485552,
          14.662795,
          14.60346,
          14.386006,
          14.55171,
          14.502447,
          14.48999,
          14.52212,
          14.615788,
          14.722547,
          14.70793,
          13.96047,
          14.70503,
          14.076296,
          14.183511,
          14.509027,
          14.76966,
          14.69651,
          14.6558,
          14.49718,
          14.434163999999999,
          14.73655,
          14.7058,
          14.741761,
          14.5942
         ],
         "lon": [
          -90.63441,
          -90.37551,
          -90.9572,
          -90.477997,
          -90.49278,
          -90.369024,
          -90.63359,
          -91.184501,
          -90.621052,
          -90.950908,
          -90.506369,
          -90.5326,
          -90.50369,
          -90.582912,
          -90.661862,
          -90.54784,
          -90.6185,
          -90.420072,
          -91.13821,
          -90.599718,
          -90.61409,
          -90.61628,
          -90.3677,
          -90.567998,
          -90.8316,
          -90.63687,
          -91.10316,
          -91.09706,
          -91.06915204,
          -90.537331,
          -90.497453,
          -90.4133,
          -90.569858,
          -90.63411,
          -90.62495,
          -90.60378,
          -90.45968,
          -90.488,
          -90.60592,
          -90.651621,
          -90.40616,
          -90.7345,
          -90.8781,
          -91.05152,
          -91.04059833,
          -90.961123,
          -90.3448,
          -90.36722,
          -90.66263000000001,
          -91.016227,
          -90.65283,
          -90.997169,
          -90.367248,
          -90.82515,
          -90.4485,
          -90.502441,
          -90.505577,
          -90.7866,
          -90.519892,
          -90.8245,
          -90.6794,
          -90.60278,
          -90.73672,
          -90.64936,
          -90.865602,
          -90.98456,
          -90.8334,
          -90.39741,
          -90.75056000000001,
          -90.714614,
          -90.67609,
          -90.551295,
          -90.836439,
          -91.07496,
          -90.338505,
          -90.580363,
          -90.601818,
          -90.415715,
          -90.62733,
          -90.623532,
          -90.571624,
          -90.563413,
          -90.539609,
          -90.41004,
          -90.458079,
          -90.58952,
          -90.38857,
          -90.84932,
          -90.45908,
          -90.35769,
          -90.47261,
          -90.46395,
          -90.63031,
          -91.00958,
          -90.401344,
          -90.489576,
          -90.584039,
          -90.42359,
          -90.647477,
          -90.630006,
          -90.515033,
          -90.46588,
          -90.74991,
          -90.637624,
          -91.09824,
          -90.6675,
          -90.85675,
          -90.61228,
          -90.719487,
          -90.46358,
          -90.9386,
          -90.878826,
          -90.478805,
          -90.44527,
          -91.18117,
          -90.498379,
          -90.509713,
          -90.449007,
          -90.6301,
          -90.553244,
          -90.362326,
          -90.64603,
          -90.939492,
          -91.04359,
          -90.61983,
          -90.696847,
          -90.7268,
          -90.724164,
          -90.54428,
          -90.68314,
          -90.67207,
          -90.82923,
          -90.782505,
          -90.965746,
          -90.786913,
          -90.43641,
          -90.45518,
          -90.558161,
          -90.550263,
          -90.464405,
          -90.40107,
          -90.44886,
          -90.497736,
          -90.454992,
          -90.78758,
          -90.59371,
          -90.602529,
          -91.051165,
          -90.644485,
          -90.720538,
          -90.64842,
          -90.6729,
          -90.64081,
          -90.64284,
          -90.464922,
          -90.475022,
          -90.546495,
          -90.49828305,
          -90.471519,
          -90.634589,
          -90.614412,
          -90.484442,
          -91.14632,
          -91.08227,
          -90.573527,
          -90.721984,
          -90.3356,
          -91.15751,
          -90.735259,
          -90.52944,
          -90.51496,
          -91.224797,
          -90.957716,
          -90.407887,
          -90.395927,
          -90.469271,
          -90.46472,
          -90.37912,
          -90.556661,
          -90.493602,
          -90.453306,
          -90.63425,
          -90.64155,
          -90.588694,
          -90.79424,
          -90.761258,
          -90.70453,
          -90.56036,
          -90.793775,
          -90.77514,
          -90.48434,
          -90.6568,
          -90.7017,
          -90.54014,
          -90.3957,
          -90.8339,
          -90.562669,
          -90.5463,
          -90.71166,
          -90.741407,
          -90.38597,
          -90.61291,
          -90.972759,
          -90.431396,
          -90.747,
          -90.64066,
          -90.47126,
          -90.4023,
          -90.358853,
          -90.4965,
          -90.46573,
          -90.753236,
          -90.55851,
          -90.76573,
          -90.66204,
          -90.62245,
          -90.65911,
          -90.615951,
          -90.5051,
          -90.773651,
          -90.56907,
          -90.8087,
          -90.489671,
          -90.489999,
          -90.550956,
          -90.41615,
          -90.532172,
          -90.47307,
          -90.583264,
          -91.17287,
          -90.359963,
          -90.68471,
          -90.9431,
          -90.454458,
          -90.67084,
          -90.82243,
          -90.5459,
          -90.414138,
          -90.480204,
          -90.44443,
          -90.44795,
          -90.5498,
          -90.553908,
          -90.5158,
          -90.47587,
          -90.494953,
          -90.6394,
          -90.424603,
          -90.607104,
          -90.457025,
          -90.54356,
          -90.786306,
          -90.66736,
          -90.8145,
          -91.06381,
          -90.49154,
          -90.54549,
          -90.534296,
          -91.1711,
          -90.87222,
          -90.8903,
          -90.71255,
          -90.40038,
          -90.637149,
          -90.46215,
          -90.49797,
          -90.526097,
          -90.527888,
          -90.40818,
          -90.46756,
          -90.576761,
          -90.516892,
          -90.75547,
          -90.398236,
          -90.559861,
          -90.70217,
          -90.38367,
          -91.091,
          -90.4711,
          -90.65467,
          -90.827499,
          -91.11451,
          -90.46661,
          -90.42932,
          -90.44838,
          -90.4855,
          -90.562672,
          -90.61908,
          -90.5603,
          -90.550915,
          -90.4527,
          -90.526786,
          -90.594011,
          -90.722158,
          -91.215549,
          -90.77854,
          -90.56168,
          -90.559215,
          -90.745879,
          -90.52391,
          -90.86315,
          -90.535182,
          -90.506431,
          -90.65799,
          -90.4512,
          -90.4932,
          -91.0876,
          -90.495659,
          -90.4674,
          -90.49993,
          -90.639593,
          -90.8227,
          -90.47557,
          -90.539688,
          -90.477075,
          -90.5883,
          -90.671377,
          -90.8202,
          -90.695401,
          -90.771257,
          -90.844199,
          -91.05256,
          -90.454428,
          -90.624129,
          -90.516006,
          -90.643369,
          -90.48664,
          -90.50614,
          -91.036843,
          -90.645531,
          -90.615202,
          -90.36682,
          -90.772677,
          -90.760333,
          -90.49646,
          -90.64444,
          -90.72522,
          -90.646547,
          -90.46177,
          -90.541538,
          -91.0839,
          -90.628295,
          -90.7237,
          -90.795079,
          -90.824,
          -90.5509,
          -90.38985,
          -90.42315,
          -90.4876,
          -90.460297,
          -90.82568,
          -90.482224,
          -90.45606,
          -90.50016899,
          -90.43603,
          -90.582609,
          -90.40407,
          -90.786281,
          -90.808473,
          -90.719922,
          -90.552655,
          -90.7782,
          -90.65814,
          -90.429927,
          -90.49687,
          -90.5118,
          -90.50942,
          -90.52621,
          -90.5095,
          -90.4099,
          -90.578777,
          -90.43206,
          -90.43831,
          -90.37299,
          -90.6147,
          -90.706897,
          -90.41567,
          -90.59267,
          -90.567,
          -90.475787,
          -90.5744,
          -90.7181,
          -90.51405,
          -90.7146,
          -90.5467,
          -90.727642,
          -90.599949,
          -90.59368,
          -90.3996,
          -90.7625,
          -90.8816,
          -90.51442,
          -91.199178,
          -90.743113,
          -90.733154,
          -90.59919,
          -90.63969,
          -90.78113,
          -90.729432,
          -90.485727,
          -90.72348,
          -90.295964,
          -90.381009,
          -90.4911,
          -90.5347,
          -90.5645,
          -90.48394,
          -90.4822,
          -90.718178,
          -90.59882,
          -90.41762,
          -90.775352,
          -90.64205,
          -91.16665,
          -90.53815,
          -90.44835,
          -90.7589,
          -90.761138,
          -90.668166,
          -90.88389,
          -90.79408,
          -90.377431,
          -90.7246,
          -90.56215,
          -90.43817,
          -90.376212,
          -90.5329,
          -90.3962,
          -90.6259,
          -90.61421,
          -90.40329,
          -90.775646,
          -90.76186,
          -90.828429,
          -90.58173,
          -90.70066,
          -90.44701,
          -91.179761,
          -90.37042,
          -90.55188,
          -90.84537,
          -90.639236,
          -90.78195,
          -90.64863,
          -90.4425,
          -90.82548,
          -90.36857,
          -90.5212,
          -90.4128,
          -90.576881,
          -90.612656,
          -90.41262,
          -90.70297,
          -90.65236,
          -90.80801,
          -90.76541,
          -90.804999,
          -90.719275,
          -90.44871,
          -90.3707,
          -90.4686,
          -90.549842,
          -90.5547,
          -90.5621,
          -90.5392,
          -90.8716,
          -90.7994,
          -90.588432,
          -90.629857,
          -90.598901,
          -90.609656,
          -90.623005,
          -90.83364,
          -90.7654,
          -90.755797,
          -90.8125,
          -90.58451,
          -90.55815453,
          -90.79000064,
          -90.737272,
          -90.552016,
          -90.6082,
          -90.54969,
          -90.5048,
          -90.713,
          -90.436879,
          -90.5209,
          -90.4756,
          -90.5622,
          -90.47287,
          -91.210767,
          -90.811556,
          -90.542147,
          -90.70292,
          -90.655645,
          -90.821715,
          -90.79412,
          -90.731394,
          -90.5308,
          -90.80242,
          -90.466956,
          -90.986415,
          -90.5461,
          -90.4599,
          -90.78862,
          -90.4076,
          -90.8514,
          -90.5527,
          -90.81103,
          -90.539425,
          -90.5584,
          -90.44112,
          -90.711278,
          -90.569881,
          -90.7566662,
          -90.63548,
          -90.39257,
          -90.57934,
          -90.56911,
          -90.40536,
          -90.774657,
          -90.86505,
          -90.77934,
          -90.376748,
          -90.646761,
          -91.1081,
          -90.522385,
          -90.52124,
          -90.4191,
          -90.33324,
          -90.74603,
          -90.71805,
          -90.4717,
          -90.40954,
          -90.57766,
          -90.65894,
          -90.622054,
          -90.62429,
          -90.743103,
          -90.728519,
          -90.60372,
          -90.628096,
          -90.790282,
          -90.743455,
          -90.826747,
          -90.78765,
          -90.536621,
          -90.45174,
          -90.5201,
          -90.4968,
          -90.37238,
          -90.341,
          -90.4857,
          -90.5315,
          -90.3864,
          -90.643755,
          -90.74649,
          -90.56688,
          -90.78,
          -90.805819,
          -90.399077,
          -90.43838,
          -90.621015,
          -90.755008,
          -90.7887,
          -90.82023,
          -90.633805,
          -90.4236476,
          -90.4737,
          -90.43879,
          -90.71627,
          -90.4619,
          -90.4828,
          -90.5091,
          -90.41228,
          -90.63804,
          -90.5819,
          -90.80832,
          -90.6433,
          -90.53797,
          -90.412255,
          -90.63755,
          -90.800748,
          -90.783061,
          -90.788311,
          -90.38517,
          -90.79607,
          -90.88884,
          -90.408934,
          -90.38549,
          -90.86023,
          -90.536871,
          -90.58329,
          -90.543287,
          -91.050804,
          -90.94058,
          -91.064219,
          -90.83871,
          -90.61891,
          -90.6629,
          -90.45268,
          -90.475517,
          -90.8039,
          -90.38592,
          -90.42312,
          -90.597261,
          -90.450554,
          -90.554636,
          -90.53336,
          -90.420545,
          -90.4794,
          -90.721598,
          -90.38262,
          -90.593521,
          -90.547242,
          -90.41396,
          -90.771519,
          -90.657592,
          -90.44458,
          -90.82268,
          -90.5617,
          -90.879612,
          -90.780315,
          -90.515337,
          -90.36833,
          -90.39618,
          -90.7104,
          -90.55575,
          -90.817885,
          -90.36087,
          -90.4741,
          -90.387828,
          -90.5037
         ],
         "marker": {
          "color": "#304059",
          "size": 9
         },
         "mode": "markers",
         "name": "normal",
         "text": [
          [
           "8061CD57"
          ],
          [
           "8061CC8F"
          ],
          [
           "8061CD80"
          ],
          [
           "8061CCEF"
          ],
          [
           "8061CA97"
          ],
          [
           "8061CA24"
          ],
          [
           "8061CA93"
          ],
          [
           "8061CA85"
          ],
          [
           "8061D270"
          ],
          [
           "8061D298"
          ],
          [
           "8061D390"
          ],
          [
           "8061D391"
          ],
          [
           "8061D235"
          ],
          [
           "8061D548"
          ],
          [
           "8061DB76"
          ],
          [
           "8061D9AF"
          ],
          [
           "8061C911"
          ],
          [
           "8061C919"
          ],
          [
           "8061DB60"
          ],
          [
           "8061D996"
          ],
          [
           "8061D967"
          ],
          [
           "8061D9AA"
          ],
          [
           "8061CE75"
          ],
          [
           "8061CCEB"
          ],
          [
           "8061CA88"
          ],
          [
           "8061CD76"
          ],
          [
           "8061CA99"
          ],
          [
           "8061CD70"
          ],
          [
           "8061D119"
          ],
          [
           "8061D2AC"
          ],
          [
           "8061D2AB"
          ],
          [
           "8061D42D"
          ],
          [
           "8061D38E"
          ],
          [
           "8061DAD6"
          ],
          [
           "8061DADB"
          ],
          [
           "8061DAD0"
          ],
          [
           "8061C8FB"
          ],
          [
           "8061C900"
          ],
          [
           "8061D989"
          ],
          [
           "8061D421"
          ],
          [
           "8061CD79"
          ],
          [
           "8061C98B"
          ],
          [
           "8061C984"
          ],
          [
           "8061CD5A"
          ],
          [
           "8061CD68"
          ],
          [
           "8061CD05"
          ],
          [
           "8061CDD7"
          ],
          [
           "8061CA83"
          ],
          [
           "8061D358"
          ],
          [
           "8061D361"
          ],
          [
           "8061D278"
          ],
          [
           "8061D291"
          ],
          [
           "8061CA1F"
          ],
          [
           "8061D295"
          ],
          [
           "8061D416"
          ],
          [
           "8061D393"
          ],
          [
           "8061D9C9"
          ],
          [
           "8061DACF"
          ],
          [
           "8061D9C8"
          ],
          [
           "8061D22D"
          ],
          [
           "8061C8F7"
          ],
          [
           "8061D968"
          ],
          [
           "8061CE74"
          ],
          [
           "8061CCF2"
          ],
          [
           "8061CC94"
          ],
          [
           "8061CC88"
          ],
          [
           "8061CD6C"
          ],
          [
           "8061CA2D"
          ],
          [
           "8061D121"
          ],
          [
           "8061D35F"
          ],
          [
           "8061D357"
          ],
          [
           "8061D27C"
          ],
          [
           "8061D294"
          ],
          [
           "8061D28C"
          ],
          [
           "8061D299"
          ],
          [
           "8061D29C"
          ],
          [
           "8061D430"
          ],
          [
           "8061D553"
          ],
          [
           "8061D380"
          ],
          [
           "8061D9C3"
          ],
          [
           "8061D9CA"
          ],
          [
           "8061C8D8"
          ],
          [
           "8061C8FE"
          ],
          [
           "8061DB68"
          ],
          [
           "8061DAD3"
          ],
          [
           "8061CE7D"
          ],
          [
           "8061CE05"
          ],
          [
           "8061CE01"
          ],
          [
           "8061CDFC"
          ],
          [
           "8061CA28"
          ],
          [
           "8061CA27"
          ],
          [
           "8061D362"
          ],
          [
           "8061D27B"
          ],
          [
           "8061D293"
          ],
          [
           "8061D42E"
          ],
          [
           "8061D433"
          ],
          [
           "8061D22C"
          ],
          [
           "8061D9C5"
          ],
          [
           "8061D551"
          ],
          [
           "8061DB5F"
          ],
          [
           "8061DB64"
          ],
          [
           "807F405F"
          ],
          [
           "8061CD07"
          ],
          [
           "8061CE8C"
          ],
          [
           "8061CC9C"
          ],
          [
           "8061CA87"
          ],
          [
           "8061C545"
          ],
          [
           "8061CA38"
          ],
          [
           "8061D351"
          ],
          [
           "8061D27A"
          ],
          [
           "8061D2B2"
          ],
          [
           "8061D29B"
          ],
          [
           "8061D559"
          ],
          [
           "8061D396"
          ],
          [
           "8061D54C"
          ],
          [
           "8061D556"
          ],
          [
           "8061D54B"
          ],
          [
           "8061C90F"
          ],
          [
           "8061DB61"
          ],
          [
           "807F4055"
          ],
          [
           "8061CD0B"
          ],
          [
           "8061CC8A"
          ],
          [
           "8061CC99"
          ],
          [
           "8061CDFF"
          ],
          [
           "8061CDD4"
          ],
          [
           "8061CD73"
          ],
          [
           "8061CA29"
          ],
          [
           "8061D11B"
          ],
          [
           "8061CA8B"
          ],
          [
           "8061D366"
          ],
          [
           "8061D2AA"
          ],
          [
           "8061D2B1"
          ],
          [
           "8061D262"
          ],
          [
           "8061D296"
          ],
          [
           "8061D2A1"
          ],
          [
           "8061D54D"
          ],
          [
           "8061D394"
          ],
          [
           "8061D554"
          ],
          [
           "8061D9B9"
          ],
          [
           "8061DACB"
          ],
          [
           "8061DB67"
          ],
          [
           "8061D9C7"
          ],
          [
           "8061DAC9"
          ],
          [
           "8073CD1D"
          ],
          [
           "8061CE80"
          ],
          [
           "8061CE88"
          ],
          [
           "8061CCF0"
          ],
          [
           "8061CD6D"
          ],
          [
           "8061D367"
          ],
          [
           "8061D35A"
          ],
          [
           "8061D36A"
          ],
          [
           "8061D381"
          ],
          [
           "8061D3C9"
          ],
          [
           "8061D38F"
          ],
          [
           "8061D22F"
          ],
          [
           "8061D21F"
          ],
          [
           "8061D550"
          ],
          [
           "8061DB6B"
          ],
          [
           "8061DAD2"
          ],
          [
           "8061DABA"
          ],
          [
           "8061D979"
          ],
          [
           "8075C422"
          ],
          [
           "8061CD78"
          ],
          [
           "8061CC9B"
          ],
          [
           "8061CD03"
          ],
          [
           "8061CDD3"
          ],
          [
           "8061CD75"
          ],
          [
           "8061D11D"
          ],
          [
           "8061D359"
          ],
          [
           "8061D2B3"
          ],
          [
           "8061D27E"
          ],
          [
           "8061D2AF"
          ],
          [
           "8061D292"
          ],
          [
           "8061D397"
          ],
          [
           "8061D429"
          ],
          [
           "8061D386"
          ],
          [
           "8061D220"
          ],
          [
           "8061D9C2"
          ],
          [
           "8061DACA"
          ],
          [
           "8061C8F4"
          ],
          [
           "8061C8FF"
          ],
          [
           "8061DAC4"
          ],
          [
           "8061D41D"
          ],
          [
           "8061D431"
          ],
          [
           "8061C9D9"
          ],
          [
           "8061D1D0"
          ],
          [
           "8061D6E9"
          ],
          [
           "8061D6E1"
          ],
          [
           "8061DA8A"
          ],
          [
           "8061DA58"
          ],
          [
           "8061E129"
          ],
          [
           "8061F17F"
          ],
          [
           "8061F186"
          ],
          [
           "8061F189"
          ],
          [
           "8061F158"
          ],
          [
           "8061D269"
          ],
          [
           "8061D9B7"
          ],
          [
           "8061D225"
          ],
          [
           "8061C9DA"
          ],
          [
           "8061D7C7"
          ],
          [
           "8061D7B0"
          ],
          [
           "8061D5EA"
          ],
          [
           "8061E125"
          ],
          [
           "8061E15D"
          ],
          [
           "8061F155"
          ],
          [
           "8061F179"
          ],
          [
           "8061F4CE"
          ],
          [
           "8061F187"
          ],
          [
           "8061F258"
          ],
          [
           "8061F004"
          ],
          [
           "8061EFE1"
          ],
          [
           "8061CCE8"
          ],
          [
           "8061CCF3"
          ],
          [
           "8061CDD2"
          ],
          [
           "8061CD72"
          ],
          [
           "8061CD5E"
          ],
          [
           "8061CA84"
          ],
          [
           "8061CA95"
          ],
          [
           "8061D120"
          ],
          [
           "8061D3C3"
          ],
          [
           "8061CA86"
          ],
          [
           "8061D28E"
          ],
          [
           "8061D392"
          ],
          [
           "8061DACC"
          ],
          [
           "8061DAD4"
          ],
          [
           "8061D54A"
          ],
          [
           "8061DB51"
          ],
          [
           "8061DAD1"
          ],
          [
           "8061D986"
          ],
          [
           "8061CD58"
          ],
          [
           "8061CE02"
          ],
          [
           "8061CA8D"
          ],
          [
           "8061CD6E"
          ],
          [
           "8061CA30"
          ],
          [
           "8061D365"
          ],
          [
           "8061D2AD"
          ],
          [
           "8061D3BC"
          ],
          [
           "8061D383"
          ],
          [
           "8061D54E"
          ],
          [
           "8061D42B"
          ],
          [
           "8061D384"
          ],
          [
           "8061D55C"
          ],
          [
           "8061D9C6"
          ],
          [
           "8061DACD"
          ],
          [
           "8061DB75"
          ],
          [
           "8061DB65"
          ],
          [
           "8061DAC2"
          ],
          [
           "8061DB78"
          ],
          [
           "8061D978"
          ],
          [
           "8073DD3F"
          ],
          [
           "8075C4BC"
          ],
          [
           "8061CD06"
          ],
          [
           "8061CC89"
          ],
          [
           "8061CDFD"
          ],
          [
           "8061CD6B"
          ],
          [
           "8061CA8A"
          ],
          [
           "8061CA96"
          ],
          [
           "8061CA26"
          ],
          [
           "8061D36E"
          ],
          [
           "8061D2B0"
          ],
          [
           "8061D3C6"
          ],
          [
           "8061D2B4"
          ],
          [
           "8061D38C"
          ],
          [
           "8061D395"
          ],
          [
           "8061D234"
          ],
          [
           "8061DAD8"
          ],
          [
           "8061D55B"
          ],
          [
           "8061DB73"
          ],
          [
           "8061C90E"
          ],
          [
           "8061DB77"
          ],
          [
           "8061D995"
          ],
          [
           "8075C41B"
          ],
          [
           "8061CDE0"
          ],
          [
           "8061CC8E"
          ],
          [
           "8061CA90"
          ],
          [
           "8061C546"
          ],
          [
           "8061CCE4"
          ],
          [
           "8061CA31"
          ],
          [
           "8061D36F"
          ],
          [
           "8061C547"
          ],
          [
           "8061D28B"
          ],
          [
           "8061D36D"
          ],
          [
           "8061D385"
          ],
          [
           "8061D427"
          ],
          [
           "8061D223"
          ],
          [
           "8061D233"
          ],
          [
           "8061D9C4"
          ],
          [
           "8061DADC"
          ],
          [
           "8061D9BE"
          ],
          [
           "8061C913"
          ],
          [
           "8061D231"
          ],
          [
           "8061DB5C"
          ],
          [
           "8061D973"
          ],
          [
           "8061C9C3"
          ],
          [
           "8061D7D3"
          ],
          [
           "8061D7FF"
          ],
          [
           "8061D7C3"
          ],
          [
           "8061D7A6"
          ],
          [
           "8061D5AD"
          ],
          [
           "8061DA88"
          ],
          [
           "8061D5E9"
          ],
          [
           "80614B66"
          ],
          [
           "8061E11D"
          ],
          [
           "8061F161"
          ],
          [
           "8061F192"
          ],
          [
           "8061F4BE"
          ],
          [
           "8061F185"
          ],
          [
           "8061F167"
          ],
          [
           "8061EFE0"
          ],
          [
           "8061EFF2"
          ],
          [
           "8061CD0C"
          ],
          [
           "8061CDD6"
          ],
          [
           "8061CC95"
          ],
          [
           "8061CDDD"
          ],
          [
           "8061CA37"
          ],
          [
           "8061CA2F"
          ],
          [
           "8061D368"
          ],
          [
           "8061D2A9"
          ],
          [
           "8061D26F"
          ],
          [
           "8061D3C4"
          ],
          [
           "8061CA22"
          ],
          [
           "8061D266"
          ],
          [
           "8061D547"
          ],
          [
           "8061D546"
          ],
          [
           "8061D544"
          ],
          [
           "8061D552"
          ],
          [
           "8061DB69"
          ],
          [
           "8061C8FA"
          ],
          [
           "8061DB63"
          ],
          [
           "8061C8F9"
          ],
          [
           "8061D9AB"
          ],
          [
           "807F4059"
          ],
          [
           "8061CCF1"
          ],
          [
           "8061CE7F"
          ],
          [
           "8061CA89"
          ],
          [
           "8061CE07"
          ],
          [
           "8061CDD5"
          ],
          [
           "8061CD71"
          ],
          [
           "8061CA9B"
          ],
          [
           "8061CA3A"
          ],
          [
           "8061CA2A"
          ],
          [
           "8061D11F"
          ],
          [
           "8061D353"
          ],
          [
           "8061D3C8"
          ],
          [
           "8061D38B"
          ],
          [
           "8061D352"
          ],
          [
           "8061D387"
          ],
          [
           "8061D545"
          ],
          [
           "8061D555"
          ],
          [
           "8061DADA"
          ],
          [
           "8061D549"
          ],
          [
           "8061DB53"
          ],
          [
           "8061C8FC"
          ],
          [
           "8061C912"
          ],
          [
           "8061C915"
          ],
          [
           "8061D99A"
          ],
          [
           "8061D222"
          ],
          [
           "8061C9D4"
          ],
          [
           "8061C9D3"
          ],
          [
           "8061D7C2"
          ],
          [
           "8061D6E3"
          ],
          [
           "8061D5CE"
          ],
          [
           "8061D7AB"
          ],
          [
           "8061E117"
          ],
          [
           "8061F176"
          ],
          [
           "8061F169"
          ],
          [
           "8061F4CB"
          ],
          [
           "8061F168"
          ],
          [
           "8061F4CF"
          ],
          [
           "8061F008"
          ],
          [
           "8061D997"
          ],
          [
           "8061D41C"
          ],
          [
           "8061D423"
          ],
          [
           "8061C9D2"
          ],
          [
           "8061D19C"
          ],
          [
           "8061D698"
          ],
          [
           "8061D803"
          ],
          [
           "8061D6EF"
          ],
          [
           "8061DA85"
          ],
          [
           "8061E11B"
          ],
          [
           "8061F15A"
          ],
          [
           "8061F184"
          ],
          [
           "8061F18B"
          ],
          [
           "8061F163"
          ],
          [
           "8061F00A"
          ],
          [
           "8061DAC0"
          ],
          [
           "8061D98A"
          ],
          [
           "8061DB5E"
          ],
          [
           "8061D1F5"
          ],
          [
           "8061D1E2"
          ],
          [
           "8061D1CF"
          ],
          [
           "8061D7C8"
          ],
          [
           "8061D1CE"
          ],
          [
           "8061D7A5"
          ],
          [
           "8061D7B1"
          ],
          [
           "8061D79A"
          ],
          [
           "8061D5EE"
          ],
          [
           "8061D9FE"
          ],
          [
           "8061E1AC"
          ],
          [
           "8061E1A7"
          ],
          [
           "8061F154"
          ],
          [
           "8061F165"
          ],
          [
           "8061F1B9"
          ],
          [
           "8061F160"
          ],
          [
           "8061F174"
          ],
          [
           "8061F256"
          ],
          [
           "8061EFE2"
          ],
          [
           "8061F002"
          ],
          [
           "8061D999"
          ],
          [
           "8061D9B4"
          ],
          [
           "8061D9AD"
          ],
          [
           "8061C9BD"
          ],
          [
           "8061D1AB"
          ],
          [
           "8061D7E7"
          ],
          [
           "8061D7FD"
          ],
          [
           "8061C9CD"
          ],
          [
           "8061D6D2"
          ],
          [
           "8061D5ED"
          ],
          [
           "8061D7AA"
          ],
          [
           "8061D7A4"
          ],
          [
           "8061E11F"
          ],
          [
           "8061E124"
          ],
          [
           "8061E120"
          ],
          [
           "8061F26D"
          ],
          [
           "8061F180"
          ],
          [
           "8061F1B7"
          ],
          [
           "8061EFDF"
          ],
          [
           "8061EFF5"
          ],
          [
           "8061F24E"
          ],
          [
           "8061D9B6"
          ],
          [
           "8061D9B3"
          ],
          [
           "8061D1E1"
          ],
          [
           "8061D1E4"
          ],
          [
           "8061D7CA"
          ],
          [
           "8061D6E0"
          ],
          [
           "8061D6E4"
          ],
          [
           "8061DA90"
          ],
          [
           "8061DA91"
          ],
          [
           "8061D79F"
          ],
          [
           "8061D5DE"
          ],
          [
           "8061D5D5"
          ],
          [
           "8061E123"
          ],
          [
           "8061E1AF"
          ],
          [
           "8061F159"
          ],
          [
           "8061F1B8"
          ],
          [
           "8061F193"
          ],
          [
           "8061F259"
          ],
          [
           "8061F261"
          ],
          [
           "8061F00B"
          ],
          [
           "8061D970"
          ],
          [
           "8061C916"
          ],
          [
           "8061C81C"
          ],
          [
           "8061C9C8"
          ],
          [
           "8061C9D8"
          ],
          [
           "8061D6EC"
          ],
          [
           "8061DA8D"
          ],
          [
           "8061DA57"
          ],
          [
           "8061D799"
          ],
          [
           "8061D5C3"
          ],
          [
           "8061E1AD"
          ],
          [
           "8061F156"
          ],
          [
           "8061F18C"
          ],
          [
           "8061F4C8"
          ],
          [
           "8061F4C9"
          ],
          [
           "8061EFDE"
          ],
          [
           "8061F003"
          ],
          [
           "8061D7ED"
          ],
          [
           "8061D991"
          ],
          [
           "8061D993"
          ],
          [
           "8061D9B5"
          ],
          [
           "8061D99B"
          ],
          [
           "8061D41A"
          ],
          [
           "8061D419"
          ],
          [
           "8061C9D0"
          ],
          [
           "8061D1E3"
          ],
          [
           "8061D1CD"
          ],
          [
           "8061D7FE"
          ],
          [
           "8061D5E7"
          ],
          [
           "8061D5DB"
          ],
          [
           "8061E126"
          ],
          [
           "8061E1AA"
          ],
          [
           "8061F17A"
          ],
          [
           "8061F166"
          ],
          [
           "8061F4C6"
          ],
          [
           "8061F4AE"
          ],
          [
           "8061F4C0"
          ],
          [
           "8061EFF8"
          ],
          [
           "8061F007"
          ],
          [
           "8061D9AC"
          ],
          [
           "8061C817"
          ],
          [
           "8061C81B"
          ],
          [
           "8061C9CB"
          ],
          [
           "8061C9D5"
          ],
          [
           "8061D1DB"
          ],
          [
           "8061D7CB"
          ],
          [
           "8061D19B"
          ],
          [
           "8061D6DF"
          ],
          [
           "8061D5C2"
          ],
          [
           "8061D5B6"
          ],
          [
           "8061D5D4"
          ],
          [
           "8061E11C"
          ],
          [
           "8061E121"
          ],
          [
           "8061F172"
          ],
          [
           "8061F17C"
          ],
          [
           "8061F4C4"
          ],
          [
           "8061F182"
          ],
          [
           "8061F25B"
          ],
          [
           "8061F009"
          ],
          [
           "8061D5BE"
          ],
          [
           "8061C60A"
          ],
          [
           "8061D21D"
          ],
          [
           "8061D417"
          ],
          [
           "8061C9D6"
          ],
          [
           "8061C9C9"
          ],
          [
           "8061D1D9"
          ],
          [
           "8061D1B6"
          ],
          [
           "8061D6ED"
          ],
          [
           "8061D6E7"
          ],
          [
           "8061D6D3"
          ],
          [
           "8061D6E5"
          ],
          [
           "8061D5D8"
          ],
          [
           "8061D78D"
          ],
          [
           "8061D79D"
          ],
          [
           "8061E11A"
          ],
          [
           "8061E122"
          ],
          [
           "8061E12C"
          ],
          [
           "8061F170"
          ],
          [
           "8061F173"
          ],
          [
           "8061F162"
          ],
          [
           "8061F4CD"
          ],
          [
           "8061F270"
          ],
          [
           "8061F26C"
          ],
          [
           "8061EFDD"
          ],
          [
           "8061DB6A"
          ],
          [
           "8061D9A4"
          ],
          [
           "8061D990"
          ],
          [
           "8061D9A3"
          ],
          [
           "8061D41F"
          ],
          [
           "8061D224"
          ],
          [
           "8061D1A8"
          ],
          [
           "8061C99C"
          ],
          [
           "8061D7AC"
          ],
          [
           "8061D7AD"
          ],
          [
           "8061D79B"
          ],
          [
           "8061D7A0"
          ],
          [
           "80614B67"
          ],
          [
           "8061E1A9"
          ],
          [
           "8061F191"
          ],
          [
           "8061F1BA"
          ],
          [
           "8061F18A"
          ],
          [
           "8061F4CA"
          ],
          [
           "8061F4B6"
          ],
          [
           "8061EFF3"
          ],
          [
           "8061F005"
          ],
          [
           "807F2829"
          ],
          [
           "8061DAC8"
          ],
          [
           "8061C9C2"
          ],
          [
           "8061C9D7"
          ],
          [
           "8061D7C5"
          ],
          [
           "8061D1DC"
          ],
          [
           "8061D5E2"
          ],
          [
           "8061D7A8"
          ],
          [
           "8061D6D5"
          ],
          [
           "8061D5D3"
          ],
          [
           "8061D5BF"
          ],
          [
           "8061D5DA"
          ],
          [
           "8061E1B1"
          ],
          [
           "8061E1A8"
          ],
          [
           "8061F26B"
          ],
          [
           "8061F16A"
          ],
          [
           "8061F4A2"
          ],
          [
           "8061F4B7"
          ],
          [
           "8061EFE3"
          ],
          [
           "8061EFE4"
          ],
          [
           "8061D22B"
          ],
          [
           "8061D21E"
          ],
          [
           "8061C9CF"
          ],
          [
           "8061D1DD"
          ],
          [
           "8061D1DA"
          ],
          [
           "8061D7D4"
          ],
          [
           "8061D6E2"
          ],
          [
           "8061D6E6"
          ],
          [
           "8061DA8C"
          ],
          [
           "8061D5C6"
          ],
          [
           "8061D7A1"
          ],
          [
           "8061E127"
          ],
          [
           "8061F181"
          ],
          [
           "8061F17E"
          ],
          [
           "8061F188"
          ],
          [
           "8061F26A"
          ],
          [
           "8061F157"
          ],
          [
           "8075C421"
          ],
          [
           "8061CCE9"
          ],
          [
           "8061CA7B"
          ],
          [
           "8061CC92"
          ],
          [
           "8061CA8C"
          ],
          [
           "8061CE08"
          ],
          [
           "8061CD81"
          ],
          [
           "8061CD5C"
          ],
          [
           "8061CA36"
          ],
          [
           "8061D354"
          ],
          [
           "8061D279"
          ],
          [
           "8061D2B5"
          ],
          [
           "8061D558"
          ],
          [
           "8061D55D"
          ],
          [
           "8061DAF4"
          ],
          [
           "8061DAD7"
          ],
          [
           "8061D9CB"
          ],
          [
           "8061D9C1"
          ],
          [
           "8061DB62"
          ],
          [
           "8061D9BB"
          ],
          [
           "8061D229"
          ],
          [
           "8061DB66"
          ],
          [
           "8061D969"
          ],
          [
           "8061D232"
          ],
          [
           "8061D228"
          ],
          [
           "8061D198"
          ],
          [
           "8061C9D1"
          ],
          [
           "8061D7D1"
          ],
          [
           "8061D6EA"
          ],
          [
           "8061D6DC"
          ],
          [
           "8061D7A7"
          ],
          [
           "8061D5D9"
          ],
          [
           "8061E12B"
          ],
          [
           "8061E1AE"
          ],
          [
           "807F26EE"
          ],
          [
           "8061F175"
          ],
          [
           "8061F178"
          ],
          [
           "8061F177"
          ],
          [
           "8061F197"
          ],
          [
           "8061F4CC"
          ],
          [
           "8061F4C1"
          ],
          [
           "8061F000"
          ]
         ],
         "type": "scattermapbox"
        },
        {
         "lat": [
          13.92803,
          14.333418,
          14.23924,
          14.487,
          14.07678,
          13.92811,
          14.3451,
          14.167804,
          14.043918,
          14.469169,
          14.404983,
          14.31799,
          14.3151,
          14.66391,
          14.429804,
          14.335865,
          14.09613,
          14.72084,
          14.34575,
          14.33427,
          14.12275,
          14.327937,
          13.963784,
          14.228427,
          14.300758,
          14.101571,
          14.27844,
          14.278361,
          13.928656,
          14.244219,
          13.92236,
          14.339765,
          14.544468,
          14.307458,
          14.232021,
          14.12225,
          14.599747,
          14.262857,
          14.29217,
          14.682767,
          14.0876,
          14.551459,
          13.93951,
          13.93434,
          14.372606,
          14.004066,
          14.378337,
          14.39041,
          14.11196,
          14.09657,
          14.334586999999999,
          14.278892,
          14.5481,
          14.38708,
          14.257448,
          14.59158,
          14.431,
          14.5720004,
          14.24681,
          14.615587,
          14.538721,
          13.9295,
          14.357014,
          13.955825,
          13.927532,
          14.703212,
          14.74163,
          14.3716,
          14.11414,
          14.17522,
          14.3656,
          14.074,
          14.552749,
          14.043828,
          14.77662,
          14.100657,
          13.92067,
          14.3908,
          14.67566,
          14.08058,
          14.400762,
          14.407686,
          14.33761,
          14.227572,
          13.9305,
          14.49505,
          14.34299,
          13.94931,
          14.742,
          14.434978,
          14.14301,
          14.257197,
          14.69426,
          14.479513,
          14.25576,
          14.77823,
          13.93519,
          14.001615,
          14.098852,
          14.103483,
          13.93309,
          14.10504,
          14.69014,
          14.27998,
          13.9383,
          14.3585,
          14.3285,
          14.551481,
          14.418398,
          14.118985,
          14.63686,
          14.53736,
          14.679941,
          14.367876,
          14.1067,
          14.263763,
          14.4101
         ],
         "lon": [
          -91.12374,
          -91.005759,
          -91.078427,
          -90.6959,
          -91.04693,
          -91.13372,
          -91.0741,
          -90.848143,
          -91.235921,
          -90.596268,
          -90.631803,
          -90.959438,
          -90.9738,
          -90.49957,
          -90.494063,
          -91.018642,
          -90.93659,
          -90.56225,
          -91.07936,
          -90.58989,
          -90.94766,
          -90.959011,
          -90.937608,
          -91.174917,
          -90.968952,
          -90.944843,
          -91.00522,
          -91.020046,
          -91.189941,
          -91.095923,
          -91.08208,
          -90.793825,
          -90.637504,
          -90.968617,
          -90.928282,
          -90.88498,
          -90.639004,
          -91.077525,
          -90.96952,
          -90.611418,
          -91.026,
          -90.316375,
          -90.72003,
          -90.75704,
          -91.014625,
          -91.199264,
          -90.782913,
          -90.77077,
          -90.78094,
          -90.85531,
          -90.582187,
          -90.764984,
          -90.66424,
          -90.9988,
          -91.081036,
          -90.6558,
          -90.8196,
          -90.60913,
          -91.08275,
          -90.613402,
          -90.590917,
          -91.1564,
          -90.879397,
          -90.955436,
          -91.110956,
          -90.529652,
          -90.65797,
          -90.743,
          -90.95055,
          -91.12438,
          -90.8757,
          -91.06274,
          -90.56518,
          -91.166941,
          -90.58483,
          -91.068961,
          -91.08311,
          -90.8272,
          -90.61715,
          -91.03417,
          -90.706011,
          -90.694046,
          -90.57297,
          -90.734779,
          -91.2083,
          -90.70651,
          -90.57051,
          -90.78821,
          -90.4427,
          -90.513781,
          -90.96273,
          -90.73876,
          -90.58772,
          -90.643661,
          -90.74448,
          -90.57591,
          -90.75015,
          -91.177156,
          -90.735601,
          -90.876592,
          -91.21328,
          -90.863173,
          -90.59887,
          -91.02472,
          -90.7244,
          -91.011865,
          -90.5807,
          -90.596952,
          -90.594225,
          -90.919392,
          -90.37294,
          -90.43395,
          -90.643058,
          -90.787865,
          -90.8481,
          -90.774746,
          -90.4496
         ],
         "marker": {
          "color": "#F56522",
          "size": 9
         },
         "mode": "markers",
         "name": "outlier",
         "text": [
          [
           "8061CC9D"
          ],
          [
           "8061CD6F"
          ],
          [
           "8061CA39"
          ],
          [
           "8061D290"
          ],
          [
           "8061CC8D"
          ],
          [
           "8061D26D"
          ],
          [
           "8061D35C"
          ],
          [
           "8061D29A"
          ],
          [
           "8061D265"
          ],
          [
           "8061D992"
          ],
          [
           "8061D983"
          ],
          [
           "8061CC97"
          ],
          [
           "8061CD67"
          ],
          [
           "8061D54F"
          ],
          [
           "8061D221"
          ],
          [
           "8061CCEE"
          ],
          [
           "8061CE00"
          ],
          [
           "8061CD08"
          ],
          [
           "8061CC58"
          ],
          [
           "8061CC98"
          ],
          [
           "8061CCEC"
          ],
          [
           "8061CD6A"
          ],
          [
           "8061CCE7"
          ],
          [
           "8061D2A4"
          ],
          [
           "8061D297"
          ],
          [
           "8061CA20"
          ],
          [
           "8061CC2D"
          ],
          [
           "8061CC93"
          ],
          [
           "8061CE06"
          ],
          [
           "8061CA2B"
          ],
          [
           "8061CA25"
          ],
          [
           "8061D11E"
          ],
          [
           "8061C914"
          ],
          [
           "8061CCED"
          ],
          [
           "8061C98A"
          ],
          [
           "8061CC8C"
          ],
          [
           "8061CA98"
          ],
          [
           "8061D363"
          ],
          [
           "8061D28D"
          ],
          [
           "8061D9B8"
          ],
          [
           "8061C910"
          ],
          [
           "8061CE76"
          ],
          [
           "8061CA8F"
          ],
          [
           "8061CE03"
          ],
          [
           "8061D3C1"
          ],
          [
           "8061D418"
          ],
          [
           "8061D7C6"
          ],
          [
           "8061D7D2"
          ],
          [
           "8061D1AC"
          ],
          [
           "8061D1E0"
          ],
          [
           "8061DA8F"
          ],
          [
           "8061D5BD"
          ],
          [
           "8061F4AB"
          ],
          [
           "8061CA91"
          ],
          [
           "8061D355"
          ],
          [
           "8061D3BB"
          ],
          [
           "8061D3BE"
          ],
          [
           "8061D11C"
          ],
          [
           "8061D9BD"
          ],
          [
           "8061D994"
          ],
          [
           "8061D99D"
          ],
          [
           "8061CC96"
          ],
          [
           "8061CE04"
          ],
          [
           "8061CA9A"
          ],
          [
           "8061D2AE"
          ],
          [
           "8061D28F"
          ],
          [
           "8061CD04"
          ],
          [
           "8061D36C"
          ],
          [
           "8061CA21"
          ],
          [
           "8061C8FD"
          ],
          [
           "8061CC8B"
          ],
          [
           "8061CCE5"
          ],
          [
           "8061D2B6"
          ],
          [
           "8061D422"
          ],
          [
           "8061D1B3"
          ],
          [
           "8061CA8E"
          ],
          [
           "8061CC50"
          ],
          [
           "8061CA3B"
          ],
          [
           "8061D9B1"
          ],
          [
           "8061CC6B"
          ],
          [
           "8061D425"
          ],
          [
           "8061D412"
          ],
          [
           "8061D7CF"
          ],
          [
           "8061D6DE"
          ],
          [
           "8061F4BC"
          ],
          [
           "8061D21C"
          ],
          [
           "8061DA86"
          ],
          [
           "8061D79C"
          ],
          [
           "8061D79E"
          ],
          [
           "8061E16A"
          ],
          [
           "8061CD69"
          ],
          [
           "8061D7A9"
          ],
          [
           "8061D6D4"
          ],
          [
           "8061D41E"
          ],
          [
           "8061F255"
          ],
          [
           "8061D7F6"
          ],
          [
           "8061F4C2"
          ],
          [
           "8061D6DB"
          ],
          [
           "8061DA87"
          ],
          [
           "8061D6EB"
          ],
          [
           "8061F171"
          ],
          [
           "8061D1AA"
          ],
          [
           "8061D800"
          ],
          [
           "8061D5C4"
          ],
          [
           "8061CCE6"
          ],
          [
           "8061E1AB"
          ],
          [
           "8061F1BB"
          ],
          [
           "8061D98F"
          ],
          [
           "8061D226"
          ],
          [
           "8061E11E"
          ],
          [
           "8061F4C7"
          ],
          [
           "8061D424"
          ],
          [
           "8061DADD"
          ],
          [
           "8061D413"
          ],
          [
           "8061D7C9"
          ],
          [
           "8061DA92"
          ],
          [
           "8061D7CC"
          ]
         ],
         "type": "scattermapbox"
        }
       ],
       "layout": {
        "height": 400,
        "mapbox": {
         "accesstoken": "pk.eyJ1IjoidmJvcnJheW8iLCJhIjoiY2xob2dvdTZlMXZuODNmbHJyYjVvMzIzeSJ9.aNrb8uXomKz2Qrk_GsABgA",
         "center": {
          "lat": 14.458601715293334,
          "lon": -90.65661400584
         },
         "style": "mapbox://styles/mapbox/streets-v11",
         "zoom": 7.5
        },
        "margin": {
         "b": 10,
         "l": 10,
         "r": 50,
         "t": 30
        },
        "template": {
         "data": {
          "bar": [
           {
            "error_x": {
             "color": "#2a3f5f"
            },
            "error_y": {
             "color": "#2a3f5f"
            },
            "marker": {
             "line": {
              "color": "#E5ECF6",
              "width": 0.5
             },
             "pattern": {
              "fillmode": "overlay",
              "size": 10,
              "solidity": 0.2
             }
            },
            "type": "bar"
           }
          ],
          "barpolar": [
           {
            "marker": {
             "line": {
              "color": "#E5ECF6",
              "width": 0.5
             },
             "pattern": {
              "fillmode": "overlay",
              "size": 10,
              "solidity": 0.2
             }
            },
            "type": "barpolar"
           }
          ],
          "carpet": [
           {
            "aaxis": {
             "endlinecolor": "#2a3f5f",
             "gridcolor": "white",
             "linecolor": "white",
             "minorgridcolor": "white",
             "startlinecolor": "#2a3f5f"
            },
            "baxis": {
             "endlinecolor": "#2a3f5f",
             "gridcolor": "white",
             "linecolor": "white",
             "minorgridcolor": "white",
             "startlinecolor": "#2a3f5f"
            },
            "type": "carpet"
           }
          ],
          "choropleth": [
           {
            "colorbar": {
             "outlinewidth": 0,
             "ticks": ""
            },
            "type": "choropleth"
           }
          ],
          "contour": [
           {
            "colorbar": {
             "outlinewidth": 0,
             "ticks": ""
            },
            "colorscale": [
             [
              0,
              "#0d0887"
             ],
             [
              0.1111111111111111,
              "#46039f"
             ],
             [
              0.2222222222222222,
              "#7201a8"
             ],
             [
              0.3333333333333333,
              "#9c179e"
             ],
             [
              0.4444444444444444,
              "#bd3786"
             ],
             [
              0.5555555555555556,
              "#d8576b"
             ],
             [
              0.6666666666666666,
              "#ed7953"
             ],
             [
              0.7777777777777778,
              "#fb9f3a"
             ],
             [
              0.8888888888888888,
              "#fdca26"
             ],
             [
              1,
              "#f0f921"
             ]
            ],
            "type": "contour"
           }
          ],
          "contourcarpet": [
           {
            "colorbar": {
             "outlinewidth": 0,
             "ticks": ""
            },
            "type": "contourcarpet"
           }
          ],
          "heatmap": [
           {
            "colorbar": {
             "outlinewidth": 0,
             "ticks": ""
            },
            "colorscale": [
             [
              0,
              "#0d0887"
             ],
             [
              0.1111111111111111,
              "#46039f"
             ],
             [
              0.2222222222222222,
              "#7201a8"
             ],
             [
              0.3333333333333333,
              "#9c179e"
             ],
             [
              0.4444444444444444,
              "#bd3786"
             ],
             [
              0.5555555555555556,
              "#d8576b"
             ],
             [
              0.6666666666666666,
              "#ed7953"
             ],
             [
              0.7777777777777778,
              "#fb9f3a"
             ],
             [
              0.8888888888888888,
              "#fdca26"
             ],
             [
              1,
              "#f0f921"
             ]
            ],
            "type": "heatmap"
           }
          ],
          "heatmapgl": [
           {
            "colorbar": {
             "outlinewidth": 0,
             "ticks": ""
            },
            "colorscale": [
             [
              0,
              "#0d0887"
             ],
             [
              0.1111111111111111,
              "#46039f"
             ],
             [
              0.2222222222222222,
              "#7201a8"
             ],
             [
              0.3333333333333333,
              "#9c179e"
             ],
             [
              0.4444444444444444,
              "#bd3786"
             ],
             [
              0.5555555555555556,
              "#d8576b"
             ],
             [
              0.6666666666666666,
              "#ed7953"
             ],
             [
              0.7777777777777778,
              "#fb9f3a"
             ],
             [
              0.8888888888888888,
              "#fdca26"
             ],
             [
              1,
              "#f0f921"
             ]
            ],
            "type": "heatmapgl"
           }
          ],
          "histogram": [
           {
            "marker": {
             "pattern": {
              "fillmode": "overlay",
              "size": 10,
              "solidity": 0.2
             }
            },
            "type": "histogram"
           }
          ],
          "histogram2d": [
           {
            "colorbar": {
             "outlinewidth": 0,
             "ticks": ""
            },
            "colorscale": [
             [
              0,
              "#0d0887"
             ],
             [
              0.1111111111111111,
              "#46039f"
             ],
             [
              0.2222222222222222,
              "#7201a8"
             ],
             [
              0.3333333333333333,
              "#9c179e"
             ],
             [
              0.4444444444444444,
              "#bd3786"
             ],
             [
              0.5555555555555556,
              "#d8576b"
             ],
             [
              0.6666666666666666,
              "#ed7953"
             ],
             [
              0.7777777777777778,
              "#fb9f3a"
             ],
             [
              0.8888888888888888,
              "#fdca26"
             ],
             [
              1,
              "#f0f921"
             ]
            ],
            "type": "histogram2d"
           }
          ],
          "histogram2dcontour": [
           {
            "colorbar": {
             "outlinewidth": 0,
             "ticks": ""
            },
            "colorscale": [
             [
              0,
              "#0d0887"
             ],
             [
              0.1111111111111111,
              "#46039f"
             ],
             [
              0.2222222222222222,
              "#7201a8"
             ],
             [
              0.3333333333333333,
              "#9c179e"
             ],
             [
              0.4444444444444444,
              "#bd3786"
             ],
             [
              0.5555555555555556,
              "#d8576b"
             ],
             [
              0.6666666666666666,
              "#ed7953"
             ],
             [
              0.7777777777777778,
              "#fb9f3a"
             ],
             [
              0.8888888888888888,
              "#fdca26"
             ],
             [
              1,
              "#f0f921"
             ]
            ],
            "type": "histogram2dcontour"
           }
          ],
          "mesh3d": [
           {
            "colorbar": {
             "outlinewidth": 0,
             "ticks": ""
            },
            "type": "mesh3d"
           }
          ],
          "parcoords": [
           {
            "line": {
             "colorbar": {
              "outlinewidth": 0,
              "ticks": ""
             }
            },
            "type": "parcoords"
           }
          ],
          "pie": [
           {
            "automargin": true,
            "type": "pie"
           }
          ],
          "scatter": [
           {
            "fillpattern": {
             "fillmode": "overlay",
             "size": 10,
             "solidity": 0.2
            },
            "type": "scatter"
           }
          ],
          "scatter3d": [
           {
            "line": {
             "colorbar": {
              "outlinewidth": 0,
              "ticks": ""
             }
            },
            "marker": {
             "colorbar": {
              "outlinewidth": 0,
              "ticks": ""
             }
            },
            "type": "scatter3d"
           }
          ],
          "scattercarpet": [
           {
            "marker": {
             "colorbar": {
              "outlinewidth": 0,
              "ticks": ""
             }
            },
            "type": "scattercarpet"
           }
          ],
          "scattergeo": [
           {
            "marker": {
             "colorbar": {
              "outlinewidth": 0,
              "ticks": ""
             }
            },
            "type": "scattergeo"
           }
          ],
          "scattergl": [
           {
            "marker": {
             "colorbar": {
              "outlinewidth": 0,
              "ticks": ""
             }
            },
            "type": "scattergl"
           }
          ],
          "scattermapbox": [
           {
            "marker": {
             "colorbar": {
              "outlinewidth": 0,
              "ticks": ""
             }
            },
            "type": "scattermapbox"
           }
          ],
          "scatterpolar": [
           {
            "marker": {
             "colorbar": {
              "outlinewidth": 0,
              "ticks": ""
             }
            },
            "type": "scatterpolar"
           }
          ],
          "scatterpolargl": [
           {
            "marker": {
             "colorbar": {
              "outlinewidth": 0,
              "ticks": ""
             }
            },
            "type": "scatterpolargl"
           }
          ],
          "scatterternary": [
           {
            "marker": {
             "colorbar": {
              "outlinewidth": 0,
              "ticks": ""
             }
            },
            "type": "scatterternary"
           }
          ],
          "surface": [
           {
            "colorbar": {
             "outlinewidth": 0,
             "ticks": ""
            },
            "colorscale": [
             [
              0,
              "#0d0887"
             ],
             [
              0.1111111111111111,
              "#46039f"
             ],
             [
              0.2222222222222222,
              "#7201a8"
             ],
             [
              0.3333333333333333,
              "#9c179e"
             ],
             [
              0.4444444444444444,
              "#bd3786"
             ],
             [
              0.5555555555555556,
              "#d8576b"
             ],
             [
              0.6666666666666666,
              "#ed7953"
             ],
             [
              0.7777777777777778,
              "#fb9f3a"
             ],
             [
              0.8888888888888888,
              "#fdca26"
             ],
             [
              1,
              "#f0f921"
             ]
            ],
            "type": "surface"
           }
          ],
          "table": [
           {
            "cells": {
             "fill": {
              "color": "#EBF0F8"
             },
             "line": {
              "color": "white"
             }
            },
            "header": {
             "fill": {
              "color": "#C8D4E3"
             },
             "line": {
              "color": "white"
             }
            },
            "type": "table"
           }
          ]
         },
         "layout": {
          "annotationdefaults": {
           "arrowcolor": "#2a3f5f",
           "arrowhead": 0,
           "arrowwidth": 1
          },
          "autotypenumbers": "strict",
          "coloraxis": {
           "colorbar": {
            "outlinewidth": 0,
            "ticks": ""
           }
          },
          "colorscale": {
           "diverging": [
            [
             0,
             "#8e0152"
            ],
            [
             0.1,
             "#c51b7d"
            ],
            [
             0.2,
             "#de77ae"
            ],
            [
             0.3,
             "#f1b6da"
            ],
            [
             0.4,
             "#fde0ef"
            ],
            [
             0.5,
             "#f7f7f7"
            ],
            [
             0.6,
             "#e6f5d0"
            ],
            [
             0.7,
             "#b8e186"
            ],
            [
             0.8,
             "#7fbc41"
            ],
            [
             0.9,
             "#4d9221"
            ],
            [
             1,
             "#276419"
            ]
           ],
           "sequential": [
            [
             0,
             "#0d0887"
            ],
            [
             0.1111111111111111,
             "#46039f"
            ],
            [
             0.2222222222222222,
             "#7201a8"
            ],
            [
             0.3333333333333333,
             "#9c179e"
            ],
            [
             0.4444444444444444,
             "#bd3786"
            ],
            [
             0.5555555555555556,
             "#d8576b"
            ],
            [
             0.6666666666666666,
             "#ed7953"
            ],
            [
             0.7777777777777778,
             "#fb9f3a"
            ],
            [
             0.8888888888888888,
             "#fdca26"
            ],
            [
             1,
             "#f0f921"
            ]
           ],
           "sequentialminus": [
            [
             0,
             "#0d0887"
            ],
            [
             0.1111111111111111,
             "#46039f"
            ],
            [
             0.2222222222222222,
             "#7201a8"
            ],
            [
             0.3333333333333333,
             "#9c179e"
            ],
            [
             0.4444444444444444,
             "#bd3786"
            ],
            [
             0.5555555555555556,
             "#d8576b"
            ],
            [
             0.6666666666666666,
             "#ed7953"
            ],
            [
             0.7777777777777778,
             "#fb9f3a"
            ],
            [
             0.8888888888888888,
             "#fdca26"
            ],
            [
             1,
             "#f0f921"
            ]
           ]
          },
          "colorway": [
           "#636efa",
           "#EF553B",
           "#00cc96",
           "#ab63fa",
           "#FFA15A",
           "#19d3f3",
           "#FF6692",
           "#B6E880",
           "#FF97FF",
           "#FECB52"
          ],
          "font": {
           "color": "#2a3f5f"
          },
          "geo": {
           "bgcolor": "white",
           "lakecolor": "white",
           "landcolor": "#E5ECF6",
           "showlakes": true,
           "showland": true,
           "subunitcolor": "white"
          },
          "hoverlabel": {
           "align": "left"
          },
          "hovermode": "closest",
          "mapbox": {
           "style": "light"
          },
          "paper_bgcolor": "white",
          "plot_bgcolor": "#E5ECF6",
          "polar": {
           "angularaxis": {
            "gridcolor": "white",
            "linecolor": "white",
            "ticks": ""
           },
           "bgcolor": "#E5ECF6",
           "radialaxis": {
            "gridcolor": "white",
            "linecolor": "white",
            "ticks": ""
           }
          },
          "scene": {
           "xaxis": {
            "backgroundcolor": "#E5ECF6",
            "gridcolor": "white",
            "gridwidth": 2,
            "linecolor": "white",
            "showbackground": true,
            "ticks": "",
            "zerolinecolor": "white"
           },
           "yaxis": {
            "backgroundcolor": "#E5ECF6",
            "gridcolor": "white",
            "gridwidth": 2,
            "linecolor": "white",
            "showbackground": true,
            "ticks": "",
            "zerolinecolor": "white"
           },
           "zaxis": {
            "backgroundcolor": "#E5ECF6",
            "gridcolor": "white",
            "gridwidth": 2,
            "linecolor": "white",
            "showbackground": true,
            "ticks": "",
            "zerolinecolor": "white"
           }
          },
          "shapedefaults": {
           "line": {
            "color": "#2a3f5f"
           }
          },
          "ternary": {
           "aaxis": {
            "gridcolor": "white",
            "linecolor": "white",
            "ticks": ""
           },
           "baxis": {
            "gridcolor": "white",
            "linecolor": "white",
            "ticks": ""
           },
           "bgcolor": "#E5ECF6",
           "caxis": {
            "gridcolor": "white",
            "linecolor": "white",
            "ticks": ""
           }
          },
          "title": {
           "x": 0.05
          },
          "xaxis": {
           "automargin": true,
           "gridcolor": "white",
           "linecolor": "white",
           "ticks": "",
           "title": {
            "standoff": 15
           },
           "zerolinecolor": "white",
           "zerolinewidth": 2
          },
          "yaxis": {
           "automargin": true,
           "gridcolor": "white",
           "linecolor": "white",
           "ticks": "",
           "title": {
            "standoff": 15
           },
           "zerolinecolor": "white",
           "zerolinewidth": 2
          }
         }
        },
        "title": {
         "text": "Mesh Routers Outliers - Ronda pData_5",
         "x": 0.5
        },
        "width": 600
       }
      }
     },
     "metadata": {},
     "output_type": "display_data"
    },
    {
     "data": {
      "application/vnd.jupyter.widget-view+json": {
       "model_id": "1c20119907904badaa391793155914fb",
       "version_major": 2,
       "version_minor": 0
      },
      "text/plain": [
       "interactive(children=(SelectionSlider(description='Fecha', options=('2023-02-19', '2023-02-20', '2023-02-21', …"
      ]
     },
     "metadata": {},
     "output_type": "display_data"
    }
   ],
   "source": [
    "#Visualización de mapa interactivo\n",
    "Rdiscrete_map3(dicTemp5, wgDic6, \"Mesh Routers Outliers\")"
   ]
  },
  {
   "cell_type": "markdown",
   "id": "9c1e1966",
   "metadata": {},
   "source": [
    "### Agragando resultados de revisión manual"
   ]
  },
  {
   "cell_type": "code",
   "execution_count": null,
   "id": "fc00fe5c",
   "metadata": {},
   "outputs": [],
   "source": [
    "#Leyendo archivo de correcciones\n",
    "fixrContainer = pd.read_csv(\"../Data/DataLake/cleaningStage/trContainer_woutliers-rev.csv\")\n",
    "fixrContainer.head(3)"
   ]
  },
  {
   "cell_type": "markdown",
   "id": "4daa65fb",
   "metadata": {},
   "source": [
    "### Imputando valores a routers"
   ]
  },
  {
   "cell_type": "code",
   "execution_count": 46,
   "id": "47b5d883",
   "metadata": {},
   "outputs": [],
   "source": [
    "#Actualizando columnas toDelete, Rev y Comment\n",
    "fixrContainer[\"latitude_neigh\"] = fixrContainer[\"latitude_neigh\"].round(8)\n",
    "fixrContainer[\"longitude_neigh\"] = fixrContainer[\"longitude_neigh\"].round(8)\n",
    "tRContainer = updateDf(tRContainer,fixrContainer,[\"serialNumber\",\"fName\"],[\"toDelete\",\"Rev\",\"Comment\"])"
   ]
  },
  {
   "cell_type": "code",
   "execution_count": 47,
   "id": "b5203a1d",
   "metadata": {},
   "outputs": [
    {
     "name": "stdout",
     "output_type": "stream",
     "text": [
      "0\n"
     ]
    }
   ],
   "source": [
    "#Etiqueta BadNeigh e invNeigh\n",
    "print(sum(tRContainer.loc[(tRContainer[\"Comment\"] == \"BadNeigh\") | (tRContainer[\"Comment\"] == \"invNeigh\"), \"LogDTM\"].isna()))\n",
    "tempBadN = tRContainer.loc[(tRContainer[\"Comment\"] == \"BadNeigh\") | (tRContainer[\"Comment\"] == \"invNeigh\")].copy()\n",
    "#Adquiriendo vecino de Path\n",
    "tempBadN[\"neighborSN\"] = tempBadN[\"path\"].apply(getHop)\n",
    "#Agregando coordenadas de vecino\n",
    "orderCols = tempBadN.columns\n",
    "tempBadN.drop(columns = [\"latitude_neigh\",\"longitude_neigh\",\"devType\",\"serialNumber_neigh\"], inplace = True)\n",
    "tempBadN = tempBadN.merge(tempNeigh, how = \"left\", left_on = [\"neighborSN\",\"fDate\"],\\\n",
    "                        right_on = [\"serialNumber\",\"fDate\"], suffixes = (\"\",\"_neigh\"))\n",
    "\n",
    "tempBadN = tempBadN[orderCols]\n",
    "tempBadN.head(3)\n",
    "#tempBadN.to_csv(\"../Data/DataLake/temp/tempBadN.csv\", index = False)\n",
    "#Actualizando df principal\n",
    "tRContainer = updateDf(tRContainer,tempBadN,[\"serialNumber\",\"fName\"],[\"neighborSN\",\"serialNumber_neigh\",\"latitude_neigh\",\"longitude_neigh\",\"devType\"])\n",
    "#Guardando para inspección visual\n",
    "tRContainer.to_csv(\"../Data/DataLake/temp/trContainer-MOD8.csv\", index = False)"
   ]
  },
  {
   "cell_type": "code",
   "execution_count": 48,
   "id": "0dc5eab6",
   "metadata": {},
   "outputs": [],
   "source": [
    "#Etiqueta badNC\n",
    "tRContainer.loc[tRContainer[\"Comment\"] == \"badNC\", \"latitude_neigh\"] = np.nan\n",
    "tRContainer.loc[tRContainer[\"Comment\"] == \"badNC\", \"longitude_neigh\"] = np.nan\n",
    "#Guardando para inspección visual\n",
    "tRContainer.to_csv(\"../Data/DataLake/temp/trContainer-MOD9.csv\", index = False)"
   ]
  },
  {
   "cell_type": "code",
   "execution_count": 49,
   "id": "894bafe2",
   "metadata": {},
   "outputs": [],
   "source": [
    "#Etiqueta fixNeigC\n",
    "tempFixN = fixrContainer.loc[fixrContainer[\"Comment\"] == \"fixNeigC\"].copy()\n",
    "#Actualizando df principal\n",
    "tRContainer = updateDf(tRContainer,tempFixN,[\"serialNumber\",\"fName\"],[\"latitude_neigh\",\"longitude_neigh\"])\n",
    "#Guardando para inspección visual\n",
    "tRContainer.to_csv(\"../Data/DataLake/temp/trContainer-MOD10.csv\", index = False)"
   ]
  },
  {
   "cell_type": "code",
   "execution_count": 50,
   "id": "e4b67d20",
   "metadata": {},
   "outputs": [
    {
     "name": "stdout",
     "output_type": "stream",
     "text": [
      "<class 'pandas.core.frame.DataFrame'>\n",
      "RangeIndex: 63202 entries, 0 to 63201\n",
      "Data columns (total 43 columns):\n",
      " #   Column               Non-Null Count  Dtype  \n",
      "---  ------               --------------  -----  \n",
      " 0   meterNo              63202 non-null  object \n",
      " 1   radio                63202 non-null  object \n",
      " 2   serialNumber         63202 non-null  int64  \n",
      " 3   CollectorNm          63202 non-null  object \n",
      " 4   name                 63202 non-null  object \n",
      " 5   latitude             63202 non-null  float64\n",
      " 6   longitude            63202 non-null  float64\n",
      " 7   altitude             63184 non-null  float64\n",
      " 8   poleNo               63202 non-null  object \n",
      " 9   LastPacketReceived   63202 non-null  int64  \n",
      " 10  LastStatusChanged    63202 non-null  int64  \n",
      " 11  NoCommunicatingDays  63202 non-null  int64  \n",
      " 12  layer                63165 non-null  float64\n",
      " 13  numberOfNeighbors    63100 non-null  float64\n",
      " 14  path                 63202 non-null  object \n",
      " 15  DelayToTOPQT         60553 non-null  float64\n",
      " 16  HopsQT               60553 non-null  float64\n",
      " 17  RSSIQT               60553 non-null  float64\n",
      " 18  SNRQT                60553 non-null  float64\n",
      " 19  TickPC               60553 non-null  float64\n",
      " 20  NeighbourEndpointId  60553 non-null  object \n",
      " 21  LogDTM               60553 non-null  float64\n",
      " 22  fName                63202 non-null  object \n",
      " 23  fDate                63202 non-null  object \n",
      " 24  round                63202 non-null  object \n",
      " 25  latitude_gw          63202 non-null  float64\n",
      " 26  longitude_gw         63202 non-null  float64\n",
      " 27  cDist                63184 non-null  float64\n",
      " 28  neighborSN           63202 non-null  object \n",
      " 29  serialNumber_neigh   63202 non-null  object \n",
      " 30  latitude_neigh       61796 non-null  float64\n",
      " 31  longitude_neigh      61796 non-null  float64\n",
      " 32  devType              63201 non-null  object \n",
      " 33  dist_neigh           61792 non-null  float64\n",
      " 34  neigh_outlier        63202 non-null  object \n",
      " 35  gw_outlier           63202 non-null  object \n",
      " 36  outlier              63202 non-null  object \n",
      " 37  n_outliers           63202 non-null  bool   \n",
      " 38  g_outliers           63202 non-null  bool   \n",
      " 39  outliers             63202 non-null  bool   \n",
      " 40  toDelete             63202 non-null  bool   \n",
      " 41  Rev                  63202 non-null  object \n",
      " 42  Comment              63202 non-null  object \n",
      "dtypes: bool(4), float64(17), int64(4), object(18)\n",
      "memory usage: 19.0+ MB\n"
     ]
    }
   ],
   "source": [
    "tRContainer.info()"
   ]
  },
  {
   "cell_type": "code",
   "execution_count": 51,
   "id": "a0ab1251",
   "metadata": {},
   "outputs": [],
   "source": [
    "#Guardando tRContainer en datamart\n",
    "tRContainer['neighborSN'] = tRContainer['neighborSN'].astype(str)\n",
    "tRContainer['serialNumber_neigh'] = tRContainer['serialNumber_neigh'].astype(str)\n",
    "tRContainer[\"Rev\"] = tRContainer[\"Rev\"].astype(bool)\n",
    "tRContainer.to_csv(\"../Data/DataMart/Base/tRContainer.csv\", index = False)\n",
    "tRContainer.to_parquet(\"../Data/DataMart/Base/rContainer.parquet\", index = False)"
   ]
  },
  {
   "cell_type": "code",
   "execution_count": 60,
   "id": "1290ee1a",
   "metadata": {},
   "outputs": [
    {
     "name": "stdout",
     "output_type": "stream",
     "text": [
      "Promedio gateways por ronda: 91\n",
      "Promedio routers por ronda: 752\n",
      "Cantidad de fechas en cContainer: 84\n",
      "Cantidad de fechas en tRContainer: 84\n"
     ]
    }
   ],
   "source": [
    "#Promedio según agropación de Ronda\n",
    "meanGW = cContainer.groupby(\"fDate\")[\"radio\"].count().mean()\n",
    "meanRT = tRContainer.groupby(\"fDate\")[\"radio\"].count().mean()\n",
    "print(\"Promedio gateways por ronda: {}\".format(int(meanGW)))\n",
    "print(\"Promedio routers por ronda: {}\".format(int(meanRT)))\n",
    "#Cantidad de fDates\n",
    "print(\"Cantidad de fechas en cContainer: {}\".format(len(cContainer[\"fDate\"].unique())))\n",
    "print(\"Cantidad de fechas en tRContainer: {}\".format(len(tRContainer[\"fDate\"].unique())))"
   ]
  }
 ],
 "metadata": {
  "kernelspec": {
   "display_name": "Python 3 (ipykernel)",
   "language": "python",
   "name": "python3"
  },
  "language_info": {
   "codemirror_mode": {
    "name": "ipython",
    "version": 3
   },
   "file_extension": ".py",
   "mimetype": "text/x-python",
   "name": "python",
   "nbconvert_exporter": "python",
   "pygments_lexer": "ipython3",
   "version": "3.8.13"
  }
 },
 "nbformat": 4,
 "nbformat_minor": 5
}
