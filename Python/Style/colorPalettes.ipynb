{
 "cells": [
  {
   "cell_type": "markdown",
   "id": "ed4afede-684b-4e7a-8e77-a7ced6b8a0e8",
   "metadata": {},
   "source": [
    "# Estilos para gráficas"
   ]
  },
  {
   "cell_type": "markdown",
   "id": "da24b60d-9f9f-40fe-b2e0-78606d16e4e5",
   "metadata": {},
   "source": [
    "Se generó una serie de estilos genéricos para ser utilizados en la visualización de datos. Es posible que en ciertos contextos específicos no sean utilizados y se recurra a soluciones particulares."
   ]
  },
  {
   "cell_type": "code",
   "execution_count": 5,
   "id": "c5f94f1e-9ad0-4a0a-8e8e-281bb882e1fa",
   "metadata": {},
   "outputs": [],
   "source": [
    "import matplotlib.pyplot as plt\n",
    "import matplotlib.colors as clr\n",
    "import matplotlib as mpl\n",
    "import numpy as np"
   ]
  },
  {
   "cell_type": "markdown",
   "id": "dd590900-260d-4220-a0e7-e6028244f2c3",
   "metadata": {},
   "source": [
    "## Colores base"
   ]
  },
  {
   "cell_type": "code",
   "execution_count": 2,
   "id": "f4fe1bb7-bdfd-4da1-bf3c-cfd654447dab",
   "metadata": {},
   "outputs": [],
   "source": [
    "#Vector de colores base\n",
    "designC = {\n",
    "    \"vr\" : \"#9DD3A4\",\n",
    "    \"az\" : \"#304059\",\n",
    "    \"nr\" : \"#F56522\",\n",
    "    \"cs\" : \"#3997D4\",\n",
    "    \"gr\" : \"#989FAF\"\n",
    "    }"
   ]
  },
  {
   "cell_type": "code",
   "execution_count": 3,
   "id": "2985def3-dfc9-4c1b-b2b9-1e755c306a02",
   "metadata": {},
   "outputs": [
    {
     "data": {
      "text/plain": [
       "(['vr', 'az', 'nr', 'cs', 'gr'],\n",
       " ['#9DD3A4', '#304059', '#F56522', '#3997D4', '#989FAF'])"
      ]
     },
     "execution_count": 3,
     "metadata": {},
     "output_type": "execute_result"
    }
   ],
   "source": [
    "cnList = list(designC.keys())\n",
    "bcList = list(designC.values())\n",
    "cnList, bcList"
   ]
  },
  {
   "cell_type": "code",
   "execution_count": 6,
   "id": "4af19698-b225-4202-9bdd-fa4f9e45db2f",
   "metadata": {},
   "outputs": [
    {
     "data": {
      "image/png": "[encoded data removed]",
      "text/plain": [
       "<Figure size 432x72 with 1 Axes>"
      ]
     },
     "metadata": {
      "needs_background": "light"
     },
     "output_type": "display_data"
    }
   ],
   "source": [
    "#Visualizando colores base\n",
    "fig, ax = plt.subplots(figsize=(6, 1))\n",
    "fig.subplots_adjust(bottom=0.5)\n",
    "mplC = mpl.colors.ListedColormap(bcList, name = \"baseColors\")\n",
    "norm = mpl.colors.Normalize(vmin=5, vmax=10)\n",
    "cbar = fig.colorbar(mpl.cm.ScalarMappable(norm=norm, cmap=mplC),\n",
    "             cax=ax, orientation='horizontal', label='Some Units')\n",
    "xps = np.arange(5.5,10.5,1)\n",
    "for count, i in np.ndenumerate(xps):\n",
    "    cbar.ax.text(i, 0.5, cnList[count[0]], ha='center', va='center', fontsize=14, color='black')\n",
    "plt.axis('off')\n",
    "plt.title(\"Colores base\")\n",
    "plt.show()"
   ]
  },
  {
   "cell_type": "markdown",
   "id": "d55d4ccf-0aea-4fc6-b09a-59617e943834",
   "metadata": {},
   "source": [
    "## Tonos discretos"
   ]
  },
  {
   "cell_type": "code",
   "execution_count": 10,
   "id": "a487598f-d450-4db1-adda-72f6b68d0642",
   "metadata": {},
   "outputs": [
    {
     "data": {
      "image/png": "[encoded data removed]",
      "text/plain": [
       "<Figure size 432x360 with 6 Axes>"
      ]
     },
     "metadata": {
      "needs_background": "light"
     },
     "output_type": "display_data"
    }
   ],
   "source": [
    "#Creación de 7 tonos discretos para cada color base\n",
    "plt.axis\n",
    "fig, ax = plt.subplots(nrows = 6, ncols = 1, figsize=(6, 5))\n",
    "norm = mpl.colors.Normalize(vmin=5, vmax=10)\n",
    "dcDic = {}\n",
    "dcDic2 = {}\n",
    "\n",
    "for c, i in enumerate(cnList):\n",
    "    cmap = clr.LinearSegmentedColormap.from_list('custom blue', [\"#FFFFFF\",designC[i],\"#000000\"], N=13)\n",
    "    dcDic2[i] = cmap\n",
    "    num_centers = 7\n",
    "    start_index = (cmap.N - num_centers) // 2\n",
    "    end_index = start_index + num_centers - 1\n",
    "    indices = np.linspace(start_index/cmap.N, end_index/cmap.N, num_centers)\n",
    "    center_colors = cmap(indices)\n",
    "    #print(center_colors)\n",
    "    cmap = clr.LinearSegmentedColormap.from_list('custom blue', center_colors, N=len(center_colors))\n",
    "\n",
    "    fig.colorbar(mpl.cm.ScalarMappable(norm=norm, cmap=cmap),\n",
    "                 cax=ax[c], orientation='horizontal')#, label='Some Units'\n",
    "    ax[c].xaxis.set_tick_params(labelbottom=False)\n",
    "    ax[c].set_xticks([])\n",
    "    title = ax[c].set_ylabel(i, rotation=0, labelpad=20)\n",
    "    plt.axis('off')\n",
    "    #Guardando cmap en diccionario\n",
    "    dcDic[i] = cmap\n",
    "    \n",
    "fig.subplots_adjust(bottom=0)\n",
    "fig.suptitle('Tonos discretos ')\n",
    "fig.tight_layout(rect=[0, 0, 1, 0.95])"
   ]
  },
  {
   "cell_type": "markdown",
   "id": "0d881d7b-4473-4dd0-85af-cf0cd8c4d490",
   "metadata": {},
   "source": [
    "## Tonos continuos"
   ]
  },
  {
   "cell_type": "code",
   "execution_count": 21,
   "id": "3f6d89e9-8ca7-49cc-bbe1-f46344f4d67f",
   "metadata": {},
   "outputs": [
    {
     "data": {
      "image/png": "[encoded data removed]",
      "text/plain": [
       "<Figure size 432x360 with 6 Axes>"
      ]
     },
     "metadata": {
      "needs_background": "light"
     },
     "output_type": "display_data"
    }
   ],
   "source": [
    "#Tonos continuos\n",
    "plt.axis\n",
    "fig, ax = plt.subplots(nrows = 6, ncols = 1, figsize=(6, 5))\n",
    "norm = mpl.colors.Normalize(vmin=5, vmax=10)\n",
    "\n",
    "ccDic = {}\n",
    "\n",
    "for c, i in enumerate(list(dcDic2.keys())):\n",
    "    cmap = clr.LinearSegmentedColormap.from_list('custom blue', [dcDic2[i](1),dcDic2[i](8)], N=255)\n",
    "    ccDic[i] = cmap\n",
    "    fig.colorbar(mpl.cm.ScalarMappable(norm=norm, cmap=cmap),\n",
    "                 cax=ax[c], orientation='horizontal')#, label='Some Units'\n",
    "    ax[c].xaxis.set_tick_params(labelbottom=False)\n",
    "    ax[c].set_xticks([])\n",
    "    title = ax[c].set_ylabel(i, rotation=0, labelpad=20)\n",
    "    plt.axis('off')\n",
    "\n",
    "fig.subplots_adjust(bottom=0)\n",
    "fig.suptitle('Tonos continuos')\n",
    "fig.tight_layout(rect=[0, 0, 1, 0.95])\n"
   ]
  }
 ],
 "metadata": {
  "kernelspec": {
   "display_name": "Python 3 (ipykernel)",
   "language": "python",
   "name": "python3"
  },
  "language_info": {
   "codemirror_mode": {
    "name": "ipython",
    "version": 3
   },
   "file_extension": ".py",
   "mimetype": "text/x-python",
   "name": "python",
   "nbconvert_exporter": "python",
   "pygments_lexer": "ipython3",
   "version": "3.8.13"
  }
 },
 "nbformat": 4,
 "nbformat_minor": 5
}
